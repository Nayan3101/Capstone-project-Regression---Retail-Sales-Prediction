{
  "nbformat": 4,
  "nbformat_minor": 0,
  "metadata": {
    "colab": {
      "provenance": [],
      "collapsed_sections": [
        "0wOQAZs5pc--",
        "KSlN3yHqYklG",
        "EM7whBJCYoAo",
        "4Of9eVA-YrdM",
        "bamQiAODYuh1",
        "OH-pJp9IphqM",
        "PIIx-8_IphqN",
        "BZR9WyysphqO",
        "YJ55k-q6phqO",
        "NC_X3p0fY2L0",
        "q29F0dvdveiT",
        "EXh0U9oCveiU",
        "22aHeOlLveiV",
        "g-ATYxFrGrvw",
        "8yEUt7NnHlrM",
        "4_0_7-oCpUZd",
        "bn_IUdTipZyH",
        "xiyOF9F70UgQ",
        "id1riN9m0vUs",
        "89xtkJwZ18nB",
        "2DejudWSA-a0",
        "pEMng2IbBLp7",
        "rAdphbQ9Bhjc",
        "TNVZ9zx19K6k",
        "nqoHp30x9hH9",
        "rMDnDkt2B6du",
        "yiiVWRdJDDil",
        "1UUpS68QDMuG",
        "kexQrXU-DjzY",
        "T5CmagL3EC8N",
        "BhH2vgX9EjGr",
        "qjKvONjwE8ra",
        "P1XJ9OREExlT",
        "VFOzZv6IFROw",
        "TIqpNgepFxVj",
        "VfCC591jGiD4",
        "OB4l2ZhMeS1U",
        "ArJBuiUVfxKd",
        "4qY1EAkEfxKe",
        "PiV4Ypx8fxKe",
        "TfvqoZmBfxKf",
        "dJ2tPlVmpsJ0",
        "JWYfwnehpsJ1",
        "-jK_YjpMpsJ2",
        "HAih1iBOpsJ2",
        "zVGeBEFhpsJ2",
        "bmKjuQ-FpsJ3",
        "Fze-IPXLpx6K",
        "7AN1z2sKpx6M",
        "9PIHJqyupx6M",
        "_-qAgymDpx6N",
        "Z-hykwinpx6N",
        "h_CCil-SKHpo",
        "cBFFvTBNJzUa",
        "HvGl1hHyA_VK",
        "EyNgTHvd2WFk",
        "KH5McJBi2d8v",
        "iW_Lq9qf2h6X",
        "-Kee-DAl2viO",
        "gCX9965dhzqZ",
        "gIfDvo9L0UH2"
      ],
      "include_colab_link": true
    },
    "kernelspec": {
      "name": "python3",
      "display_name": "Python 3"
    },
    "language_info": {
      "name": "python"
    }
  },
  "cells": [
    {
      "cell_type": "markdown",
      "metadata": {
        "id": "view-in-github",
        "colab_type": "text"
      },
      "source": [
        "<a href=\"https://colab.research.google.com/github/Nayan3101/Capstone-project-Regression---Retail-Sales-Prediction/blob/main/Nayan_Capstone_Project_M6_Retail_Sales_Prediction.ipynb\" target=\"_parent\"><img src=\"https://colab.research.google.com/assets/colab-badge.svg\" alt=\"Open In Colab\"/></a>"
      ]
    },
    {
      "cell_type": "markdown",
      "source": [
        "# **Regression - Retail Sales Prediction**    -\n",
        "\n"
      ],
      "metadata": {
        "id": "vncDsAP0Gaoa"
      }
    },
    {
      "cell_type": "markdown",
      "source": [
        "##### **Project Type**    - Regression\n",
        "##### **Contribution**    - Individual\n",
        "##### **Team Member 1 -** - NAYAN SURYAWANSHI\n"
      ],
      "metadata": {
        "id": "beRrZCGUAJYm"
      }
    },
    {
      "cell_type": "markdown",
      "source": [
        "# **Project Summary -**"
      ],
      "metadata": {
        "id": "FJNUwmbgGyua"
      }
    },
    {
      "cell_type": "markdown",
      "source": [
        "# **GitHub Link -**"
      ],
      "metadata": {
        "id": "w6K7xa23Elo4"
      }
    },
    {
      "cell_type": "markdown",
      "source": [
        "https://github.com/Nayan3101"
      ],
      "metadata": {
        "id": "h1o69JH3Eqqn"
      }
    },
    {
      "cell_type": "markdown",
      "source": [
        "# **Problem Statement**\n"
      ],
      "metadata": {
        "id": "yQaldy8SH6Dl"
      }
    },
    {
      "cell_type": "markdown",
      "source": [
        "**The retail industry, exemplified by Rossmann's 3,000 drug stores across 7 European countries, faces the recurring challenge of accurately predicting daily sales up to six weeks in advance. The accuracy of these sales forecasts is significantly affected by various dynamic factors, including promotional activities, competition, school and state holidays, seasonality, and geographical location. Currently, individual Rossmann store managers rely on their unique insights and circumstances to make these predictions, resulting in a wide range of forecasting accuracy.**\n",
        "\n",
        "**In this machine learning capstone project, the primary objective is to develop a robust regression model for Retail Sales Prediction. The project leverages historical sales data from 1,115 Rossmann stores to forecast the \"Sales\" column in the test set. This predictive model should take into account the intricate interplay of sales-influencing variables, adapt to temporal and geographical variations, and accommodate the occasional store closures due to refurbishment.**\n",
        "\n",
        "**The successful completion of this project will have far-reaching implications. By delivering a reliable sales prediction model, it will not only enhance the overall accuracy of sales forecasts for Rossmann but also streamline the decision-making process for store managers. This model is expected to optimize inventory management, allocation of resources, and promotion planning, ultimately contributing to the company's profitability and customer satisfaction. Furthermore, it will provide a data-driven framework to improve sales predictions, leading to better informed business decisions and more efficient store operations.**"
      ],
      "metadata": {
        "id": "DpeJGUA3kjGy"
      }
    },
    {
      "cell_type": "markdown",
      "source": [
        "# **General Guidelines** : -  "
      ],
      "metadata": {
        "id": "mDgbUHAGgjLW"
      }
    },
    {
      "cell_type": "markdown",
      "source": [
        "1.   Well-structured, formatted, and commented code is required.\n",
        "2.   Exception Handling, Production Grade Code & Deployment Ready Code will be a plus. Those students will be awarded some additional credits.\n",
        "     \n",
        "     The additional credits will have advantages over other students during Star Student selection.\n",
        "       \n",
        "             [ Note: - Deployment Ready Code is defined as, the whole .ipynb notebook should be executable in one go\n",
        "                       without a single error logged. ]\n",
        "\n",
        "3.   Each and every logic should have proper comments.\n",
        "4. You may add as many number of charts you want. Make Sure for each and every chart the following format should be answered.\n",
        "        \n",
        "\n",
        "```\n",
        "# Chart visualization code\n",
        "```\n",
        "            \n",
        "\n",
        "*   Why did you pick the specific chart?\n",
        "*   What is/are the insight(s) found from the chart?\n",
        "* Will the gained insights help creating a positive business impact?\n",
        "Are there any insights that lead to negative growth? Justify with specific reason.\n",
        "\n",
        "5. You have to create at least 15 logical & meaningful charts having important insights.\n",
        "\n",
        "\n",
        "[ Hints : - Do the Vizualization in  a structured way while following \"UBM\" Rule.\n",
        "\n",
        "U - Univariate Analysis,\n",
        "\n",
        "B - Bivariate Analysis (Numerical - Categorical, Numerical - Numerical, Categorical - Categorical)\n",
        "\n",
        "M - Multivariate Analysis\n",
        " ]\n",
        "\n",
        "\n",
        "\n",
        "\n",
        "\n",
        "6. You may add more ml algorithms for model creation. Make sure for each and every algorithm, the following format should be answered.\n",
        "\n",
        "\n",
        "*   Explain the ML Model used and it's performance using Evaluation metric Score Chart.\n",
        "\n",
        "\n",
        "*   Cross- Validation & Hyperparameter Tuning\n",
        "\n",
        "*   Have you seen any improvement? Note down the improvement with updates Evaluation metric Score Chart.\n",
        "\n",
        "*   Explain each evaluation metric's indication towards business and the business impact pf the ML model used.\n",
        "\n",
        "\n",
        "\n",
        "\n",
        "\n",
        "\n",
        "\n",
        "\n",
        "\n",
        "\n",
        "\n",
        "\n",
        "\n",
        "\n",
        "\n",
        "\n",
        "\n",
        "\n"
      ],
      "metadata": {
        "id": "ZrxVaUj-hHfC"
      }
    },
    {
      "cell_type": "markdown",
      "source": [
        "# ***Let's Begin !***"
      ],
      "metadata": {
        "id": "O_i_v8NEhb9l"
      }
    },
    {
      "cell_type": "markdown",
      "source": [
        "## ***1. Know Your Data***"
      ],
      "metadata": {
        "id": "HhfV-JJviCcP"
      }
    },
    {
      "cell_type": "markdown",
      "source": [
        "### Import Libraries"
      ],
      "metadata": {
        "id": "Y3lxredqlCYt"
      }
    },
    {
      "cell_type": "code",
      "source": [
        "# Import Libraries\n",
        "import pandas as pd\n",
        "import numpy as np\n",
        "import matplotlib.pyplot as plt\n",
        "import seaborn as sns\n",
        "import datetime\n",
        "import missingno as msno\n",
        "import matplotlib\n",
        "import matplotlib.pylab as pylab\n",
        "\n",
        "%matplotlib inline\n",
        "matplotlib.style.use('ggplot')\n",
        "sns.set_style('white')\n",
        "pylab.rcParams['figure.figsize'] = 8,6\n",
        "\n",
        "import math\n",
        "import statsmodels.api as sm\n",
        "from sklearn.model_selection import train_test_split\n",
        "from sklearn.linear_model import LinearRegression\n",
        "from sklearn.metrics import mean_squared_error\n",
        "from math import sqrt\n",
        "from sklearn.linear_model import BayesianRidge\n",
        "from sklearn.linear_model import LassoLars\n",
        "from sklearn.tree import DecisionTreeRegressor\n",
        "from sklearn.ensemble import RandomForestRegressor\n",
        "from sklearn.neighbors import KNeighborsRegressor\n",
        "from sklearn.model_selection import RandomizedSearchCV\n",
        "from sklearn.metrics import mean_squared_error\n",
        "from sklearn.metrics import r2_score\n",
        "from sklearn.preprocessing import MinMaxScaler\n",
        "from sklearn.linear_model import ElasticNet"
      ],
      "metadata": {
        "id": "M8Vqi-pPk-HR"
      },
      "execution_count": 1,
      "outputs": []
    },
    {
      "cell_type": "markdown",
      "source": [
        "### Dataset Loading"
      ],
      "metadata": {
        "id": "3RnN4peoiCZX"
      }
    },
    {
      "cell_type": "code",
      "source": [
        "# mounting drive\n",
        "from google.colab import drive\n",
        "drive.mount('/content/drive')"
      ],
      "metadata": {
        "id": "4CkvbW_SlZ_R",
        "colab": {
          "base_uri": "https://localhost:8080/"
        },
        "outputId": "c2104338-3924-4613-a5c6-160f4fe3188c"
      },
      "execution_count": 3,
      "outputs": [
        {
          "output_type": "stream",
          "name": "stdout",
          "text": [
            "Mounted at /content/drive\n"
          ]
        }
      ]
    },
    {
      "cell_type": "code",
      "source": [
        "url1 = '/content/drive/MyDrive/almabetter/store.csv'\n",
        "data1 = pd.read_csv(url1)"
      ],
      "metadata": {
        "id": "EoCCfLXgK9Ra"
      },
      "execution_count": 4,
      "outputs": []
    },
    {
      "cell_type": "code",
      "source": [
        "url2 = '/content/drive/MyDrive/almabetter/Rossmann Stores Data.csv'\n",
        "data2 = pd.read_csv(url2)"
      ],
      "metadata": {
        "id": "AsJbfSeHMKW9",
        "colab": {
          "base_uri": "https://localhost:8080/"
        },
        "outputId": "4e0d49a3-35c9-43c3-ecd3-0d07c8900789"
      },
      "execution_count": 5,
      "outputs": [
        {
          "output_type": "stream",
          "name": "stderr",
          "text": [
            "<ipython-input-5-c8ddd48d9d99>:2: DtypeWarning: Columns (7) have mixed types. Specify dtype option on import or set low_memory=False.\n",
            "  data2 = pd.read_csv(url2)\n"
          ]
        }
      ]
    },
    {
      "cell_type": "markdown",
      "source": [
        "### Dataset First View"
      ],
      "metadata": {
        "id": "x71ZqKXriCWQ"
      }
    },
    {
      "cell_type": "code",
      "source": [
        "# Dataset First Look\n",
        "data1"
      ],
      "metadata": {
        "id": "LWNFOSvLl09H",
        "colab": {
          "base_uri": "https://localhost:8080/",
          "height": 423
        },
        "outputId": "bbe32719-b119-40a4-f4fd-e74df0739941"
      },
      "execution_count": 6,
      "outputs": [
        {
          "output_type": "execute_result",
          "data": {
            "text/plain": [
              "      Store StoreType Assortment  CompetitionDistance  \\\n",
              "0         1         c          a               1270.0   \n",
              "1         2         a          a                570.0   \n",
              "2         3         a          a              14130.0   \n",
              "3         4         c          c                620.0   \n",
              "4         5         a          a              29910.0   \n",
              "...     ...       ...        ...                  ...   \n",
              "1110   1111         a          a               1900.0   \n",
              "1111   1112         c          c               1880.0   \n",
              "1112   1113         a          c               9260.0   \n",
              "1113   1114         a          c                870.0   \n",
              "1114   1115         d          c               5350.0   \n",
              "\n",
              "      CompetitionOpenSinceMonth  CompetitionOpenSinceYear  Promo2  \\\n",
              "0                           9.0                    2008.0       0   \n",
              "1                          11.0                    2007.0       1   \n",
              "2                          12.0                    2006.0       1   \n",
              "3                           9.0                    2009.0       0   \n",
              "4                           4.0                    2015.0       0   \n",
              "...                         ...                       ...     ...   \n",
              "1110                        6.0                    2014.0       1   \n",
              "1111                        4.0                    2006.0       0   \n",
              "1112                        NaN                       NaN       0   \n",
              "1113                        NaN                       NaN       0   \n",
              "1114                        NaN                       NaN       1   \n",
              "\n",
              "      Promo2SinceWeek  Promo2SinceYear     PromoInterval  \n",
              "0                 NaN              NaN               NaN  \n",
              "1                13.0           2010.0   Jan,Apr,Jul,Oct  \n",
              "2                14.0           2011.0   Jan,Apr,Jul,Oct  \n",
              "3                 NaN              NaN               NaN  \n",
              "4                 NaN              NaN               NaN  \n",
              "...               ...              ...               ...  \n",
              "1110             31.0           2013.0   Jan,Apr,Jul,Oct  \n",
              "1111              NaN              NaN               NaN  \n",
              "1112              NaN              NaN               NaN  \n",
              "1113              NaN              NaN               NaN  \n",
              "1114             22.0           2012.0  Mar,Jun,Sept,Dec  \n",
              "\n",
              "[1115 rows x 10 columns]"
            ],
            "text/html": [
              "\n",
              "  <div id=\"df-092d162c-849e-4951-ba26-fa97038829d5\" class=\"colab-df-container\">\n",
              "    <div>\n",
              "<style scoped>\n",
              "    .dataframe tbody tr th:only-of-type {\n",
              "        vertical-align: middle;\n",
              "    }\n",
              "\n",
              "    .dataframe tbody tr th {\n",
              "        vertical-align: top;\n",
              "    }\n",
              "\n",
              "    .dataframe thead th {\n",
              "        text-align: right;\n",
              "    }\n",
              "</style>\n",
              "<table border=\"1\" class=\"dataframe\">\n",
              "  <thead>\n",
              "    <tr style=\"text-align: right;\">\n",
              "      <th></th>\n",
              "      <th>Store</th>\n",
              "      <th>StoreType</th>\n",
              "      <th>Assortment</th>\n",
              "      <th>CompetitionDistance</th>\n",
              "      <th>CompetitionOpenSinceMonth</th>\n",
              "      <th>CompetitionOpenSinceYear</th>\n",
              "      <th>Promo2</th>\n",
              "      <th>Promo2SinceWeek</th>\n",
              "      <th>Promo2SinceYear</th>\n",
              "      <th>PromoInterval</th>\n",
              "    </tr>\n",
              "  </thead>\n",
              "  <tbody>\n",
              "    <tr>\n",
              "      <th>0</th>\n",
              "      <td>1</td>\n",
              "      <td>c</td>\n",
              "      <td>a</td>\n",
              "      <td>1270.0</td>\n",
              "      <td>9.0</td>\n",
              "      <td>2008.0</td>\n",
              "      <td>0</td>\n",
              "      <td>NaN</td>\n",
              "      <td>NaN</td>\n",
              "      <td>NaN</td>\n",
              "    </tr>\n",
              "    <tr>\n",
              "      <th>1</th>\n",
              "      <td>2</td>\n",
              "      <td>a</td>\n",
              "      <td>a</td>\n",
              "      <td>570.0</td>\n",
              "      <td>11.0</td>\n",
              "      <td>2007.0</td>\n",
              "      <td>1</td>\n",
              "      <td>13.0</td>\n",
              "      <td>2010.0</td>\n",
              "      <td>Jan,Apr,Jul,Oct</td>\n",
              "    </tr>\n",
              "    <tr>\n",
              "      <th>2</th>\n",
              "      <td>3</td>\n",
              "      <td>a</td>\n",
              "      <td>a</td>\n",
              "      <td>14130.0</td>\n",
              "      <td>12.0</td>\n",
              "      <td>2006.0</td>\n",
              "      <td>1</td>\n",
              "      <td>14.0</td>\n",
              "      <td>2011.0</td>\n",
              "      <td>Jan,Apr,Jul,Oct</td>\n",
              "    </tr>\n",
              "    <tr>\n",
              "      <th>3</th>\n",
              "      <td>4</td>\n",
              "      <td>c</td>\n",
              "      <td>c</td>\n",
              "      <td>620.0</td>\n",
              "      <td>9.0</td>\n",
              "      <td>2009.0</td>\n",
              "      <td>0</td>\n",
              "      <td>NaN</td>\n",
              "      <td>NaN</td>\n",
              "      <td>NaN</td>\n",
              "    </tr>\n",
              "    <tr>\n",
              "      <th>4</th>\n",
              "      <td>5</td>\n",
              "      <td>a</td>\n",
              "      <td>a</td>\n",
              "      <td>29910.0</td>\n",
              "      <td>4.0</td>\n",
              "      <td>2015.0</td>\n",
              "      <td>0</td>\n",
              "      <td>NaN</td>\n",
              "      <td>NaN</td>\n",
              "      <td>NaN</td>\n",
              "    </tr>\n",
              "    <tr>\n",
              "      <th>...</th>\n",
              "      <td>...</td>\n",
              "      <td>...</td>\n",
              "      <td>...</td>\n",
              "      <td>...</td>\n",
              "      <td>...</td>\n",
              "      <td>...</td>\n",
              "      <td>...</td>\n",
              "      <td>...</td>\n",
              "      <td>...</td>\n",
              "      <td>...</td>\n",
              "    </tr>\n",
              "    <tr>\n",
              "      <th>1110</th>\n",
              "      <td>1111</td>\n",
              "      <td>a</td>\n",
              "      <td>a</td>\n",
              "      <td>1900.0</td>\n",
              "      <td>6.0</td>\n",
              "      <td>2014.0</td>\n",
              "      <td>1</td>\n",
              "      <td>31.0</td>\n",
              "      <td>2013.0</td>\n",
              "      <td>Jan,Apr,Jul,Oct</td>\n",
              "    </tr>\n",
              "    <tr>\n",
              "      <th>1111</th>\n",
              "      <td>1112</td>\n",
              "      <td>c</td>\n",
              "      <td>c</td>\n",
              "      <td>1880.0</td>\n",
              "      <td>4.0</td>\n",
              "      <td>2006.0</td>\n",
              "      <td>0</td>\n",
              "      <td>NaN</td>\n",
              "      <td>NaN</td>\n",
              "      <td>NaN</td>\n",
              "    </tr>\n",
              "    <tr>\n",
              "      <th>1112</th>\n",
              "      <td>1113</td>\n",
              "      <td>a</td>\n",
              "      <td>c</td>\n",
              "      <td>9260.0</td>\n",
              "      <td>NaN</td>\n",
              "      <td>NaN</td>\n",
              "      <td>0</td>\n",
              "      <td>NaN</td>\n",
              "      <td>NaN</td>\n",
              "      <td>NaN</td>\n",
              "    </tr>\n",
              "    <tr>\n",
              "      <th>1113</th>\n",
              "      <td>1114</td>\n",
              "      <td>a</td>\n",
              "      <td>c</td>\n",
              "      <td>870.0</td>\n",
              "      <td>NaN</td>\n",
              "      <td>NaN</td>\n",
              "      <td>0</td>\n",
              "      <td>NaN</td>\n",
              "      <td>NaN</td>\n",
              "      <td>NaN</td>\n",
              "    </tr>\n",
              "    <tr>\n",
              "      <th>1114</th>\n",
              "      <td>1115</td>\n",
              "      <td>d</td>\n",
              "      <td>c</td>\n",
              "      <td>5350.0</td>\n",
              "      <td>NaN</td>\n",
              "      <td>NaN</td>\n",
              "      <td>1</td>\n",
              "      <td>22.0</td>\n",
              "      <td>2012.0</td>\n",
              "      <td>Mar,Jun,Sept,Dec</td>\n",
              "    </tr>\n",
              "  </tbody>\n",
              "</table>\n",
              "<p>1115 rows × 10 columns</p>\n",
              "</div>\n",
              "    <div class=\"colab-df-buttons\">\n",
              "\n",
              "  <div class=\"colab-df-container\">\n",
              "    <button class=\"colab-df-convert\" onclick=\"convertToInteractive('df-092d162c-849e-4951-ba26-fa97038829d5')\"\n",
              "            title=\"Convert this dataframe to an interactive table.\"\n",
              "            style=\"display:none;\">\n",
              "\n",
              "  <svg xmlns=\"http://www.w3.org/2000/svg\" height=\"24px\" viewBox=\"0 -960 960 960\">\n",
              "    <path d=\"M120-120v-720h720v720H120Zm60-500h600v-160H180v160Zm220 220h160v-160H400v160Zm0 220h160v-160H400v160ZM180-400h160v-160H180v160Zm440 0h160v-160H620v160ZM180-180h160v-160H180v160Zm440 0h160v-160H620v160Z\"/>\n",
              "  </svg>\n",
              "    </button>\n",
              "\n",
              "  <style>\n",
              "    .colab-df-container {\n",
              "      display:flex;\n",
              "      gap: 12px;\n",
              "    }\n",
              "\n",
              "    .colab-df-convert {\n",
              "      background-color: #E8F0FE;\n",
              "      border: none;\n",
              "      border-radius: 50%;\n",
              "      cursor: pointer;\n",
              "      display: none;\n",
              "      fill: #1967D2;\n",
              "      height: 32px;\n",
              "      padding: 0 0 0 0;\n",
              "      width: 32px;\n",
              "    }\n",
              "\n",
              "    .colab-df-convert:hover {\n",
              "      background-color: #E2EBFA;\n",
              "      box-shadow: 0px 1px 2px rgba(60, 64, 67, 0.3), 0px 1px 3px 1px rgba(60, 64, 67, 0.15);\n",
              "      fill: #174EA6;\n",
              "    }\n",
              "\n",
              "    .colab-df-buttons div {\n",
              "      margin-bottom: 4px;\n",
              "    }\n",
              "\n",
              "    [theme=dark] .colab-df-convert {\n",
              "      background-color: #3B4455;\n",
              "      fill: #D2E3FC;\n",
              "    }\n",
              "\n",
              "    [theme=dark] .colab-df-convert:hover {\n",
              "      background-color: #434B5C;\n",
              "      box-shadow: 0px 1px 3px 1px rgba(0, 0, 0, 0.15);\n",
              "      filter: drop-shadow(0px 1px 2px rgba(0, 0, 0, 0.3));\n",
              "      fill: #FFFFFF;\n",
              "    }\n",
              "  </style>\n",
              "\n",
              "    <script>\n",
              "      const buttonEl =\n",
              "        document.querySelector('#df-092d162c-849e-4951-ba26-fa97038829d5 button.colab-df-convert');\n",
              "      buttonEl.style.display =\n",
              "        google.colab.kernel.accessAllowed ? 'block' : 'none';\n",
              "\n",
              "      async function convertToInteractive(key) {\n",
              "        const element = document.querySelector('#df-092d162c-849e-4951-ba26-fa97038829d5');\n",
              "        const dataTable =\n",
              "          await google.colab.kernel.invokeFunction('convertToInteractive',\n",
              "                                                    [key], {});\n",
              "        if (!dataTable) return;\n",
              "\n",
              "        const docLinkHtml = 'Like what you see? Visit the ' +\n",
              "          '<a target=\"_blank\" href=https://colab.research.google.com/notebooks/data_table.ipynb>data table notebook</a>'\n",
              "          + ' to learn more about interactive tables.';\n",
              "        element.innerHTML = '';\n",
              "        dataTable['output_type'] = 'display_data';\n",
              "        await google.colab.output.renderOutput(dataTable, element);\n",
              "        const docLink = document.createElement('div');\n",
              "        docLink.innerHTML = docLinkHtml;\n",
              "        element.appendChild(docLink);\n",
              "      }\n",
              "    </script>\n",
              "  </div>\n",
              "\n",
              "\n",
              "<div id=\"df-19aa1d09-0105-4d32-8c44-44f8c28eed12\">\n",
              "  <button class=\"colab-df-quickchart\" onclick=\"quickchart('df-19aa1d09-0105-4d32-8c44-44f8c28eed12')\"\n",
              "            title=\"Suggest charts\"\n",
              "            style=\"display:none;\">\n",
              "\n",
              "<svg xmlns=\"http://www.w3.org/2000/svg\" height=\"24px\"viewBox=\"0 0 24 24\"\n",
              "     width=\"24px\">\n",
              "    <g>\n",
              "        <path d=\"M19 3H5c-1.1 0-2 .9-2 2v14c0 1.1.9 2 2 2h14c1.1 0 2-.9 2-2V5c0-1.1-.9-2-2-2zM9 17H7v-7h2v7zm4 0h-2V7h2v10zm4 0h-2v-4h2v4z\"/>\n",
              "    </g>\n",
              "</svg>\n",
              "  </button>\n",
              "\n",
              "<style>\n",
              "  .colab-df-quickchart {\n",
              "      --bg-color: #E8F0FE;\n",
              "      --fill-color: #1967D2;\n",
              "      --hover-bg-color: #E2EBFA;\n",
              "      --hover-fill-color: #174EA6;\n",
              "      --disabled-fill-color: #AAA;\n",
              "      --disabled-bg-color: #DDD;\n",
              "  }\n",
              "\n",
              "  [theme=dark] .colab-df-quickchart {\n",
              "      --bg-color: #3B4455;\n",
              "      --fill-color: #D2E3FC;\n",
              "      --hover-bg-color: #434B5C;\n",
              "      --hover-fill-color: #FFFFFF;\n",
              "      --disabled-bg-color: #3B4455;\n",
              "      --disabled-fill-color: #666;\n",
              "  }\n",
              "\n",
              "  .colab-df-quickchart {\n",
              "    background-color: var(--bg-color);\n",
              "    border: none;\n",
              "    border-radius: 50%;\n",
              "    cursor: pointer;\n",
              "    display: none;\n",
              "    fill: var(--fill-color);\n",
              "    height: 32px;\n",
              "    padding: 0;\n",
              "    width: 32px;\n",
              "  }\n",
              "\n",
              "  .colab-df-quickchart:hover {\n",
              "    background-color: var(--hover-bg-color);\n",
              "    box-shadow: 0 1px 2px rgba(60, 64, 67, 0.3), 0 1px 3px 1px rgba(60, 64, 67, 0.15);\n",
              "    fill: var(--button-hover-fill-color);\n",
              "  }\n",
              "\n",
              "  .colab-df-quickchart-complete:disabled,\n",
              "  .colab-df-quickchart-complete:disabled:hover {\n",
              "    background-color: var(--disabled-bg-color);\n",
              "    fill: var(--disabled-fill-color);\n",
              "    box-shadow: none;\n",
              "  }\n",
              "\n",
              "  .colab-df-spinner {\n",
              "    border: 2px solid var(--fill-color);\n",
              "    border-color: transparent;\n",
              "    border-bottom-color: var(--fill-color);\n",
              "    animation:\n",
              "      spin 1s steps(1) infinite;\n",
              "  }\n",
              "\n",
              "  @keyframes spin {\n",
              "    0% {\n",
              "      border-color: transparent;\n",
              "      border-bottom-color: var(--fill-color);\n",
              "      border-left-color: var(--fill-color);\n",
              "    }\n",
              "    20% {\n",
              "      border-color: transparent;\n",
              "      border-left-color: var(--fill-color);\n",
              "      border-top-color: var(--fill-color);\n",
              "    }\n",
              "    30% {\n",
              "      border-color: transparent;\n",
              "      border-left-color: var(--fill-color);\n",
              "      border-top-color: var(--fill-color);\n",
              "      border-right-color: var(--fill-color);\n",
              "    }\n",
              "    40% {\n",
              "      border-color: transparent;\n",
              "      border-right-color: var(--fill-color);\n",
              "      border-top-color: var(--fill-color);\n",
              "    }\n",
              "    60% {\n",
              "      border-color: transparent;\n",
              "      border-right-color: var(--fill-color);\n",
              "    }\n",
              "    80% {\n",
              "      border-color: transparent;\n",
              "      border-right-color: var(--fill-color);\n",
              "      border-bottom-color: var(--fill-color);\n",
              "    }\n",
              "    90% {\n",
              "      border-color: transparent;\n",
              "      border-bottom-color: var(--fill-color);\n",
              "    }\n",
              "  }\n",
              "</style>\n",
              "\n",
              "  <script>\n",
              "    async function quickchart(key) {\n",
              "      const quickchartButtonEl =\n",
              "        document.querySelector('#' + key + ' button');\n",
              "      quickchartButtonEl.disabled = true;  // To prevent multiple clicks.\n",
              "      quickchartButtonEl.classList.add('colab-df-spinner');\n",
              "      try {\n",
              "        const charts = await google.colab.kernel.invokeFunction(\n",
              "            'suggestCharts', [key], {});\n",
              "      } catch (error) {\n",
              "        console.error('Error during call to suggestCharts:', error);\n",
              "      }\n",
              "      quickchartButtonEl.classList.remove('colab-df-spinner');\n",
              "      quickchartButtonEl.classList.add('colab-df-quickchart-complete');\n",
              "    }\n",
              "    (() => {\n",
              "      let quickchartButtonEl =\n",
              "        document.querySelector('#df-19aa1d09-0105-4d32-8c44-44f8c28eed12 button');\n",
              "      quickchartButtonEl.style.display =\n",
              "        google.colab.kernel.accessAllowed ? 'block' : 'none';\n",
              "    })();\n",
              "  </script>\n",
              "</div>\n",
              "    </div>\n",
              "  </div>\n"
            ]
          },
          "metadata": {},
          "execution_count": 6
        }
      ]
    },
    {
      "cell_type": "code",
      "source": [
        "data2"
      ],
      "metadata": {
        "id": "TpSILLp1QFP5",
        "colab": {
          "base_uri": "https://localhost:8080/",
          "height": 423
        },
        "outputId": "3e46d901-0ea9-4634-afac-306c3bb72b54"
      },
      "execution_count": 7,
      "outputs": [
        {
          "output_type": "execute_result",
          "data": {
            "text/plain": [
              "         Store  DayOfWeek        Date  Sales  Customers  Open  Promo  \\\n",
              "0            1          5  2015-07-31   5263        555     1      1   \n",
              "1            2          5  2015-07-31   6064        625     1      1   \n",
              "2            3          5  2015-07-31   8314        821     1      1   \n",
              "3            4          5  2015-07-31  13995       1498     1      1   \n",
              "4            5          5  2015-07-31   4822        559     1      1   \n",
              "...        ...        ...         ...    ...        ...   ...    ...   \n",
              "1017204   1111          2  2013-01-01      0          0     0      0   \n",
              "1017205   1112          2  2013-01-01      0          0     0      0   \n",
              "1017206   1113          2  2013-01-01      0          0     0      0   \n",
              "1017207   1114          2  2013-01-01      0          0     0      0   \n",
              "1017208   1115          2  2013-01-01      0          0     0      0   \n",
              "\n",
              "        StateHoliday  SchoolHoliday  \n",
              "0                  0              1  \n",
              "1                  0              1  \n",
              "2                  0              1  \n",
              "3                  0              1  \n",
              "4                  0              1  \n",
              "...              ...            ...  \n",
              "1017204            a              1  \n",
              "1017205            a              1  \n",
              "1017206            a              1  \n",
              "1017207            a              1  \n",
              "1017208            a              1  \n",
              "\n",
              "[1017209 rows x 9 columns]"
            ],
            "text/html": [
              "\n",
              "  <div id=\"df-593f9dda-ea5d-4085-a230-1161fcf2ed40\" class=\"colab-df-container\">\n",
              "    <div>\n",
              "<style scoped>\n",
              "    .dataframe tbody tr th:only-of-type {\n",
              "        vertical-align: middle;\n",
              "    }\n",
              "\n",
              "    .dataframe tbody tr th {\n",
              "        vertical-align: top;\n",
              "    }\n",
              "\n",
              "    .dataframe thead th {\n",
              "        text-align: right;\n",
              "    }\n",
              "</style>\n",
              "<table border=\"1\" class=\"dataframe\">\n",
              "  <thead>\n",
              "    <tr style=\"text-align: right;\">\n",
              "      <th></th>\n",
              "      <th>Store</th>\n",
              "      <th>DayOfWeek</th>\n",
              "      <th>Date</th>\n",
              "      <th>Sales</th>\n",
              "      <th>Customers</th>\n",
              "      <th>Open</th>\n",
              "      <th>Promo</th>\n",
              "      <th>StateHoliday</th>\n",
              "      <th>SchoolHoliday</th>\n",
              "    </tr>\n",
              "  </thead>\n",
              "  <tbody>\n",
              "    <tr>\n",
              "      <th>0</th>\n",
              "      <td>1</td>\n",
              "      <td>5</td>\n",
              "      <td>2015-07-31</td>\n",
              "      <td>5263</td>\n",
              "      <td>555</td>\n",
              "      <td>1</td>\n",
              "      <td>1</td>\n",
              "      <td>0</td>\n",
              "      <td>1</td>\n",
              "    </tr>\n",
              "    <tr>\n",
              "      <th>1</th>\n",
              "      <td>2</td>\n",
              "      <td>5</td>\n",
              "      <td>2015-07-31</td>\n",
              "      <td>6064</td>\n",
              "      <td>625</td>\n",
              "      <td>1</td>\n",
              "      <td>1</td>\n",
              "      <td>0</td>\n",
              "      <td>1</td>\n",
              "    </tr>\n",
              "    <tr>\n",
              "      <th>2</th>\n",
              "      <td>3</td>\n",
              "      <td>5</td>\n",
              "      <td>2015-07-31</td>\n",
              "      <td>8314</td>\n",
              "      <td>821</td>\n",
              "      <td>1</td>\n",
              "      <td>1</td>\n",
              "      <td>0</td>\n",
              "      <td>1</td>\n",
              "    </tr>\n",
              "    <tr>\n",
              "      <th>3</th>\n",
              "      <td>4</td>\n",
              "      <td>5</td>\n",
              "      <td>2015-07-31</td>\n",
              "      <td>13995</td>\n",
              "      <td>1498</td>\n",
              "      <td>1</td>\n",
              "      <td>1</td>\n",
              "      <td>0</td>\n",
              "      <td>1</td>\n",
              "    </tr>\n",
              "    <tr>\n",
              "      <th>4</th>\n",
              "      <td>5</td>\n",
              "      <td>5</td>\n",
              "      <td>2015-07-31</td>\n",
              "      <td>4822</td>\n",
              "      <td>559</td>\n",
              "      <td>1</td>\n",
              "      <td>1</td>\n",
              "      <td>0</td>\n",
              "      <td>1</td>\n",
              "    </tr>\n",
              "    <tr>\n",
              "      <th>...</th>\n",
              "      <td>...</td>\n",
              "      <td>...</td>\n",
              "      <td>...</td>\n",
              "      <td>...</td>\n",
              "      <td>...</td>\n",
              "      <td>...</td>\n",
              "      <td>...</td>\n",
              "      <td>...</td>\n",
              "      <td>...</td>\n",
              "    </tr>\n",
              "    <tr>\n",
              "      <th>1017204</th>\n",
              "      <td>1111</td>\n",
              "      <td>2</td>\n",
              "      <td>2013-01-01</td>\n",
              "      <td>0</td>\n",
              "      <td>0</td>\n",
              "      <td>0</td>\n",
              "      <td>0</td>\n",
              "      <td>a</td>\n",
              "      <td>1</td>\n",
              "    </tr>\n",
              "    <tr>\n",
              "      <th>1017205</th>\n",
              "      <td>1112</td>\n",
              "      <td>2</td>\n",
              "      <td>2013-01-01</td>\n",
              "      <td>0</td>\n",
              "      <td>0</td>\n",
              "      <td>0</td>\n",
              "      <td>0</td>\n",
              "      <td>a</td>\n",
              "      <td>1</td>\n",
              "    </tr>\n",
              "    <tr>\n",
              "      <th>1017206</th>\n",
              "      <td>1113</td>\n",
              "      <td>2</td>\n",
              "      <td>2013-01-01</td>\n",
              "      <td>0</td>\n",
              "      <td>0</td>\n",
              "      <td>0</td>\n",
              "      <td>0</td>\n",
              "      <td>a</td>\n",
              "      <td>1</td>\n",
              "    </tr>\n",
              "    <tr>\n",
              "      <th>1017207</th>\n",
              "      <td>1114</td>\n",
              "      <td>2</td>\n",
              "      <td>2013-01-01</td>\n",
              "      <td>0</td>\n",
              "      <td>0</td>\n",
              "      <td>0</td>\n",
              "      <td>0</td>\n",
              "      <td>a</td>\n",
              "      <td>1</td>\n",
              "    </tr>\n",
              "    <tr>\n",
              "      <th>1017208</th>\n",
              "      <td>1115</td>\n",
              "      <td>2</td>\n",
              "      <td>2013-01-01</td>\n",
              "      <td>0</td>\n",
              "      <td>0</td>\n",
              "      <td>0</td>\n",
              "      <td>0</td>\n",
              "      <td>a</td>\n",
              "      <td>1</td>\n",
              "    </tr>\n",
              "  </tbody>\n",
              "</table>\n",
              "<p>1017209 rows × 9 columns</p>\n",
              "</div>\n",
              "    <div class=\"colab-df-buttons\">\n",
              "\n",
              "  <div class=\"colab-df-container\">\n",
              "    <button class=\"colab-df-convert\" onclick=\"convertToInteractive('df-593f9dda-ea5d-4085-a230-1161fcf2ed40')\"\n",
              "            title=\"Convert this dataframe to an interactive table.\"\n",
              "            style=\"display:none;\">\n",
              "\n",
              "  <svg xmlns=\"http://www.w3.org/2000/svg\" height=\"24px\" viewBox=\"0 -960 960 960\">\n",
              "    <path d=\"M120-120v-720h720v720H120Zm60-500h600v-160H180v160Zm220 220h160v-160H400v160Zm0 220h160v-160H400v160ZM180-400h160v-160H180v160Zm440 0h160v-160H620v160ZM180-180h160v-160H180v160Zm440 0h160v-160H620v160Z\"/>\n",
              "  </svg>\n",
              "    </button>\n",
              "\n",
              "  <style>\n",
              "    .colab-df-container {\n",
              "      display:flex;\n",
              "      gap: 12px;\n",
              "    }\n",
              "\n",
              "    .colab-df-convert {\n",
              "      background-color: #E8F0FE;\n",
              "      border: none;\n",
              "      border-radius: 50%;\n",
              "      cursor: pointer;\n",
              "      display: none;\n",
              "      fill: #1967D2;\n",
              "      height: 32px;\n",
              "      padding: 0 0 0 0;\n",
              "      width: 32px;\n",
              "    }\n",
              "\n",
              "    .colab-df-convert:hover {\n",
              "      background-color: #E2EBFA;\n",
              "      box-shadow: 0px 1px 2px rgba(60, 64, 67, 0.3), 0px 1px 3px 1px rgba(60, 64, 67, 0.15);\n",
              "      fill: #174EA6;\n",
              "    }\n",
              "\n",
              "    .colab-df-buttons div {\n",
              "      margin-bottom: 4px;\n",
              "    }\n",
              "\n",
              "    [theme=dark] .colab-df-convert {\n",
              "      background-color: #3B4455;\n",
              "      fill: #D2E3FC;\n",
              "    }\n",
              "\n",
              "    [theme=dark] .colab-df-convert:hover {\n",
              "      background-color: #434B5C;\n",
              "      box-shadow: 0px 1px 3px 1px rgba(0, 0, 0, 0.15);\n",
              "      filter: drop-shadow(0px 1px 2px rgba(0, 0, 0, 0.3));\n",
              "      fill: #FFFFFF;\n",
              "    }\n",
              "  </style>\n",
              "\n",
              "    <script>\n",
              "      const buttonEl =\n",
              "        document.querySelector('#df-593f9dda-ea5d-4085-a230-1161fcf2ed40 button.colab-df-convert');\n",
              "      buttonEl.style.display =\n",
              "        google.colab.kernel.accessAllowed ? 'block' : 'none';\n",
              "\n",
              "      async function convertToInteractive(key) {\n",
              "        const element = document.querySelector('#df-593f9dda-ea5d-4085-a230-1161fcf2ed40');\n",
              "        const dataTable =\n",
              "          await google.colab.kernel.invokeFunction('convertToInteractive',\n",
              "                                                    [key], {});\n",
              "        if (!dataTable) return;\n",
              "\n",
              "        const docLinkHtml = 'Like what you see? Visit the ' +\n",
              "          '<a target=\"_blank\" href=https://colab.research.google.com/notebooks/data_table.ipynb>data table notebook</a>'\n",
              "          + ' to learn more about interactive tables.';\n",
              "        element.innerHTML = '';\n",
              "        dataTable['output_type'] = 'display_data';\n",
              "        await google.colab.output.renderOutput(dataTable, element);\n",
              "        const docLink = document.createElement('div');\n",
              "        docLink.innerHTML = docLinkHtml;\n",
              "        element.appendChild(docLink);\n",
              "      }\n",
              "    </script>\n",
              "  </div>\n",
              "\n",
              "\n",
              "<div id=\"df-ec80eaa0-1acd-4068-86a3-af2c06202b8e\">\n",
              "  <button class=\"colab-df-quickchart\" onclick=\"quickchart('df-ec80eaa0-1acd-4068-86a3-af2c06202b8e')\"\n",
              "            title=\"Suggest charts\"\n",
              "            style=\"display:none;\">\n",
              "\n",
              "<svg xmlns=\"http://www.w3.org/2000/svg\" height=\"24px\"viewBox=\"0 0 24 24\"\n",
              "     width=\"24px\">\n",
              "    <g>\n",
              "        <path d=\"M19 3H5c-1.1 0-2 .9-2 2v14c0 1.1.9 2 2 2h14c1.1 0 2-.9 2-2V5c0-1.1-.9-2-2-2zM9 17H7v-7h2v7zm4 0h-2V7h2v10zm4 0h-2v-4h2v4z\"/>\n",
              "    </g>\n",
              "</svg>\n",
              "  </button>\n",
              "\n",
              "<style>\n",
              "  .colab-df-quickchart {\n",
              "      --bg-color: #E8F0FE;\n",
              "      --fill-color: #1967D2;\n",
              "      --hover-bg-color: #E2EBFA;\n",
              "      --hover-fill-color: #174EA6;\n",
              "      --disabled-fill-color: #AAA;\n",
              "      --disabled-bg-color: #DDD;\n",
              "  }\n",
              "\n",
              "  [theme=dark] .colab-df-quickchart {\n",
              "      --bg-color: #3B4455;\n",
              "      --fill-color: #D2E3FC;\n",
              "      --hover-bg-color: #434B5C;\n",
              "      --hover-fill-color: #FFFFFF;\n",
              "      --disabled-bg-color: #3B4455;\n",
              "      --disabled-fill-color: #666;\n",
              "  }\n",
              "\n",
              "  .colab-df-quickchart {\n",
              "    background-color: var(--bg-color);\n",
              "    border: none;\n",
              "    border-radius: 50%;\n",
              "    cursor: pointer;\n",
              "    display: none;\n",
              "    fill: var(--fill-color);\n",
              "    height: 32px;\n",
              "    padding: 0;\n",
              "    width: 32px;\n",
              "  }\n",
              "\n",
              "  .colab-df-quickchart:hover {\n",
              "    background-color: var(--hover-bg-color);\n",
              "    box-shadow: 0 1px 2px rgba(60, 64, 67, 0.3), 0 1px 3px 1px rgba(60, 64, 67, 0.15);\n",
              "    fill: var(--button-hover-fill-color);\n",
              "  }\n",
              "\n",
              "  .colab-df-quickchart-complete:disabled,\n",
              "  .colab-df-quickchart-complete:disabled:hover {\n",
              "    background-color: var(--disabled-bg-color);\n",
              "    fill: var(--disabled-fill-color);\n",
              "    box-shadow: none;\n",
              "  }\n",
              "\n",
              "  .colab-df-spinner {\n",
              "    border: 2px solid var(--fill-color);\n",
              "    border-color: transparent;\n",
              "    border-bottom-color: var(--fill-color);\n",
              "    animation:\n",
              "      spin 1s steps(1) infinite;\n",
              "  }\n",
              "\n",
              "  @keyframes spin {\n",
              "    0% {\n",
              "      border-color: transparent;\n",
              "      border-bottom-color: var(--fill-color);\n",
              "      border-left-color: var(--fill-color);\n",
              "    }\n",
              "    20% {\n",
              "      border-color: transparent;\n",
              "      border-left-color: var(--fill-color);\n",
              "      border-top-color: var(--fill-color);\n",
              "    }\n",
              "    30% {\n",
              "      border-color: transparent;\n",
              "      border-left-color: var(--fill-color);\n",
              "      border-top-color: var(--fill-color);\n",
              "      border-right-color: var(--fill-color);\n",
              "    }\n",
              "    40% {\n",
              "      border-color: transparent;\n",
              "      border-right-color: var(--fill-color);\n",
              "      border-top-color: var(--fill-color);\n",
              "    }\n",
              "    60% {\n",
              "      border-color: transparent;\n",
              "      border-right-color: var(--fill-color);\n",
              "    }\n",
              "    80% {\n",
              "      border-color: transparent;\n",
              "      border-right-color: var(--fill-color);\n",
              "      border-bottom-color: var(--fill-color);\n",
              "    }\n",
              "    90% {\n",
              "      border-color: transparent;\n",
              "      border-bottom-color: var(--fill-color);\n",
              "    }\n",
              "  }\n",
              "</style>\n",
              "\n",
              "  <script>\n",
              "    async function quickchart(key) {\n",
              "      const quickchartButtonEl =\n",
              "        document.querySelector('#' + key + ' button');\n",
              "      quickchartButtonEl.disabled = true;  // To prevent multiple clicks.\n",
              "      quickchartButtonEl.classList.add('colab-df-spinner');\n",
              "      try {\n",
              "        const charts = await google.colab.kernel.invokeFunction(\n",
              "            'suggestCharts', [key], {});\n",
              "      } catch (error) {\n",
              "        console.error('Error during call to suggestCharts:', error);\n",
              "      }\n",
              "      quickchartButtonEl.classList.remove('colab-df-spinner');\n",
              "      quickchartButtonEl.classList.add('colab-df-quickchart-complete');\n",
              "    }\n",
              "    (() => {\n",
              "      let quickchartButtonEl =\n",
              "        document.querySelector('#df-ec80eaa0-1acd-4068-86a3-af2c06202b8e button');\n",
              "      quickchartButtonEl.style.display =\n",
              "        google.colab.kernel.accessAllowed ? 'block' : 'none';\n",
              "    })();\n",
              "  </script>\n",
              "</div>\n",
              "    </div>\n",
              "  </div>\n"
            ]
          },
          "metadata": {},
          "execution_count": 7
        }
      ]
    },
    {
      "cell_type": "markdown",
      "source": [
        "### Dataset Rows & Columns count"
      ],
      "metadata": {
        "id": "7hBIi_osiCS2"
      }
    },
    {
      "cell_type": "code",
      "source": [
        "# Dataset Rows & Columns count\n",
        "data1.shape"
      ],
      "metadata": {
        "id": "Kllu7SJgmLij",
        "colab": {
          "base_uri": "https://localhost:8080/"
        },
        "outputId": "34e0cd55-c4cd-42cb-bdf0-89237b949e66"
      },
      "execution_count": 8,
      "outputs": [
        {
          "output_type": "execute_result",
          "data": {
            "text/plain": [
              "(1115, 10)"
            ]
          },
          "metadata": {},
          "execution_count": 8
        }
      ]
    },
    {
      "cell_type": "code",
      "source": [
        "data2.shape"
      ],
      "metadata": {
        "id": "Zj0KT8v8QNBh",
        "colab": {
          "base_uri": "https://localhost:8080/"
        },
        "outputId": "7f0fffd0-44d4-44e3-ab37-03ac8e3ff075"
      },
      "execution_count": 9,
      "outputs": [
        {
          "output_type": "execute_result",
          "data": {
            "text/plain": [
              "(1017209, 9)"
            ]
          },
          "metadata": {},
          "execution_count": 9
        }
      ]
    },
    {
      "cell_type": "markdown",
      "source": [
        "### Dataset Information"
      ],
      "metadata": {
        "id": "JlHwYmJAmNHm"
      }
    },
    {
      "cell_type": "code",
      "source": [
        "# Dataset Info\n",
        "data1.info()"
      ],
      "metadata": {
        "id": "e9hRXRi6meOf",
        "colab": {
          "base_uri": "https://localhost:8080/"
        },
        "outputId": "01a5ec90-6b16-4186-d82b-be62394b0cac"
      },
      "execution_count": 10,
      "outputs": [
        {
          "output_type": "stream",
          "name": "stdout",
          "text": [
            "<class 'pandas.core.frame.DataFrame'>\n",
            "RangeIndex: 1115 entries, 0 to 1114\n",
            "Data columns (total 10 columns):\n",
            " #   Column                     Non-Null Count  Dtype  \n",
            "---  ------                     --------------  -----  \n",
            " 0   Store                      1115 non-null   int64  \n",
            " 1   StoreType                  1115 non-null   object \n",
            " 2   Assortment                 1115 non-null   object \n",
            " 3   CompetitionDistance        1112 non-null   float64\n",
            " 4   CompetitionOpenSinceMonth  761 non-null    float64\n",
            " 5   CompetitionOpenSinceYear   761 non-null    float64\n",
            " 6   Promo2                     1115 non-null   int64  \n",
            " 7   Promo2SinceWeek            571 non-null    float64\n",
            " 8   Promo2SinceYear            571 non-null    float64\n",
            " 9   PromoInterval              571 non-null    object \n",
            "dtypes: float64(5), int64(2), object(3)\n",
            "memory usage: 87.2+ KB\n"
          ]
        }
      ]
    },
    {
      "cell_type": "code",
      "source": [
        "data2.info()"
      ],
      "metadata": {
        "id": "2jL_REviRvE7",
        "colab": {
          "base_uri": "https://localhost:8080/"
        },
        "outputId": "013eb93d-d431-4769-82ac-a369f0ae7158"
      },
      "execution_count": 11,
      "outputs": [
        {
          "output_type": "stream",
          "name": "stdout",
          "text": [
            "<class 'pandas.core.frame.DataFrame'>\n",
            "RangeIndex: 1017209 entries, 0 to 1017208\n",
            "Data columns (total 9 columns):\n",
            " #   Column         Non-Null Count    Dtype \n",
            "---  ------         --------------    ----- \n",
            " 0   Store          1017209 non-null  int64 \n",
            " 1   DayOfWeek      1017209 non-null  int64 \n",
            " 2   Date           1017209 non-null  object\n",
            " 3   Sales          1017209 non-null  int64 \n",
            " 4   Customers      1017209 non-null  int64 \n",
            " 5   Open           1017209 non-null  int64 \n",
            " 6   Promo          1017209 non-null  int64 \n",
            " 7   StateHoliday   1017209 non-null  object\n",
            " 8   SchoolHoliday  1017209 non-null  int64 \n",
            "dtypes: int64(7), object(2)\n",
            "memory usage: 69.8+ MB\n"
          ]
        }
      ]
    },
    {
      "cell_type": "markdown",
      "source": [
        "#### Duplicate Values"
      ],
      "metadata": {
        "id": "35m5QtbWiB9F"
      }
    },
    {
      "cell_type": "code",
      "source": [
        "# Dataset Duplicate Value Count\n",
        "data1.duplicated().sum()"
      ],
      "metadata": {
        "id": "1sLdpKYkmox0",
        "colab": {
          "base_uri": "https://localhost:8080/"
        },
        "outputId": "13c3c8fe-2c64-4b23-e722-c74e90d3dc07"
      },
      "execution_count": 12,
      "outputs": [
        {
          "output_type": "execute_result",
          "data": {
            "text/plain": [
              "0"
            ]
          },
          "metadata": {},
          "execution_count": 12
        }
      ]
    },
    {
      "cell_type": "code",
      "source": [
        "data2.duplicated().sum()"
      ],
      "metadata": {
        "id": "mguAGXR3SMSS",
        "colab": {
          "base_uri": "https://localhost:8080/"
        },
        "outputId": "4e439a84-e206-4818-f2aa-7541c099d9f4"
      },
      "execution_count": 13,
      "outputs": [
        {
          "output_type": "execute_result",
          "data": {
            "text/plain": [
              "0"
            ]
          },
          "metadata": {},
          "execution_count": 13
        }
      ]
    },
    {
      "cell_type": "markdown",
      "source": [
        "#### Missing Values/Null Values"
      ],
      "metadata": {
        "id": "PoPl-ycgm1ru"
      }
    },
    {
      "cell_type": "code",
      "source": [
        "# Missing Values/Null Values Count\n",
        "data1.isnull().sum()"
      ],
      "metadata": {
        "id": "GgHWkxvamxVg",
        "colab": {
          "base_uri": "https://localhost:8080/"
        },
        "outputId": "bb19edb9-1beb-45ad-d279-1e2352bed3fb"
      },
      "execution_count": 14,
      "outputs": [
        {
          "output_type": "execute_result",
          "data": {
            "text/plain": [
              "Store                          0\n",
              "StoreType                      0\n",
              "Assortment                     0\n",
              "CompetitionDistance            3\n",
              "CompetitionOpenSinceMonth    354\n",
              "CompetitionOpenSinceYear     354\n",
              "Promo2                         0\n",
              "Promo2SinceWeek              544\n",
              "Promo2SinceYear              544\n",
              "PromoInterval                544\n",
              "dtype: int64"
            ]
          },
          "metadata": {},
          "execution_count": 14
        }
      ]
    },
    {
      "cell_type": "code",
      "source": [
        "# Visualizing the missing values\n",
        "data2.isnull().sum()"
      ],
      "metadata": {
        "id": "3q5wnI3om9sJ",
        "colab": {
          "base_uri": "https://localhost:8080/"
        },
        "outputId": "d6653ac0-485f-498c-dc4b-e989341b26cc"
      },
      "execution_count": 15,
      "outputs": [
        {
          "output_type": "execute_result",
          "data": {
            "text/plain": [
              "Store            0\n",
              "DayOfWeek        0\n",
              "Date             0\n",
              "Sales            0\n",
              "Customers        0\n",
              "Open             0\n",
              "Promo            0\n",
              "StateHoliday     0\n",
              "SchoolHoliday    0\n",
              "dtype: int64"
            ]
          },
          "metadata": {},
          "execution_count": 15
        }
      ]
    },
    {
      "cell_type": "markdown",
      "source": [
        "### What did you know about your dataset?"
      ],
      "metadata": {
        "id": "H0kj-8xxnORC"
      }
    },
    {
      "cell_type": "markdown",
      "source": [
        "1. Rossmann operates over 3,000 drug stores in 7 European countries. Currently, Rossmann store managers are tasked with predicting their daily sales for up to six weeks in advance. Store sales are influenced by many factors, including promotions, competition, school and state holidays, seasonality, and locality. With thousands of individual managers predicting sales based on their unique circumstances, the accuracy of results can be quite varied. we are provided with historical sales data for 1,115 Rossmann stores. The task is to forecast the \"Sales\" column for the test set.\n",
        "2. data1 contains some null values whereas data2 has no null values\n",
        "3. there are no duplicate values in both dataset"
      ],
      "metadata": {
        "id": "gfoNAAC-nUe_"
      }
    },
    {
      "cell_type": "markdown",
      "source": [
        "## ***2. Understanding Your Variables***"
      ],
      "metadata": {
        "id": "nA9Y7ga8ng1Z"
      }
    },
    {
      "cell_type": "code",
      "source": [
        "# Dataset Columns\n",
        "data1.columns"
      ],
      "metadata": {
        "id": "j7xfkqrt5Ag5",
        "colab": {
          "base_uri": "https://localhost:8080/"
        },
        "outputId": "b5450cfc-6568-49a5-f180-5d4de28792b9"
      },
      "execution_count": 16,
      "outputs": [
        {
          "output_type": "execute_result",
          "data": {
            "text/plain": [
              "Index(['Store', 'StoreType', 'Assortment', 'CompetitionDistance',\n",
              "       'CompetitionOpenSinceMonth', 'CompetitionOpenSinceYear', 'Promo2',\n",
              "       'Promo2SinceWeek', 'Promo2SinceYear', 'PromoInterval'],\n",
              "      dtype='object')"
            ]
          },
          "metadata": {},
          "execution_count": 16
        }
      ]
    },
    {
      "cell_type": "code",
      "source": [
        "data2.columns"
      ],
      "metadata": {
        "id": "DeQGlvu4UOGB",
        "colab": {
          "base_uri": "https://localhost:8080/"
        },
        "outputId": "4f747191-785a-43cb-bb43-63091fe070c5"
      },
      "execution_count": 17,
      "outputs": [
        {
          "output_type": "execute_result",
          "data": {
            "text/plain": [
              "Index(['Store', 'DayOfWeek', 'Date', 'Sales', 'Customers', 'Open', 'Promo',\n",
              "       'StateHoliday', 'SchoolHoliday'],\n",
              "      dtype='object')"
            ]
          },
          "metadata": {},
          "execution_count": 17
        }
      ]
    },
    {
      "cell_type": "code",
      "source": [
        "# Dataset Describe\n",
        "data1.describe()"
      ],
      "metadata": {
        "id": "DnOaZdaE5Q5t",
        "colab": {
          "base_uri": "https://localhost:8080/",
          "height": 300
        },
        "outputId": "b89486fb-3f45-412b-f7a9-47f4d646c633"
      },
      "execution_count": 18,
      "outputs": [
        {
          "output_type": "execute_result",
          "data": {
            "text/plain": [
              "            Store  CompetitionDistance  CompetitionOpenSinceMonth  \\\n",
              "count  1115.00000          1112.000000                 761.000000   \n",
              "mean    558.00000          5404.901079                   7.224704   \n",
              "std     322.01708          7663.174720                   3.212348   \n",
              "min       1.00000            20.000000                   1.000000   \n",
              "25%     279.50000           717.500000                   4.000000   \n",
              "50%     558.00000          2325.000000                   8.000000   \n",
              "75%     836.50000          6882.500000                  10.000000   \n",
              "max    1115.00000         75860.000000                  12.000000   \n",
              "\n",
              "       CompetitionOpenSinceYear       Promo2  Promo2SinceWeek  Promo2SinceYear  \n",
              "count                761.000000  1115.000000       571.000000       571.000000  \n",
              "mean                2008.668857     0.512108        23.595447      2011.763573  \n",
              "std                    6.195983     0.500078        14.141984         1.674935  \n",
              "min                 1900.000000     0.000000         1.000000      2009.000000  \n",
              "25%                 2006.000000     0.000000        13.000000      2011.000000  \n",
              "50%                 2010.000000     1.000000        22.000000      2012.000000  \n",
              "75%                 2013.000000     1.000000        37.000000      2013.000000  \n",
              "max                 2015.000000     1.000000        50.000000      2015.000000  "
            ],
            "text/html": [
              "\n",
              "  <div id=\"df-f25601fc-ca41-408f-8ed0-4ac45f659d8c\" class=\"colab-df-container\">\n",
              "    <div>\n",
              "<style scoped>\n",
              "    .dataframe tbody tr th:only-of-type {\n",
              "        vertical-align: middle;\n",
              "    }\n",
              "\n",
              "    .dataframe tbody tr th {\n",
              "        vertical-align: top;\n",
              "    }\n",
              "\n",
              "    .dataframe thead th {\n",
              "        text-align: right;\n",
              "    }\n",
              "</style>\n",
              "<table border=\"1\" class=\"dataframe\">\n",
              "  <thead>\n",
              "    <tr style=\"text-align: right;\">\n",
              "      <th></th>\n",
              "      <th>Store</th>\n",
              "      <th>CompetitionDistance</th>\n",
              "      <th>CompetitionOpenSinceMonth</th>\n",
              "      <th>CompetitionOpenSinceYear</th>\n",
              "      <th>Promo2</th>\n",
              "      <th>Promo2SinceWeek</th>\n",
              "      <th>Promo2SinceYear</th>\n",
              "    </tr>\n",
              "  </thead>\n",
              "  <tbody>\n",
              "    <tr>\n",
              "      <th>count</th>\n",
              "      <td>1115.00000</td>\n",
              "      <td>1112.000000</td>\n",
              "      <td>761.000000</td>\n",
              "      <td>761.000000</td>\n",
              "      <td>1115.000000</td>\n",
              "      <td>571.000000</td>\n",
              "      <td>571.000000</td>\n",
              "    </tr>\n",
              "    <tr>\n",
              "      <th>mean</th>\n",
              "      <td>558.00000</td>\n",
              "      <td>5404.901079</td>\n",
              "      <td>7.224704</td>\n",
              "      <td>2008.668857</td>\n",
              "      <td>0.512108</td>\n",
              "      <td>23.595447</td>\n",
              "      <td>2011.763573</td>\n",
              "    </tr>\n",
              "    <tr>\n",
              "      <th>std</th>\n",
              "      <td>322.01708</td>\n",
              "      <td>7663.174720</td>\n",
              "      <td>3.212348</td>\n",
              "      <td>6.195983</td>\n",
              "      <td>0.500078</td>\n",
              "      <td>14.141984</td>\n",
              "      <td>1.674935</td>\n",
              "    </tr>\n",
              "    <tr>\n",
              "      <th>min</th>\n",
              "      <td>1.00000</td>\n",
              "      <td>20.000000</td>\n",
              "      <td>1.000000</td>\n",
              "      <td>1900.000000</td>\n",
              "      <td>0.000000</td>\n",
              "      <td>1.000000</td>\n",
              "      <td>2009.000000</td>\n",
              "    </tr>\n",
              "    <tr>\n",
              "      <th>25%</th>\n",
              "      <td>279.50000</td>\n",
              "      <td>717.500000</td>\n",
              "      <td>4.000000</td>\n",
              "      <td>2006.000000</td>\n",
              "      <td>0.000000</td>\n",
              "      <td>13.000000</td>\n",
              "      <td>2011.000000</td>\n",
              "    </tr>\n",
              "    <tr>\n",
              "      <th>50%</th>\n",
              "      <td>558.00000</td>\n",
              "      <td>2325.000000</td>\n",
              "      <td>8.000000</td>\n",
              "      <td>2010.000000</td>\n",
              "      <td>1.000000</td>\n",
              "      <td>22.000000</td>\n",
              "      <td>2012.000000</td>\n",
              "    </tr>\n",
              "    <tr>\n",
              "      <th>75%</th>\n",
              "      <td>836.50000</td>\n",
              "      <td>6882.500000</td>\n",
              "      <td>10.000000</td>\n",
              "      <td>2013.000000</td>\n",
              "      <td>1.000000</td>\n",
              "      <td>37.000000</td>\n",
              "      <td>2013.000000</td>\n",
              "    </tr>\n",
              "    <tr>\n",
              "      <th>max</th>\n",
              "      <td>1115.00000</td>\n",
              "      <td>75860.000000</td>\n",
              "      <td>12.000000</td>\n",
              "      <td>2015.000000</td>\n",
              "      <td>1.000000</td>\n",
              "      <td>50.000000</td>\n",
              "      <td>2015.000000</td>\n",
              "    </tr>\n",
              "  </tbody>\n",
              "</table>\n",
              "</div>\n",
              "    <div class=\"colab-df-buttons\">\n",
              "\n",
              "  <div class=\"colab-df-container\">\n",
              "    <button class=\"colab-df-convert\" onclick=\"convertToInteractive('df-f25601fc-ca41-408f-8ed0-4ac45f659d8c')\"\n",
              "            title=\"Convert this dataframe to an interactive table.\"\n",
              "            style=\"display:none;\">\n",
              "\n",
              "  <svg xmlns=\"http://www.w3.org/2000/svg\" height=\"24px\" viewBox=\"0 -960 960 960\">\n",
              "    <path d=\"M120-120v-720h720v720H120Zm60-500h600v-160H180v160Zm220 220h160v-160H400v160Zm0 220h160v-160H400v160ZM180-400h160v-160H180v160Zm440 0h160v-160H620v160ZM180-180h160v-160H180v160Zm440 0h160v-160H620v160Z\"/>\n",
              "  </svg>\n",
              "    </button>\n",
              "\n",
              "  <style>\n",
              "    .colab-df-container {\n",
              "      display:flex;\n",
              "      gap: 12px;\n",
              "    }\n",
              "\n",
              "    .colab-df-convert {\n",
              "      background-color: #E8F0FE;\n",
              "      border: none;\n",
              "      border-radius: 50%;\n",
              "      cursor: pointer;\n",
              "      display: none;\n",
              "      fill: #1967D2;\n",
              "      height: 32px;\n",
              "      padding: 0 0 0 0;\n",
              "      width: 32px;\n",
              "    }\n",
              "\n",
              "    .colab-df-convert:hover {\n",
              "      background-color: #E2EBFA;\n",
              "      box-shadow: 0px 1px 2px rgba(60, 64, 67, 0.3), 0px 1px 3px 1px rgba(60, 64, 67, 0.15);\n",
              "      fill: #174EA6;\n",
              "    }\n",
              "\n",
              "    .colab-df-buttons div {\n",
              "      margin-bottom: 4px;\n",
              "    }\n",
              "\n",
              "    [theme=dark] .colab-df-convert {\n",
              "      background-color: #3B4455;\n",
              "      fill: #D2E3FC;\n",
              "    }\n",
              "\n",
              "    [theme=dark] .colab-df-convert:hover {\n",
              "      background-color: #434B5C;\n",
              "      box-shadow: 0px 1px 3px 1px rgba(0, 0, 0, 0.15);\n",
              "      filter: drop-shadow(0px 1px 2px rgba(0, 0, 0, 0.3));\n",
              "      fill: #FFFFFF;\n",
              "    }\n",
              "  </style>\n",
              "\n",
              "    <script>\n",
              "      const buttonEl =\n",
              "        document.querySelector('#df-f25601fc-ca41-408f-8ed0-4ac45f659d8c button.colab-df-convert');\n",
              "      buttonEl.style.display =\n",
              "        google.colab.kernel.accessAllowed ? 'block' : 'none';\n",
              "\n",
              "      async function convertToInteractive(key) {\n",
              "        const element = document.querySelector('#df-f25601fc-ca41-408f-8ed0-4ac45f659d8c');\n",
              "        const dataTable =\n",
              "          await google.colab.kernel.invokeFunction('convertToInteractive',\n",
              "                                                    [key], {});\n",
              "        if (!dataTable) return;\n",
              "\n",
              "        const docLinkHtml = 'Like what you see? Visit the ' +\n",
              "          '<a target=\"_blank\" href=https://colab.research.google.com/notebooks/data_table.ipynb>data table notebook</a>'\n",
              "          + ' to learn more about interactive tables.';\n",
              "        element.innerHTML = '';\n",
              "        dataTable['output_type'] = 'display_data';\n",
              "        await google.colab.output.renderOutput(dataTable, element);\n",
              "        const docLink = document.createElement('div');\n",
              "        docLink.innerHTML = docLinkHtml;\n",
              "        element.appendChild(docLink);\n",
              "      }\n",
              "    </script>\n",
              "  </div>\n",
              "\n",
              "\n",
              "<div id=\"df-4d56ad59-ef9e-40a0-bb30-f804082a275d\">\n",
              "  <button class=\"colab-df-quickchart\" onclick=\"quickchart('df-4d56ad59-ef9e-40a0-bb30-f804082a275d')\"\n",
              "            title=\"Suggest charts\"\n",
              "            style=\"display:none;\">\n",
              "\n",
              "<svg xmlns=\"http://www.w3.org/2000/svg\" height=\"24px\"viewBox=\"0 0 24 24\"\n",
              "     width=\"24px\">\n",
              "    <g>\n",
              "        <path d=\"M19 3H5c-1.1 0-2 .9-2 2v14c0 1.1.9 2 2 2h14c1.1 0 2-.9 2-2V5c0-1.1-.9-2-2-2zM9 17H7v-7h2v7zm4 0h-2V7h2v10zm4 0h-2v-4h2v4z\"/>\n",
              "    </g>\n",
              "</svg>\n",
              "  </button>\n",
              "\n",
              "<style>\n",
              "  .colab-df-quickchart {\n",
              "      --bg-color: #E8F0FE;\n",
              "      --fill-color: #1967D2;\n",
              "      --hover-bg-color: #E2EBFA;\n",
              "      --hover-fill-color: #174EA6;\n",
              "      --disabled-fill-color: #AAA;\n",
              "      --disabled-bg-color: #DDD;\n",
              "  }\n",
              "\n",
              "  [theme=dark] .colab-df-quickchart {\n",
              "      --bg-color: #3B4455;\n",
              "      --fill-color: #D2E3FC;\n",
              "      --hover-bg-color: #434B5C;\n",
              "      --hover-fill-color: #FFFFFF;\n",
              "      --disabled-bg-color: #3B4455;\n",
              "      --disabled-fill-color: #666;\n",
              "  }\n",
              "\n",
              "  .colab-df-quickchart {\n",
              "    background-color: var(--bg-color);\n",
              "    border: none;\n",
              "    border-radius: 50%;\n",
              "    cursor: pointer;\n",
              "    display: none;\n",
              "    fill: var(--fill-color);\n",
              "    height: 32px;\n",
              "    padding: 0;\n",
              "    width: 32px;\n",
              "  }\n",
              "\n",
              "  .colab-df-quickchart:hover {\n",
              "    background-color: var(--hover-bg-color);\n",
              "    box-shadow: 0 1px 2px rgba(60, 64, 67, 0.3), 0 1px 3px 1px rgba(60, 64, 67, 0.15);\n",
              "    fill: var(--button-hover-fill-color);\n",
              "  }\n",
              "\n",
              "  .colab-df-quickchart-complete:disabled,\n",
              "  .colab-df-quickchart-complete:disabled:hover {\n",
              "    background-color: var(--disabled-bg-color);\n",
              "    fill: var(--disabled-fill-color);\n",
              "    box-shadow: none;\n",
              "  }\n",
              "\n",
              "  .colab-df-spinner {\n",
              "    border: 2px solid var(--fill-color);\n",
              "    border-color: transparent;\n",
              "    border-bottom-color: var(--fill-color);\n",
              "    animation:\n",
              "      spin 1s steps(1) infinite;\n",
              "  }\n",
              "\n",
              "  @keyframes spin {\n",
              "    0% {\n",
              "      border-color: transparent;\n",
              "      border-bottom-color: var(--fill-color);\n",
              "      border-left-color: var(--fill-color);\n",
              "    }\n",
              "    20% {\n",
              "      border-color: transparent;\n",
              "      border-left-color: var(--fill-color);\n",
              "      border-top-color: var(--fill-color);\n",
              "    }\n",
              "    30% {\n",
              "      border-color: transparent;\n",
              "      border-left-color: var(--fill-color);\n",
              "      border-top-color: var(--fill-color);\n",
              "      border-right-color: var(--fill-color);\n",
              "    }\n",
              "    40% {\n",
              "      border-color: transparent;\n",
              "      border-right-color: var(--fill-color);\n",
              "      border-top-color: var(--fill-color);\n",
              "    }\n",
              "    60% {\n",
              "      border-color: transparent;\n",
              "      border-right-color: var(--fill-color);\n",
              "    }\n",
              "    80% {\n",
              "      border-color: transparent;\n",
              "      border-right-color: var(--fill-color);\n",
              "      border-bottom-color: var(--fill-color);\n",
              "    }\n",
              "    90% {\n",
              "      border-color: transparent;\n",
              "      border-bottom-color: var(--fill-color);\n",
              "    }\n",
              "  }\n",
              "</style>\n",
              "\n",
              "  <script>\n",
              "    async function quickchart(key) {\n",
              "      const quickchartButtonEl =\n",
              "        document.querySelector('#' + key + ' button');\n",
              "      quickchartButtonEl.disabled = true;  // To prevent multiple clicks.\n",
              "      quickchartButtonEl.classList.add('colab-df-spinner');\n",
              "      try {\n",
              "        const charts = await google.colab.kernel.invokeFunction(\n",
              "            'suggestCharts', [key], {});\n",
              "      } catch (error) {\n",
              "        console.error('Error during call to suggestCharts:', error);\n",
              "      }\n",
              "      quickchartButtonEl.classList.remove('colab-df-spinner');\n",
              "      quickchartButtonEl.classList.add('colab-df-quickchart-complete');\n",
              "    }\n",
              "    (() => {\n",
              "      let quickchartButtonEl =\n",
              "        document.querySelector('#df-4d56ad59-ef9e-40a0-bb30-f804082a275d button');\n",
              "      quickchartButtonEl.style.display =\n",
              "        google.colab.kernel.accessAllowed ? 'block' : 'none';\n",
              "    })();\n",
              "  </script>\n",
              "</div>\n",
              "    </div>\n",
              "  </div>\n"
            ]
          },
          "metadata": {},
          "execution_count": 18
        }
      ]
    },
    {
      "cell_type": "code",
      "source": [
        "data2.describe()"
      ],
      "metadata": {
        "id": "a4Bgy_KvUa16",
        "colab": {
          "base_uri": "https://localhost:8080/",
          "height": 300
        },
        "outputId": "d145aa17-9df6-44d5-fa0b-eb71e396a971"
      },
      "execution_count": 19,
      "outputs": [
        {
          "output_type": "execute_result",
          "data": {
            "text/plain": [
              "              Store     DayOfWeek         Sales     Customers          Open  \\\n",
              "count  1.017209e+06  1.017209e+06  1.017209e+06  1.017209e+06  1.017209e+06   \n",
              "mean   5.584297e+02  3.998341e+00  5.773819e+03  6.331459e+02  8.301067e-01   \n",
              "std    3.219087e+02  1.997391e+00  3.849926e+03  4.644117e+02  3.755392e-01   \n",
              "min    1.000000e+00  1.000000e+00  0.000000e+00  0.000000e+00  0.000000e+00   \n",
              "25%    2.800000e+02  2.000000e+00  3.727000e+03  4.050000e+02  1.000000e+00   \n",
              "50%    5.580000e+02  4.000000e+00  5.744000e+03  6.090000e+02  1.000000e+00   \n",
              "75%    8.380000e+02  6.000000e+00  7.856000e+03  8.370000e+02  1.000000e+00   \n",
              "max    1.115000e+03  7.000000e+00  4.155100e+04  7.388000e+03  1.000000e+00   \n",
              "\n",
              "              Promo  SchoolHoliday  \n",
              "count  1.017209e+06   1.017209e+06  \n",
              "mean   3.815145e-01   1.786467e-01  \n",
              "std    4.857586e-01   3.830564e-01  \n",
              "min    0.000000e+00   0.000000e+00  \n",
              "25%    0.000000e+00   0.000000e+00  \n",
              "50%    0.000000e+00   0.000000e+00  \n",
              "75%    1.000000e+00   0.000000e+00  \n",
              "max    1.000000e+00   1.000000e+00  "
            ],
            "text/html": [
              "\n",
              "  <div id=\"df-18da13f3-7ace-42e5-8c26-29bbb3814c76\" class=\"colab-df-container\">\n",
              "    <div>\n",
              "<style scoped>\n",
              "    .dataframe tbody tr th:only-of-type {\n",
              "        vertical-align: middle;\n",
              "    }\n",
              "\n",
              "    .dataframe tbody tr th {\n",
              "        vertical-align: top;\n",
              "    }\n",
              "\n",
              "    .dataframe thead th {\n",
              "        text-align: right;\n",
              "    }\n",
              "</style>\n",
              "<table border=\"1\" class=\"dataframe\">\n",
              "  <thead>\n",
              "    <tr style=\"text-align: right;\">\n",
              "      <th></th>\n",
              "      <th>Store</th>\n",
              "      <th>DayOfWeek</th>\n",
              "      <th>Sales</th>\n",
              "      <th>Customers</th>\n",
              "      <th>Open</th>\n",
              "      <th>Promo</th>\n",
              "      <th>SchoolHoliday</th>\n",
              "    </tr>\n",
              "  </thead>\n",
              "  <tbody>\n",
              "    <tr>\n",
              "      <th>count</th>\n",
              "      <td>1.017209e+06</td>\n",
              "      <td>1.017209e+06</td>\n",
              "      <td>1.017209e+06</td>\n",
              "      <td>1.017209e+06</td>\n",
              "      <td>1.017209e+06</td>\n",
              "      <td>1.017209e+06</td>\n",
              "      <td>1.017209e+06</td>\n",
              "    </tr>\n",
              "    <tr>\n",
              "      <th>mean</th>\n",
              "      <td>5.584297e+02</td>\n",
              "      <td>3.998341e+00</td>\n",
              "      <td>5.773819e+03</td>\n",
              "      <td>6.331459e+02</td>\n",
              "      <td>8.301067e-01</td>\n",
              "      <td>3.815145e-01</td>\n",
              "      <td>1.786467e-01</td>\n",
              "    </tr>\n",
              "    <tr>\n",
              "      <th>std</th>\n",
              "      <td>3.219087e+02</td>\n",
              "      <td>1.997391e+00</td>\n",
              "      <td>3.849926e+03</td>\n",
              "      <td>4.644117e+02</td>\n",
              "      <td>3.755392e-01</td>\n",
              "      <td>4.857586e-01</td>\n",
              "      <td>3.830564e-01</td>\n",
              "    </tr>\n",
              "    <tr>\n",
              "      <th>min</th>\n",
              "      <td>1.000000e+00</td>\n",
              "      <td>1.000000e+00</td>\n",
              "      <td>0.000000e+00</td>\n",
              "      <td>0.000000e+00</td>\n",
              "      <td>0.000000e+00</td>\n",
              "      <td>0.000000e+00</td>\n",
              "      <td>0.000000e+00</td>\n",
              "    </tr>\n",
              "    <tr>\n",
              "      <th>25%</th>\n",
              "      <td>2.800000e+02</td>\n",
              "      <td>2.000000e+00</td>\n",
              "      <td>3.727000e+03</td>\n",
              "      <td>4.050000e+02</td>\n",
              "      <td>1.000000e+00</td>\n",
              "      <td>0.000000e+00</td>\n",
              "      <td>0.000000e+00</td>\n",
              "    </tr>\n",
              "    <tr>\n",
              "      <th>50%</th>\n",
              "      <td>5.580000e+02</td>\n",
              "      <td>4.000000e+00</td>\n",
              "      <td>5.744000e+03</td>\n",
              "      <td>6.090000e+02</td>\n",
              "      <td>1.000000e+00</td>\n",
              "      <td>0.000000e+00</td>\n",
              "      <td>0.000000e+00</td>\n",
              "    </tr>\n",
              "    <tr>\n",
              "      <th>75%</th>\n",
              "      <td>8.380000e+02</td>\n",
              "      <td>6.000000e+00</td>\n",
              "      <td>7.856000e+03</td>\n",
              "      <td>8.370000e+02</td>\n",
              "      <td>1.000000e+00</td>\n",
              "      <td>1.000000e+00</td>\n",
              "      <td>0.000000e+00</td>\n",
              "    </tr>\n",
              "    <tr>\n",
              "      <th>max</th>\n",
              "      <td>1.115000e+03</td>\n",
              "      <td>7.000000e+00</td>\n",
              "      <td>4.155100e+04</td>\n",
              "      <td>7.388000e+03</td>\n",
              "      <td>1.000000e+00</td>\n",
              "      <td>1.000000e+00</td>\n",
              "      <td>1.000000e+00</td>\n",
              "    </tr>\n",
              "  </tbody>\n",
              "</table>\n",
              "</div>\n",
              "    <div class=\"colab-df-buttons\">\n",
              "\n",
              "  <div class=\"colab-df-container\">\n",
              "    <button class=\"colab-df-convert\" onclick=\"convertToInteractive('df-18da13f3-7ace-42e5-8c26-29bbb3814c76')\"\n",
              "            title=\"Convert this dataframe to an interactive table.\"\n",
              "            style=\"display:none;\">\n",
              "\n",
              "  <svg xmlns=\"http://www.w3.org/2000/svg\" height=\"24px\" viewBox=\"0 -960 960 960\">\n",
              "    <path d=\"M120-120v-720h720v720H120Zm60-500h600v-160H180v160Zm220 220h160v-160H400v160Zm0 220h160v-160H400v160ZM180-400h160v-160H180v160Zm440 0h160v-160H620v160ZM180-180h160v-160H180v160Zm440 0h160v-160H620v160Z\"/>\n",
              "  </svg>\n",
              "    </button>\n",
              "\n",
              "  <style>\n",
              "    .colab-df-container {\n",
              "      display:flex;\n",
              "      gap: 12px;\n",
              "    }\n",
              "\n",
              "    .colab-df-convert {\n",
              "      background-color: #E8F0FE;\n",
              "      border: none;\n",
              "      border-radius: 50%;\n",
              "      cursor: pointer;\n",
              "      display: none;\n",
              "      fill: #1967D2;\n",
              "      height: 32px;\n",
              "      padding: 0 0 0 0;\n",
              "      width: 32px;\n",
              "    }\n",
              "\n",
              "    .colab-df-convert:hover {\n",
              "      background-color: #E2EBFA;\n",
              "      box-shadow: 0px 1px 2px rgba(60, 64, 67, 0.3), 0px 1px 3px 1px rgba(60, 64, 67, 0.15);\n",
              "      fill: #174EA6;\n",
              "    }\n",
              "\n",
              "    .colab-df-buttons div {\n",
              "      margin-bottom: 4px;\n",
              "    }\n",
              "\n",
              "    [theme=dark] .colab-df-convert {\n",
              "      background-color: #3B4455;\n",
              "      fill: #D2E3FC;\n",
              "    }\n",
              "\n",
              "    [theme=dark] .colab-df-convert:hover {\n",
              "      background-color: #434B5C;\n",
              "      box-shadow: 0px 1px 3px 1px rgba(0, 0, 0, 0.15);\n",
              "      filter: drop-shadow(0px 1px 2px rgba(0, 0, 0, 0.3));\n",
              "      fill: #FFFFFF;\n",
              "    }\n",
              "  </style>\n",
              "\n",
              "    <script>\n",
              "      const buttonEl =\n",
              "        document.querySelector('#df-18da13f3-7ace-42e5-8c26-29bbb3814c76 button.colab-df-convert');\n",
              "      buttonEl.style.display =\n",
              "        google.colab.kernel.accessAllowed ? 'block' : 'none';\n",
              "\n",
              "      async function convertToInteractive(key) {\n",
              "        const element = document.querySelector('#df-18da13f3-7ace-42e5-8c26-29bbb3814c76');\n",
              "        const dataTable =\n",
              "          await google.colab.kernel.invokeFunction('convertToInteractive',\n",
              "                                                    [key], {});\n",
              "        if (!dataTable) return;\n",
              "\n",
              "        const docLinkHtml = 'Like what you see? Visit the ' +\n",
              "          '<a target=\"_blank\" href=https://colab.research.google.com/notebooks/data_table.ipynb>data table notebook</a>'\n",
              "          + ' to learn more about interactive tables.';\n",
              "        element.innerHTML = '';\n",
              "        dataTable['output_type'] = 'display_data';\n",
              "        await google.colab.output.renderOutput(dataTable, element);\n",
              "        const docLink = document.createElement('div');\n",
              "        docLink.innerHTML = docLinkHtml;\n",
              "        element.appendChild(docLink);\n",
              "      }\n",
              "    </script>\n",
              "  </div>\n",
              "\n",
              "\n",
              "<div id=\"df-69174259-17eb-4c32-85f9-ec7b0fefb8ef\">\n",
              "  <button class=\"colab-df-quickchart\" onclick=\"quickchart('df-69174259-17eb-4c32-85f9-ec7b0fefb8ef')\"\n",
              "            title=\"Suggest charts\"\n",
              "            style=\"display:none;\">\n",
              "\n",
              "<svg xmlns=\"http://www.w3.org/2000/svg\" height=\"24px\"viewBox=\"0 0 24 24\"\n",
              "     width=\"24px\">\n",
              "    <g>\n",
              "        <path d=\"M19 3H5c-1.1 0-2 .9-2 2v14c0 1.1.9 2 2 2h14c1.1 0 2-.9 2-2V5c0-1.1-.9-2-2-2zM9 17H7v-7h2v7zm4 0h-2V7h2v10zm4 0h-2v-4h2v4z\"/>\n",
              "    </g>\n",
              "</svg>\n",
              "  </button>\n",
              "\n",
              "<style>\n",
              "  .colab-df-quickchart {\n",
              "      --bg-color: #E8F0FE;\n",
              "      --fill-color: #1967D2;\n",
              "      --hover-bg-color: #E2EBFA;\n",
              "      --hover-fill-color: #174EA6;\n",
              "      --disabled-fill-color: #AAA;\n",
              "      --disabled-bg-color: #DDD;\n",
              "  }\n",
              "\n",
              "  [theme=dark] .colab-df-quickchart {\n",
              "      --bg-color: #3B4455;\n",
              "      --fill-color: #D2E3FC;\n",
              "      --hover-bg-color: #434B5C;\n",
              "      --hover-fill-color: #FFFFFF;\n",
              "      --disabled-bg-color: #3B4455;\n",
              "      --disabled-fill-color: #666;\n",
              "  }\n",
              "\n",
              "  .colab-df-quickchart {\n",
              "    background-color: var(--bg-color);\n",
              "    border: none;\n",
              "    border-radius: 50%;\n",
              "    cursor: pointer;\n",
              "    display: none;\n",
              "    fill: var(--fill-color);\n",
              "    height: 32px;\n",
              "    padding: 0;\n",
              "    width: 32px;\n",
              "  }\n",
              "\n",
              "  .colab-df-quickchart:hover {\n",
              "    background-color: var(--hover-bg-color);\n",
              "    box-shadow: 0 1px 2px rgba(60, 64, 67, 0.3), 0 1px 3px 1px rgba(60, 64, 67, 0.15);\n",
              "    fill: var(--button-hover-fill-color);\n",
              "  }\n",
              "\n",
              "  .colab-df-quickchart-complete:disabled,\n",
              "  .colab-df-quickchart-complete:disabled:hover {\n",
              "    background-color: var(--disabled-bg-color);\n",
              "    fill: var(--disabled-fill-color);\n",
              "    box-shadow: none;\n",
              "  }\n",
              "\n",
              "  .colab-df-spinner {\n",
              "    border: 2px solid var(--fill-color);\n",
              "    border-color: transparent;\n",
              "    border-bottom-color: var(--fill-color);\n",
              "    animation:\n",
              "      spin 1s steps(1) infinite;\n",
              "  }\n",
              "\n",
              "  @keyframes spin {\n",
              "    0% {\n",
              "      border-color: transparent;\n",
              "      border-bottom-color: var(--fill-color);\n",
              "      border-left-color: var(--fill-color);\n",
              "    }\n",
              "    20% {\n",
              "      border-color: transparent;\n",
              "      border-left-color: var(--fill-color);\n",
              "      border-top-color: var(--fill-color);\n",
              "    }\n",
              "    30% {\n",
              "      border-color: transparent;\n",
              "      border-left-color: var(--fill-color);\n",
              "      border-top-color: var(--fill-color);\n",
              "      border-right-color: var(--fill-color);\n",
              "    }\n",
              "    40% {\n",
              "      border-color: transparent;\n",
              "      border-right-color: var(--fill-color);\n",
              "      border-top-color: var(--fill-color);\n",
              "    }\n",
              "    60% {\n",
              "      border-color: transparent;\n",
              "      border-right-color: var(--fill-color);\n",
              "    }\n",
              "    80% {\n",
              "      border-color: transparent;\n",
              "      border-right-color: var(--fill-color);\n",
              "      border-bottom-color: var(--fill-color);\n",
              "    }\n",
              "    90% {\n",
              "      border-color: transparent;\n",
              "      border-bottom-color: var(--fill-color);\n",
              "    }\n",
              "  }\n",
              "</style>\n",
              "\n",
              "  <script>\n",
              "    async function quickchart(key) {\n",
              "      const quickchartButtonEl =\n",
              "        document.querySelector('#' + key + ' button');\n",
              "      quickchartButtonEl.disabled = true;  // To prevent multiple clicks.\n",
              "      quickchartButtonEl.classList.add('colab-df-spinner');\n",
              "      try {\n",
              "        const charts = await google.colab.kernel.invokeFunction(\n",
              "            'suggestCharts', [key], {});\n",
              "      } catch (error) {\n",
              "        console.error('Error during call to suggestCharts:', error);\n",
              "      }\n",
              "      quickchartButtonEl.classList.remove('colab-df-spinner');\n",
              "      quickchartButtonEl.classList.add('colab-df-quickchart-complete');\n",
              "    }\n",
              "    (() => {\n",
              "      let quickchartButtonEl =\n",
              "        document.querySelector('#df-69174259-17eb-4c32-85f9-ec7b0fefb8ef button');\n",
              "      quickchartButtonEl.style.display =\n",
              "        google.colab.kernel.accessAllowed ? 'block' : 'none';\n",
              "    })();\n",
              "  </script>\n",
              "</div>\n",
              "    </div>\n",
              "  </div>\n"
            ]
          },
          "metadata": {},
          "execution_count": 19
        }
      ]
    },
    {
      "cell_type": "markdown",
      "source": [
        "### Variables Description"
      ],
      "metadata": {
        "id": "PBTbrJXOngz2"
      }
    },
    {
      "cell_type": "markdown",
      "source": [
        "**DATA1**\n",
        "  1. **Store:** unique identifier for each Rossmann store.\n",
        "\n",
        "  2. **StoreType:** category of the store (e.g., A, B, C, or D).\n",
        "\n",
        "  3. **Assortment:** describe the level of products available in the store.\n",
        "\n",
        "  4. **CompetitionDistance:** distance to the nearest competitor store.\n",
        "\n",
        "  5. **CompetitionOpenSinceMonth**: specify the month when the nearest competitor store opened.\n",
        "\n",
        "  6. **CompetitionOpenSinceYear:** year when the nearest competitor store opened.\n",
        "\n",
        "  7. **Promo2:** This binary column (0 OR 1) indicate whether promo2 is active for store\n",
        "\n",
        "  8. **Promo2SinceWeek:** calendar week when promo2 started for the store.\n",
        "\n",
        "  9. **Promo2SinceYear:** year when promo2 started.\n",
        "\n",
        "  10. **PromoInterval:** describe the intervals during which promo2 runs.\n",
        "\n",
        "**DATA2**\n",
        "  1. **Store:** unique identifier for each Rossmann store.\n",
        "\n",
        "  2. **DayOfWeek:** indicates the day of the week for each data point ranging from 1 (Monday) to 7 (Sunday). It helps capture sales.\n",
        "\n",
        "  3. **Date:** This column contains the date of the sales data point, providing a time reference for each observation. It is crucial for analyzing time series data and seasonality.\n",
        "\n",
        "  4.**Sales:** represents the daily sales of store on a particular date.\n",
        "\n",
        "  5.**Customers:** number of customers who visited the store.\n",
        "\n",
        "  6. **Open:** This binary column indicates whether the store was open (1) or closed (0) on the respective date.\n",
        "\n",
        "  7. **Promo:** This binary column (0 or 1) may represent whether there was a promotion on the given date.\n",
        "\n",
        "  8. **StateHoliday:** indicate whether the date corresponds to a state holiday.\n",
        "\n",
        "  9. **SchoolHoliday:** This binary column (0 or 1) indicate whether there was a school holiday on the given date."
      ],
      "metadata": {
        "id": "aJV4KIxSnxay"
      }
    },
    {
      "cell_type": "markdown",
      "source": [
        "### Check Unique Values for each variable."
      ],
      "metadata": {
        "id": "u3PMJOP6ngxN"
      }
    },
    {
      "cell_type": "code",
      "source": [
        "# Check Unique Values for each variable.\n",
        "unique_value_d1 = {col: data1[col].unique() for col in data1.columns}\n",
        "unique_value_d1\n",
        "\n"
      ],
      "metadata": {
        "id": "zms12Yq5n-jE",
        "colab": {
          "base_uri": "https://localhost:8080/"
        },
        "outputId": "96574f46-bccd-42ee-b011-661d0d658949"
      },
      "execution_count": 20,
      "outputs": [
        {
          "output_type": "execute_result",
          "data": {
            "text/plain": [
              "{'Store': array([   1,    2,    3, ..., 1113, 1114, 1115]),\n",
              " 'StoreType': array(['c', 'a', 'd', 'b'], dtype=object),\n",
              " 'Assortment': array(['a', 'c', 'b'], dtype=object),\n",
              " 'CompetitionDistance': array([1.270e+03, 5.700e+02, 1.413e+04, 6.200e+02, 2.991e+04, 3.100e+02,\n",
              "        2.400e+04, 7.520e+03, 2.030e+03, 3.160e+03, 9.600e+02, 1.070e+03,\n",
              "        1.300e+03, 4.110e+03, 3.270e+03, 5.000e+01, 1.384e+04, 3.240e+03,\n",
              "        2.340e+03, 5.500e+02, 1.040e+03, 4.060e+03, 4.590e+03, 4.300e+02,\n",
              "        2.300e+03, 6.000e+01, 1.200e+03, 2.170e+03, 4.000e+01, 9.800e+03,\n",
              "        2.910e+03, 1.320e+03, 2.240e+03, 7.660e+03, 5.400e+02, 4.230e+03,\n",
              "        1.090e+03, 2.600e+02, 1.800e+02, 1.180e+03, 2.900e+02, 4.880e+03,\n",
              "        9.710e+03, 2.700e+02, 1.060e+03, 1.801e+04, 6.260e+03, 1.057e+04,\n",
              "        4.500e+02, 3.036e+04, 7.170e+03, 7.200e+02, 6.620e+03, 4.200e+02,\n",
              "        7.340e+03, 2.840e+03, 5.540e+03, 3.500e+02, 2.050e+03, 3.700e+03,\n",
              "        2.256e+04, 4.100e+02, 2.500e+02, 1.130e+03, 4.840e+03, 1.750e+04,\n",
              "        2.200e+03, 1.650e+03, 3.300e+02, 2.244e+04, 1.996e+04, 3.510e+03,\n",
              "        3.320e+03, 7.910e+03, 2.370e+03, 2.239e+04, 2.710e+03, 1.181e+04,\n",
              "        1.870e+03, 4.800e+02, 5.600e+02, 1.069e+04, 2.380e+03, 2.410e+03,\n",
              "        2.400e+02, 1.669e+04, 1.462e+04, 1.890e+03, 8.780e+03, 8.980e+03,\n",
              "        1.514e+04, 1.793e+04, 2.440e+03, 1.500e+02, 5.210e+03, 3.900e+02,\n",
              "        6.190e+03, 1.390e+03, 1.930e+03, 2.190e+03, 3.300e+03, 4.659e+04,\n",
              "        7.890e+03, 1.630e+03, 2.093e+04, 4.510e+03, 5.740e+03, 6.800e+02,\n",
              "        3.450e+03, 3.580e+03, 2.100e+03, 2.290e+03, 3.570e+03, 5.826e+04,\n",
              "        1.676e+04, 1.410e+03, 7.600e+02, 3.370e+03, 1.350e+03, 2.000e+03,\n",
              "        2.460e+03, 9.000e+02, 9.200e+02, 5.190e+03, 1.730e+03, 2.536e+04,\n",
              "        1.700e+03, 1.540e+03, 2.930e+03, 1.657e+04, 2.800e+02, 8.050e+03,\n",
              "        8.540e+03, 2.090e+03, 2.610e+03, 3.183e+04, 4.360e+03, 1.780e+03,\n",
              "        1.624e+04, 1.642e+04, 3.050e+03, 2.020e+03, 2.950e+03, 1.184e+04,\n",
              "        8.530e+03, 1.711e+04, 2.970e+03, 5.340e+03, 1.480e+03, 1.160e+03,\n",
              "        3.720e+03, 1.000e+02, 1.400e+02, 1.254e+04, 9.800e+02, 2.640e+03,\n",
              "        1.100e+02, 1.309e+04, 4.130e+03, 3.770e+03, 1.250e+03, 1.710e+03,\n",
              "        5.800e+03, 1.261e+04, 9.670e+03, 3.560e+03, 1.860e+03, 1.936e+04,\n",
              "        8.500e+02, 5.760e+03, 1.470e+03, 1.100e+03, 2.770e+03, 5.200e+02,\n",
              "        1.697e+04, 2.200e+02, 3.850e+03, 4.210e+03, 6.360e+03, 2.026e+04,\n",
              "        5.140e+03, 4.900e+02, 5.630e+03, 3.800e+02, 6.870e+03, 3.000e+02,\n",
              "        1.168e+04, 9.700e+02, 1.505e+04, 4.030e+03, 8.650e+03, 1.900e+02,\n",
              "        3.150e+03, 6.400e+02, 1.640e+03, 1.000e+03, 1.353e+04, 2.920e+03,\n",
              "        7.930e+03, 1.018e+04, 1.080e+04, 1.741e+04, 6.680e+03, 3.840e+03,\n",
              "        1.357e+04, 4.370e+03, 5.710e+03, 1.420e+03, 3.200e+02, 6.100e+02,\n",
              "        1.110e+03, 7.800e+02, 6.880e+03, 7.100e+02, 1.310e+03, 4.660e+03,\n",
              "        7.000e+01, 3.400e+02, 3.520e+03, 2.233e+04, 4.630e+03, 8.000e+01,\n",
              "        2.719e+04, 2.100e+02, 1.534e+04, 1.140e+03, 4.580e+03, 3.600e+02,\n",
              "        4.520e+03, 1.450e+03, 1.618e+04, 8.480e+03, 3.640e+03, 2.960e+03,\n",
              "        7.840e+03, 9.260e+03, 2.320e+03, 1.864e+04, 6.970e+03, 1.220e+03,\n",
              "        2.260e+03, 1.290e+03, 1.460e+03, 2.740e+03, 8.000e+02, 6.540e+03,\n",
              "        4.150e+03,       nan, 9.580e+03, 1.984e+04, 3.863e+04, 1.200e+02,\n",
              "        1.543e+04, 1.950e+03, 2.470e+03, 5.100e+03, 1.866e+04, 8.740e+03,\n",
              "        1.130e+04, 1.416e+04, 3.871e+04, 9.000e+03, 3.140e+03, 3.233e+04,\n",
              "        8.140e+03, 8.400e+03, 1.314e+04, 1.007e+04, 3.130e+03, 3.700e+02,\n",
              "        6.700e+02, 1.840e+03, 4.040e+03, 9.000e+01, 1.060e+04, 1.590e+03,\n",
              "        2.280e+03, 8.080e+03, 1.577e+04, 1.865e+04, 8.090e+03, 9.360e+03,\n",
              "        1.649e+04, 1.490e+03, 8.880e+03, 5.290e+03, 1.500e+03, 9.720e+03,\n",
              "        8.970e+03, 2.060e+03, 2.890e+03, 2.040e+03, 4.490e+03, 1.362e+04,\n",
              "        6.470e+03, 5.870e+03, 8.250e+03, 1.970e+03, 1.112e+04, 1.150e+03,\n",
              "        1.571e+04, 1.600e+02, 2.140e+03, 6.630e+03, 1.800e+03, 2.613e+04,\n",
              "        1.300e+02, 6.690e+03, 1.600e+03, 4.600e+02, 2.120e+03, 4.820e+03,\n",
              "        1.085e+04, 3.620e+03, 2.313e+04, 5.360e+03, 9.200e+03, 5.830e+03,\n",
              "        4.970e+03, 1.080e+03, 8.240e+03, 5.890e+03, 1.560e+03, 8.400e+02,\n",
              "        8.460e+03, 4.460e+03, 6.210e+03, 6.910e+03, 4.650e+03, 1.620e+03,\n",
              "        3.530e+03, 2.880e+03, 1.635e+04, 1.287e+04, 8.100e+02, 3.003e+04,\n",
              "        1.302e+04, 9.100e+02, 3.900e+03, 2.530e+03, 5.000e+02, 1.140e+04,\n",
              "        1.510e+03, 3.970e+03, 5.780e+03, 1.850e+03, 7.586e+04, 2.645e+04,\n",
              "        3.390e+03, 3.405e+04, 1.790e+03, 4.432e+04, 4.160e+03, 1.089e+04,\n",
              "        3.110e+03, 2.039e+04, 5.260e+03, 5.300e+03, 5.030e+03, 1.481e+04,\n",
              "        8.300e+03, 7.700e+02, 1.940e+03, 7.470e+03, 2.550e+03, 2.310e+03,\n",
              "        1.430e+04, 2.180e+03, 1.496e+04, 6.600e+02, 4.680e+03, 1.740e+03,\n",
              "        1.260e+03, 5.470e+03, 2.780e+03, 1.610e+03, 9.900e+02, 1.308e+04,\n",
              "        8.200e+02, 9.070e+03, 1.280e+03, 4.740e+03, 8.260e+03, 5.900e+02,\n",
              "        4.000e+02, 1.126e+04, 2.000e+01, 2.249e+04, 3.330e+03, 2.510e+03,\n",
              "        6.900e+03, 1.861e+04, 7.160e+03, 4.086e+04, 2.062e+04, 1.292e+04,\n",
              "        1.816e+04, 5.950e+03, 4.700e+03, 6.000e+02, 6.500e+02, 7.280e+03,\n",
              "        5.020e+03, 5.800e+02, 8.990e+03, 3.760e+03, 2.330e+03, 4.260e+03,\n",
              "        3.040e+03, 3.000e+03, 3.910e+03, 1.910e+03, 1.210e+03, 7.000e+02,\n",
              "        1.010e+03, 4.270e+03, 1.340e+03, 2.110e+03, 9.230e+03, 1.190e+03,\n",
              "        4.400e+03, 2.270e+03, 1.270e+04, 2.097e+04, 1.700e+02, 7.250e+03,\n",
              "        1.360e+03, 4.400e+02, 1.572e+04, 3.340e+03, 2.540e+03, 3.306e+04,\n",
              "        1.734e+04, 8.220e+03, 1.095e+04, 1.031e+04, 1.837e+04, 2.070e+03,\n",
              "        2.490e+03, 7.300e+02, 8.940e+03, 9.910e+03, 5.440e+03, 3.000e+01,\n",
              "        4.080e+03, 6.920e+03, 1.170e+03, 1.074e+04, 5.100e+02, 1.690e+03,\n",
              "        2.870e+03, 3.350e+03, 1.164e+04, 2.753e+04, 9.790e+03, 1.017e+04,\n",
              "        7.780e+03, 8.040e+03, 5.300e+02, 2.300e+02, 7.420e+03, 2.130e+03,\n",
              "        1.457e+04, 2.000e+02, 6.930e+03, 7.860e+03, 1.680e+03, 2.700e+03,\n",
              "        1.708e+04, 1.517e+04, 3.250e+03, 4.140e+03, 2.850e+03, 2.005e+04,\n",
              "        1.876e+04, 1.504e+04, 3.030e+03, 3.780e+03, 8.300e+02, 8.550e+03,\n",
              "        7.830e+03, 2.900e+03, 1.147e+04, 4.870e+03, 1.207e+04, 3.200e+03,\n",
              "        8.190e+03, 1.532e+04, 3.590e+03, 5.650e+03, 5.900e+03, 1.754e+04,\n",
              "        4.054e+04, 1.399e+04, 1.527e+04, 3.528e+04, 8.600e+02, 1.920e+03,\n",
              "        5.980e+03, 6.400e+03, 1.190e+04, 4.380e+03, 6.710e+03, 1.370e+03,\n",
              "        1.765e+04, 4.330e+03, 4.574e+04, 3.410e+03, 8.670e+03, 1.313e+04,\n",
              "        1.978e+04, 2.390e+03, 3.224e+04, 2.649e+04, 2.543e+04, 9.820e+03,\n",
              "        2.630e+03, 2.064e+04, 1.699e+04, 6.300e+02, 5.390e+03, 1.549e+04,\n",
              "        3.210e+03, 1.530e+03, 9.770e+03, 1.728e+04, 5.090e+03, 7.180e+03,\n",
              "        9.560e+03, 4.833e+04, 1.760e+03, 2.477e+04, 3.870e+03, 1.862e+04,\n",
              "        1.277e+04, 9.640e+03, 2.590e+03, 2.453e+04, 1.621e+04, 1.757e+04,\n",
              "        7.980e+03, 3.290e+03, 6.320e+03, 5.070e+03, 3.470e+03, 2.720e+03,\n",
              "        1.460e+04, 6.890e+03, 2.765e+04, 8.860e+03, 5.000e+03, 1.120e+03,\n",
              "        9.400e+02, 1.404e+04, 4.770e+03, 3.440e+03, 3.020e+03, 6.270e+03,\n",
              "        2.177e+04, 7.400e+02, 2.137e+04, 1.020e+03, 9.680e+03, 2.181e+04,\n",
              "        1.062e+04, 3.860e+03, 2.179e+04, 2.919e+04, 4.570e+03, 7.550e+03,\n",
              "        1.243e+04, 1.970e+04, 4.450e+03, 1.867e+04, 1.937e+04, 1.854e+04,\n",
              "        3.920e+03, 3.170e+03, 7.290e+03, 1.980e+03, 1.248e+04, 3.100e+03,\n",
              "        7.240e+03, 1.871e+04, 2.620e+03, 6.420e+03, 4.700e+02, 5.150e+03,\n",
              "        1.570e+04, 5.460e+03, 2.235e+04, 2.810e+03, 2.820e+03, 6.860e+03,\n",
              "        1.802e+04, 1.670e+03, 2.220e+03, 1.430e+03, 8.700e+02, 6.300e+03,\n",
              "        1.983e+04, 9.430e+03, 2.362e+04, 9.630e+03, 4.180e+03, 3.890e+03,\n",
              "        4.420e+03, 2.193e+04, 2.480e+03, 3.460e+03, 6.560e+03, 5.840e+03,\n",
              "        2.230e+03, 1.964e+04, 6.480e+03, 4.610e+03, 6.330e+03, 1.520e+03,\n",
              "        3.740e+03, 1.990e+03, 3.641e+04, 7.680e+03, 1.375e+04, 2.715e+04,\n",
              "        1.729e+04, 2.699e+04, 2.907e+04, 3.750e+03, 1.317e+04, 5.080e+03,\n",
              "        1.319e+04, 5.350e+03, 3.230e+03, 3.380e+03, 3.430e+03, 8.110e+03,\n",
              "        6.250e+03, 1.202e+04, 5.010e+03, 1.805e+04, 5.380e+03, 1.668e+04,\n",
              "        1.154e+04, 2.210e+03, 4.300e+03, 5.220e+03, 9.990e+03, 1.045e+04,\n",
              "        6.900e+02, 1.830e+03, 5.330e+03, 1.400e+03, 3.490e+03, 1.900e+03,\n",
              "        1.880e+03]),\n",
              " 'CompetitionOpenSinceMonth': array([ 9., 11., 12.,  4., 10.,  8., nan,  3.,  6.,  5.,  1.,  2.,  7.]),\n",
              " 'CompetitionOpenSinceYear': array([2008., 2007., 2006., 2009., 2015., 2013., 2014., 2000., 2011.,\n",
              "          nan, 2010., 2005., 1999., 2003., 2012., 2004., 2002., 1961.,\n",
              "        1995., 2001., 1990., 1994., 1900., 1998.]),\n",
              " 'Promo2': array([0, 1]),\n",
              " 'Promo2SinceWeek': array([nan, 13., 14.,  1., 45., 40., 26., 22.,  5.,  6., 10., 31., 37.,\n",
              "         9., 39., 27., 18., 35., 23., 48., 36., 50., 44., 49., 28.]),\n",
              " 'Promo2SinceYear': array([  nan, 2010., 2011., 2012., 2009., 2014., 2015., 2013.]),\n",
              " 'PromoInterval': array([nan, 'Jan,Apr,Jul,Oct', 'Feb,May,Aug,Nov', 'Mar,Jun,Sept,Dec'],\n",
              "       dtype=object)}"
            ]
          },
          "metadata": {},
          "execution_count": 20
        }
      ]
    },
    {
      "cell_type": "code",
      "source": [
        "unique_count_d1 = {col: len(data1[col].unique()) for col in data1.columns}\n",
        "unique_count_d1"
      ],
      "metadata": {
        "id": "Q8FKhLKMkKQq",
        "colab": {
          "base_uri": "https://localhost:8080/"
        },
        "outputId": "123ecbdf-2a4a-464f-ef15-e9728e7b61a0"
      },
      "execution_count": 21,
      "outputs": [
        {
          "output_type": "execute_result",
          "data": {
            "text/plain": [
              "{'Store': 1115,\n",
              " 'StoreType': 4,\n",
              " 'Assortment': 3,\n",
              " 'CompetitionDistance': 655,\n",
              " 'CompetitionOpenSinceMonth': 13,\n",
              " 'CompetitionOpenSinceYear': 24,\n",
              " 'Promo2': 2,\n",
              " 'Promo2SinceWeek': 25,\n",
              " 'Promo2SinceYear': 8,\n",
              " 'PromoInterval': 4}"
            ]
          },
          "metadata": {},
          "execution_count": 21
        }
      ]
    },
    {
      "cell_type": "code",
      "source": [
        "unique_value_d2 = {col: data2[col].unique() for col in data2.columns}\n",
        "unique_value_d2"
      ],
      "metadata": {
        "id": "gHMuyjmUjvuq",
        "colab": {
          "base_uri": "https://localhost:8080/"
        },
        "outputId": "92d0eacd-9b4c-490d-e955-e8e7e1414de8"
      },
      "execution_count": 22,
      "outputs": [
        {
          "output_type": "execute_result",
          "data": {
            "text/plain": [
              "{'Store': array([   1,    2,    3, ..., 1113, 1114, 1115]),\n",
              " 'DayOfWeek': array([5, 4, 3, 2, 1, 7, 6]),\n",
              " 'Date': array(['2015-07-31', '2015-07-30', '2015-07-29', '2015-07-28',\n",
              "        '2015-07-27', '2015-07-26', '2015-07-25', '2015-07-24',\n",
              "        '2015-07-23', '2015-07-22', '2015-07-21', '2015-07-20',\n",
              "        '2015-07-19', '2015-07-18', '2015-07-17', '2015-07-16',\n",
              "        '2015-07-15', '2015-07-14', '2015-07-13', '2015-07-12',\n",
              "        '2015-07-11', '2015-07-10', '2015-07-09', '2015-07-08',\n",
              "        '2015-07-07', '2015-07-06', '2015-07-05', '2015-07-04',\n",
              "        '2015-07-03', '2015-07-02', '2015-07-01', '2015-06-30',\n",
              "        '2015-06-29', '2015-06-28', '2015-06-27', '2015-06-26',\n",
              "        '2015-06-25', '2015-06-24', '2015-06-23', '2015-06-22',\n",
              "        '2015-06-21', '2015-06-20', '2015-06-19', '2015-06-18',\n",
              "        '2015-06-17', '2015-06-16', '2015-06-15', '2015-06-14',\n",
              "        '2015-06-13', '2015-06-12', '2015-06-11', '2015-06-10',\n",
              "        '2015-06-09', '2015-06-08', '2015-06-07', '2015-06-06',\n",
              "        '2015-06-05', '2015-06-04', '2015-06-03', '2015-06-02',\n",
              "        '2015-06-01', '2015-05-31', '2015-05-30', '2015-05-29',\n",
              "        '2015-05-28', '2015-05-27', '2015-05-26', '2015-05-25',\n",
              "        '2015-05-24', '2015-05-23', '2015-05-22', '2015-05-21',\n",
              "        '2015-05-20', '2015-05-19', '2015-05-18', '2015-05-17',\n",
              "        '2015-05-16', '2015-05-15', '2015-05-14', '2015-05-13',\n",
              "        '2015-05-12', '2015-05-11', '2015-05-10', '2015-05-09',\n",
              "        '2015-05-08', '2015-05-07', '2015-05-06', '2015-05-05',\n",
              "        '2015-05-04', '2015-05-03', '2015-05-02', '2015-05-01',\n",
              "        '2015-04-30', '2015-04-29', '2015-04-28', '2015-04-27',\n",
              "        '2015-04-26', '2015-04-25', '2015-04-24', '2015-04-23',\n",
              "        '2015-04-22', '2015-04-21', '2015-04-20', '2015-04-19',\n",
              "        '2015-04-18', '2015-04-17', '2015-04-16', '2015-04-15',\n",
              "        '2015-04-14', '2015-04-13', '2015-04-12', '2015-04-11',\n",
              "        '2015-04-10', '2015-04-09', '2015-04-08', '2015-04-07',\n",
              "        '2015-04-06', '2015-04-05', '2015-04-04', '2015-04-03',\n",
              "        '2015-04-02', '2015-04-01', '2015-03-31', '2015-03-30',\n",
              "        '2015-03-29', '2015-03-28', '2015-03-27', '2015-03-26',\n",
              "        '2015-03-25', '2015-03-24', '2015-03-23', '2015-03-22',\n",
              "        '2015-03-21', '2015-03-20', '2015-03-19', '2015-03-18',\n",
              "        '2015-03-17', '2015-03-16', '2015-03-15', '2015-03-14',\n",
              "        '2015-03-13', '2015-03-12', '2015-03-11', '2015-03-10',\n",
              "        '2015-03-09', '2015-03-08', '2015-03-07', '2015-03-06',\n",
              "        '2015-03-05', '2015-03-04', '2015-03-03', '2015-03-02',\n",
              "        '2015-03-01', '2015-02-28', '2015-02-27', '2015-02-26',\n",
              "        '2015-02-25', '2015-02-24', '2015-02-23', '2015-02-22',\n",
              "        '2015-02-21', '2015-02-20', '2015-02-19', '2015-02-18',\n",
              "        '2015-02-17', '2015-02-16', '2015-02-15', '2015-02-14',\n",
              "        '2015-02-13', '2015-02-12', '2015-02-11', '2015-02-10',\n",
              "        '2015-02-09', '2015-02-08', '2015-02-07', '2015-02-06',\n",
              "        '2015-02-05', '2015-02-04', '2015-02-03', '2015-02-02',\n",
              "        '2015-02-01', '2015-01-31', '2015-01-30', '2015-01-29',\n",
              "        '2015-01-28', '2015-01-27', '2015-01-26', '2015-01-25',\n",
              "        '2015-01-24', '2015-01-23', '2015-01-22', '2015-01-21',\n",
              "        '2015-01-20', '2015-01-19', '2015-01-18', '2015-01-17',\n",
              "        '2015-01-16', '2015-01-15', '2015-01-14', '2015-01-13',\n",
              "        '2015-01-12', '2015-01-11', '2015-01-10', '2015-01-09',\n",
              "        '2015-01-08', '2015-01-07', '2015-01-06', '2015-01-05',\n",
              "        '2015-01-04', '2015-01-03', '2015-01-02', '2015-01-01',\n",
              "        '2014-12-31', '2014-12-30', '2014-12-29', '2014-12-28',\n",
              "        '2014-12-27', '2014-12-26', '2014-12-25', '2014-12-24',\n",
              "        '2014-12-23', '2014-12-22', '2014-12-21', '2014-12-20',\n",
              "        '2014-12-19', '2014-12-18', '2014-12-17', '2014-12-16',\n",
              "        '2014-12-15', '2014-12-14', '2014-12-13', '2014-12-12',\n",
              "        '2014-12-11', '2014-12-10', '2014-12-09', '2014-12-08',\n",
              "        '2014-12-07', '2014-12-06', '2014-12-05', '2014-12-04',\n",
              "        '2014-12-03', '2014-12-02', '2014-12-01', '2014-11-30',\n",
              "        '2014-11-29', '2014-11-28', '2014-11-27', '2014-11-26',\n",
              "        '2014-11-25', '2014-11-24', '2014-11-23', '2014-11-22',\n",
              "        '2014-11-21', '2014-11-20', '2014-11-19', '2014-11-18',\n",
              "        '2014-11-17', '2014-11-16', '2014-11-15', '2014-11-14',\n",
              "        '2014-11-13', '2014-11-12', '2014-11-11', '2014-11-10',\n",
              "        '2014-11-09', '2014-11-08', '2014-11-07', '2014-11-06',\n",
              "        '2014-11-05', '2014-11-04', '2014-11-03', '2014-11-02',\n",
              "        '2014-11-01', '2014-10-31', '2014-10-30', '2014-10-29',\n",
              "        '2014-10-28', '2014-10-27', '2014-10-26', '2014-10-25',\n",
              "        '2014-10-24', '2014-10-23', '2014-10-22', '2014-10-21',\n",
              "        '2014-10-20', '2014-10-19', '2014-10-18', '2014-10-17',\n",
              "        '2014-10-16', '2014-10-15', '2014-10-14', '2014-10-13',\n",
              "        '2014-10-12', '2014-10-11', '2014-10-10', '2014-10-09',\n",
              "        '2014-10-08', '2014-10-07', '2014-10-06', '2014-10-05',\n",
              "        '2014-10-04', '2014-10-03', '2014-10-02', '2014-10-01',\n",
              "        '2014-09-30', '2014-09-29', '2014-09-28', '2014-09-27',\n",
              "        '2014-09-26', '2014-09-25', '2014-09-24', '2014-09-23',\n",
              "        '2014-09-22', '2014-09-21', '2014-09-20', '2014-09-19',\n",
              "        '2014-09-18', '2014-09-17', '2014-09-16', '2014-09-15',\n",
              "        '2014-09-14', '2014-09-13', '2014-09-12', '2014-09-11',\n",
              "        '2014-09-10', '2014-09-09', '2014-09-08', '2014-09-07',\n",
              "        '2014-09-06', '2014-09-05', '2014-09-04', '2014-09-03',\n",
              "        '2014-09-02', '2014-09-01', '2014-08-31', '2014-08-30',\n",
              "        '2014-08-29', '2014-08-28', '2014-08-27', '2014-08-26',\n",
              "        '2014-08-25', '2014-08-24', '2014-08-23', '2014-08-22',\n",
              "        '2014-08-21', '2014-08-20', '2014-08-19', '2014-08-18',\n",
              "        '2014-08-17', '2014-08-16', '2014-08-15', '2014-08-14',\n",
              "        '2014-08-13', '2014-08-12', '2014-08-11', '2014-08-10',\n",
              "        '2014-08-09', '2014-08-08', '2014-08-07', '2014-08-06',\n",
              "        '2014-08-05', '2014-08-04', '2014-08-03', '2014-08-02',\n",
              "        '2014-08-01', '2014-07-31', '2014-07-30', '2014-07-29',\n",
              "        '2014-07-28', '2014-07-27', '2014-07-26', '2014-07-25',\n",
              "        '2014-07-24', '2014-07-23', '2014-07-22', '2014-07-21',\n",
              "        '2014-07-20', '2014-07-19', '2014-07-18', '2014-07-17',\n",
              "        '2014-07-16', '2014-07-15', '2014-07-14', '2014-07-13',\n",
              "        '2014-07-12', '2014-07-11', '2014-07-10', '2014-07-09',\n",
              "        '2014-07-08', '2014-07-07', '2014-07-06', '2014-07-05',\n",
              "        '2014-07-04', '2014-07-03', '2014-07-02', '2014-07-01',\n",
              "        '2014-06-30', '2014-06-29', '2014-06-28', '2014-06-27',\n",
              "        '2014-06-26', '2014-06-25', '2014-06-24', '2014-06-23',\n",
              "        '2014-06-22', '2014-06-21', '2014-06-20', '2014-06-19',\n",
              "        '2014-06-18', '2014-06-17', '2014-06-16', '2014-06-15',\n",
              "        '2014-06-14', '2014-06-13', '2014-06-12', '2014-06-11',\n",
              "        '2014-06-10', '2014-06-09', '2014-06-08', '2014-06-07',\n",
              "        '2014-06-06', '2014-06-05', '2014-06-04', '2014-06-03',\n",
              "        '2014-06-02', '2014-06-01', '2014-05-31', '2014-05-30',\n",
              "        '2014-05-29', '2014-05-28', '2014-05-27', '2014-05-26',\n",
              "        '2014-05-25', '2014-05-24', '2014-05-23', '2014-05-22',\n",
              "        '2014-05-21', '2014-05-20', '2014-05-19', '2014-05-18',\n",
              "        '2014-05-17', '2014-05-16', '2014-05-15', '2014-05-14',\n",
              "        '2014-05-13', '2014-05-12', '2014-05-11', '2014-05-10',\n",
              "        '2014-05-09', '2014-05-08', '2014-05-07', '2014-05-06',\n",
              "        '2014-05-05', '2014-05-04', '2014-05-03', '2014-05-02',\n",
              "        '2014-05-01', '2014-04-30', '2014-04-29', '2014-04-28',\n",
              "        '2014-04-27', '2014-04-26', '2014-04-25', '2014-04-24',\n",
              "        '2014-04-23', '2014-04-22', '2014-04-21', '2014-04-20',\n",
              "        '2014-04-19', '2014-04-18', '2014-04-17', '2014-04-16',\n",
              "        '2014-04-15', '2014-04-14', '2014-04-13', '2014-04-12',\n",
              "        '2014-04-11', '2014-04-10', '2014-04-09', '2014-04-08',\n",
              "        '2014-04-07', '2014-04-06', '2014-04-05', '2014-04-04',\n",
              "        '2014-04-03', '2014-04-02', '2014-04-01', '2014-03-31',\n",
              "        '2014-03-30', '2014-03-29', '2014-03-28', '2014-03-27',\n",
              "        '2014-03-26', '2014-03-25', '2014-03-24', '2014-03-23',\n",
              "        '2014-03-22', '2014-03-21', '2014-03-20', '2014-03-19',\n",
              "        '2014-03-18', '2014-03-17', '2014-03-16', '2014-03-15',\n",
              "        '2014-03-14', '2014-03-13', '2014-03-12', '2014-03-11',\n",
              "        '2014-03-10', '2014-03-09', '2014-03-08', '2014-03-07',\n",
              "        '2014-03-06', '2014-03-05', '2014-03-04', '2014-03-03',\n",
              "        '2014-03-02', '2014-03-01', '2014-02-28', '2014-02-27',\n",
              "        '2014-02-26', '2014-02-25', '2014-02-24', '2014-02-23',\n",
              "        '2014-02-22', '2014-02-21', '2014-02-20', '2014-02-19',\n",
              "        '2014-02-18', '2014-02-17', '2014-02-16', '2014-02-15',\n",
              "        '2014-02-14', '2014-02-13', '2014-02-12', '2014-02-11',\n",
              "        '2014-02-10', '2014-02-09', '2014-02-08', '2014-02-07',\n",
              "        '2014-02-06', '2014-02-05', '2014-02-04', '2014-02-03',\n",
              "        '2014-02-02', '2014-02-01', '2014-01-31', '2014-01-30',\n",
              "        '2014-01-29', '2014-01-28', '2014-01-27', '2014-01-26',\n",
              "        '2014-01-25', '2014-01-24', '2014-01-23', '2014-01-22',\n",
              "        '2014-01-21', '2014-01-20', '2014-01-19', '2014-01-18',\n",
              "        '2014-01-17', '2014-01-16', '2014-01-15', '2014-01-14',\n",
              "        '2014-01-13', '2014-01-12', '2014-01-11', '2014-01-10',\n",
              "        '2014-01-09', '2014-01-08', '2014-01-07', '2014-01-06',\n",
              "        '2014-01-05', '2014-01-04', '2014-01-03', '2014-01-02',\n",
              "        '2014-01-01', '2013-12-31', '2013-12-30', '2013-12-29',\n",
              "        '2013-12-28', '2013-12-27', '2013-12-26', '2013-12-25',\n",
              "        '2013-12-24', '2013-12-23', '2013-12-22', '2013-12-21',\n",
              "        '2013-12-20', '2013-12-19', '2013-12-18', '2013-12-17',\n",
              "        '2013-12-16', '2013-12-15', '2013-12-14', '2013-12-13',\n",
              "        '2013-12-12', '2013-12-11', '2013-12-10', '2013-12-09',\n",
              "        '2013-12-08', '2013-12-07', '2013-12-06', '2013-12-05',\n",
              "        '2013-12-04', '2013-12-03', '2013-12-02', '2013-12-01',\n",
              "        '2013-11-30', '2013-11-29', '2013-11-28', '2013-11-27',\n",
              "        '2013-11-26', '2013-11-25', '2013-11-24', '2013-11-23',\n",
              "        '2013-11-22', '2013-11-21', '2013-11-20', '2013-11-19',\n",
              "        '2013-11-18', '2013-11-17', '2013-11-16', '2013-11-15',\n",
              "        '2013-11-14', '2013-11-13', '2013-11-12', '2013-11-11',\n",
              "        '2013-11-10', '2013-11-09', '2013-11-08', '2013-11-07',\n",
              "        '2013-11-06', '2013-11-05', '2013-11-04', '2013-11-03',\n",
              "        '2013-11-02', '2013-11-01', '2013-10-31', '2013-10-30',\n",
              "        '2013-10-29', '2013-10-28', '2013-10-27', '2013-10-26',\n",
              "        '2013-10-25', '2013-10-24', '2013-10-23', '2013-10-22',\n",
              "        '2013-10-21', '2013-10-20', '2013-10-19', '2013-10-18',\n",
              "        '2013-10-17', '2013-10-16', '2013-10-15', '2013-10-14',\n",
              "        '2013-10-13', '2013-10-12', '2013-10-11', '2013-10-10',\n",
              "        '2013-10-09', '2013-10-08', '2013-10-07', '2013-10-06',\n",
              "        '2013-10-05', '2013-10-04', '2013-10-03', '2013-10-02',\n",
              "        '2013-10-01', '2013-09-30', '2013-09-29', '2013-09-28',\n",
              "        '2013-09-27', '2013-09-26', '2013-09-25', '2013-09-24',\n",
              "        '2013-09-23', '2013-09-22', '2013-09-21', '2013-09-20',\n",
              "        '2013-09-19', '2013-09-18', '2013-09-17', '2013-09-16',\n",
              "        '2013-09-15', '2013-09-14', '2013-09-13', '2013-09-12',\n",
              "        '2013-09-11', '2013-09-10', '2013-09-09', '2013-09-08',\n",
              "        '2013-09-07', '2013-09-06', '2013-09-05', '2013-09-04',\n",
              "        '2013-09-03', '2013-09-02', '2013-09-01', '2013-08-31',\n",
              "        '2013-08-30', '2013-08-29', '2013-08-28', '2013-08-27',\n",
              "        '2013-08-26', '2013-08-25', '2013-08-24', '2013-08-23',\n",
              "        '2013-08-22', '2013-08-21', '2013-08-20', '2013-08-19',\n",
              "        '2013-08-18', '2013-08-17', '2013-08-16', '2013-08-15',\n",
              "        '2013-08-14', '2013-08-13', '2013-08-12', '2013-08-11',\n",
              "        '2013-08-10', '2013-08-09', '2013-08-08', '2013-08-07',\n",
              "        '2013-08-06', '2013-08-05', '2013-08-04', '2013-08-03',\n",
              "        '2013-08-02', '2013-08-01', '2013-07-31', '2013-07-30',\n",
              "        '2013-07-29', '2013-07-28', '2013-07-27', '2013-07-26',\n",
              "        '2013-07-25', '2013-07-24', '2013-07-23', '2013-07-22',\n",
              "        '2013-07-21', '2013-07-20', '2013-07-19', '2013-07-18',\n",
              "        '2013-07-17', '2013-07-16', '2013-07-15', '2013-07-14',\n",
              "        '2013-07-13', '2013-07-12', '2013-07-11', '2013-07-10',\n",
              "        '2013-07-09', '2013-07-08', '2013-07-07', '2013-07-06',\n",
              "        '2013-07-05', '2013-07-04', '2013-07-03', '2013-07-02',\n",
              "        '2013-07-01', '2013-06-30', '2013-06-29', '2013-06-28',\n",
              "        '2013-06-27', '2013-06-26', '2013-06-25', '2013-06-24',\n",
              "        '2013-06-23', '2013-06-22', '2013-06-21', '2013-06-20',\n",
              "        '2013-06-19', '2013-06-18', '2013-06-17', '2013-06-16',\n",
              "        '2013-06-15', '2013-06-14', '2013-06-13', '2013-06-12',\n",
              "        '2013-06-11', '2013-06-10', '2013-06-09', '2013-06-08',\n",
              "        '2013-06-07', '2013-06-06', '2013-06-05', '2013-06-04',\n",
              "        '2013-06-03', '2013-06-02', '2013-06-01', '2013-05-31',\n",
              "        '2013-05-30', '2013-05-29', '2013-05-28', '2013-05-27',\n",
              "        '2013-05-26', '2013-05-25', '2013-05-24', '2013-05-23',\n",
              "        '2013-05-22', '2013-05-21', '2013-05-20', '2013-05-19',\n",
              "        '2013-05-18', '2013-05-17', '2013-05-16', '2013-05-15',\n",
              "        '2013-05-14', '2013-05-13', '2013-05-12', '2013-05-11',\n",
              "        '2013-05-10', '2013-05-09', '2013-05-08', '2013-05-07',\n",
              "        '2013-05-06', '2013-05-05', '2013-05-04', '2013-05-03',\n",
              "        '2013-05-02', '2013-05-01', '2013-04-30', '2013-04-29',\n",
              "        '2013-04-28', '2013-04-27', '2013-04-26', '2013-04-25',\n",
              "        '2013-04-24', '2013-04-23', '2013-04-22', '2013-04-21',\n",
              "        '2013-04-20', '2013-04-19', '2013-04-18', '2013-04-17',\n",
              "        '2013-04-16', '2013-04-15', '2013-04-14', '2013-04-13',\n",
              "        '2013-04-12', '2013-04-11', '2013-04-10', '2013-04-09',\n",
              "        '2013-04-08', '2013-04-07', '2013-04-06', '2013-04-05',\n",
              "        '2013-04-04', '2013-04-03', '2013-04-02', '2013-04-01',\n",
              "        '2013-03-31', '2013-03-30', '2013-03-29', '2013-03-28',\n",
              "        '2013-03-27', '2013-03-26', '2013-03-25', '2013-03-24',\n",
              "        '2013-03-23', '2013-03-22', '2013-03-21', '2013-03-20',\n",
              "        '2013-03-19', '2013-03-18', '2013-03-17', '2013-03-16',\n",
              "        '2013-03-15', '2013-03-14', '2013-03-13', '2013-03-12',\n",
              "        '2013-03-11', '2013-03-10', '2013-03-09', '2013-03-08',\n",
              "        '2013-03-07', '2013-03-06', '2013-03-05', '2013-03-04',\n",
              "        '2013-03-03', '2013-03-02', '2013-03-01', '2013-02-28',\n",
              "        '2013-02-27', '2013-02-26', '2013-02-25', '2013-02-24',\n",
              "        '2013-02-23', '2013-02-22', '2013-02-21', '2013-02-20',\n",
              "        '2013-02-19', '2013-02-18', '2013-02-17', '2013-02-16',\n",
              "        '2013-02-15', '2013-02-14', '2013-02-13', '2013-02-12',\n",
              "        '2013-02-11', '2013-02-10', '2013-02-09', '2013-02-08',\n",
              "        '2013-02-07', '2013-02-06', '2013-02-05', '2013-02-04',\n",
              "        '2013-02-03', '2013-02-02', '2013-02-01', '2013-01-31',\n",
              "        '2013-01-30', '2013-01-29', '2013-01-28', '2013-01-27',\n",
              "        '2013-01-26', '2013-01-25', '2013-01-24', '2013-01-23',\n",
              "        '2013-01-22', '2013-01-21', '2013-01-20', '2013-01-19',\n",
              "        '2013-01-18', '2013-01-17', '2013-01-16', '2013-01-15',\n",
              "        '2013-01-14', '2013-01-13', '2013-01-12', '2013-01-11',\n",
              "        '2013-01-10', '2013-01-09', '2013-01-08', '2013-01-07',\n",
              "        '2013-01-06', '2013-01-05', '2013-01-04', '2013-01-03',\n",
              "        '2013-01-02', '2013-01-01'], dtype=object),\n",
              " 'Sales': array([ 5263,  6064,  8314, ...,   660, 17815, 23303]),\n",
              " 'Customers': array([ 555,  625,  821, ..., 3900,   36, 4065]),\n",
              " 'Open': array([1, 0]),\n",
              " 'Promo': array([1, 0]),\n",
              " 'StateHoliday': array(['0', 'a', 'b', 'c', 0], dtype=object),\n",
              " 'SchoolHoliday': array([1, 0])}"
            ]
          },
          "metadata": {},
          "execution_count": 22
        }
      ]
    },
    {
      "cell_type": "code",
      "source": [
        "unique_count_d2 = {col: len(data2[col].unique()) for col in data2.columns}\n",
        "unique_count_d2"
      ],
      "metadata": {
        "id": "Df1l1e5fkY4R",
        "colab": {
          "base_uri": "https://localhost:8080/"
        },
        "outputId": "3d5b9e52-fb65-4442-eae0-42c2cdddbf05"
      },
      "execution_count": 23,
      "outputs": [
        {
          "output_type": "execute_result",
          "data": {
            "text/plain": [
              "{'Store': 1115,\n",
              " 'DayOfWeek': 7,\n",
              " 'Date': 942,\n",
              " 'Sales': 21734,\n",
              " 'Customers': 4086,\n",
              " 'Open': 2,\n",
              " 'Promo': 2,\n",
              " 'StateHoliday': 5,\n",
              " 'SchoolHoliday': 2}"
            ]
          },
          "metadata": {},
          "execution_count": 23
        }
      ]
    },
    {
      "cell_type": "markdown",
      "source": [
        "## 3. ***Data Wrangling***"
      ],
      "metadata": {
        "id": "dauF4eBmngu3"
      }
    },
    {
      "cell_type": "markdown",
      "source": [
        "### Data Wrangling Code"
      ],
      "metadata": {
        "id": "bKJF3rekwFvQ"
      }
    },
    {
      "cell_type": "markdown",
      "source": [
        "**Since there are no null values in data 2 so we will handel null values from data 1**"
      ],
      "metadata": {
        "id": "ArFh3WQ5s5v1"
      }
    },
    {
      "cell_type": "code",
      "source": [
        "plt.figure(figsize=(8, 6))\n",
        "data1.isnull().sum().plot(kind='bar', color='skyblue')\n",
        "plt.title('Missing Values Bar Chart')\n",
        "plt.xlabel('Columns')\n",
        "plt.ylabel('Number of Missing Values')\n",
        "for i, count in enumerate(data1.isnull().sum()):\n",
        "    data1.isnull().sum().plot(kind='bar', color='skyblue').text(i, count + 1, str(count), ha='center', va='bottom')\n",
        "\n",
        "plt.show()"
      ],
      "metadata": {
        "id": "MkoL-DI6tQyK",
        "colab": {
          "base_uri": "https://localhost:8080/",
          "height": 758
        },
        "outputId": "a9bacd6d-298c-4ccc-ef2c-07e62b9793c0"
      },
      "execution_count": 24,
      "outputs": [
        {
          "output_type": "display_data",
          "data": {
            "text/plain": [
              "<Figure size 800x600 with 1 Axes>"
            ],
            "image/png": "[encoded data removed]"
          },
          "metadata": {}
        }
      ]
    },
    {
      "cell_type": "markdown",
      "source": [
        "**To replace null values we need to know the data type of data1's columns so that we can replace the null values with their mean,mode & median accordingly**"
      ],
      "metadata": {
        "id": "h3VT-l8PtcUE"
      }
    },
    {
      "cell_type": "code",
      "source": [
        "data1.dtypes"
      ],
      "metadata": {
        "id": "JlDxjIfEt56y",
        "colab": {
          "base_uri": "https://localhost:8080/"
        },
        "outputId": "0a350b2d-2423-4c72-c005-c33008625750"
      },
      "execution_count": 25,
      "outputs": [
        {
          "output_type": "execute_result",
          "data": {
            "text/plain": [
              "Store                          int64\n",
              "StoreType                     object\n",
              "Assortment                    object\n",
              "CompetitionDistance          float64\n",
              "CompetitionOpenSinceMonth    float64\n",
              "CompetitionOpenSinceYear     float64\n",
              "Promo2                         int64\n",
              "Promo2SinceWeek              float64\n",
              "Promo2SinceYear              float64\n",
              "PromoInterval                 object\n",
              "dtype: object"
            ]
          },
          "metadata": {},
          "execution_count": 25
        }
      ]
    },
    {
      "cell_type": "code",
      "source": [
        "data1['CompetitionDistance'].fillna(data1['CompetitionDistance'].mean(), inplace=True)\n"
      ],
      "metadata": {
        "id": "uj9UCUkEuoSO"
      },
      "execution_count": 26,
      "outputs": []
    },
    {
      "cell_type": "markdown",
      "source": [
        "**'CompetitionOpenSinceMonth' & 'CompetitionOpenSinceYear'**\n",
        "both column represent month and year when nearest compititor store opened.the null value indicates that there is no stores open so we fill fill the null values with \"0\""
      ],
      "metadata": {
        "id": "DKHnhKL5IIxU"
      }
    },
    {
      "cell_type": "code",
      "source": [
        "data1['CompetitionOpenSinceMonth'].fillna(0, inplace=True)\n",
        "data1['CompetitionOpenSinceYear'].fillna(0, inplace=True)"
      ],
      "metadata": {
        "id": "6WcfokjVH3xN"
      },
      "execution_count": 27,
      "outputs": []
    },
    {
      "cell_type": "markdown",
      "source": [
        "**'Promo2SinceWeek' & 'Promo2SinceYear'**\n",
        "these 2 column indicates munth and yesr when nearest compititior store opend. Since some rows are empty,this means that no store were opened that time.so we will fill the null values with \"0\""
      ],
      "metadata": {
        "id": "snnvpQKIJNM9"
      }
    },
    {
      "cell_type": "code",
      "source": [
        "data1['Promo2SinceWeek'].fillna(0, inplace=True)\n",
        "data1['Promo2SinceYear'].fillna(0, inplace=True)\n",
        "data1['PromoInterval'].fillna('NoPromo', inplace=True)"
      ],
      "metadata": {
        "id": "RAJJq119JDUv"
      },
      "execution_count": 28,
      "outputs": []
    },
    {
      "cell_type": "code",
      "source": [
        "has_null_values = data1.isnull().any().any()\n",
        "\n",
        "if has_null_values:\n",
        "    print(\"There are still null values in the data.\")\n",
        "else:\n",
        "    print(\"There are no null values in the data.\")"
      ],
      "metadata": {
        "id": "dAGY1oGExFe6",
        "colab": {
          "base_uri": "https://localhost:8080/"
        },
        "outputId": "f62c0722-d009-4e4d-87fe-64d37b3f736e"
      },
      "execution_count": 29,
      "outputs": [
        {
          "output_type": "stream",
          "name": "stdout",
          "text": [
            "There are no null values in the data.\n"
          ]
        }
      ]
    },
    {
      "cell_type": "code",
      "source": [
        "data1.isnull().sum()"
      ],
      "metadata": {
        "id": "gYiGrkXMGKpd",
        "colab": {
          "base_uri": "https://localhost:8080/"
        },
        "outputId": "256bb3dd-31e6-4e81-edc3-41fcfd33a6c9"
      },
      "execution_count": 30,
      "outputs": [
        {
          "output_type": "execute_result",
          "data": {
            "text/plain": [
              "Store                        0\n",
              "StoreType                    0\n",
              "Assortment                   0\n",
              "CompetitionDistance          0\n",
              "CompetitionOpenSinceMonth    0\n",
              "CompetitionOpenSinceYear     0\n",
              "Promo2                       0\n",
              "Promo2SinceWeek              0\n",
              "Promo2SinceYear              0\n",
              "PromoInterval                0\n",
              "dtype: int64"
            ]
          },
          "metadata": {},
          "execution_count": 30
        }
      ]
    },
    {
      "cell_type": "code",
      "source": [
        "data2.isnull().sum()"
      ],
      "metadata": {
        "id": "u_uVR3uXGn75",
        "colab": {
          "base_uri": "https://localhost:8080/"
        },
        "outputId": "f7c4dc26-c22b-409d-8a82-989e0f4f5352"
      },
      "execution_count": 31,
      "outputs": [
        {
          "output_type": "execute_result",
          "data": {
            "text/plain": [
              "Store            0\n",
              "DayOfWeek        0\n",
              "Date             0\n",
              "Sales            0\n",
              "Customers        0\n",
              "Open             0\n",
              "Promo            0\n",
              "StateHoliday     0\n",
              "SchoolHoliday    0\n",
              "dtype: int64"
            ]
          },
          "metadata": {},
          "execution_count": 31
        }
      ]
    },
    {
      "cell_type": "markdown",
      "source": [
        "**Now we can clearly see that both the Data has 0 null values**"
      ],
      "metadata": {
        "id": "rOymFnbaGqQV"
      }
    },
    {
      "cell_type": "markdown",
      "source": [
        "In data2 we have a column \"Date\" which is in object form. So we need to change the format of the column in date format"
      ],
      "metadata": {
        "id": "jUjZ03f8NglW"
      }
    },
    {
      "cell_type": "code",
      "source": [
        "data2['Date'] = pd.to_datetime(data2['Date'],format='%Y-%m-%d')\n",
        "print(data2['Date'].dtype)"
      ],
      "metadata": {
        "id": "kwSl6CH8N9Ye",
        "colab": {
          "base_uri": "https://localhost:8080/"
        },
        "outputId": "75e5a810-3147-450d-f860-884b9607f5cb"
      },
      "execution_count": 32,
      "outputs": [
        {
          "output_type": "stream",
          "name": "stdout",
          "text": [
            "datetime64[ns]\n"
          ]
        }
      ]
    },
    {
      "cell_type": "code",
      "source": [
        "data2.dtypes"
      ],
      "metadata": {
        "id": "w_NgOWrwOm_2",
        "colab": {
          "base_uri": "https://localhost:8080/"
        },
        "outputId": "52997b57-95b7-48b8-dbde-330cebe8f382"
      },
      "execution_count": 33,
      "outputs": [
        {
          "output_type": "execute_result",
          "data": {
            "text/plain": [
              "Store                     int64\n",
              "DayOfWeek                 int64\n",
              "Date             datetime64[ns]\n",
              "Sales                     int64\n",
              "Customers                 int64\n",
              "Open                      int64\n",
              "Promo                     int64\n",
              "StateHoliday             object\n",
              "SchoolHoliday             int64\n",
              "dtype: object"
            ]
          },
          "metadata": {},
          "execution_count": 33
        }
      ]
    },
    {
      "cell_type": "code",
      "source": [
        "data1.dtypes"
      ],
      "metadata": {
        "id": "mSahpBtjOv_p",
        "colab": {
          "base_uri": "https://localhost:8080/"
        },
        "outputId": "9491d696-bdb8-409d-ffc6-42c4be324a12"
      },
      "execution_count": 34,
      "outputs": [
        {
          "output_type": "execute_result",
          "data": {
            "text/plain": [
              "Store                          int64\n",
              "StoreType                     object\n",
              "Assortment                    object\n",
              "CompetitionDistance          float64\n",
              "CompetitionOpenSinceMonth    float64\n",
              "CompetitionOpenSinceYear     float64\n",
              "Promo2                         int64\n",
              "Promo2SinceWeek              float64\n",
              "Promo2SinceYear              float64\n",
              "PromoInterval                 object\n",
              "dtype: object"
            ]
          },
          "metadata": {},
          "execution_count": 34
        }
      ]
    },
    {
      "cell_type": "markdown",
      "source": [
        "**NOW WE WILL MERGE BOTH DATA1 AND DATA2 FOR VIZUALIZATION AND ANALYSIS WORK**"
      ],
      "metadata": {
        "id": "oMf-gPp5O8RA"
      }
    },
    {
      "cell_type": "code",
      "source": [
        "# Merging both datasets\n",
        "df = data2.merge(right=data1, on='Store',how='left')\n",
        "df"
      ],
      "metadata": {
        "id": "i9yW_LaXO6-G",
        "colab": {
          "base_uri": "https://localhost:8080/",
          "height": 617
        },
        "outputId": "0db652d2-37ef-4c64-c364-5ed661a30a09"
      },
      "execution_count": 35,
      "outputs": [
        {
          "output_type": "execute_result",
          "data": {
            "text/plain": [
              "         Store  DayOfWeek       Date  Sales  Customers  Open  Promo  \\\n",
              "0            1          5 2015-07-31   5263        555     1      1   \n",
              "1            2          5 2015-07-31   6064        625     1      1   \n",
              "2            3          5 2015-07-31   8314        821     1      1   \n",
              "3            4          5 2015-07-31  13995       1498     1      1   \n",
              "4            5          5 2015-07-31   4822        559     1      1   \n",
              "...        ...        ...        ...    ...        ...   ...    ...   \n",
              "1017204   1111          2 2013-01-01      0          0     0      0   \n",
              "1017205   1112          2 2013-01-01      0          0     0      0   \n",
              "1017206   1113          2 2013-01-01      0          0     0      0   \n",
              "1017207   1114          2 2013-01-01      0          0     0      0   \n",
              "1017208   1115          2 2013-01-01      0          0     0      0   \n",
              "\n",
              "        StateHoliday  SchoolHoliday StoreType Assortment  CompetitionDistance  \\\n",
              "0                  0              1         c          a               1270.0   \n",
              "1                  0              1         a          a                570.0   \n",
              "2                  0              1         a          a              14130.0   \n",
              "3                  0              1         c          c                620.0   \n",
              "4                  0              1         a          a              29910.0   \n",
              "...              ...            ...       ...        ...                  ...   \n",
              "1017204            a              1         a          a               1900.0   \n",
              "1017205            a              1         c          c               1880.0   \n",
              "1017206            a              1         a          c               9260.0   \n",
              "1017207            a              1         a          c                870.0   \n",
              "1017208            a              1         d          c               5350.0   \n",
              "\n",
              "         CompetitionOpenSinceMonth  CompetitionOpenSinceYear  Promo2  \\\n",
              "0                              9.0                    2008.0       0   \n",
              "1                             11.0                    2007.0       1   \n",
              "2                             12.0                    2006.0       1   \n",
              "3                              9.0                    2009.0       0   \n",
              "4                              4.0                    2015.0       0   \n",
              "...                            ...                       ...     ...   \n",
              "1017204                        6.0                    2014.0       1   \n",
              "1017205                        4.0                    2006.0       0   \n",
              "1017206                        0.0                       0.0       0   \n",
              "1017207                        0.0                       0.0       0   \n",
              "1017208                        0.0                       0.0       1   \n",
              "\n",
              "         Promo2SinceWeek  Promo2SinceYear     PromoInterval  \n",
              "0                    0.0              0.0           NoPromo  \n",
              "1                   13.0           2010.0   Jan,Apr,Jul,Oct  \n",
              "2                   14.0           2011.0   Jan,Apr,Jul,Oct  \n",
              "3                    0.0              0.0           NoPromo  \n",
              "4                    0.0              0.0           NoPromo  \n",
              "...                  ...              ...               ...  \n",
              "1017204             31.0           2013.0   Jan,Apr,Jul,Oct  \n",
              "1017205              0.0              0.0           NoPromo  \n",
              "1017206              0.0              0.0           NoPromo  \n",
              "1017207              0.0              0.0           NoPromo  \n",
              "1017208             22.0           2012.0  Mar,Jun,Sept,Dec  \n",
              "\n",
              "[1017209 rows x 18 columns]"
            ],
            "text/html": [
              "\n",
              "  <div id=\"df-f62c4699-4da0-44cc-ac15-607d7f0b9cba\" class=\"colab-df-container\">\n",
              "    <div>\n",
              "<style scoped>\n",
              "    .dataframe tbody tr th:only-of-type {\n",
              "        vertical-align: middle;\n",
              "    }\n",
              "\n",
              "    .dataframe tbody tr th {\n",
              "        vertical-align: top;\n",
              "    }\n",
              "\n",
              "    .dataframe thead th {\n",
              "        text-align: right;\n",
              "    }\n",
              "</style>\n",
              "<table border=\"1\" class=\"dataframe\">\n",
              "  <thead>\n",
              "    <tr style=\"text-align: right;\">\n",
              "      <th></th>\n",
              "      <th>Store</th>\n",
              "      <th>DayOfWeek</th>\n",
              "      <th>Date</th>\n",
              "      <th>Sales</th>\n",
              "      <th>Customers</th>\n",
              "      <th>Open</th>\n",
              "      <th>Promo</th>\n",
              "      <th>StateHoliday</th>\n",
              "      <th>SchoolHoliday</th>\n",
              "      <th>StoreType</th>\n",
              "      <th>Assortment</th>\n",
              "      <th>CompetitionDistance</th>\n",
              "      <th>CompetitionOpenSinceMonth</th>\n",
              "      <th>CompetitionOpenSinceYear</th>\n",
              "      <th>Promo2</th>\n",
              "      <th>Promo2SinceWeek</th>\n",
              "      <th>Promo2SinceYear</th>\n",
              "      <th>PromoInterval</th>\n",
              "    </tr>\n",
              "  </thead>\n",
              "  <tbody>\n",
              "    <tr>\n",
              "      <th>0</th>\n",
              "      <td>1</td>\n",
              "      <td>5</td>\n",
              "      <td>2015-07-31</td>\n",
              "      <td>5263</td>\n",
              "      <td>555</td>\n",
              "      <td>1</td>\n",
              "      <td>1</td>\n",
              "      <td>0</td>\n",
              "      <td>1</td>\n",
              "      <td>c</td>\n",
              "      <td>a</td>\n",
              "      <td>1270.0</td>\n",
              "      <td>9.0</td>\n",
              "      <td>2008.0</td>\n",
              "      <td>0</td>\n",
              "      <td>0.0</td>\n",
              "      <td>0.0</td>\n",
              "      <td>NoPromo</td>\n",
              "    </tr>\n",
              "    <tr>\n",
              "      <th>1</th>\n",
              "      <td>2</td>\n",
              "      <td>5</td>\n",
              "      <td>2015-07-31</td>\n",
              "      <td>6064</td>\n",
              "      <td>625</td>\n",
              "      <td>1</td>\n",
              "      <td>1</td>\n",
              "      <td>0</td>\n",
              "      <td>1</td>\n",
              "      <td>a</td>\n",
              "      <td>a</td>\n",
              "      <td>570.0</td>\n",
              "      <td>11.0</td>\n",
              "      <td>2007.0</td>\n",
              "      <td>1</td>\n",
              "      <td>13.0</td>\n",
              "      <td>2010.0</td>\n",
              "      <td>Jan,Apr,Jul,Oct</td>\n",
              "    </tr>\n",
              "    <tr>\n",
              "      <th>2</th>\n",
              "      <td>3</td>\n",
              "      <td>5</td>\n",
              "      <td>2015-07-31</td>\n",
              "      <td>8314</td>\n",
              "      <td>821</td>\n",
              "      <td>1</td>\n",
              "      <td>1</td>\n",
              "      <td>0</td>\n",
              "      <td>1</td>\n",
              "      <td>a</td>\n",
              "      <td>a</td>\n",
              "      <td>14130.0</td>\n",
              "      <td>12.0</td>\n",
              "      <td>2006.0</td>\n",
              "      <td>1</td>\n",
              "      <td>14.0</td>\n",
              "      <td>2011.0</td>\n",
              "      <td>Jan,Apr,Jul,Oct</td>\n",
              "    </tr>\n",
              "    <tr>\n",
              "      <th>3</th>\n",
              "      <td>4</td>\n",
              "      <td>5</td>\n",
              "      <td>2015-07-31</td>\n",
              "      <td>13995</td>\n",
              "      <td>1498</td>\n",
              "      <td>1</td>\n",
              "      <td>1</td>\n",
              "      <td>0</td>\n",
              "      <td>1</td>\n",
              "      <td>c</td>\n",
              "      <td>c</td>\n",
              "      <td>620.0</td>\n",
              "      <td>9.0</td>\n",
              "      <td>2009.0</td>\n",
              "      <td>0</td>\n",
              "      <td>0.0</td>\n",
              "      <td>0.0</td>\n",
              "      <td>NoPromo</td>\n",
              "    </tr>\n",
              "    <tr>\n",
              "      <th>4</th>\n",
              "      <td>5</td>\n",
              "      <td>5</td>\n",
              "      <td>2015-07-31</td>\n",
              "      <td>4822</td>\n",
              "      <td>559</td>\n",
              "      <td>1</td>\n",
              "      <td>1</td>\n",
              "      <td>0</td>\n",
              "      <td>1</td>\n",
              "      <td>a</td>\n",
              "      <td>a</td>\n",
              "      <td>29910.0</td>\n",
              "      <td>4.0</td>\n",
              "      <td>2015.0</td>\n",
              "      <td>0</td>\n",
              "      <td>0.0</td>\n",
              "      <td>0.0</td>\n",
              "      <td>NoPromo</td>\n",
              "    </tr>\n",
              "    <tr>\n",
              "      <th>...</th>\n",
              "      <td>...</td>\n",
              "      <td>...</td>\n",
              "      <td>...</td>\n",
              "      <td>...</td>\n",
              "      <td>...</td>\n",
              "      <td>...</td>\n",
              "      <td>...</td>\n",
              "      <td>...</td>\n",
              "      <td>...</td>\n",
              "      <td>...</td>\n",
              "      <td>...</td>\n",
              "      <td>...</td>\n",
              "      <td>...</td>\n",
              "      <td>...</td>\n",
              "      <td>...</td>\n",
              "      <td>...</td>\n",
              "      <td>...</td>\n",
              "      <td>...</td>\n",
              "    </tr>\n",
              "    <tr>\n",
              "      <th>1017204</th>\n",
              "      <td>1111</td>\n",
              "      <td>2</td>\n",
              "      <td>2013-01-01</td>\n",
              "      <td>0</td>\n",
              "      <td>0</td>\n",
              "      <td>0</td>\n",
              "      <td>0</td>\n",
              "      <td>a</td>\n",
              "      <td>1</td>\n",
              "      <td>a</td>\n",
              "      <td>a</td>\n",
              "      <td>1900.0</td>\n",
              "      <td>6.0</td>\n",
              "      <td>2014.0</td>\n",
              "      <td>1</td>\n",
              "      <td>31.0</td>\n",
              "      <td>2013.0</td>\n",
              "      <td>Jan,Apr,Jul,Oct</td>\n",
              "    </tr>\n",
              "    <tr>\n",
              "      <th>1017205</th>\n",
              "      <td>1112</td>\n",
              "      <td>2</td>\n",
              "      <td>2013-01-01</td>\n",
              "      <td>0</td>\n",
              "      <td>0</td>\n",
              "      <td>0</td>\n",
              "      <td>0</td>\n",
              "      <td>a</td>\n",
              "      <td>1</td>\n",
              "      <td>c</td>\n",
              "      <td>c</td>\n",
              "      <td>1880.0</td>\n",
              "      <td>4.0</td>\n",
              "      <td>2006.0</td>\n",
              "      <td>0</td>\n",
              "      <td>0.0</td>\n",
              "      <td>0.0</td>\n",
              "      <td>NoPromo</td>\n",
              "    </tr>\n",
              "    <tr>\n",
              "      <th>1017206</th>\n",
              "      <td>1113</td>\n",
              "      <td>2</td>\n",
              "      <td>2013-01-01</td>\n",
              "      <td>0</td>\n",
              "      <td>0</td>\n",
              "      <td>0</td>\n",
              "      <td>0</td>\n",
              "      <td>a</td>\n",
              "      <td>1</td>\n",
              "      <td>a</td>\n",
              "      <td>c</td>\n",
              "      <td>9260.0</td>\n",
              "      <td>0.0</td>\n",
              "      <td>0.0</td>\n",
              "      <td>0</td>\n",
              "      <td>0.0</td>\n",
              "      <td>0.0</td>\n",
              "      <td>NoPromo</td>\n",
              "    </tr>\n",
              "    <tr>\n",
              "      <th>1017207</th>\n",
              "      <td>1114</td>\n",
              "      <td>2</td>\n",
              "      <td>2013-01-01</td>\n",
              "      <td>0</td>\n",
              "      <td>0</td>\n",
              "      <td>0</td>\n",
              "      <td>0</td>\n",
              "      <td>a</td>\n",
              "      <td>1</td>\n",
              "      <td>a</td>\n",
              "      <td>c</td>\n",
              "      <td>870.0</td>\n",
              "      <td>0.0</td>\n",
              "      <td>0.0</td>\n",
              "      <td>0</td>\n",
              "      <td>0.0</td>\n",
              "      <td>0.0</td>\n",
              "      <td>NoPromo</td>\n",
              "    </tr>\n",
              "    <tr>\n",
              "      <th>1017208</th>\n",
              "      <td>1115</td>\n",
              "      <td>2</td>\n",
              "      <td>2013-01-01</td>\n",
              "      <td>0</td>\n",
              "      <td>0</td>\n",
              "      <td>0</td>\n",
              "      <td>0</td>\n",
              "      <td>a</td>\n",
              "      <td>1</td>\n",
              "      <td>d</td>\n",
              "      <td>c</td>\n",
              "      <td>5350.0</td>\n",
              "      <td>0.0</td>\n",
              "      <td>0.0</td>\n",
              "      <td>1</td>\n",
              "      <td>22.0</td>\n",
              "      <td>2012.0</td>\n",
              "      <td>Mar,Jun,Sept,Dec</td>\n",
              "    </tr>\n",
              "  </tbody>\n",
              "</table>\n",
              "<p>1017209 rows × 18 columns</p>\n",
              "</div>\n",
              "    <div class=\"colab-df-buttons\">\n",
              "\n",
              "  <div class=\"colab-df-container\">\n",
              "    <button class=\"colab-df-convert\" onclick=\"convertToInteractive('df-f62c4699-4da0-44cc-ac15-607d7f0b9cba')\"\n",
              "            title=\"Convert this dataframe to an interactive table.\"\n",
              "            style=\"display:none;\">\n",
              "\n",
              "  <svg xmlns=\"http://www.w3.org/2000/svg\" height=\"24px\" viewBox=\"0 -960 960 960\">\n",
              "    <path d=\"M120-120v-720h720v720H120Zm60-500h600v-160H180v160Zm220 220h160v-160H400v160Zm0 220h160v-160H400v160ZM180-400h160v-160H180v160Zm440 0h160v-160H620v160ZM180-180h160v-160H180v160Zm440 0h160v-160H620v160Z\"/>\n",
              "  </svg>\n",
              "    </button>\n",
              "\n",
              "  <style>\n",
              "    .colab-df-container {\n",
              "      display:flex;\n",
              "      gap: 12px;\n",
              "    }\n",
              "\n",
              "    .colab-df-convert {\n",
              "      background-color: #E8F0FE;\n",
              "      border: none;\n",
              "      border-radius: 50%;\n",
              "      cursor: pointer;\n",
              "      display: none;\n",
              "      fill: #1967D2;\n",
              "      height: 32px;\n",
              "      padding: 0 0 0 0;\n",
              "      width: 32px;\n",
              "    }\n",
              "\n",
              "    .colab-df-convert:hover {\n",
              "      background-color: #E2EBFA;\n",
              "      box-shadow: 0px 1px 2px rgba(60, 64, 67, 0.3), 0px 1px 3px 1px rgba(60, 64, 67, 0.15);\n",
              "      fill: #174EA6;\n",
              "    }\n",
              "\n",
              "    .colab-df-buttons div {\n",
              "      margin-bottom: 4px;\n",
              "    }\n",
              "\n",
              "    [theme=dark] .colab-df-convert {\n",
              "      background-color: #3B4455;\n",
              "      fill: #D2E3FC;\n",
              "    }\n",
              "\n",
              "    [theme=dark] .colab-df-convert:hover {\n",
              "      background-color: #434B5C;\n",
              "      box-shadow: 0px 1px 3px 1px rgba(0, 0, 0, 0.15);\n",
              "      filter: drop-shadow(0px 1px 2px rgba(0, 0, 0, 0.3));\n",
              "      fill: #FFFFFF;\n",
              "    }\n",
              "  </style>\n",
              "\n",
              "    <script>\n",
              "      const buttonEl =\n",
              "        document.querySelector('#df-f62c4699-4da0-44cc-ac15-607d7f0b9cba button.colab-df-convert');\n",
              "      buttonEl.style.display =\n",
              "        google.colab.kernel.accessAllowed ? 'block' : 'none';\n",
              "\n",
              "      async function convertToInteractive(key) {\n",
              "        const element = document.querySelector('#df-f62c4699-4da0-44cc-ac15-607d7f0b9cba');\n",
              "        const dataTable =\n",
              "          await google.colab.kernel.invokeFunction('convertToInteractive',\n",
              "                                                    [key], {});\n",
              "        if (!dataTable) return;\n",
              "\n",
              "        const docLinkHtml = 'Like what you see? Visit the ' +\n",
              "          '<a target=\"_blank\" href=https://colab.research.google.com/notebooks/data_table.ipynb>data table notebook</a>'\n",
              "          + ' to learn more about interactive tables.';\n",
              "        element.innerHTML = '';\n",
              "        dataTable['output_type'] = 'display_data';\n",
              "        await google.colab.output.renderOutput(dataTable, element);\n",
              "        const docLink = document.createElement('div');\n",
              "        docLink.innerHTML = docLinkHtml;\n",
              "        element.appendChild(docLink);\n",
              "      }\n",
              "    </script>\n",
              "  </div>\n",
              "\n",
              "\n",
              "<div id=\"df-be5e4800-3970-44bd-87f8-25eb9e82001e\">\n",
              "  <button class=\"colab-df-quickchart\" onclick=\"quickchart('df-be5e4800-3970-44bd-87f8-25eb9e82001e')\"\n",
              "            title=\"Suggest charts\"\n",
              "            style=\"display:none;\">\n",
              "\n",
              "<svg xmlns=\"http://www.w3.org/2000/svg\" height=\"24px\"viewBox=\"0 0 24 24\"\n",
              "     width=\"24px\">\n",
              "    <g>\n",
              "        <path d=\"M19 3H5c-1.1 0-2 .9-2 2v14c0 1.1.9 2 2 2h14c1.1 0 2-.9 2-2V5c0-1.1-.9-2-2-2zM9 17H7v-7h2v7zm4 0h-2V7h2v10zm4 0h-2v-4h2v4z\"/>\n",
              "    </g>\n",
              "</svg>\n",
              "  </button>\n",
              "\n",
              "<style>\n",
              "  .colab-df-quickchart {\n",
              "      --bg-color: #E8F0FE;\n",
              "      --fill-color: #1967D2;\n",
              "      --hover-bg-color: #E2EBFA;\n",
              "      --hover-fill-color: #174EA6;\n",
              "      --disabled-fill-color: #AAA;\n",
              "      --disabled-bg-color: #DDD;\n",
              "  }\n",
              "\n",
              "  [theme=dark] .colab-df-quickchart {\n",
              "      --bg-color: #3B4455;\n",
              "      --fill-color: #D2E3FC;\n",
              "      --hover-bg-color: #434B5C;\n",
              "      --hover-fill-color: #FFFFFF;\n",
              "      --disabled-bg-color: #3B4455;\n",
              "      --disabled-fill-color: #666;\n",
              "  }\n",
              "\n",
              "  .colab-df-quickchart {\n",
              "    background-color: var(--bg-color);\n",
              "    border: none;\n",
              "    border-radius: 50%;\n",
              "    cursor: pointer;\n",
              "    display: none;\n",
              "    fill: var(--fill-color);\n",
              "    height: 32px;\n",
              "    padding: 0;\n",
              "    width: 32px;\n",
              "  }\n",
              "\n",
              "  .colab-df-quickchart:hover {\n",
              "    background-color: var(--hover-bg-color);\n",
              "    box-shadow: 0 1px 2px rgba(60, 64, 67, 0.3), 0 1px 3px 1px rgba(60, 64, 67, 0.15);\n",
              "    fill: var(--button-hover-fill-color);\n",
              "  }\n",
              "\n",
              "  .colab-df-quickchart-complete:disabled,\n",
              "  .colab-df-quickchart-complete:disabled:hover {\n",
              "    background-color: var(--disabled-bg-color);\n",
              "    fill: var(--disabled-fill-color);\n",
              "    box-shadow: none;\n",
              "  }\n",
              "\n",
              "  .colab-df-spinner {\n",
              "    border: 2px solid var(--fill-color);\n",
              "    border-color: transparent;\n",
              "    border-bottom-color: var(--fill-color);\n",
              "    animation:\n",
              "      spin 1s steps(1) infinite;\n",
              "  }\n",
              "\n",
              "  @keyframes spin {\n",
              "    0% {\n",
              "      border-color: transparent;\n",
              "      border-bottom-color: var(--fill-color);\n",
              "      border-left-color: var(--fill-color);\n",
              "    }\n",
              "    20% {\n",
              "      border-color: transparent;\n",
              "      border-left-color: var(--fill-color);\n",
              "      border-top-color: var(--fill-color);\n",
              "    }\n",
              "    30% {\n",
              "      border-color: transparent;\n",
              "      border-left-color: var(--fill-color);\n",
              "      border-top-color: var(--fill-color);\n",
              "      border-right-color: var(--fill-color);\n",
              "    }\n",
              "    40% {\n",
              "      border-color: transparent;\n",
              "      border-right-color: var(--fill-color);\n",
              "      border-top-color: var(--fill-color);\n",
              "    }\n",
              "    60% {\n",
              "      border-color: transparent;\n",
              "      border-right-color: var(--fill-color);\n",
              "    }\n",
              "    80% {\n",
              "      border-color: transparent;\n",
              "      border-right-color: var(--fill-color);\n",
              "      border-bottom-color: var(--fill-color);\n",
              "    }\n",
              "    90% {\n",
              "      border-color: transparent;\n",
              "      border-bottom-color: var(--fill-color);\n",
              "    }\n",
              "  }\n",
              "</style>\n",
              "\n",
              "  <script>\n",
              "    async function quickchart(key) {\n",
              "      const quickchartButtonEl =\n",
              "        document.querySelector('#' + key + ' button');\n",
              "      quickchartButtonEl.disabled = true;  // To prevent multiple clicks.\n",
              "      quickchartButtonEl.classList.add('colab-df-spinner');\n",
              "      try {\n",
              "        const charts = await google.colab.kernel.invokeFunction(\n",
              "            'suggestCharts', [key], {});\n",
              "      } catch (error) {\n",
              "        console.error('Error during call to suggestCharts:', error);\n",
              "      }\n",
              "      quickchartButtonEl.classList.remove('colab-df-spinner');\n",
              "      quickchartButtonEl.classList.add('colab-df-quickchart-complete');\n",
              "    }\n",
              "    (() => {\n",
              "      let quickchartButtonEl =\n",
              "        document.querySelector('#df-be5e4800-3970-44bd-87f8-25eb9e82001e button');\n",
              "      quickchartButtonEl.style.display =\n",
              "        google.colab.kernel.accessAllowed ? 'block' : 'none';\n",
              "    })();\n",
              "  </script>\n",
              "</div>\n",
              "    </div>\n",
              "  </div>\n"
            ]
          },
          "metadata": {},
          "execution_count": 35
        }
      ]
    },
    {
      "cell_type": "code",
      "source": [
        "df.info()"
      ],
      "metadata": {
        "id": "pZIFObxBP2n4",
        "colab": {
          "base_uri": "https://localhost:8080/"
        },
        "outputId": "0d8c9604-0a53-40a0-c1fe-8f02808ab9ba"
      },
      "execution_count": 36,
      "outputs": [
        {
          "output_type": "stream",
          "name": "stdout",
          "text": [
            "<class 'pandas.core.frame.DataFrame'>\n",
            "Int64Index: 1017209 entries, 0 to 1017208\n",
            "Data columns (total 18 columns):\n",
            " #   Column                     Non-Null Count    Dtype         \n",
            "---  ------                     --------------    -----         \n",
            " 0   Store                      1017209 non-null  int64         \n",
            " 1   DayOfWeek                  1017209 non-null  int64         \n",
            " 2   Date                       1017209 non-null  datetime64[ns]\n",
            " 3   Sales                      1017209 non-null  int64         \n",
            " 4   Customers                  1017209 non-null  int64         \n",
            " 5   Open                       1017209 non-null  int64         \n",
            " 6   Promo                      1017209 non-null  int64         \n",
            " 7   StateHoliday               1017209 non-null  object        \n",
            " 8   SchoolHoliday              1017209 non-null  int64         \n",
            " 9   StoreType                  1017209 non-null  object        \n",
            " 10  Assortment                 1017209 non-null  object        \n",
            " 11  CompetitionDistance        1017209 non-null  float64       \n",
            " 12  CompetitionOpenSinceMonth  1017209 non-null  float64       \n",
            " 13  CompetitionOpenSinceYear   1017209 non-null  float64       \n",
            " 14  Promo2                     1017209 non-null  int64         \n",
            " 15  Promo2SinceWeek            1017209 non-null  float64       \n",
            " 16  Promo2SinceYear            1017209 non-null  float64       \n",
            " 17  PromoInterval              1017209 non-null  object        \n",
            "dtypes: datetime64[ns](1), float64(5), int64(8), object(4)\n",
            "memory usage: 147.5+ MB\n"
          ]
        }
      ]
    },
    {
      "cell_type": "markdown",
      "source": [
        "**now we will separaetly  extract date, month & year from column\"Date\"**"
      ],
      "metadata": {
        "id": "Qv6lgYYrQPnp"
      }
    },
    {
      "cell_type": "code",
      "source": [
        "df['Year'] = df['Date'].dt.year\n",
        "df['Month'] = df['Date'].dt.month\n",
        "df['WeekOfYear'] = df['Date'].dt.weekofyear\n",
        "df['DayName'] = df['Date'].dt.day_name()"
      ],
      "metadata": {
        "id": "lGBOfmu5Qd5t",
        "colab": {
          "base_uri": "https://localhost:8080/"
        },
        "outputId": "62ef0d21-bfca-4d79-89e5-a43bd994172e"
      },
      "execution_count": 37,
      "outputs": [
        {
          "output_type": "stream",
          "name": "stderr",
          "text": [
            "<ipython-input-37-320f2b55e201>:3: FutureWarning: Series.dt.weekofyear and Series.dt.week have been deprecated. Please use Series.dt.isocalendar().week instead.\n",
            "  df['WeekOfYear'] = df['Date'].dt.weekofyear\n"
          ]
        }
      ]
    },
    {
      "cell_type": "code",
      "source": [
        "df"
      ],
      "metadata": {
        "id": "jgUkjyusR7YY",
        "colab": {
          "base_uri": "https://localhost:8080/",
          "height": 617
        },
        "outputId": "30dca1de-dc51-42cc-c6e6-11231937eb38"
      },
      "execution_count": 38,
      "outputs": [
        {
          "output_type": "execute_result",
          "data": {
            "text/plain": [
              "         Store  DayOfWeek       Date  Sales  Customers  Open  Promo  \\\n",
              "0            1          5 2015-07-31   5263        555     1      1   \n",
              "1            2          5 2015-07-31   6064        625     1      1   \n",
              "2            3          5 2015-07-31   8314        821     1      1   \n",
              "3            4          5 2015-07-31  13995       1498     1      1   \n",
              "4            5          5 2015-07-31   4822        559     1      1   \n",
              "...        ...        ...        ...    ...        ...   ...    ...   \n",
              "1017204   1111          2 2013-01-01      0          0     0      0   \n",
              "1017205   1112          2 2013-01-01      0          0     0      0   \n",
              "1017206   1113          2 2013-01-01      0          0     0      0   \n",
              "1017207   1114          2 2013-01-01      0          0     0      0   \n",
              "1017208   1115          2 2013-01-01      0          0     0      0   \n",
              "\n",
              "        StateHoliday  SchoolHoliday StoreType  ... CompetitionOpenSinceMonth  \\\n",
              "0                  0              1         c  ...                       9.0   \n",
              "1                  0              1         a  ...                      11.0   \n",
              "2                  0              1         a  ...                      12.0   \n",
              "3                  0              1         c  ...                       9.0   \n",
              "4                  0              1         a  ...                       4.0   \n",
              "...              ...            ...       ...  ...                       ...   \n",
              "1017204            a              1         a  ...                       6.0   \n",
              "1017205            a              1         c  ...                       4.0   \n",
              "1017206            a              1         a  ...                       0.0   \n",
              "1017207            a              1         a  ...                       0.0   \n",
              "1017208            a              1         d  ...                       0.0   \n",
              "\n",
              "         CompetitionOpenSinceYear  Promo2  Promo2SinceWeek  Promo2SinceYear  \\\n",
              "0                          2008.0       0              0.0              0.0   \n",
              "1                          2007.0       1             13.0           2010.0   \n",
              "2                          2006.0       1             14.0           2011.0   \n",
              "3                          2009.0       0              0.0              0.0   \n",
              "4                          2015.0       0              0.0              0.0   \n",
              "...                           ...     ...              ...              ...   \n",
              "1017204                    2014.0       1             31.0           2013.0   \n",
              "1017205                    2006.0       0              0.0              0.0   \n",
              "1017206                       0.0       0              0.0              0.0   \n",
              "1017207                       0.0       0              0.0              0.0   \n",
              "1017208                       0.0       1             22.0           2012.0   \n",
              "\n",
              "            PromoInterval  Year Month  WeekOfYear  DayName  \n",
              "0                 NoPromo  2015     7          31   Friday  \n",
              "1         Jan,Apr,Jul,Oct  2015     7          31   Friday  \n",
              "2         Jan,Apr,Jul,Oct  2015     7          31   Friday  \n",
              "3                 NoPromo  2015     7          31   Friday  \n",
              "4                 NoPromo  2015     7          31   Friday  \n",
              "...                   ...   ...   ...         ...      ...  \n",
              "1017204   Jan,Apr,Jul,Oct  2013     1           1  Tuesday  \n",
              "1017205           NoPromo  2013     1           1  Tuesday  \n",
              "1017206           NoPromo  2013     1           1  Tuesday  \n",
              "1017207           NoPromo  2013     1           1  Tuesday  \n",
              "1017208  Mar,Jun,Sept,Dec  2013     1           1  Tuesday  \n",
              "\n",
              "[1017209 rows x 22 columns]"
            ],
            "text/html": [
              "\n",
              "  <div id=\"df-d77188a3-eba3-4356-9a2a-2b9af92683e3\" class=\"colab-df-container\">\n",
              "    <div>\n",
              "<style scoped>\n",
              "    .dataframe tbody tr th:only-of-type {\n",
              "        vertical-align: middle;\n",
              "    }\n",
              "\n",
              "    .dataframe tbody tr th {\n",
              "        vertical-align: top;\n",
              "    }\n",
              "\n",
              "    .dataframe thead th {\n",
              "        text-align: right;\n",
              "    }\n",
              "</style>\n",
              "<table border=\"1\" class=\"dataframe\">\n",
              "  <thead>\n",
              "    <tr style=\"text-align: right;\">\n",
              "      <th></th>\n",
              "      <th>Store</th>\n",
              "      <th>DayOfWeek</th>\n",
              "      <th>Date</th>\n",
              "      <th>Sales</th>\n",
              "      <th>Customers</th>\n",
              "      <th>Open</th>\n",
              "      <th>Promo</th>\n",
              "      <th>StateHoliday</th>\n",
              "      <th>SchoolHoliday</th>\n",
              "      <th>StoreType</th>\n",
              "      <th>...</th>\n",
              "      <th>CompetitionOpenSinceMonth</th>\n",
              "      <th>CompetitionOpenSinceYear</th>\n",
              "      <th>Promo2</th>\n",
              "      <th>Promo2SinceWeek</th>\n",
              "      <th>Promo2SinceYear</th>\n",
              "      <th>PromoInterval</th>\n",
              "      <th>Year</th>\n",
              "      <th>Month</th>\n",
              "      <th>WeekOfYear</th>\n",
              "      <th>DayName</th>\n",
              "    </tr>\n",
              "  </thead>\n",
              "  <tbody>\n",
              "    <tr>\n",
              "      <th>0</th>\n",
              "      <td>1</td>\n",
              "      <td>5</td>\n",
              "      <td>2015-07-31</td>\n",
              "      <td>5263</td>\n",
              "      <td>555</td>\n",
              "      <td>1</td>\n",
              "      <td>1</td>\n",
              "      <td>0</td>\n",
              "      <td>1</td>\n",
              "      <td>c</td>\n",
              "      <td>...</td>\n",
              "      <td>9.0</td>\n",
              "      <td>2008.0</td>\n",
              "      <td>0</td>\n",
              "      <td>0.0</td>\n",
              "      <td>0.0</td>\n",
              "      <td>NoPromo</td>\n",
              "      <td>2015</td>\n",
              "      <td>7</td>\n",
              "      <td>31</td>\n",
              "      <td>Friday</td>\n",
              "    </tr>\n",
              "    <tr>\n",
              "      <th>1</th>\n",
              "      <td>2</td>\n",
              "      <td>5</td>\n",
              "      <td>2015-07-31</td>\n",
              "      <td>6064</td>\n",
              "      <td>625</td>\n",
              "      <td>1</td>\n",
              "      <td>1</td>\n",
              "      <td>0</td>\n",
              "      <td>1</td>\n",
              "      <td>a</td>\n",
              "      <td>...</td>\n",
              "      <td>11.0</td>\n",
              "      <td>2007.0</td>\n",
              "      <td>1</td>\n",
              "      <td>13.0</td>\n",
              "      <td>2010.0</td>\n",
              "      <td>Jan,Apr,Jul,Oct</td>\n",
              "      <td>2015</td>\n",
              "      <td>7</td>\n",
              "      <td>31</td>\n",
              "      <td>Friday</td>\n",
              "    </tr>\n",
              "    <tr>\n",
              "      <th>2</th>\n",
              "      <td>3</td>\n",
              "      <td>5</td>\n",
              "      <td>2015-07-31</td>\n",
              "      <td>8314</td>\n",
              "      <td>821</td>\n",
              "      <td>1</td>\n",
              "      <td>1</td>\n",
              "      <td>0</td>\n",
              "      <td>1</td>\n",
              "      <td>a</td>\n",
              "      <td>...</td>\n",
              "      <td>12.0</td>\n",
              "      <td>2006.0</td>\n",
              "      <td>1</td>\n",
              "      <td>14.0</td>\n",
              "      <td>2011.0</td>\n",
              "      <td>Jan,Apr,Jul,Oct</td>\n",
              "      <td>2015</td>\n",
              "      <td>7</td>\n",
              "      <td>31</td>\n",
              "      <td>Friday</td>\n",
              "    </tr>\n",
              "    <tr>\n",
              "      <th>3</th>\n",
              "      <td>4</td>\n",
              "      <td>5</td>\n",
              "      <td>2015-07-31</td>\n",
              "      <td>13995</td>\n",
              "      <td>1498</td>\n",
              "      <td>1</td>\n",
              "      <td>1</td>\n",
              "      <td>0</td>\n",
              "      <td>1</td>\n",
              "      <td>c</td>\n",
              "      <td>...</td>\n",
              "      <td>9.0</td>\n",
              "      <td>2009.0</td>\n",
              "      <td>0</td>\n",
              "      <td>0.0</td>\n",
              "      <td>0.0</td>\n",
              "      <td>NoPromo</td>\n",
              "      <td>2015</td>\n",
              "      <td>7</td>\n",
              "      <td>31</td>\n",
              "      <td>Friday</td>\n",
              "    </tr>\n",
              "    <tr>\n",
              "      <th>4</th>\n",
              "      <td>5</td>\n",
              "      <td>5</td>\n",
              "      <td>2015-07-31</td>\n",
              "      <td>4822</td>\n",
              "      <td>559</td>\n",
              "      <td>1</td>\n",
              "      <td>1</td>\n",
              "      <td>0</td>\n",
              "      <td>1</td>\n",
              "      <td>a</td>\n",
              "      <td>...</td>\n",
              "      <td>4.0</td>\n",
              "      <td>2015.0</td>\n",
              "      <td>0</td>\n",
              "      <td>0.0</td>\n",
              "      <td>0.0</td>\n",
              "      <td>NoPromo</td>\n",
              "      <td>2015</td>\n",
              "      <td>7</td>\n",
              "      <td>31</td>\n",
              "      <td>Friday</td>\n",
              "    </tr>\n",
              "    <tr>\n",
              "      <th>...</th>\n",
              "      <td>...</td>\n",
              "      <td>...</td>\n",
              "      <td>...</td>\n",
              "      <td>...</td>\n",
              "      <td>...</td>\n",
              "      <td>...</td>\n",
              "      <td>...</td>\n",
              "      <td>...</td>\n",
              "      <td>...</td>\n",
              "      <td>...</td>\n",
              "      <td>...</td>\n",
              "      <td>...</td>\n",
              "      <td>...</td>\n",
              "      <td>...</td>\n",
              "      <td>...</td>\n",
              "      <td>...</td>\n",
              "      <td>...</td>\n",
              "      <td>...</td>\n",
              "      <td>...</td>\n",
              "      <td>...</td>\n",
              "      <td>...</td>\n",
              "    </tr>\n",
              "    <tr>\n",
              "      <th>1017204</th>\n",
              "      <td>1111</td>\n",
              "      <td>2</td>\n",
              "      <td>2013-01-01</td>\n",
              "      <td>0</td>\n",
              "      <td>0</td>\n",
              "      <td>0</td>\n",
              "      <td>0</td>\n",
              "      <td>a</td>\n",
              "      <td>1</td>\n",
              "      <td>a</td>\n",
              "      <td>...</td>\n",
              "      <td>6.0</td>\n",
              "      <td>2014.0</td>\n",
              "      <td>1</td>\n",
              "      <td>31.0</td>\n",
              "      <td>2013.0</td>\n",
              "      <td>Jan,Apr,Jul,Oct</td>\n",
              "      <td>2013</td>\n",
              "      <td>1</td>\n",
              "      <td>1</td>\n",
              "      <td>Tuesday</td>\n",
              "    </tr>\n",
              "    <tr>\n",
              "      <th>1017205</th>\n",
              "      <td>1112</td>\n",
              "      <td>2</td>\n",
              "      <td>2013-01-01</td>\n",
              "      <td>0</td>\n",
              "      <td>0</td>\n",
              "      <td>0</td>\n",
              "      <td>0</td>\n",
              "      <td>a</td>\n",
              "      <td>1</td>\n",
              "      <td>c</td>\n",
              "      <td>...</td>\n",
              "      <td>4.0</td>\n",
              "      <td>2006.0</td>\n",
              "      <td>0</td>\n",
              "      <td>0.0</td>\n",
              "      <td>0.0</td>\n",
              "      <td>NoPromo</td>\n",
              "      <td>2013</td>\n",
              "      <td>1</td>\n",
              "      <td>1</td>\n",
              "      <td>Tuesday</td>\n",
              "    </tr>\n",
              "    <tr>\n",
              "      <th>1017206</th>\n",
              "      <td>1113</td>\n",
              "      <td>2</td>\n",
              "      <td>2013-01-01</td>\n",
              "      <td>0</td>\n",
              "      <td>0</td>\n",
              "      <td>0</td>\n",
              "      <td>0</td>\n",
              "      <td>a</td>\n",
              "      <td>1</td>\n",
              "      <td>a</td>\n",
              "      <td>...</td>\n",
              "      <td>0.0</td>\n",
              "      <td>0.0</td>\n",
              "      <td>0</td>\n",
              "      <td>0.0</td>\n",
              "      <td>0.0</td>\n",
              "      <td>NoPromo</td>\n",
              "      <td>2013</td>\n",
              "      <td>1</td>\n",
              "      <td>1</td>\n",
              "      <td>Tuesday</td>\n",
              "    </tr>\n",
              "    <tr>\n",
              "      <th>1017207</th>\n",
              "      <td>1114</td>\n",
              "      <td>2</td>\n",
              "      <td>2013-01-01</td>\n",
              "      <td>0</td>\n",
              "      <td>0</td>\n",
              "      <td>0</td>\n",
              "      <td>0</td>\n",
              "      <td>a</td>\n",
              "      <td>1</td>\n",
              "      <td>a</td>\n",
              "      <td>...</td>\n",
              "      <td>0.0</td>\n",
              "      <td>0.0</td>\n",
              "      <td>0</td>\n",
              "      <td>0.0</td>\n",
              "      <td>0.0</td>\n",
              "      <td>NoPromo</td>\n",
              "      <td>2013</td>\n",
              "      <td>1</td>\n",
              "      <td>1</td>\n",
              "      <td>Tuesday</td>\n",
              "    </tr>\n",
              "    <tr>\n",
              "      <th>1017208</th>\n",
              "      <td>1115</td>\n",
              "      <td>2</td>\n",
              "      <td>2013-01-01</td>\n",
              "      <td>0</td>\n",
              "      <td>0</td>\n",
              "      <td>0</td>\n",
              "      <td>0</td>\n",
              "      <td>a</td>\n",
              "      <td>1</td>\n",
              "      <td>d</td>\n",
              "      <td>...</td>\n",
              "      <td>0.0</td>\n",
              "      <td>0.0</td>\n",
              "      <td>1</td>\n",
              "      <td>22.0</td>\n",
              "      <td>2012.0</td>\n",
              "      <td>Mar,Jun,Sept,Dec</td>\n",
              "      <td>2013</td>\n",
              "      <td>1</td>\n",
              "      <td>1</td>\n",
              "      <td>Tuesday</td>\n",
              "    </tr>\n",
              "  </tbody>\n",
              "</table>\n",
              "<p>1017209 rows × 22 columns</p>\n",
              "</div>\n",
              "    <div class=\"colab-df-buttons\">\n",
              "\n",
              "  <div class=\"colab-df-container\">\n",
              "    <button class=\"colab-df-convert\" onclick=\"convertToInteractive('df-d77188a3-eba3-4356-9a2a-2b9af92683e3')\"\n",
              "            title=\"Convert this dataframe to an interactive table.\"\n",
              "            style=\"display:none;\">\n",
              "\n",
              "  <svg xmlns=\"http://www.w3.org/2000/svg\" height=\"24px\" viewBox=\"0 -960 960 960\">\n",
              "    <path d=\"M120-120v-720h720v720H120Zm60-500h600v-160H180v160Zm220 220h160v-160H400v160Zm0 220h160v-160H400v160ZM180-400h160v-160H180v160Zm440 0h160v-160H620v160ZM180-180h160v-160H180v160Zm440 0h160v-160H620v160Z\"/>\n",
              "  </svg>\n",
              "    </button>\n",
              "\n",
              "  <style>\n",
              "    .colab-df-container {\n",
              "      display:flex;\n",
              "      gap: 12px;\n",
              "    }\n",
              "\n",
              "    .colab-df-convert {\n",
              "      background-color: #E8F0FE;\n",
              "      border: none;\n",
              "      border-radius: 50%;\n",
              "      cursor: pointer;\n",
              "      display: none;\n",
              "      fill: #1967D2;\n",
              "      height: 32px;\n",
              "      padding: 0 0 0 0;\n",
              "      width: 32px;\n",
              "    }\n",
              "\n",
              "    .colab-df-convert:hover {\n",
              "      background-color: #E2EBFA;\n",
              "      box-shadow: 0px 1px 2px rgba(60, 64, 67, 0.3), 0px 1px 3px 1px rgba(60, 64, 67, 0.15);\n",
              "      fill: #174EA6;\n",
              "    }\n",
              "\n",
              "    .colab-df-buttons div {\n",
              "      margin-bottom: 4px;\n",
              "    }\n",
              "\n",
              "    [theme=dark] .colab-df-convert {\n",
              "      background-color: #3B4455;\n",
              "      fill: #D2E3FC;\n",
              "    }\n",
              "\n",
              "    [theme=dark] .colab-df-convert:hover {\n",
              "      background-color: #434B5C;\n",
              "      box-shadow: 0px 1px 3px 1px rgba(0, 0, 0, 0.15);\n",
              "      filter: drop-shadow(0px 1px 2px rgba(0, 0, 0, 0.3));\n",
              "      fill: #FFFFFF;\n",
              "    }\n",
              "  </style>\n",
              "\n",
              "    <script>\n",
              "      const buttonEl =\n",
              "        document.querySelector('#df-d77188a3-eba3-4356-9a2a-2b9af92683e3 button.colab-df-convert');\n",
              "      buttonEl.style.display =\n",
              "        google.colab.kernel.accessAllowed ? 'block' : 'none';\n",
              "\n",
              "      async function convertToInteractive(key) {\n",
              "        const element = document.querySelector('#df-d77188a3-eba3-4356-9a2a-2b9af92683e3');\n",
              "        const dataTable =\n",
              "          await google.colab.kernel.invokeFunction('convertToInteractive',\n",
              "                                                    [key], {});\n",
              "        if (!dataTable) return;\n",
              "\n",
              "        const docLinkHtml = 'Like what you see? Visit the ' +\n",
              "          '<a target=\"_blank\" href=https://colab.research.google.com/notebooks/data_table.ipynb>data table notebook</a>'\n",
              "          + ' to learn more about interactive tables.';\n",
              "        element.innerHTML = '';\n",
              "        dataTable['output_type'] = 'display_data';\n",
              "        await google.colab.output.renderOutput(dataTable, element);\n",
              "        const docLink = document.createElement('div');\n",
              "        docLink.innerHTML = docLinkHtml;\n",
              "        element.appendChild(docLink);\n",
              "      }\n",
              "    </script>\n",
              "  </div>\n",
              "\n",
              "\n",
              "<div id=\"df-0fb3b10a-0499-40a2-83ea-904fc6763d39\">\n",
              "  <button class=\"colab-df-quickchart\" onclick=\"quickchart('df-0fb3b10a-0499-40a2-83ea-904fc6763d39')\"\n",
              "            title=\"Suggest charts\"\n",
              "            style=\"display:none;\">\n",
              "\n",
              "<svg xmlns=\"http://www.w3.org/2000/svg\" height=\"24px\"viewBox=\"0 0 24 24\"\n",
              "     width=\"24px\">\n",
              "    <g>\n",
              "        <path d=\"M19 3H5c-1.1 0-2 .9-2 2v14c0 1.1.9 2 2 2h14c1.1 0 2-.9 2-2V5c0-1.1-.9-2-2-2zM9 17H7v-7h2v7zm4 0h-2V7h2v10zm4 0h-2v-4h2v4z\"/>\n",
              "    </g>\n",
              "</svg>\n",
              "  </button>\n",
              "\n",
              "<style>\n",
              "  .colab-df-quickchart {\n",
              "      --bg-color: #E8F0FE;\n",
              "      --fill-color: #1967D2;\n",
              "      --hover-bg-color: #E2EBFA;\n",
              "      --hover-fill-color: #174EA6;\n",
              "      --disabled-fill-color: #AAA;\n",
              "      --disabled-bg-color: #DDD;\n",
              "  }\n",
              "\n",
              "  [theme=dark] .colab-df-quickchart {\n",
              "      --bg-color: #3B4455;\n",
              "      --fill-color: #D2E3FC;\n",
              "      --hover-bg-color: #434B5C;\n",
              "      --hover-fill-color: #FFFFFF;\n",
              "      --disabled-bg-color: #3B4455;\n",
              "      --disabled-fill-color: #666;\n",
              "  }\n",
              "\n",
              "  .colab-df-quickchart {\n",
              "    background-color: var(--bg-color);\n",
              "    border: none;\n",
              "    border-radius: 50%;\n",
              "    cursor: pointer;\n",
              "    display: none;\n",
              "    fill: var(--fill-color);\n",
              "    height: 32px;\n",
              "    padding: 0;\n",
              "    width: 32px;\n",
              "  }\n",
              "\n",
              "  .colab-df-quickchart:hover {\n",
              "    background-color: var(--hover-bg-color);\n",
              "    box-shadow: 0 1px 2px rgba(60, 64, 67, 0.3), 0 1px 3px 1px rgba(60, 64, 67, 0.15);\n",
              "    fill: var(--button-hover-fill-color);\n",
              "  }\n",
              "\n",
              "  .colab-df-quickchart-complete:disabled,\n",
              "  .colab-df-quickchart-complete:disabled:hover {\n",
              "    background-color: var(--disabled-bg-color);\n",
              "    fill: var(--disabled-fill-color);\n",
              "    box-shadow: none;\n",
              "  }\n",
              "\n",
              "  .colab-df-spinner {\n",
              "    border: 2px solid var(--fill-color);\n",
              "    border-color: transparent;\n",
              "    border-bottom-color: var(--fill-color);\n",
              "    animation:\n",
              "      spin 1s steps(1) infinite;\n",
              "  }\n",
              "\n",
              "  @keyframes spin {\n",
              "    0% {\n",
              "      border-color: transparent;\n",
              "      border-bottom-color: var(--fill-color);\n",
              "      border-left-color: var(--fill-color);\n",
              "    }\n",
              "    20% {\n",
              "      border-color: transparent;\n",
              "      border-left-color: var(--fill-color);\n",
              "      border-top-color: var(--fill-color);\n",
              "    }\n",
              "    30% {\n",
              "      border-color: transparent;\n",
              "      border-left-color: var(--fill-color);\n",
              "      border-top-color: var(--fill-color);\n",
              "      border-right-color: var(--fill-color);\n",
              "    }\n",
              "    40% {\n",
              "      border-color: transparent;\n",
              "      border-right-color: var(--fill-color);\n",
              "      border-top-color: var(--fill-color);\n",
              "    }\n",
              "    60% {\n",
              "      border-color: transparent;\n",
              "      border-right-color: var(--fill-color);\n",
              "    }\n",
              "    80% {\n",
              "      border-color: transparent;\n",
              "      border-right-color: var(--fill-color);\n",
              "      border-bottom-color: var(--fill-color);\n",
              "    }\n",
              "    90% {\n",
              "      border-color: transparent;\n",
              "      border-bottom-color: var(--fill-color);\n",
              "    }\n",
              "  }\n",
              "</style>\n",
              "\n",
              "  <script>\n",
              "    async function quickchart(key) {\n",
              "      const quickchartButtonEl =\n",
              "        document.querySelector('#' + key + ' button');\n",
              "      quickchartButtonEl.disabled = true;  // To prevent multiple clicks.\n",
              "      quickchartButtonEl.classList.add('colab-df-spinner');\n",
              "      try {\n",
              "        const charts = await google.colab.kernel.invokeFunction(\n",
              "            'suggestCharts', [key], {});\n",
              "      } catch (error) {\n",
              "        console.error('Error during call to suggestCharts:', error);\n",
              "      }\n",
              "      quickchartButtonEl.classList.remove('colab-df-spinner');\n",
              "      quickchartButtonEl.classList.add('colab-df-quickchart-complete');\n",
              "    }\n",
              "    (() => {\n",
              "      let quickchartButtonEl =\n",
              "        document.querySelector('#df-0fb3b10a-0499-40a2-83ea-904fc6763d39 button');\n",
              "      quickchartButtonEl.style.display =\n",
              "        google.colab.kernel.accessAllowed ? 'block' : 'none';\n",
              "    })();\n",
              "  </script>\n",
              "</div>\n",
              "    </div>\n",
              "  </div>\n"
            ]
          },
          "metadata": {},
          "execution_count": 38
        }
      ]
    },
    {
      "cell_type": "code",
      "source": [
        "df.copy()"
      ],
      "metadata": {
        "id": "61EPjAq7L8mL",
        "colab": {
          "base_uri": "https://localhost:8080/",
          "height": 617
        },
        "outputId": "06cef936-b249-456c-81dc-bcf6e87822be"
      },
      "execution_count": 39,
      "outputs": [
        {
          "output_type": "execute_result",
          "data": {
            "text/plain": [
              "         Store  DayOfWeek       Date  Sales  Customers  Open  Promo  \\\n",
              "0            1          5 2015-07-31   5263        555     1      1   \n",
              "1            2          5 2015-07-31   6064        625     1      1   \n",
              "2            3          5 2015-07-31   8314        821     1      1   \n",
              "3            4          5 2015-07-31  13995       1498     1      1   \n",
              "4            5          5 2015-07-31   4822        559     1      1   \n",
              "...        ...        ...        ...    ...        ...   ...    ...   \n",
              "1017204   1111          2 2013-01-01      0          0     0      0   \n",
              "1017205   1112          2 2013-01-01      0          0     0      0   \n",
              "1017206   1113          2 2013-01-01      0          0     0      0   \n",
              "1017207   1114          2 2013-01-01      0          0     0      0   \n",
              "1017208   1115          2 2013-01-01      0          0     0      0   \n",
              "\n",
              "        StateHoliday  SchoolHoliday StoreType  ... CompetitionOpenSinceMonth  \\\n",
              "0                  0              1         c  ...                       9.0   \n",
              "1                  0              1         a  ...                      11.0   \n",
              "2                  0              1         a  ...                      12.0   \n",
              "3                  0              1         c  ...                       9.0   \n",
              "4                  0              1         a  ...                       4.0   \n",
              "...              ...            ...       ...  ...                       ...   \n",
              "1017204            a              1         a  ...                       6.0   \n",
              "1017205            a              1         c  ...                       4.0   \n",
              "1017206            a              1         a  ...                       0.0   \n",
              "1017207            a              1         a  ...                       0.0   \n",
              "1017208            a              1         d  ...                       0.0   \n",
              "\n",
              "         CompetitionOpenSinceYear  Promo2  Promo2SinceWeek  Promo2SinceYear  \\\n",
              "0                          2008.0       0              0.0              0.0   \n",
              "1                          2007.0       1             13.0           2010.0   \n",
              "2                          2006.0       1             14.0           2011.0   \n",
              "3                          2009.0       0              0.0              0.0   \n",
              "4                          2015.0       0              0.0              0.0   \n",
              "...                           ...     ...              ...              ...   \n",
              "1017204                    2014.0       1             31.0           2013.0   \n",
              "1017205                    2006.0       0              0.0              0.0   \n",
              "1017206                       0.0       0              0.0              0.0   \n",
              "1017207                       0.0       0              0.0              0.0   \n",
              "1017208                       0.0       1             22.0           2012.0   \n",
              "\n",
              "            PromoInterval  Year Month  WeekOfYear  DayName  \n",
              "0                 NoPromo  2015     7          31   Friday  \n",
              "1         Jan,Apr,Jul,Oct  2015     7          31   Friday  \n",
              "2         Jan,Apr,Jul,Oct  2015     7          31   Friday  \n",
              "3                 NoPromo  2015     7          31   Friday  \n",
              "4                 NoPromo  2015     7          31   Friday  \n",
              "...                   ...   ...   ...         ...      ...  \n",
              "1017204   Jan,Apr,Jul,Oct  2013     1           1  Tuesday  \n",
              "1017205           NoPromo  2013     1           1  Tuesday  \n",
              "1017206           NoPromo  2013     1           1  Tuesday  \n",
              "1017207           NoPromo  2013     1           1  Tuesday  \n",
              "1017208  Mar,Jun,Sept,Dec  2013     1           1  Tuesday  \n",
              "\n",
              "[1017209 rows x 22 columns]"
            ],
            "text/html": [
              "\n",
              "  <div id=\"df-0f98061f-ac33-4825-b7cf-f73ed9ee3bf4\" class=\"colab-df-container\">\n",
              "    <div>\n",
              "<style scoped>\n",
              "    .dataframe tbody tr th:only-of-type {\n",
              "        vertical-align: middle;\n",
              "    }\n",
              "\n",
              "    .dataframe tbody tr th {\n",
              "        vertical-align: top;\n",
              "    }\n",
              "\n",
              "    .dataframe thead th {\n",
              "        text-align: right;\n",
              "    }\n",
              "</style>\n",
              "<table border=\"1\" class=\"dataframe\">\n",
              "  <thead>\n",
              "    <tr style=\"text-align: right;\">\n",
              "      <th></th>\n",
              "      <th>Store</th>\n",
              "      <th>DayOfWeek</th>\n",
              "      <th>Date</th>\n",
              "      <th>Sales</th>\n",
              "      <th>Customers</th>\n",
              "      <th>Open</th>\n",
              "      <th>Promo</th>\n",
              "      <th>StateHoliday</th>\n",
              "      <th>SchoolHoliday</th>\n",
              "      <th>StoreType</th>\n",
              "      <th>...</th>\n",
              "      <th>CompetitionOpenSinceMonth</th>\n",
              "      <th>CompetitionOpenSinceYear</th>\n",
              "      <th>Promo2</th>\n",
              "      <th>Promo2SinceWeek</th>\n",
              "      <th>Promo2SinceYear</th>\n",
              "      <th>PromoInterval</th>\n",
              "      <th>Year</th>\n",
              "      <th>Month</th>\n",
              "      <th>WeekOfYear</th>\n",
              "      <th>DayName</th>\n",
              "    </tr>\n",
              "  </thead>\n",
              "  <tbody>\n",
              "    <tr>\n",
              "      <th>0</th>\n",
              "      <td>1</td>\n",
              "      <td>5</td>\n",
              "      <td>2015-07-31</td>\n",
              "      <td>5263</td>\n",
              "      <td>555</td>\n",
              "      <td>1</td>\n",
              "      <td>1</td>\n",
              "      <td>0</td>\n",
              "      <td>1</td>\n",
              "      <td>c</td>\n",
              "      <td>...</td>\n",
              "      <td>9.0</td>\n",
              "      <td>2008.0</td>\n",
              "      <td>0</td>\n",
              "      <td>0.0</td>\n",
              "      <td>0.0</td>\n",
              "      <td>NoPromo</td>\n",
              "      <td>2015</td>\n",
              "      <td>7</td>\n",
              "      <td>31</td>\n",
              "      <td>Friday</td>\n",
              "    </tr>\n",
              "    <tr>\n",
              "      <th>1</th>\n",
              "      <td>2</td>\n",
              "      <td>5</td>\n",
              "      <td>2015-07-31</td>\n",
              "      <td>6064</td>\n",
              "      <td>625</td>\n",
              "      <td>1</td>\n",
              "      <td>1</td>\n",
              "      <td>0</td>\n",
              "      <td>1</td>\n",
              "      <td>a</td>\n",
              "      <td>...</td>\n",
              "      <td>11.0</td>\n",
              "      <td>2007.0</td>\n",
              "      <td>1</td>\n",
              "      <td>13.0</td>\n",
              "      <td>2010.0</td>\n",
              "      <td>Jan,Apr,Jul,Oct</td>\n",
              "      <td>2015</td>\n",
              "      <td>7</td>\n",
              "      <td>31</td>\n",
              "      <td>Friday</td>\n",
              "    </tr>\n",
              "    <tr>\n",
              "      <th>2</th>\n",
              "      <td>3</td>\n",
              "      <td>5</td>\n",
              "      <td>2015-07-31</td>\n",
              "      <td>8314</td>\n",
              "      <td>821</td>\n",
              "      <td>1</td>\n",
              "      <td>1</td>\n",
              "      <td>0</td>\n",
              "      <td>1</td>\n",
              "      <td>a</td>\n",
              "      <td>...</td>\n",
              "      <td>12.0</td>\n",
              "      <td>2006.0</td>\n",
              "      <td>1</td>\n",
              "      <td>14.0</td>\n",
              "      <td>2011.0</td>\n",
              "      <td>Jan,Apr,Jul,Oct</td>\n",
              "      <td>2015</td>\n",
              "      <td>7</td>\n",
              "      <td>31</td>\n",
              "      <td>Friday</td>\n",
              "    </tr>\n",
              "    <tr>\n",
              "      <th>3</th>\n",
              "      <td>4</td>\n",
              "      <td>5</td>\n",
              "      <td>2015-07-31</td>\n",
              "      <td>13995</td>\n",
              "      <td>1498</td>\n",
              "      <td>1</td>\n",
              "      <td>1</td>\n",
              "      <td>0</td>\n",
              "      <td>1</td>\n",
              "      <td>c</td>\n",
              "      <td>...</td>\n",
              "      <td>9.0</td>\n",
              "      <td>2009.0</td>\n",
              "      <td>0</td>\n",
              "      <td>0.0</td>\n",
              "      <td>0.0</td>\n",
              "      <td>NoPromo</td>\n",
              "      <td>2015</td>\n",
              "      <td>7</td>\n",
              "      <td>31</td>\n",
              "      <td>Friday</td>\n",
              "    </tr>\n",
              "    <tr>\n",
              "      <th>4</th>\n",
              "      <td>5</td>\n",
              "      <td>5</td>\n",
              "      <td>2015-07-31</td>\n",
              "      <td>4822</td>\n",
              "      <td>559</td>\n",
              "      <td>1</td>\n",
              "      <td>1</td>\n",
              "      <td>0</td>\n",
              "      <td>1</td>\n",
              "      <td>a</td>\n",
              "      <td>...</td>\n",
              "      <td>4.0</td>\n",
              "      <td>2015.0</td>\n",
              "      <td>0</td>\n",
              "      <td>0.0</td>\n",
              "      <td>0.0</td>\n",
              "      <td>NoPromo</td>\n",
              "      <td>2015</td>\n",
              "      <td>7</td>\n",
              "      <td>31</td>\n",
              "      <td>Friday</td>\n",
              "    </tr>\n",
              "    <tr>\n",
              "      <th>...</th>\n",
              "      <td>...</td>\n",
              "      <td>...</td>\n",
              "      <td>...</td>\n",
              "      <td>...</td>\n",
              "      <td>...</td>\n",
              "      <td>...</td>\n",
              "      <td>...</td>\n",
              "      <td>...</td>\n",
              "      <td>...</td>\n",
              "      <td>...</td>\n",
              "      <td>...</td>\n",
              "      <td>...</td>\n",
              "      <td>...</td>\n",
              "      <td>...</td>\n",
              "      <td>...</td>\n",
              "      <td>...</td>\n",
              "      <td>...</td>\n",
              "      <td>...</td>\n",
              "      <td>...</td>\n",
              "      <td>...</td>\n",
              "      <td>...</td>\n",
              "    </tr>\n",
              "    <tr>\n",
              "      <th>1017204</th>\n",
              "      <td>1111</td>\n",
              "      <td>2</td>\n",
              "      <td>2013-01-01</td>\n",
              "      <td>0</td>\n",
              "      <td>0</td>\n",
              "      <td>0</td>\n",
              "      <td>0</td>\n",
              "      <td>a</td>\n",
              "      <td>1</td>\n",
              "      <td>a</td>\n",
              "      <td>...</td>\n",
              "      <td>6.0</td>\n",
              "      <td>2014.0</td>\n",
              "      <td>1</td>\n",
              "      <td>31.0</td>\n",
              "      <td>2013.0</td>\n",
              "      <td>Jan,Apr,Jul,Oct</td>\n",
              "      <td>2013</td>\n",
              "      <td>1</td>\n",
              "      <td>1</td>\n",
              "      <td>Tuesday</td>\n",
              "    </tr>\n",
              "    <tr>\n",
              "      <th>1017205</th>\n",
              "      <td>1112</td>\n",
              "      <td>2</td>\n",
              "      <td>2013-01-01</td>\n",
              "      <td>0</td>\n",
              "      <td>0</td>\n",
              "      <td>0</td>\n",
              "      <td>0</td>\n",
              "      <td>a</td>\n",
              "      <td>1</td>\n",
              "      <td>c</td>\n",
              "      <td>...</td>\n",
              "      <td>4.0</td>\n",
              "      <td>2006.0</td>\n",
              "      <td>0</td>\n",
              "      <td>0.0</td>\n",
              "      <td>0.0</td>\n",
              "      <td>NoPromo</td>\n",
              "      <td>2013</td>\n",
              "      <td>1</td>\n",
              "      <td>1</td>\n",
              "      <td>Tuesday</td>\n",
              "    </tr>\n",
              "    <tr>\n",
              "      <th>1017206</th>\n",
              "      <td>1113</td>\n",
              "      <td>2</td>\n",
              "      <td>2013-01-01</td>\n",
              "      <td>0</td>\n",
              "      <td>0</td>\n",
              "      <td>0</td>\n",
              "      <td>0</td>\n",
              "      <td>a</td>\n",
              "      <td>1</td>\n",
              "      <td>a</td>\n",
              "      <td>...</td>\n",
              "      <td>0.0</td>\n",
              "      <td>0.0</td>\n",
              "      <td>0</td>\n",
              "      <td>0.0</td>\n",
              "      <td>0.0</td>\n",
              "      <td>NoPromo</td>\n",
              "      <td>2013</td>\n",
              "      <td>1</td>\n",
              "      <td>1</td>\n",
              "      <td>Tuesday</td>\n",
              "    </tr>\n",
              "    <tr>\n",
              "      <th>1017207</th>\n",
              "      <td>1114</td>\n",
              "      <td>2</td>\n",
              "      <td>2013-01-01</td>\n",
              "      <td>0</td>\n",
              "      <td>0</td>\n",
              "      <td>0</td>\n",
              "      <td>0</td>\n",
              "      <td>a</td>\n",
              "      <td>1</td>\n",
              "      <td>a</td>\n",
              "      <td>...</td>\n",
              "      <td>0.0</td>\n",
              "      <td>0.0</td>\n",
              "      <td>0</td>\n",
              "      <td>0.0</td>\n",
              "      <td>0.0</td>\n",
              "      <td>NoPromo</td>\n",
              "      <td>2013</td>\n",
              "      <td>1</td>\n",
              "      <td>1</td>\n",
              "      <td>Tuesday</td>\n",
              "    </tr>\n",
              "    <tr>\n",
              "      <th>1017208</th>\n",
              "      <td>1115</td>\n",
              "      <td>2</td>\n",
              "      <td>2013-01-01</td>\n",
              "      <td>0</td>\n",
              "      <td>0</td>\n",
              "      <td>0</td>\n",
              "      <td>0</td>\n",
              "      <td>a</td>\n",
              "      <td>1</td>\n",
              "      <td>d</td>\n",
              "      <td>...</td>\n",
              "      <td>0.0</td>\n",
              "      <td>0.0</td>\n",
              "      <td>1</td>\n",
              "      <td>22.0</td>\n",
              "      <td>2012.0</td>\n",
              "      <td>Mar,Jun,Sept,Dec</td>\n",
              "      <td>2013</td>\n",
              "      <td>1</td>\n",
              "      <td>1</td>\n",
              "      <td>Tuesday</td>\n",
              "    </tr>\n",
              "  </tbody>\n",
              "</table>\n",
              "<p>1017209 rows × 22 columns</p>\n",
              "</div>\n",
              "    <div class=\"colab-df-buttons\">\n",
              "\n",
              "  <div class=\"colab-df-container\">\n",
              "    <button class=\"colab-df-convert\" onclick=\"convertToInteractive('df-0f98061f-ac33-4825-b7cf-f73ed9ee3bf4')\"\n",
              "            title=\"Convert this dataframe to an interactive table.\"\n",
              "            style=\"display:none;\">\n",
              "\n",
              "  <svg xmlns=\"http://www.w3.org/2000/svg\" height=\"24px\" viewBox=\"0 -960 960 960\">\n",
              "    <path d=\"M120-120v-720h720v720H120Zm60-500h600v-160H180v160Zm220 220h160v-160H400v160Zm0 220h160v-160H400v160ZM180-400h160v-160H180v160Zm440 0h160v-160H620v160ZM180-180h160v-160H180v160Zm440 0h160v-160H620v160Z\"/>\n",
              "  </svg>\n",
              "    </button>\n",
              "\n",
              "  <style>\n",
              "    .colab-df-container {\n",
              "      display:flex;\n",
              "      gap: 12px;\n",
              "    }\n",
              "\n",
              "    .colab-df-convert {\n",
              "      background-color: #E8F0FE;\n",
              "      border: none;\n",
              "      border-radius: 50%;\n",
              "      cursor: pointer;\n",
              "      display: none;\n",
              "      fill: #1967D2;\n",
              "      height: 32px;\n",
              "      padding: 0 0 0 0;\n",
              "      width: 32px;\n",
              "    }\n",
              "\n",
              "    .colab-df-convert:hover {\n",
              "      background-color: #E2EBFA;\n",
              "      box-shadow: 0px 1px 2px rgba(60, 64, 67, 0.3), 0px 1px 3px 1px rgba(60, 64, 67, 0.15);\n",
              "      fill: #174EA6;\n",
              "    }\n",
              "\n",
              "    .colab-df-buttons div {\n",
              "      margin-bottom: 4px;\n",
              "    }\n",
              "\n",
              "    [theme=dark] .colab-df-convert {\n",
              "      background-color: #3B4455;\n",
              "      fill: #D2E3FC;\n",
              "    }\n",
              "\n",
              "    [theme=dark] .colab-df-convert:hover {\n",
              "      background-color: #434B5C;\n",
              "      box-shadow: 0px 1px 3px 1px rgba(0, 0, 0, 0.15);\n",
              "      filter: drop-shadow(0px 1px 2px rgba(0, 0, 0, 0.3));\n",
              "      fill: #FFFFFF;\n",
              "    }\n",
              "  </style>\n",
              "\n",
              "    <script>\n",
              "      const buttonEl =\n",
              "        document.querySelector('#df-0f98061f-ac33-4825-b7cf-f73ed9ee3bf4 button.colab-df-convert');\n",
              "      buttonEl.style.display =\n",
              "        google.colab.kernel.accessAllowed ? 'block' : 'none';\n",
              "\n",
              "      async function convertToInteractive(key) {\n",
              "        const element = document.querySelector('#df-0f98061f-ac33-4825-b7cf-f73ed9ee3bf4');\n",
              "        const dataTable =\n",
              "          await google.colab.kernel.invokeFunction('convertToInteractive',\n",
              "                                                    [key], {});\n",
              "        if (!dataTable) return;\n",
              "\n",
              "        const docLinkHtml = 'Like what you see? Visit the ' +\n",
              "          '<a target=\"_blank\" href=https://colab.research.google.com/notebooks/data_table.ipynb>data table notebook</a>'\n",
              "          + ' to learn more about interactive tables.';\n",
              "        element.innerHTML = '';\n",
              "        dataTable['output_type'] = 'display_data';\n",
              "        await google.colab.output.renderOutput(dataTable, element);\n",
              "        const docLink = document.createElement('div');\n",
              "        docLink.innerHTML = docLinkHtml;\n",
              "        element.appendChild(docLink);\n",
              "      }\n",
              "    </script>\n",
              "  </div>\n",
              "\n",
              "\n",
              "<div id=\"df-94953b9e-6448-4fdb-bdb4-ae53c3b79a51\">\n",
              "  <button class=\"colab-df-quickchart\" onclick=\"quickchart('df-94953b9e-6448-4fdb-bdb4-ae53c3b79a51')\"\n",
              "            title=\"Suggest charts\"\n",
              "            style=\"display:none;\">\n",
              "\n",
              "<svg xmlns=\"http://www.w3.org/2000/svg\" height=\"24px\"viewBox=\"0 0 24 24\"\n",
              "     width=\"24px\">\n",
              "    <g>\n",
              "        <path d=\"M19 3H5c-1.1 0-2 .9-2 2v14c0 1.1.9 2 2 2h14c1.1 0 2-.9 2-2V5c0-1.1-.9-2-2-2zM9 17H7v-7h2v7zm4 0h-2V7h2v10zm4 0h-2v-4h2v4z\"/>\n",
              "    </g>\n",
              "</svg>\n",
              "  </button>\n",
              "\n",
              "<style>\n",
              "  .colab-df-quickchart {\n",
              "      --bg-color: #E8F0FE;\n",
              "      --fill-color: #1967D2;\n",
              "      --hover-bg-color: #E2EBFA;\n",
              "      --hover-fill-color: #174EA6;\n",
              "      --disabled-fill-color: #AAA;\n",
              "      --disabled-bg-color: #DDD;\n",
              "  }\n",
              "\n",
              "  [theme=dark] .colab-df-quickchart {\n",
              "      --bg-color: #3B4455;\n",
              "      --fill-color: #D2E3FC;\n",
              "      --hover-bg-color: #434B5C;\n",
              "      --hover-fill-color: #FFFFFF;\n",
              "      --disabled-bg-color: #3B4455;\n",
              "      --disabled-fill-color: #666;\n",
              "  }\n",
              "\n",
              "  .colab-df-quickchart {\n",
              "    background-color: var(--bg-color);\n",
              "    border: none;\n",
              "    border-radius: 50%;\n",
              "    cursor: pointer;\n",
              "    display: none;\n",
              "    fill: var(--fill-color);\n",
              "    height: 32px;\n",
              "    padding: 0;\n",
              "    width: 32px;\n",
              "  }\n",
              "\n",
              "  .colab-df-quickchart:hover {\n",
              "    background-color: var(--hover-bg-color);\n",
              "    box-shadow: 0 1px 2px rgba(60, 64, 67, 0.3), 0 1px 3px 1px rgba(60, 64, 67, 0.15);\n",
              "    fill: var(--button-hover-fill-color);\n",
              "  }\n",
              "\n",
              "  .colab-df-quickchart-complete:disabled,\n",
              "  .colab-df-quickchart-complete:disabled:hover {\n",
              "    background-color: var(--disabled-bg-color);\n",
              "    fill: var(--disabled-fill-color);\n",
              "    box-shadow: none;\n",
              "  }\n",
              "\n",
              "  .colab-df-spinner {\n",
              "    border: 2px solid var(--fill-color);\n",
              "    border-color: transparent;\n",
              "    border-bottom-color: var(--fill-color);\n",
              "    animation:\n",
              "      spin 1s steps(1) infinite;\n",
              "  }\n",
              "\n",
              "  @keyframes spin {\n",
              "    0% {\n",
              "      border-color: transparent;\n",
              "      border-bottom-color: var(--fill-color);\n",
              "      border-left-color: var(--fill-color);\n",
              "    }\n",
              "    20% {\n",
              "      border-color: transparent;\n",
              "      border-left-color: var(--fill-color);\n",
              "      border-top-color: var(--fill-color);\n",
              "    }\n",
              "    30% {\n",
              "      border-color: transparent;\n",
              "      border-left-color: var(--fill-color);\n",
              "      border-top-color: var(--fill-color);\n",
              "      border-right-color: var(--fill-color);\n",
              "    }\n",
              "    40% {\n",
              "      border-color: transparent;\n",
              "      border-right-color: var(--fill-color);\n",
              "      border-top-color: var(--fill-color);\n",
              "    }\n",
              "    60% {\n",
              "      border-color: transparent;\n",
              "      border-right-color: var(--fill-color);\n",
              "    }\n",
              "    80% {\n",
              "      border-color: transparent;\n",
              "      border-right-color: var(--fill-color);\n",
              "      border-bottom-color: var(--fill-color);\n",
              "    }\n",
              "    90% {\n",
              "      border-color: transparent;\n",
              "      border-bottom-color: var(--fill-color);\n",
              "    }\n",
              "  }\n",
              "</style>\n",
              "\n",
              "  <script>\n",
              "    async function quickchart(key) {\n",
              "      const quickchartButtonEl =\n",
              "        document.querySelector('#' + key + ' button');\n",
              "      quickchartButtonEl.disabled = true;  // To prevent multiple clicks.\n",
              "      quickchartButtonEl.classList.add('colab-df-spinner');\n",
              "      try {\n",
              "        const charts = await google.colab.kernel.invokeFunction(\n",
              "            'suggestCharts', [key], {});\n",
              "      } catch (error) {\n",
              "        console.error('Error during call to suggestCharts:', error);\n",
              "      }\n",
              "      quickchartButtonEl.classList.remove('colab-df-spinner');\n",
              "      quickchartButtonEl.classList.add('colab-df-quickchart-complete');\n",
              "    }\n",
              "    (() => {\n",
              "      let quickchartButtonEl =\n",
              "        document.querySelector('#df-94953b9e-6448-4fdb-bdb4-ae53c3b79a51 button');\n",
              "      quickchartButtonEl.style.display =\n",
              "        google.colab.kernel.accessAllowed ? 'block' : 'none';\n",
              "    })();\n",
              "  </script>\n",
              "</div>\n",
              "    </div>\n",
              "  </div>\n"
            ]
          },
          "metadata": {},
          "execution_count": 39
        }
      ]
    },
    {
      "cell_type": "code",
      "source": [
        "df.columns"
      ],
      "metadata": {
        "id": "DJWAh75wjI20",
        "colab": {
          "base_uri": "https://localhost:8080/"
        },
        "outputId": "aa7765a2-574e-4893-ac2d-10c03595ce97"
      },
      "execution_count": 42,
      "outputs": [
        {
          "output_type": "execute_result",
          "data": {
            "text/plain": [
              "Index(['Store', 'DayOfWeek', 'Date', 'Sales', 'Customers', 'Open', 'Promo',\n",
              "       'StateHoliday', 'SchoolHoliday', 'StoreType', 'Assortment',\n",
              "       'CompetitionDistance', 'CompetitionOpenSinceMonth',\n",
              "       'CompetitionOpenSinceYear', 'Promo2', 'Promo2SinceWeek',\n",
              "       'Promo2SinceYear', 'PromoInterval', 'Year', 'Month', 'WeekOfYear',\n",
              "       'DayName'],\n",
              "      dtype='object')"
            ]
          },
          "metadata": {},
          "execution_count": 42
        }
      ]
    },
    {
      "cell_type": "markdown",
      "source": [
        "### What all manipulations have you done and insights you found?"
      ],
      "metadata": {
        "id": "MSa1f5Uengrz"
      }
    },
    {
      "cell_type": "markdown",
      "source": [
        "1. Importing important libraries such as numpy,pandas,matplotlib, seaborn,etc.\n",
        "2. mounting google drive in colab\n",
        "3. Entered URL for both data set and used pandas to read those Data Set\n",
        "4. finally printed both the data set i.e data1 & data2\n",
        "5. Then used various funtions like 'shape', 'describe', 'info' to know data more accurately\n",
        "6. Then checking DUplicate and null values for both data sets. by doing this i found out that data1 has null value whereas data2 has no null value\n",
        "7. Then i checked unique value for each column for both data set.\n",
        "8. replaced all the null values from dat1 by using apropriate method like mean,mode,median\n",
        "9. After Replacing null values i again checked null values and found there no null values left in both data set\n",
        "10. In data2 we have a column \"Date\" which is in object form. So i changed the format of the column in date format\n",
        "11. Then i mergerd both data set for vizualization and analysis work\n",
        "12. After merging the final data i.e 'df' was printed"
      ],
      "metadata": {
        "id": "LbyXE7I1olp8"
      }
    },
    {
      "cell_type": "markdown",
      "source": [
        "## ***4. Data Vizualization, Storytelling & Experimenting with charts : Understand the relationships between variables***"
      ],
      "metadata": {
        "id": "GF8Ens_Soomf"
      }
    },
    {
      "cell_type": "markdown",
      "source": [
        "#### Chart - 1"
      ],
      "metadata": {
        "id": "0wOQAZs5pc--"
      }
    },
    {
      "cell_type": "markdown",
      "source": [
        "**<h2>STORE CLOSURE PATTERN**"
      ],
      "metadata": {
        "id": "NvWQ9_1ydMHB"
      }
    },
    {
      "cell_type": "code",
      "source": [
        "closure_count = df.groupby(['DayOfWeek','Open'])['Open'].count().unstack()\n",
        "closure_count"
      ],
      "metadata": {
        "id": "Dq9DmJN8cWZy"
      },
      "execution_count": null,
      "outputs": []
    },
    {
      "cell_type": "code",
      "source": [
        "closure_count.plot(kind='bar',figsize=(15,5),color=['violet','purple'],fontsize=8)\n",
        "plt.title('''STORE CLOSURE PATTERN\n",
        "(0 = Close & 1 = Open)''',fontsize = 12,color='purple')\n",
        "plt.xlabel('WEEK DAY NUMBER',fontsize = 10,color='purple')\n",
        "plt.ylabel('COUNT',fontsize = 10,color='purple')\n",
        "\n",
        "plt.show()"
      ],
      "metadata": {
        "id": "Sn2J-DxgchYF"
      },
      "execution_count": null,
      "outputs": []
    },
    {
      "cell_type": "markdown",
      "source": [
        "##### 1. Why did you pick the specific chart?"
      ],
      "metadata": {
        "id": "K5QZ13OEpz2H"
      }
    },
    {
      "cell_type": "markdown",
      "source": [
        "I chose a bar graph for visualizing the store closure pattern because it is an effective way to display categorical data (day of the week) against a quantitative variable (number of store closures). Bar graphs make it easy to compare and highlight differences in closure patterns across different days of the week."
      ],
      "metadata": {
        "id": "XESiWehPqBRc"
      }
    },
    {
      "cell_type": "markdown",
      "source": [
        "##### 2. What is/are the insight(s) found from the chart?"
      ],
      "metadata": {
        "id": "lQ7QKXXCp7Bj"
      }
    },
    {
      "cell_type": "markdown",
      "source": [
        "The primary insight from the chart is that a significant number of stores are closed on Sundays. This is evident from the relatively low bar of open for Sunday compared to the bars for other days of the week. The data shows a clear trend of store closures, indicating that Sunday is the day when many stores choose to remain closed."
      ],
      "metadata": {
        "id": "C_j1G7yiqdRP"
      }
    },
    {
      "cell_type": "markdown",
      "source": [
        "##### 3. Will the gained insights help creating a positive business impact?\n",
        "Are there any insights that lead to negative growth? Justify with specific reason."
      ],
      "metadata": {
        "id": "448CDAPjqfQr"
      }
    },
    {
      "cell_type": "markdown",
      "source": [
        "\n",
        "The insight that stores are predominantly closed on Sundays can have both positive and negative implications for a business, depending on the context:\n",
        "\n",
        "**Positive Impact:**\n",
        "\n",
        "  1. **Cost Savings:** Stores that close on Sundays can potentially reduce operating costs such as labor, utilities, and maintenance.\n",
        "  2. **Employee Well-Being:** It may provide employees with a regular day off, contributing to better work-life balance and job satisfaction.\n",
        "  3. **Resource Allocation:** Knowing that Sundays are slower business days, retailers can optimize staff scheduling and resource allocation.\n",
        "\n",
        "**Negative Impact:**\n",
        "\n",
        "  1. **Missed Sales Opportunities:** Closing on Sundays may lead to missed sales opportunities, as some customers prefer to shop on weekends. This could impact overall revenue.\n",
        "  2. **Competitive Disadvantage:** If competitors remain open on Sundays, a store's closure on that day could put them at a competitive disadvantage.\n",
        "  3. **Customer Inconvenience:** Customers who rely on Sunday shopping might find it inconvenient if the store is closed, potentially leading to dissatisfaction."
      ],
      "metadata": {
        "id": "3cspy4FjqxJW"
      }
    },
    {
      "cell_type": "markdown",
      "source": [
        "#### Chart - 2"
      ],
      "metadata": {
        "id": "KSlN3yHqYklG"
      }
    },
    {
      "cell_type": "markdown",
      "source": [
        "**<h2>SALES AFFECTED BY SCHOOL HOLIDAY**"
      ],
      "metadata": {
        "id": "-yF-l715ooNL"
      }
    },
    {
      "cell_type": "code",
      "source": [
        "labels = 'Not-Affected' , 'Affected'\n",
        "sizes = df.SchoolHoliday.value_counts()\n",
        "colors = ['gold', 'silver']\n",
        "explode = (0.1, 0.0)\n",
        "plt.pie(sizes, explode=explode, labels=labels, colors=colors,\n",
        "        autopct='%1.1f%%', shadow=True, startangle=180)\n",
        "plt.axis('equal')\n",
        "plt.title(\"Sales Affected by Schoolholiday or Not ?\",fontsize=20)\n",
        "plt.plot()\n",
        "fig=plt.gcf()\n",
        "fig.set_size_inches(6,6)\n",
        "plt.show()"
      ],
      "metadata": {
        "id": "ox46CNSBlEok"
      },
      "execution_count": null,
      "outputs": []
    },
    {
      "cell_type": "markdown",
      "source": [
        "##### 1. Why did you pick the specific chart?"
      ],
      "metadata": {
        "id": "t6dVpIINYklI"
      }
    },
    {
      "cell_type": "markdown",
      "source": [
        "I chose a pie chart to visualize the distribution of sales affected by school holidays. A pie chart is a suitable choice when you want to show the proportion of a whole (total sales) that is divided into different categories (affected and unaffected by school holidays). It provides a clear and easy-to-understand representation of the percentage breakdown."
      ],
      "metadata": {
        "id": "5aaW0BYyYklI"
      }
    },
    {
      "cell_type": "markdown",
      "source": [
        "##### 2. What is/are the insight(s) found from the chart?"
      ],
      "metadata": {
        "id": "ijmpgYnKYklI"
      }
    },
    {
      "cell_type": "markdown",
      "source": [
        "The primary insight from the chart is that approximately 17.9% of sales are affected by school holidays, while the remaining 82.1% are unaffected. This suggests that school holidays have a noticeable impact on a relatively small portion of sales, indicating that the majority of sales occur during non-school holiday periods."
      ],
      "metadata": {
        "id": "PSx9atu2YklI"
      }
    },
    {
      "cell_type": "markdown",
      "source": [
        "##### 3. Will the gained insights help creating a positive business impact?\n",
        "Are there any insights that lead to negative growth? Justify with specific reason."
      ],
      "metadata": {
        "id": "-JiQyfWJYklI"
      }
    },
    {
      "cell_type": "markdown",
      "source": [
        "Positive business impacts may include:\n",
        "\n",
        "  1. Optimizing staffing and resource allocation for non-school holiday periods when sales are higher.\n",
        "  2. Tailoring marketing and promotions to target the majority of sales during non-school holiday times.\n",
        "  3. Offering special promotions or events during school holidays to potentially boost sales during those periods.\n",
        "\n",
        "negative impacts :\n",
        "\n",
        "  The insight itself does not necessarily lead to negative growth. However, how the business responds to this insight is crucial. If the business does not adapt its strategies to account for the seasonality of school holidays and non-school holiday periods, it might miss opportunities to maximize sales during both types of periods. The negative impact would come from failing to adjust operations and marketing efforts accordingly."
      ],
      "metadata": {
        "id": "BcBbebzrYklV"
      }
    },
    {
      "cell_type": "markdown",
      "source": [
        "#### Chart - 3"
      ],
      "metadata": {
        "id": "EM7whBJCYoAo"
      }
    },
    {
      "cell_type": "markdown",
      "source": [
        "**<h2> TYPE OF STORES**"
      ],
      "metadata": {
        "id": "g2mFUAyUx3G1"
      }
    },
    {
      "cell_type": "code",
      "source": [
        "# Chart - 3 visualization code\n",
        "store_type_count = df['StoreType'].value_counts()\n",
        "store_type_count"
      ],
      "metadata": {
        "id": "t6GMdE67YoAp"
      },
      "execution_count": null,
      "outputs": []
    },
    {
      "cell_type": "code",
      "source": [
        "store_type_count.plot(kind = 'bar',color = 'coral',fontsize = 8, figsize=(10,5))\n",
        "plt.title('STORE TYPE COUNT')\n",
        "plt.xlabel('STORE')\n",
        "plt.ylabel('COUNT')\n",
        "plt.show()"
      ],
      "metadata": {
        "id": "cAVVHb3UqwnT"
      },
      "execution_count": null,
      "outputs": []
    },
    {
      "cell_type": "markdown",
      "source": [
        "##### 1. Why did you pick the specific chart?"
      ],
      "metadata": {
        "id": "fge-S5ZAYoAp"
      }
    },
    {
      "cell_type": "markdown",
      "source": [
        "I chose a bar chart to visualize the counts of each store type because it's an effective way to compare categorical data. Bar charts make it easy to understand the distribution of different store types in the dataset."
      ],
      "metadata": {
        "id": "5dBItgRVYoAp"
      }
    },
    {
      "cell_type": "markdown",
      "source": [
        "##### 2. What is/are the insight(s) found from the chart?"
      ],
      "metadata": {
        "id": "85gYPyotYoAp"
      }
    },
    {
      "cell_type": "markdown",
      "source": [
        "The primary insight from the chart is that store type \"a\" has the highest count, followed by store type \"d,\" then \"c,\" and lastly \"b.\" This suggests that store type \"a\" is the most prevalent in the dataset, while store type \"b\" is the least common."
      ],
      "metadata": {
        "id": "4jstXR6OYoAp"
      }
    },
    {
      "cell_type": "markdown",
      "source": [
        "##### 3. Will the gained insights help creating a positive business impact?\n",
        "Are there any insights that lead to negative growth? Justify with specific reason."
      ],
      "metadata": {
        "id": "RoGjAbkUYoAp"
      }
    },
    {
      "cell_type": "markdown",
      "source": [
        "positive business impact:\n",
        "\n",
        "  1. **Resource Allocation:** Understanding the prevalence of each store type can help allocate resources, staff, and inventory more effectively.\n",
        "  2. **Marketing Strategies:** Tailoring marketing and product strategies to the most common store types can lead to increased sales.\n",
        "  3. **Expansion and Growth:** Identifying the most and least common store types can inform decisions about opening new stores or optimizing existing ones.\n",
        "positive business impact:\n",
        "  The insight about the distribution of store types itself is unlikely to lead to negative growth. However, how the business interprets and acts on this insight is critical. Potential negative impacts could arise if the business fails to adapt its strategies based on the prevalence of each store type. For example:\n",
        "\n",
        "  Neglecting less common store types (e.g., type \"b\") may result in underperforming stores, missed opportunities, and potential negative growth.\n",
        "  \n",
        "  Overinvesting in the most common store type (e.g., type \"a\") without considering market dynamics may lead to inefficiencies."
      ],
      "metadata": {
        "id": "zfJ8IqMcYoAp"
      }
    },
    {
      "cell_type": "markdown",
      "source": [
        "#### Chart - 4"
      ],
      "metadata": {
        "id": "4Of9eVA-YrdM"
      }
    },
    {
      "cell_type": "markdown",
      "source": [
        "**<h2>AVERAGE SALES WITH AND WITHOUT PROMO**"
      ],
      "metadata": {
        "id": "hQDWoLsJxkCu"
      }
    },
    {
      "cell_type": "code",
      "source": [
        "promo_sales = df[df['Promo'] == 1]['Sales']\n",
        "no_promo_sales = df[df['Promo'] == 0]['Sales']\n",
        "\n",
        "labels = ['With Promo', 'Without Promo']\n",
        "values = [promo_sales.mean(), no_promo_sales.mean()]\n",
        "\n",
        "plt.figure(figsize=(6, 4))\n",
        "bars = plt.bar(labels, values, color=['wheat', 'Khaki'], width=0.4)\n",
        "plt.title('Average Sales with and without Promo')\n",
        "plt.ylabel('Average Sales')\n",
        "plt.grid(axis='y', linestyle='--', alpha=0.6)\n",
        "\n",
        "# Add sales values on top of the bars\n",
        "for bar, value in zip(bars, values):\n",
        "    plt.text(bar.get_x() + bar.get_width() / 2, bar.get_height(), round(value, 2), ha='center', va='bottom')\n",
        "\n",
        "plt.show()"
      ],
      "metadata": {
        "id": "dni-_0_It3ES"
      },
      "execution_count": null,
      "outputs": []
    },
    {
      "cell_type": "markdown",
      "source": [
        "##### 1. Why did you pick the specific chart?"
      ],
      "metadata": {
        "id": "iky9q4vBYrdO"
      }
    },
    {
      "cell_type": "markdown",
      "source": [
        "I chose a bar chart for comparing the average sales with and without the Promo indicator because it provides a clear and concise way to visualize and compare these two values side by side."
      ],
      "metadata": {
        "id": "aJRCwT6DYrdO"
      }
    },
    {
      "cell_type": "markdown",
      "source": [
        "##### 2. What is/are the insight(s) found from the chart?"
      ],
      "metadata": {
        "id": "F6T5p64dYrdO"
      }
    },
    {
      "cell_type": "markdown",
      "source": [
        "The primary insight from the chart is the significant difference in average sales between the two categories. \"With Promo\" has a notably higher average sale of 7991.15 compared to \"Without Promo,\" which has a lower average sale of 4406.05. This suggests that running promotions positively influences sales."
      ],
      "metadata": {
        "id": "Xx8WAJvtYrdO"
      }
    },
    {
      "cell_type": "markdown",
      "source": [
        "##### 3. Will the gained insights help creating a positive business impact?\n",
        "Are there any insights that lead to negative growth? Justify with specific reason."
      ],
      "metadata": {
        "id": "y-Ehk30pYrdP"
      }
    },
    {
      "cell_type": "markdown",
      "source": [
        "**positive impact:**\n",
        "  1. Increasing the frequency and effectiveness of promotions during strategic periods to boost sales.\n",
        "  2. Tailoring promotional strategies to different store types or customer segments for maximum impact.\n",
        "  3. Optimizing inventory and staff resources to handle increased sales during promotional periods.\n",
        "  **negative impact:**\n",
        "  \n",
        "  The insight itself, which indicates that promotions drive higher sales, is generally positive. However, the potential negative impact could arise if promotions are not planned and executed strategically:\n",
        "\n",
        "  Over-reliance on promotions without considering their profitability and sustainability could lead to lower margins and negative long-term growth.\n",
        "\n",
        "  Promotions may attract one-time customers who only shop during sale events, potentially reducing customer loyalty during non-promotional periods."
      ],
      "metadata": {
        "id": "jLNxxz7MYrdP"
      }
    },
    {
      "cell_type": "markdown",
      "source": [
        "#### Chart - 5"
      ],
      "metadata": {
        "id": "bamQiAODYuh1"
      }
    },
    {
      "cell_type": "markdown",
      "source": [
        "**<h2>AVERAGE SALES BY VARIOUS STORES**"
      ],
      "metadata": {
        "id": "qU2wkGTmYw8x"
      }
    },
    {
      "cell_type": "code",
      "source": [
        "# Chart - 5 visualization code\n",
        "average_sales_by_store_type = df.groupby('StoreType')['Sales'].mean().sort_values()\n",
        "average_sales_by_store_type"
      ],
      "metadata": {
        "id": "pE1mIB0OyOKA"
      },
      "execution_count": null,
      "outputs": []
    },
    {
      "cell_type": "code",
      "source": [
        "plt.figure(figsize=(10, 6))\n",
        "bars = average_sales_by_store_type.plot(kind='bar', color='saddlebrown')\n",
        "plt.title('Average Sales by Store Type')\n",
        "plt.xlabel('Store Type')\n",
        "plt.ylabel('Average Sales')\n",
        "plt.grid(axis='y', linestyle='--', alpha=0.6)\n",
        "\n",
        "# Add sales values on top of the bars\n",
        "for bar, value in zip(bars.patches, average_sales_by_store_type):\n",
        "    plt.text(bar.get_x() + bar.get_width() / 2, bar.get_height(), round(value, 2), ha='center', va='bottom')\n",
        "\n",
        "plt.show()"
      ],
      "metadata": {
        "id": "TIJwrbroYuh3"
      },
      "execution_count": null,
      "outputs": []
    },
    {
      "cell_type": "markdown",
      "source": [
        "##### 1. Why did you pick the specific chart?"
      ],
      "metadata": {
        "id": "QHF8YVU7Yuh3"
      }
    },
    {
      "cell_type": "markdown",
      "source": [
        "I chose a bar chart to visualize the average sales by store type because it provides an effective way to compare the sales performance of different store types. Bar charts are suitable for displaying and comparing quantitative data for distinct categories."
      ],
      "metadata": {
        "id": "dcxuIMRPYuh3"
      }
    },
    {
      "cell_type": "markdown",
      "source": [
        "##### 2. What is/are the insight(s) found from the chart?"
      ],
      "metadata": {
        "id": "GwzvFGzlYuh3"
      }
    },
    {
      "cell_type": "markdown",
      "source": [
        "The primary insights from the chart are as follows:\n",
        "\n",
        "  1. Store type \"b\" has the highest average sales among all store types.\n",
        "  2. Store type \"a\" follows with the second-highest average sales.\n",
        "  3. Store type \"c\" has lower average sales than \"b\" and \"a.\"\n",
        "  4. Store type \"d\" has the lowest average sales among all store types."
      ],
      "metadata": {
        "id": "uyqkiB8YYuh3"
      }
    },
    {
      "cell_type": "markdown",
      "source": [
        "##### 3. Will the gained insights help creating a positive business impact?\n",
        "Are there any insights that lead to negative growth? Justify with specific reason."
      ],
      "metadata": {
        "id": "qYpmQ266Yuh3"
      }
    },
    {
      "cell_type": "markdown",
      "source": [
        "positive business impact:\n",
        "\n",
        "  1. Resource Allocation: Allocating more resources to store types \"b\" and \"a\" to maximize sales potential.\n",
        "  2. Marketing Strategies: Developing tailored marketing strategies for store types based on their sales performance.\n",
        "  3. Expansion and Growth: Considering whether to open more stores of successful types (\"b\" and \"a\") and reevaluating the performance of store type \"d.\"\n"
      ],
      "metadata": {
        "id": "_WtzZ_hCYuh4"
      }
    },
    {
      "cell_type": "markdown",
      "source": [
        "#### Chart - 6"
      ],
      "metadata": {
        "id": "OH-pJp9IphqM"
      }
    },
    {
      "cell_type": "markdown",
      "source": [
        "**<h2>AVERAGE SALES BY ASSORTMENT**"
      ],
      "metadata": {
        "id": "Tc_wb4di-fhS"
      }
    },
    {
      "cell_type": "code",
      "source": [
        "# Chart - 6 visualization code\n",
        "average_sales_by_assortment = df.groupby('Assortment')['Sales'].mean().sort_values()\n",
        "average_sales_by_assortment"
      ],
      "metadata": {
        "id": "kuRf4wtuphqN"
      },
      "execution_count": null,
      "outputs": []
    },
    {
      "cell_type": "code",
      "source": [
        "plt.figure(figsize=(10, 6))\n",
        "average_sales_by_assortment.plot(kind='bar', color='olivedrab')\n",
        "plt.title('Average Sales by Assortment')\n",
        "plt.xlabel('Assortment')\n",
        "plt.ylabel('Average Sales')\n",
        "plt.grid(axis='y', linestyle='--', alpha=0.6)\n",
        "plt.show()"
      ],
      "metadata": {
        "id": "UO9muNqO5myF"
      },
      "execution_count": null,
      "outputs": []
    },
    {
      "cell_type": "markdown",
      "source": [
        "##### 1. Why did you pick the specific chart?"
      ],
      "metadata": {
        "id": "bbFf2-_FphqN"
      }
    },
    {
      "cell_type": "markdown",
      "source": [
        "I chose a bar chart to visualize the average sales by assortment because it provides an effective way to compare the sales performance of different assortment levels. Bar charts are suitable for displaying and comparing quantitative data for distinct categories, making it easy to see the differences."
      ],
      "metadata": {
        "id": "loh7H2nzphqN"
      }
    },
    {
      "cell_type": "markdown",
      "source": [
        "##### 2. What is/are the insight(s) found from the chart?"
      ],
      "metadata": {
        "id": "_ouA3fa0phqN"
      }
    },
    {
      "cell_type": "markdown",
      "source": [
        "The primary insights from the chart are as follows:\n",
        "\n",
        "  1. Assortment level \"b\" has the highest average sales among all assortment levels.\n",
        "  2. Assortment level \"c\" follows with the second-highest average sales.\n",
        "  3. Assortment level \"a\" has the lowest average sales among all assortment levels."
      ],
      "metadata": {
        "id": "VECbqPI7phqN"
      }
    },
    {
      "cell_type": "markdown",
      "source": [
        "##### 3. Will the gained insights help creating a positive business impact?\n",
        "Are there any insights that lead to negative growth? Justify with specific reason."
      ],
      "metadata": {
        "id": "Seke61FWphqN"
      }
    },
    {
      "cell_type": "markdown",
      "source": [
        "**positive business impacts:**\n",
        "\n",
        "  1. **Product Strategy:** Focusing on assortment level \"b\" to maximize sales and potentially expand product offerings in this category.\n",
        "  2. **Pricing and Promotion Strategies:** Tailoring pricing and promotion strategies to match the performance of each assortment level.\n",
        "  3. **Inventory Management:** Optimizing inventory based on the sales performance of different assortment levels.\n",
        "\n",
        "**negative business impacts:**\n",
        "\n",
        "  1. Neglecting assortment level \"a\" without considering strategies for improvement may lead to underutilized inventory and missed sales.\n",
        "  2. Overinvesting in assortment level \"b\" without monitoring market trends and consumer preferences could result in inefficiencies."
      ],
      "metadata": {
        "id": "DW4_bGpfphqN"
      }
    },
    {
      "cell_type": "markdown",
      "source": [
        "#### Chart - 7"
      ],
      "metadata": {
        "id": "PIIx-8_IphqN"
      }
    },
    {
      "cell_type": "markdown",
      "source": [
        "**<h2>SALES VS CUSTOMER CHART**"
      ],
      "metadata": {
        "id": "fHn8fN7UE2Q1"
      }
    },
    {
      "cell_type": "code",
      "source": [
        "# Chart - 7 visualization code\n",
        "x = df['Customers']\n",
        "y = df['Sales']\n",
        "\n",
        "plt.figure(figsize=(10, 6))\n",
        "plt.scatter(x, y, alpha=0.5)\n",
        "plt.title('Sales vs. Customers')\n",
        "plt.xlabel('Number of Customers')\n",
        "plt.ylabel('Sales')\n",
        "plt.grid(True)\n",
        "plt.show()"
      ],
      "metadata": {
        "id": "lqAIGUfyphqO"
      },
      "execution_count": null,
      "outputs": []
    },
    {
      "cell_type": "markdown",
      "source": [
        "##### 1. Why did you pick the specific chart?"
      ],
      "metadata": {
        "id": "t27r6nlMphqO"
      }
    },
    {
      "cell_type": "markdown",
      "source": [
        "I initially selected a scatter plot because it's a common choice to visualize the relationship between two continuous variables (Sales and Customers). It's effective for understanding the dispersion and distribution of data points and identifying patterns or trends."
      ],
      "metadata": {
        "id": "iv6ro40sphqO"
      }
    },
    {
      "cell_type": "markdown",
      "source": [
        "##### 2. What is/are the insight(s) found from the chart?"
      ],
      "metadata": {
        "id": "r2jJGEOYphqO"
      }
    },
    {
      "cell_type": "markdown",
      "source": [
        "The primary insight from the scatter plot is the general relationship between Sales and Customers:\n",
        "\n",
        "  1. As the number of Customers increases, Sales tend to increase as well.\n",
        "  2. There is a positive correlation between the two variables, indicating that higher customer footfall is associated with higher sales."
      ],
      "metadata": {
        "id": "Po6ZPi4hphqO"
      }
    },
    {
      "cell_type": "markdown",
      "source": [
        "##### 3. Will the gained insights help creating a positive business impact?\n",
        "Are there any insights that lead to negative growth? Justify with specific reason."
      ],
      "metadata": {
        "id": "b0JNsNcRphqO"
      }
    },
    {
      "cell_type": "markdown",
      "source": [
        " positive business impact:\n",
        "\n",
        "  1. **Staffing and Resource Allocation:** Businesses can better allocate staffing and resources to handle the expected sales volume based on the number of customers.\n",
        "  2. **Marketing Strategies:** Understanding the correlation can help tailor marketing strategies to attract more customers and increase sales.\n",
        "  3. **Sales Predictions:** It enables businesses to make more accurate sales forecasts based on expected customer traffic.\n",
        "\n",
        "The insights themselves do not inherently lead to negative growth. However, potential negative impacts could occur if the business does not adapt its strategies based on the observed correlation:\n",
        "\n",
        "  1. Focusing solely on increasing customer traffic without considering factors like pricing, product quality, or customer experience may not lead to sustained sales growth.\n",
        "  2. Overstaffing during periods of low customer traffic can result in inefficient resource allocation."
      ],
      "metadata": {
        "id": "xvSq8iUTphqO"
      }
    },
    {
      "cell_type": "markdown",
      "source": [
        "#### Chart - 8"
      ],
      "metadata": {
        "id": "BZR9WyysphqO"
      }
    },
    {
      "cell_type": "markdown",
      "source": [
        "**<h2>AVERAGE YEAR SALES**"
      ],
      "metadata": {
        "id": "7h5IplCPJX1Z"
      }
    },
    {
      "cell_type": "code",
      "source": [
        "average_sales_by_year = df.groupby('Year')['Sales'].mean()\n",
        "average_sales_by_year"
      ],
      "metadata": {
        "id": "tWT79x1xG-xw"
      },
      "execution_count": null,
      "outputs": []
    },
    {
      "cell_type": "code",
      "source": [
        "plt.figure(figsize=(10, 6))\n",
        "bars = average_sales_by_year.plot(kind='bar', color='maroon',width=0.4)\n",
        "plt.title('AVERAGE YEAR SALES')\n",
        "plt.xlabel('YEAR')\n",
        "plt.ylabel('Average Sales')\n",
        "plt.grid(axis='y', linestyle='--', alpha=0.6)\n",
        "\n",
        "# Add sales values on top of the bars\n",
        "for bar, value in zip(bars.patches, average_sales_by_store_type):\n",
        "    plt.text(bar.get_x() + bar.get_width() / 2, bar.get_height(), round(value, 2), ha='center', va='bottom')\n",
        "\n",
        "plt.show()"
      ],
      "metadata": {
        "id": "O-_jVGofKX4O"
      },
      "execution_count": null,
      "outputs": []
    },
    {
      "cell_type": "markdown",
      "source": [
        "##### 1. Why did you pick the specific chart?"
      ],
      "metadata": {
        "id": "jj7wYXLtphqO"
      }
    },
    {
      "cell_type": "markdown",
      "source": [
        "bar chart  is a suitable choice for comparing average sales across different years. Bar charts effectively display and compare quantitative data for distinct categories, in this case, the years."
      ],
      "metadata": {
        "id": "Ob8u6rCTphqO"
      }
    },
    {
      "cell_type": "markdown",
      "source": [
        "##### 2. What is/are the insight(s) found from the chart?"
      ],
      "metadata": {
        "id": "eZrbJ2SmphqO"
      }
    },
    {
      "cell_type": "markdown",
      "source": [
        "The primary insights from the bar chart are as follows:\n",
        "\n",
        "  1. Average sales increased over the three years, with the highest average sales occurring in 2015, followed by 2014 and 2013."
      ],
      "metadata": {
        "id": "mZtgC_hjphqO"
      }
    },
    {
      "cell_type": "markdown",
      "source": [
        "##### 3. Will the gained insights help creating a positive business impact?\n",
        "Are there any insights that lead to negative growth? Justify with specific reason."
      ],
      "metadata": {
        "id": "rFu4xreNphqO"
      }
    },
    {
      "cell_type": "markdown",
      "source": [
        "**positive business impacts:**\n",
        "\n",
        "  1. **Strategic Planning:** Businesses can consider factors that contributed to the increase in sales from 2013 to 2015 and plan future strategies accordingly.\n",
        "  2. **Resource Allocation:** Allocating resources based on the sales trend, such as expanding during high-sales years and optimizing operations during lower-sales years.\n",
        "  3. **Market Segmentation:** Tailoring marketing and promotional efforts based on the understanding of which years saw the highest sales.\n"
      ],
      "metadata": {
        "id": "ey_0qi68phqO"
      }
    },
    {
      "cell_type": "markdown",
      "source": [
        "#### Chart - 9"
      ],
      "metadata": {
        "id": "YJ55k-q6phqO"
      }
    },
    {
      "cell_type": "code",
      "source": [
        "# Chart - 9 visualization code\n",
        "average_sales_by_day = df.groupby('DayOfWeek')['Sales'].mean().sort_index()\n",
        "average_sales_by_day"
      ],
      "metadata": {
        "id": "B2aS4O1ophqO",
        "colab": {
          "base_uri": "https://localhost:8080/"
        },
        "outputId": "12b6341d-8f6c-48ee-ad4f-942710f1cf8e"
      },
      "execution_count": 43,
      "outputs": [
        {
          "output_type": "execute_result",
          "data": {
            "text/plain": [
              "DayOfWeek\n",
              "1    7809.044510\n",
              "2    7005.244467\n",
              "3    6555.884138\n",
              "4    6247.575913\n",
              "5    6723.274305\n",
              "6    5847.562599\n",
              "7     204.183189\n",
              "Name: Sales, dtype: float64"
            ]
          },
          "metadata": {},
          "execution_count": 43
        }
      ]
    },
    {
      "cell_type": "code",
      "source": [
        "# Define the day labels for better visualization\n",
        "day_labels = ['Monday', 'Tuesday', 'Wednesday', 'Thursday', 'Friday', 'Saturday', 'Sunday']\n",
        "\n",
        "plt.figure(figsize=(10, 6))\n",
        "average_sales_by_day.plot(kind='bar', color='olive')\n",
        "plt.title('Average Sales by Day of the Week')\n",
        "plt.xlabel('Day of the Week')\n",
        "plt.ylabel('Average Sales')\n",
        "plt.grid(axis='y', linestyle='--', alpha=0.6)\n",
        "plt.xticks(range(7), day_labels, rotation=45)  # Assign day labels\n",
        "plt.show()"
      ],
      "metadata": {
        "id": "Ig_3gqvhZJmc",
        "colab": {
          "base_uri": "https://localhost:8080/",
          "height": 622
        },
        "outputId": "f161cba4-b739-4002-969d-9d26f711f832"
      },
      "execution_count": 44,
      "outputs": [
        {
          "output_type": "display_data",
          "data": {
            "text/plain": [
              "<Figure size 1000x600 with 1 Axes>"
            ],
            "image/png": "[encoded data removed]"
          },
          "metadata": {}
        }
      ]
    },
    {
      "cell_type": "markdown",
      "source": [
        "##### 1. Why did you pick the specific chart?"
      ],
      "metadata": {
        "id": "gCFgpxoyphqP"
      }
    },
    {
      "cell_type": "markdown",
      "source": [
        "I chose a bar chart to visualize the sales by day of the week because a bar chart is well-suited for comparing quantitative values (sales) across distinct categories (days of the week). It provides a clear representation of how sales vary from one day to another."
      ],
      "metadata": {
        "id": "TVxDimi2phqP"
      }
    },
    {
      "cell_type": "markdown",
      "source": [
        "##### 2. What is/are the insight(s) found from the chart?"
      ],
      "metadata": {
        "id": "OVtJsKN_phqQ"
      }
    },
    {
      "cell_type": "markdown",
      "source": [
        "The primary insights from the bar chart are as follows:\n",
        "\n",
        "  1. Sales are highest on day 1 (Monday) and gradually decrease throughout the week.\n",
        "  2. There is a significant drop in sales on day 7 (Sunday) compared to other days of the week."
      ],
      "metadata": {
        "id": "ngGi97qjphqQ"
      }
    },
    {
      "cell_type": "markdown",
      "source": [
        "##### 3. Will the gained insights help creating a positive business impact?\n",
        "Are there any insights that lead to negative growth? Justify with specific reason."
      ],
      "metadata": {
        "id": "lssrdh5qphqQ"
      }
    },
    {
      "cell_type": "markdown",
      "source": [
        "**positive business impact:**\n",
        "\n",
        "  1. **Staffing and Resource Allocation:** Businesses can allocate resources and staff based on the expected sales volume for each day.\n",
        "  2. **Promotions and Marketing:** Adjusting marketing and promotion strategies to boost sales on days with lower performance can lead to positive impacts.\n",
        "  3. **Inventory Management:** Optimizing inventory management based on sales trends for different days of the week.\n",
        "\n",
        "**negative business impact:**\n",
        "\n",
        "  1. Failing to adjust staffing and resources to match the expected sales volume for each day can result in inefficiencies.\n",
        "  2. Not adapting marketing and promotional efforts for lower-performing days may lead to missed growth opportunities."
      ],
      "metadata": {
        "id": "tBpY5ekJphqQ"
      }
    },
    {
      "cell_type": "markdown",
      "source": [
        "#### Chart - 10"
      ],
      "metadata": {
        "id": "U2RJ9gkRphqQ"
      }
    },
    {
      "cell_type": "code",
      "source": [
        "# Chart - 10 visualization code\n",
        "plt.figure(figsize=(12, 6))\n",
        "sns.barplot(x='StoreType', y='Sales', hue='Promo2', data=df, palette='Set3')\n",
        "plt.title('Box Plot of Sales by Promo2 and Store Type')\n",
        "plt.xlabel('Store Type')\n",
        "plt.ylabel('Sales')\n",
        "plt.grid(axis='y', linestyle='--', alpha=0.6)\n",
        "plt.legend(title='Promo2', loc='upper right')\n",
        "plt.show()"
      ],
      "metadata": {
        "id": "GM7a4YP4phqQ",
        "colab": {
          "base_uri": "https://localhost:8080/",
          "height": 569
        },
        "outputId": "efeb341b-df88-459d-c000-6b5a92ed6b37"
      },
      "execution_count": 45,
      "outputs": [
        {
          "output_type": "display_data",
          "data": {
            "text/plain": [
              "<Figure size 1200x600 with 1 Axes>"
            ],
            "image/png": "[encoded data removed]"
          },
          "metadata": {}
        }
      ]
    },
    {
      "cell_type": "markdown",
      "source": [
        "##### 1. Why did you pick the specific chart?"
      ],
      "metadata": {
        "id": "1M8mcRywphqQ"
      }
    },
    {
      "cell_type": "markdown",
      "source": [
        "The specific chart chosen is a bar plot with two categorical variables (StoreType and Promo2) on the x-axis and y-axis representing sales. The choice of this chart is appropriate because it allows for the comparison of sales in different store types while also distinguishing between stores with and without Promo2."
      ],
      "metadata": {
        "id": "8agQvks0phqQ"
      }
    },
    {
      "cell_type": "markdown",
      "source": [
        "##### 2. What is/are the insight(s) found from the chart?"
      ],
      "metadata": {
        "id": "tgIPom80phqQ"
      }
    },
    {
      "cell_type": "markdown",
      "source": [
        "The insights gained from this chart include:\n",
        "\n",
        "  1. Among store types, those with Promo2 have higher average sales than those without Promo2.\n",
        "  2. There is variation in sales within each store type and between stores with and without Promo2."
      ],
      "metadata": {
        "id": "Qp13pnNzphqQ"
      }
    },
    {
      "cell_type": "markdown",
      "source": [
        "##### 3. Will the gained insights help creating a positive business impact?\n",
        "Are there any insights that lead to negative growth? Justify with specific reason."
      ],
      "metadata": {
        "id": "JMzcOPDDphqR"
      }
    },
    {
      "cell_type": "markdown",
      "source": [
        "**positive business impacts:**\n",
        "\n",
        "  1. **Promotional Strategies:** Understanding which store types and promotional activities contribute to higher sales can help optimize marketing and promotional strategies.\n",
        "  2. **Resource Allocation:** Businesses can allocate resources, such as marketing budgets and staff, to store types that show higher sales potential.\n",
        "  3. **Inventory Management:** Based on the insights, inventory can be managed more effectively to meet demand in different store types.\n",
        "\n",
        "there can be potential negative impacts if businesses fail to adapt their strategies based on the insights:\n",
        "\n",
        "  Neglecting to allocate resources and marketing efforts to store types and promotional activities that drive higher sales can lead to missed growth opportunities.\n",
        "  \n",
        "  Ineffective inventory management based on sales trends may result in stockouts or overstocking."
      ],
      "metadata": {
        "id": "R4Ka1PC2phqR"
      }
    },
    {
      "cell_type": "markdown",
      "source": [
        "#### Chart - 11 - Correlation Heatmap"
      ],
      "metadata": {
        "id": "NC_X3p0fY2L0"
      }
    },
    {
      "cell_type": "code",
      "source": [
        "# Correlation Heatmap visualization code\n",
        "plt.figure(figsize=(16,16))\n",
        "sns.heatmap(df.corr(), cmap= 'coolwarm',annot=True);\n",
        "plt.show()"
      ],
      "metadata": {
        "id": "xyC9zolEZNRQ"
      },
      "execution_count": null,
      "outputs": []
    },
    {
      "cell_type": "markdown",
      "source": [
        "##### 1. Why did you pick the specific chart?"
      ],
      "metadata": {
        "id": "UV0SzAkaZNRQ"
      }
    },
    {
      "cell_type": "markdown",
      "source": [
        "\n",
        "\n",
        "\n"
      ],
      "metadata": {
        "id": "DVPuT8LYZNRQ"
      }
    },
    {
      "cell_type": "markdown",
      "source": [
        "##### 2. What is/are the insight(s) found from the chart?"
      ],
      "metadata": {
        "id": "YPEH6qLeZNRQ"
      }
    },
    {
      "cell_type": "markdown",
      "source": [
        "A correlation heatmap helps identify relationships between variables. Here are some potential insights you can look for based on the column names in your dataset:\n",
        "\n",
        "**Sales and Customers:** Checking if \"Sales\" and \"Customers\" have a strong positive correlation. A high positive correlation suggests that when the number of customers increases, sales tend to increase as well.\n",
        "\n",
        "**Promo and Sales:** Look for a positive correlation between \"Promo\" and \"Sales.\" This could indicate that running promotions is associated with higher sales.\n",
        "\n",
        "**Open and Sales:** Examine the correlation between \"Open\" and \"Sales.\" If there's a strong positive correlation, it suggests that stores need to be open for sales to occur.\n",
        "\n",
        "**Promo2:** Investigate the correlations involving \"Promo2,\" \"Promo2SinceWeek,\" and \"Promo2SinceYear.\" This may reveal insights into another type of promotion and its impact on sales.\n",
        "\n",
        "**Time-Related Columns:** Explore the correlations with \"Year,\" \"Month,\" \"WeekOfYear,\" and \"DayName\" to see if there are any temporal patterns or seasonality in sales.\n",
        "\n",
        "**Competition:** Check the correlation between \"CompetitionDistance\" and \"Sales\" to understand if proximity to competitors affects sales.\n",
        "\n",
        "**Holidays:** Investigate how \"StateHoliday\" and \"SchoolHoliday\" correlate with \"Sales\" to see if there is any impact on sales during holidays."
      ],
      "metadata": {
        "id": "bfSqtnDqZNRR"
      }
    },
    {
      "cell_type": "markdown",
      "source": [
        "#### Chart - 12 - Pair Plot"
      ],
      "metadata": {
        "id": "q29F0dvdveiT"
      }
    },
    {
      "cell_type": "code",
      "source": [
        "df.columns"
      ],
      "metadata": {
        "id": "xrjqUFCNTpu8"
      },
      "execution_count": null,
      "outputs": []
    },
    {
      "cell_type": "code",
      "source": [
        "df.dtypes"
      ],
      "metadata": {
        "id": "ikJd67YXXTVZ"
      },
      "execution_count": null,
      "outputs": []
    },
    {
      "cell_type": "markdown",
      "source": [
        "##### 1. Why did you pick the specific chart?"
      ],
      "metadata": {
        "id": "EXh0U9oCveiU"
      }
    },
    {
      "cell_type": "markdown",
      "source": [
        "Answer Here."
      ],
      "metadata": {
        "id": "eMmPjTByveiU"
      }
    },
    {
      "cell_type": "markdown",
      "source": [
        "##### 2. What is/are the insight(s) found from the chart?"
      ],
      "metadata": {
        "id": "22aHeOlLveiV"
      }
    },
    {
      "cell_type": "markdown",
      "source": [
        "Answer Here"
      ],
      "metadata": {
        "id": "uPQ8RGwHveiV"
      }
    },
    {
      "cell_type": "markdown",
      "source": [
        "## ***5. Hypothesis Testing***"
      ],
      "metadata": {
        "id": "g-ATYxFrGrvw"
      }
    },
    {
      "cell_type": "markdown",
      "source": [
        "### Based on your chart experiments, define three hypothetical statements from the dataset. In the next three questions, perform hypothesis testing to obtain final conclusion about the statements through your code and statistical testing."
      ],
      "metadata": {
        "id": "Yfr_Vlr8HBkt"
      }
    },
    {
      "cell_type": "markdown",
      "source": [
        "\n",
        "These statistical tests provide valuable insights into the relationships within the dataset and help in making data-driven conclusions about the hypotheses tested. The choice to accept or reject the null hypothesis depends on the specific p-values and significance levels used in the analysis, which may require further examination and consideration based on your dataset and research goals."
      ],
      "metadata": {
        "id": "-7MS06SUHkB-"
      }
    },
    {
      "cell_type": "markdown",
      "source": [
        "### Hypothetical Statement - 1"
      ],
      "metadata": {
        "id": "8yEUt7NnHlrM"
      }
    },
    {
      "cell_type": "markdown",
      "source": [
        "#### 1. State Your research hypothesis as a null hypothesis and alternate hypothesis."
      ],
      "metadata": {
        "id": "tEA2Xm5dHt1r"
      }
    },
    {
      "cell_type": "markdown",
      "source": [
        "  **Null Hypothesis (H0):** The average sales on school holidays are equal to the average sales on non-school holidays.\n",
        "  \n",
        "  **Alternative Hypothesis (H1):** The average sales on school holidays are different from the average sales on non-school holidays."
      ],
      "metadata": {
        "id": "HI9ZP0laH0D-"
      }
    },
    {
      "cell_type": "markdown",
      "source": [
        "#### 2. Perform an appropriate statistical test."
      ],
      "metadata": {
        "id": "I79__PHVH19G"
      }
    },
    {
      "cell_type": "code",
      "source": [
        "#We can perform a two-sample t-test to compare the means of sales on school holidays and non-school holidays.\n",
        "import scipy.stats as stats\n",
        "\n",
        "# Extract sales data for school holidays and non-school holidays\n",
        "sales_school_holiday = df[df['SchoolHoliday'] == 1]['Sales']\n",
        "sales_non_school_holiday = df[df['SchoolHoliday'] == 0]['Sales']\n",
        "\n",
        "# Perform a two-sample t-test\n",
        "t_statistic, p_value = stats.ttest_ind(sales_school_holiday, sales_non_school_holiday)\n",
        "print(\"T-Statistic:\", t_statistic)\n",
        "print(\"P-Value:\", p_value)\n",
        "\n",
        "# Interpret the results\n",
        "alpha = 0.05  # significance level\n",
        "\n",
        "if p_value < alpha:\n",
        "    print(\"Reject the null hypothesis: There is a significant difference in sales between school holidays and non-school holidays.\")\n",
        "else:\n",
        "    print(\"Fail to reject the null hypothesis: There is no significant difference in sales between school holidays and non-school holidays.\")"
      ],
      "metadata": {
        "id": "oZrfquKtyian",
        "colab": {
          "base_uri": "https://localhost:8080/"
        },
        "outputId": "48674aad-9952-4309-a155-6f0375eb1550"
      },
      "execution_count": 54,
      "outputs": [
        {
          "output_type": "stream",
          "name": "stdout",
          "text": [
            "T-Statistic: 86.1660302014116\n",
            "P-Value: 0.0\n",
            "Reject the null hypothesis: There is a significant difference in sales between school holidays and non-school holidays.\n"
          ]
        }
      ]
    },
    {
      "cell_type": "markdown",
      "source": [
        "##### Which statistical test have you done to obtain P-Value?"
      ],
      "metadata": {
        "id": "Ou-I18pAyIpj"
      }
    },
    {
      "cell_type": "markdown",
      "source": [
        "i have used **Two-sample t-test**"
      ],
      "metadata": {
        "id": "s2U0kk00ygSB"
      }
    },
    {
      "cell_type": "markdown",
      "source": [
        "##### Why did you choose the specific statistical test?"
      ],
      "metadata": {
        "id": "fF3858GYyt-u"
      }
    },
    {
      "cell_type": "markdown",
      "source": [
        "I chose the two-sample t-test because it is appropriate for comparing the means of two groups (school holidays and non-school holidays). It helps us determine if there is a significant difference in sales between these two groups"
      ],
      "metadata": {
        "id": "HO4K0gP5y3B4"
      }
    },
    {
      "cell_type": "markdown",
      "source": [
        "### Hypothetical Statement - 2"
      ],
      "metadata": {
        "id": "4_0_7-oCpUZd"
      }
    },
    {
      "cell_type": "markdown",
      "source": [
        "#### 1. State Your research hypothesis as a null hypothesis and alternate hypothesis."
      ],
      "metadata": {
        "id": "hwyV_J3ipUZe"
      }
    },
    {
      "cell_type": "markdown",
      "source": [
        "  1. **Null Hypothesis (H0):** There is no significant difference in average sales between different store types.\n",
        "\n",
        "  2. **Alternative Hypothesis (H1):** There is a significant difference in average sales between different store types."
      ],
      "metadata": {
        "id": "FnpLGJ-4pUZe"
      }
    },
    {
      "cell_type": "markdown",
      "source": [
        "#### 2. Perform an appropriate statistical test."
      ],
      "metadata": {
        "id": "3yB-zSqbpUZe"
      }
    },
    {
      "cell_type": "code",
      "source": [
        "# Perform Statistical Test to obtain P-Value\n",
        "\n",
        "# Perform one-way ANOVA\n",
        "from scipy.stats import f_oneway\n",
        "\n",
        "# Extract sales data for different store types\n",
        "store_type_sales = [df[df['StoreType'] == store_type]['Sales'] for store_type in df['StoreType'].unique()]\n",
        "\n",
        "# Perform one-way ANOVA\n",
        "f_statistic, p_value = f_oneway(*store_type_sales)\n",
        "print(\"T-Statistic:\", t_statistic)\n",
        "print(\"P-Value:\", p_value)\n",
        "# Interpret the results\n",
        "alpha = 0.05  # significance level\n",
        "if p_value < alpha:\n",
        "    print(\"Reject the null hypothesis: There is a significant difference in sales between different store types.\")\n",
        "else:\n",
        "    print(\"Fail to reject the null hypothesis: There is no significant difference in sales between different store types.\")"
      ],
      "metadata": {
        "id": "sWxdNTXNpUZe",
        "colab": {
          "base_uri": "https://localhost:8080/"
        },
        "outputId": "056b3230-84e3-4171-ed05-1bdbebe50f5e"
      },
      "execution_count": 55,
      "outputs": [
        {
          "output_type": "stream",
          "name": "stdout",
          "text": [
            "T-Statistic: 86.1660302014116\n",
            "P-Value: 0.0\n",
            "Reject the null hypothesis: There is a significant difference in sales between different store types.\n"
          ]
        }
      ]
    },
    {
      "cell_type": "markdown",
      "source": [
        "##### Which statistical test have you done to obtain P-Value?"
      ],
      "metadata": {
        "id": "dEUvejAfpUZe"
      }
    },
    {
      "cell_type": "markdown",
      "source": [
        "I have used **One-way ANOVA** statistical test to obtain P-Value"
      ],
      "metadata": {
        "id": "oLDrPz7HpUZf"
      }
    },
    {
      "cell_type": "markdown",
      "source": [
        "##### Why did you choose the specific statistical test?"
      ],
      "metadata": {
        "id": "Fd15vwWVpUZf"
      }
    },
    {
      "cell_type": "markdown",
      "source": [
        "I chose one-way ANOVA because it allows us to determine if there are statistically significant differences in average sales between multiple groups (store types) simultaneously."
      ],
      "metadata": {
        "id": "4xOGYyiBpUZf"
      }
    },
    {
      "cell_type": "markdown",
      "source": [
        "### Hypothetical Statement - 3"
      ],
      "metadata": {
        "id": "bn_IUdTipZyH"
      }
    },
    {
      "cell_type": "markdown",
      "source": [
        "#### 1. State Your research hypothesis as a null hypothesis and alternate hypothesis."
      ],
      "metadata": {
        "id": "49K5P_iCpZyH"
      }
    },
    {
      "cell_type": "markdown",
      "source": [
        "1. **Null Hypothesis (H0):** There is no significant difference in average sales between stores with and without promotions.\n",
        "2. **Alternative Hypothesis (H1):** There is a significant difference in average sales between stores with and without promotions."
      ],
      "metadata": {
        "id": "7gWI5rT9pZyH"
      }
    },
    {
      "cell_type": "markdown",
      "source": [
        "#### 2. Perform an appropriate statistical test."
      ],
      "metadata": {
        "id": "Nff-vKELpZyI"
      }
    },
    {
      "cell_type": "code",
      "source": [
        "# Perform Statistical Test to obtain P-Value\n",
        "# Extract sales data for stores with and without promotions\n",
        "sales_with_promo = df[df['Promo'] == 1]['Sales']\n",
        "sales_without_promo = df[df['Promo'] == 0]['Sales']\n",
        "\n",
        "# Perform a two-sample t-test\n",
        "t_statistic, p_value = stats.ttest_ind(sales_with_promo, sales_without_promo)\n",
        "print(\"T-Statistic:\", t_statistic)\n",
        "print(\"P-Value:\", p_value)\n",
        "# Interpret the results\n",
        "alpha = 0.05  # significance level\n",
        "if p_value < alpha:\n",
        "    print(\"Reject the null hypothesis: There is a significant difference in sales between stores with and without promotions.\")\n",
        "else:\n",
        "    print(\"Fail to reject the null hypothesis: There is no significant difference in sales between stores with and without promotions.\")"
      ],
      "metadata": {
        "id": "s6AnJQjtpZyI",
        "colab": {
          "base_uri": "https://localhost:8080/"
        },
        "outputId": "7e06b1a2-3bd4-496d-97a1-8eebe865d831"
      },
      "execution_count": 56,
      "outputs": [
        {
          "output_type": "stream",
          "name": "stdout",
          "text": [
            "T-Statistic: 511.54718673163774\n",
            "P-Value: 0.0\n",
            "Reject the null hypothesis: There is a significant difference in sales between stores with and without promotions.\n"
          ]
        }
      ]
    },
    {
      "cell_type": "markdown",
      "source": [
        "##### Which statistical test have you done to obtain P-Value?"
      ],
      "metadata": {
        "id": "kLW572S8pZyI"
      }
    },
    {
      "cell_type": "markdown",
      "source": [
        "I have performed a **two-sample t-test** to compare the means of sales in stores with and without promotions."
      ],
      "metadata": {
        "id": "ytWJ8v15pZyI"
      }
    },
    {
      "cell_type": "markdown",
      "source": [
        "##### Why did you choose the specific statistical test?"
      ],
      "metadata": {
        "id": "dWbDXHzopZyI"
      }
    },
    {
      "cell_type": "markdown",
      "source": [
        "We chose the two-sample t-test because it is suitable for comparing the means of two groups (stores with and without promotions) to determine if there is a significant difference in sales between them."
      ],
      "metadata": {
        "id": "M99G98V6pZyI"
      }
    },
    {
      "cell_type": "markdown",
      "source": [
        "## ***6. Feature Engineering & Data Pre-processing***"
      ],
      "metadata": {
        "id": "yLjJCtPM0KBk"
      }
    },
    {
      "cell_type": "markdown",
      "source": [
        "### 1. Handling Missing Values"
      ],
      "metadata": {
        "id": "xiyOF9F70UgQ"
      }
    },
    {
      "cell_type": "code",
      "source": [
        "# Handling Missing Values & Missing Value Imputation\n",
        "df.isnull().sum()"
      ],
      "metadata": {
        "id": "iRsAHk1K0fpS",
        "colab": {
          "base_uri": "https://localhost:8080/"
        },
        "outputId": "835570d1-8d52-4645-de11-9a3a2ea0f2f5"
      },
      "execution_count": 57,
      "outputs": [
        {
          "output_type": "execute_result",
          "data": {
            "text/plain": [
              "Store                        0\n",
              "DayOfWeek                    0\n",
              "Date                         0\n",
              "Sales                        0\n",
              "Customers                    0\n",
              "Open                         0\n",
              "Promo                        0\n",
              "StateHoliday                 0\n",
              "SchoolHoliday                0\n",
              "StoreType                    0\n",
              "Assortment                   0\n",
              "CompetitionDistance          0\n",
              "CompetitionOpenSinceMonth    0\n",
              "CompetitionOpenSinceYear     0\n",
              "Promo2                       0\n",
              "Promo2SinceWeek              0\n",
              "Promo2SinceYear              0\n",
              "PromoInterval                0\n",
              "Year                         0\n",
              "Month                        0\n",
              "WeekOfYear                   0\n",
              "DayName                      0\n",
              "dtype: int64"
            ]
          },
          "metadata": {},
          "execution_count": 57
        }
      ]
    },
    {
      "cell_type": "markdown",
      "source": [
        "as you can see there is no null or missing value in above data as i have already performed cleaning part in the starting of this project.\n",
        "\n"
      ],
      "metadata": {
        "id": "F2lxxTLMzTxh"
      }
    },
    {
      "cell_type": "markdown",
      "source": [
        "#### What all missing value imputation techniques have you used and why did you use those techniques?"
      ],
      "metadata": {
        "id": "7wuGOrhz0itI"
      }
    },
    {
      "cell_type": "markdown",
      "source": [
        "I have followed some steps to handle the missing and null values which are mentioned below:\n",
        "\n",
        "1. 'CompetitionOpenSinceMonth' & 'CompetitionOpenSinceYear' both column represent month and year when nearest compititor store opened.the null value indicates that there is no stores open so we fill fill the null values with \"0\"\n",
        "\n",
        "2. 'Promo2SinceWeek' & 'Promo2SinceYear' these 2 column indicates munth and yesr when nearest compititior store opend. Since some rows are empty,this means that no store were opened that time.so we will fill the null values with \"0\"\n",
        "\n",
        "3. 'CompetitionDistance' column is filled with the mean value"
      ],
      "metadata": {
        "id": "1ixusLtI0pqI"
      }
    },
    {
      "cell_type": "markdown",
      "source": [
        "### 2. Handling Outliers"
      ],
      "metadata": {
        "id": "id1riN9m0vUs"
      }
    },
    {
      "cell_type": "code",
      "source": [
        "df.duplicated().sum()"
      ],
      "metadata": {
        "colab": {
          "base_uri": "https://localhost:8080/"
        },
        "id": "Cexysg6-1elG",
        "outputId": "f13396bd-d50c-49be-f03a-61ff97ad5f43"
      },
      "execution_count": 70,
      "outputs": [
        {
          "output_type": "execute_result",
          "data": {
            "text/plain": [
              "0"
            ]
          },
          "metadata": {},
          "execution_count": 70
        }
      ]
    },
    {
      "cell_type": "code",
      "source": [
        "df.describe()"
      ],
      "metadata": {
        "colab": {
          "base_uri": "https://localhost:8080/",
          "height": 320
        },
        "id": "jHpi5nZX6PY0",
        "outputId": "2017f335-ac36-4ade-fc54-5612b2432adf"
      },
      "execution_count": 71,
      "outputs": [
        {
          "output_type": "execute_result",
          "data": {
            "text/plain": [
              "              Store     DayOfWeek         Sales     Customers          Open  \\\n",
              "count  1.017209e+06  1.017209e+06  1.017209e+06  1.017209e+06  1.017209e+06   \n",
              "mean   5.584297e+02  3.998341e+00  5.773819e+03  6.331459e+02  8.301067e-01   \n",
              "std    3.219087e+02  1.997391e+00  3.849926e+03  4.644117e+02  3.755392e-01   \n",
              "min    1.000000e+00  1.000000e+00  0.000000e+00  0.000000e+00  0.000000e+00   \n",
              "25%    2.800000e+02  2.000000e+00  3.727000e+03  4.050000e+02  1.000000e+00   \n",
              "50%    5.580000e+02  4.000000e+00  5.744000e+03  6.090000e+02  1.000000e+00   \n",
              "75%    8.380000e+02  6.000000e+00  7.856000e+03  8.370000e+02  1.000000e+00   \n",
              "max    1.115000e+03  7.000000e+00  4.155100e+04  7.388000e+03  1.000000e+00   \n",
              "\n",
              "              Promo  SchoolHoliday  CompetitionDistance  \\\n",
              "count  1.017209e+06   1.017209e+06         1.017209e+06   \n",
              "mean   3.815145e-01   1.786467e-01         5.430020e+03   \n",
              "std    4.857586e-01   3.830564e-01         7.705298e+03   \n",
              "min    0.000000e+00   0.000000e+00         2.000000e+01   \n",
              "25%    0.000000e+00   0.000000e+00         7.100000e+02   \n",
              "50%    0.000000e+00   0.000000e+00         2.330000e+03   \n",
              "75%    1.000000e+00   0.000000e+00         6.880000e+03   \n",
              "max    1.000000e+00   1.000000e+00         7.586000e+04   \n",
              "\n",
              "       CompetitionOpenSinceMonth  CompetitionOpenSinceYear        Promo2  \\\n",
              "count               1.017209e+06              1.017209e+06  1.017209e+06   \n",
              "mean                4.926878e+00              1.370173e+03  5.005638e-01   \n",
              "std                 4.283543e+00              9.353634e+02  4.999999e-01   \n",
              "min                 0.000000e+00              0.000000e+00  0.000000e+00   \n",
              "25%                 0.000000e+00              0.000000e+00  0.000000e+00   \n",
              "50%                 4.000000e+00              2.006000e+03  1.000000e+00   \n",
              "75%                 9.000000e+00              2.011000e+03  1.000000e+00   \n",
              "max                 1.200000e+01              2.015000e+03  1.000000e+00   \n",
              "\n",
              "       Promo2SinceWeek  Promo2SinceYear          Year         Month  \\\n",
              "count     1.017209e+06     1.017209e+06  1.017209e+06  1.017209e+06   \n",
              "mean      1.164767e+01     1.007011e+03  2.013832e+03  5.846762e+00   \n",
              "std       1.532393e+01     1.005877e+03  7.773960e-01  3.326097e+00   \n",
              "min       0.000000e+00     0.000000e+00  2.013000e+03  1.000000e+00   \n",
              "25%       0.000000e+00     0.000000e+00  2.013000e+03  3.000000e+00   \n",
              "50%       1.000000e+00     2.009000e+03  2.014000e+03  6.000000e+00   \n",
              "75%       2.200000e+01     2.012000e+03  2.014000e+03  8.000000e+00   \n",
              "max       5.000000e+01     2.015000e+03  2.015000e+03  1.200000e+01   \n",
              "\n",
              "         WeekOfYear  \n",
              "count  1.017209e+06  \n",
              "mean   2.361551e+01  \n",
              "std    1.443338e+01  \n",
              "min    1.000000e+00  \n",
              "25%    1.100000e+01  \n",
              "50%    2.200000e+01  \n",
              "75%    3.500000e+01  \n",
              "max    5.200000e+01  "
            ],
            "text/html": [
              "\n",
              "  <div id=\"df-968bfe0d-3561-4db6-916f-bff1b9f906c6\" class=\"colab-df-container\">\n",
              "    <div>\n",
              "<style scoped>\n",
              "    .dataframe tbody tr th:only-of-type {\n",
              "        vertical-align: middle;\n",
              "    }\n",
              "\n",
              "    .dataframe tbody tr th {\n",
              "        vertical-align: top;\n",
              "    }\n",
              "\n",
              "    .dataframe thead th {\n",
              "        text-align: right;\n",
              "    }\n",
              "</style>\n",
              "<table border=\"1\" class=\"dataframe\">\n",
              "  <thead>\n",
              "    <tr style=\"text-align: right;\">\n",
              "      <th></th>\n",
              "      <th>Store</th>\n",
              "      <th>DayOfWeek</th>\n",
              "      <th>Sales</th>\n",
              "      <th>Customers</th>\n",
              "      <th>Open</th>\n",
              "      <th>Promo</th>\n",
              "      <th>SchoolHoliday</th>\n",
              "      <th>CompetitionDistance</th>\n",
              "      <th>CompetitionOpenSinceMonth</th>\n",
              "      <th>CompetitionOpenSinceYear</th>\n",
              "      <th>Promo2</th>\n",
              "      <th>Promo2SinceWeek</th>\n",
              "      <th>Promo2SinceYear</th>\n",
              "      <th>Year</th>\n",
              "      <th>Month</th>\n",
              "      <th>WeekOfYear</th>\n",
              "    </tr>\n",
              "  </thead>\n",
              "  <tbody>\n",
              "    <tr>\n",
              "      <th>count</th>\n",
              "      <td>1.017209e+06</td>\n",
              "      <td>1.017209e+06</td>\n",
              "      <td>1.017209e+06</td>\n",
              "      <td>1.017209e+06</td>\n",
              "      <td>1.017209e+06</td>\n",
              "      <td>1.017209e+06</td>\n",
              "      <td>1.017209e+06</td>\n",
              "      <td>1.017209e+06</td>\n",
              "      <td>1.017209e+06</td>\n",
              "      <td>1.017209e+06</td>\n",
              "      <td>1.017209e+06</td>\n",
              "      <td>1.017209e+06</td>\n",
              "      <td>1.017209e+06</td>\n",
              "      <td>1.017209e+06</td>\n",
              "      <td>1.017209e+06</td>\n",
              "      <td>1.017209e+06</td>\n",
              "    </tr>\n",
              "    <tr>\n",
              "      <th>mean</th>\n",
              "      <td>5.584297e+02</td>\n",
              "      <td>3.998341e+00</td>\n",
              "      <td>5.773819e+03</td>\n",
              "      <td>6.331459e+02</td>\n",
              "      <td>8.301067e-01</td>\n",
              "      <td>3.815145e-01</td>\n",
              "      <td>1.786467e-01</td>\n",
              "      <td>5.430020e+03</td>\n",
              "      <td>4.926878e+00</td>\n",
              "      <td>1.370173e+03</td>\n",
              "      <td>5.005638e-01</td>\n",
              "      <td>1.164767e+01</td>\n",
              "      <td>1.007011e+03</td>\n",
              "      <td>2.013832e+03</td>\n",
              "      <td>5.846762e+00</td>\n",
              "      <td>2.361551e+01</td>\n",
              "    </tr>\n",
              "    <tr>\n",
              "      <th>std</th>\n",
              "      <td>3.219087e+02</td>\n",
              "      <td>1.997391e+00</td>\n",
              "      <td>3.849926e+03</td>\n",
              "      <td>4.644117e+02</td>\n",
              "      <td>3.755392e-01</td>\n",
              "      <td>4.857586e-01</td>\n",
              "      <td>3.830564e-01</td>\n",
              "      <td>7.705298e+03</td>\n",
              "      <td>4.283543e+00</td>\n",
              "      <td>9.353634e+02</td>\n",
              "      <td>4.999999e-01</td>\n",
              "      <td>1.532393e+01</td>\n",
              "      <td>1.005877e+03</td>\n",
              "      <td>7.773960e-01</td>\n",
              "      <td>3.326097e+00</td>\n",
              "      <td>1.443338e+01</td>\n",
              "    </tr>\n",
              "    <tr>\n",
              "      <th>min</th>\n",
              "      <td>1.000000e+00</td>\n",
              "      <td>1.000000e+00</td>\n",
              "      <td>0.000000e+00</td>\n",
              "      <td>0.000000e+00</td>\n",
              "      <td>0.000000e+00</td>\n",
              "      <td>0.000000e+00</td>\n",
              "      <td>0.000000e+00</td>\n",
              "      <td>2.000000e+01</td>\n",
              "      <td>0.000000e+00</td>\n",
              "      <td>0.000000e+00</td>\n",
              "      <td>0.000000e+00</td>\n",
              "      <td>0.000000e+00</td>\n",
              "      <td>0.000000e+00</td>\n",
              "      <td>2.013000e+03</td>\n",
              "      <td>1.000000e+00</td>\n",
              "      <td>1.000000e+00</td>\n",
              "    </tr>\n",
              "    <tr>\n",
              "      <th>25%</th>\n",
              "      <td>2.800000e+02</td>\n",
              "      <td>2.000000e+00</td>\n",
              "      <td>3.727000e+03</td>\n",
              "      <td>4.050000e+02</td>\n",
              "      <td>1.000000e+00</td>\n",
              "      <td>0.000000e+00</td>\n",
              "      <td>0.000000e+00</td>\n",
              "      <td>7.100000e+02</td>\n",
              "      <td>0.000000e+00</td>\n",
              "      <td>0.000000e+00</td>\n",
              "      <td>0.000000e+00</td>\n",
              "      <td>0.000000e+00</td>\n",
              "      <td>0.000000e+00</td>\n",
              "      <td>2.013000e+03</td>\n",
              "      <td>3.000000e+00</td>\n",
              "      <td>1.100000e+01</td>\n",
              "    </tr>\n",
              "    <tr>\n",
              "      <th>50%</th>\n",
              "      <td>5.580000e+02</td>\n",
              "      <td>4.000000e+00</td>\n",
              "      <td>5.744000e+03</td>\n",
              "      <td>6.090000e+02</td>\n",
              "      <td>1.000000e+00</td>\n",
              "      <td>0.000000e+00</td>\n",
              "      <td>0.000000e+00</td>\n",
              "      <td>2.330000e+03</td>\n",
              "      <td>4.000000e+00</td>\n",
              "      <td>2.006000e+03</td>\n",
              "      <td>1.000000e+00</td>\n",
              "      <td>1.000000e+00</td>\n",
              "      <td>2.009000e+03</td>\n",
              "      <td>2.014000e+03</td>\n",
              "      <td>6.000000e+00</td>\n",
              "      <td>2.200000e+01</td>\n",
              "    </tr>\n",
              "    <tr>\n",
              "      <th>75%</th>\n",
              "      <td>8.380000e+02</td>\n",
              "      <td>6.000000e+00</td>\n",
              "      <td>7.856000e+03</td>\n",
              "      <td>8.370000e+02</td>\n",
              "      <td>1.000000e+00</td>\n",
              "      <td>1.000000e+00</td>\n",
              "      <td>0.000000e+00</td>\n",
              "      <td>6.880000e+03</td>\n",
              "      <td>9.000000e+00</td>\n",
              "      <td>2.011000e+03</td>\n",
              "      <td>1.000000e+00</td>\n",
              "      <td>2.200000e+01</td>\n",
              "      <td>2.012000e+03</td>\n",
              "      <td>2.014000e+03</td>\n",
              "      <td>8.000000e+00</td>\n",
              "      <td>3.500000e+01</td>\n",
              "    </tr>\n",
              "    <tr>\n",
              "      <th>max</th>\n",
              "      <td>1.115000e+03</td>\n",
              "      <td>7.000000e+00</td>\n",
              "      <td>4.155100e+04</td>\n",
              "      <td>7.388000e+03</td>\n",
              "      <td>1.000000e+00</td>\n",
              "      <td>1.000000e+00</td>\n",
              "      <td>1.000000e+00</td>\n",
              "      <td>7.586000e+04</td>\n",
              "      <td>1.200000e+01</td>\n",
              "      <td>2.015000e+03</td>\n",
              "      <td>1.000000e+00</td>\n",
              "      <td>5.000000e+01</td>\n",
              "      <td>2.015000e+03</td>\n",
              "      <td>2.015000e+03</td>\n",
              "      <td>1.200000e+01</td>\n",
              "      <td>5.200000e+01</td>\n",
              "    </tr>\n",
              "  </tbody>\n",
              "</table>\n",
              "</div>\n",
              "    <div class=\"colab-df-buttons\">\n",
              "\n",
              "  <div class=\"colab-df-container\">\n",
              "    <button class=\"colab-df-convert\" onclick=\"convertToInteractive('df-968bfe0d-3561-4db6-916f-bff1b9f906c6')\"\n",
              "            title=\"Convert this dataframe to an interactive table.\"\n",
              "            style=\"display:none;\">\n",
              "\n",
              "  <svg xmlns=\"http://www.w3.org/2000/svg\" height=\"24px\" viewBox=\"0 -960 960 960\">\n",
              "    <path d=\"M120-120v-720h720v720H120Zm60-500h600v-160H180v160Zm220 220h160v-160H400v160Zm0 220h160v-160H400v160ZM180-400h160v-160H180v160Zm440 0h160v-160H620v160ZM180-180h160v-160H180v160Zm440 0h160v-160H620v160Z\"/>\n",
              "  </svg>\n",
              "    </button>\n",
              "\n",
              "  <style>\n",
              "    .colab-df-container {\n",
              "      display:flex;\n",
              "      gap: 12px;\n",
              "    }\n",
              "\n",
              "    .colab-df-convert {\n",
              "      background-color: #E8F0FE;\n",
              "      border: none;\n",
              "      border-radius: 50%;\n",
              "      cursor: pointer;\n",
              "      display: none;\n",
              "      fill: #1967D2;\n",
              "      height: 32px;\n",
              "      padding: 0 0 0 0;\n",
              "      width: 32px;\n",
              "    }\n",
              "\n",
              "    .colab-df-convert:hover {\n",
              "      background-color: #E2EBFA;\n",
              "      box-shadow: 0px 1px 2px rgba(60, 64, 67, 0.3), 0px 1px 3px 1px rgba(60, 64, 67, 0.15);\n",
              "      fill: #174EA6;\n",
              "    }\n",
              "\n",
              "    .colab-df-buttons div {\n",
              "      margin-bottom: 4px;\n",
              "    }\n",
              "\n",
              "    [theme=dark] .colab-df-convert {\n",
              "      background-color: #3B4455;\n",
              "      fill: #D2E3FC;\n",
              "    }\n",
              "\n",
              "    [theme=dark] .colab-df-convert:hover {\n",
              "      background-color: #434B5C;\n",
              "      box-shadow: 0px 1px 3px 1px rgba(0, 0, 0, 0.15);\n",
              "      filter: drop-shadow(0px 1px 2px rgba(0, 0, 0, 0.3));\n",
              "      fill: #FFFFFF;\n",
              "    }\n",
              "  </style>\n",
              "\n",
              "    <script>\n",
              "      const buttonEl =\n",
              "        document.querySelector('#df-968bfe0d-3561-4db6-916f-bff1b9f906c6 button.colab-df-convert');\n",
              "      buttonEl.style.display =\n",
              "        google.colab.kernel.accessAllowed ? 'block' : 'none';\n",
              "\n",
              "      async function convertToInteractive(key) {\n",
              "        const element = document.querySelector('#df-968bfe0d-3561-4db6-916f-bff1b9f906c6');\n",
              "        const dataTable =\n",
              "          await google.colab.kernel.invokeFunction('convertToInteractive',\n",
              "                                                    [key], {});\n",
              "        if (!dataTable) return;\n",
              "\n",
              "        const docLinkHtml = 'Like what you see? Visit the ' +\n",
              "          '<a target=\"_blank\" href=https://colab.research.google.com/notebooks/data_table.ipynb>data table notebook</a>'\n",
              "          + ' to learn more about interactive tables.';\n",
              "        element.innerHTML = '';\n",
              "        dataTable['output_type'] = 'display_data';\n",
              "        await google.colab.output.renderOutput(dataTable, element);\n",
              "        const docLink = document.createElement('div');\n",
              "        docLink.innerHTML = docLinkHtml;\n",
              "        element.appendChild(docLink);\n",
              "      }\n",
              "    </script>\n",
              "  </div>\n",
              "\n",
              "\n",
              "<div id=\"df-49f73541-9e70-4618-bf2e-9a198dbd6ac5\">\n",
              "  <button class=\"colab-df-quickchart\" onclick=\"quickchart('df-49f73541-9e70-4618-bf2e-9a198dbd6ac5')\"\n",
              "            title=\"Suggest charts\"\n",
              "            style=\"display:none;\">\n",
              "\n",
              "<svg xmlns=\"http://www.w3.org/2000/svg\" height=\"24px\"viewBox=\"0 0 24 24\"\n",
              "     width=\"24px\">\n",
              "    <g>\n",
              "        <path d=\"M19 3H5c-1.1 0-2 .9-2 2v14c0 1.1.9 2 2 2h14c1.1 0 2-.9 2-2V5c0-1.1-.9-2-2-2zM9 17H7v-7h2v7zm4 0h-2V7h2v10zm4 0h-2v-4h2v4z\"/>\n",
              "    </g>\n",
              "</svg>\n",
              "  </button>\n",
              "\n",
              "<style>\n",
              "  .colab-df-quickchart {\n",
              "      --bg-color: #E8F0FE;\n",
              "      --fill-color: #1967D2;\n",
              "      --hover-bg-color: #E2EBFA;\n",
              "      --hover-fill-color: #174EA6;\n",
              "      --disabled-fill-color: #AAA;\n",
              "      --disabled-bg-color: #DDD;\n",
              "  }\n",
              "\n",
              "  [theme=dark] .colab-df-quickchart {\n",
              "      --bg-color: #3B4455;\n",
              "      --fill-color: #D2E3FC;\n",
              "      --hover-bg-color: #434B5C;\n",
              "      --hover-fill-color: #FFFFFF;\n",
              "      --disabled-bg-color: #3B4455;\n",
              "      --disabled-fill-color: #666;\n",
              "  }\n",
              "\n",
              "  .colab-df-quickchart {\n",
              "    background-color: var(--bg-color);\n",
              "    border: none;\n",
              "    border-radius: 50%;\n",
              "    cursor: pointer;\n",
              "    display: none;\n",
              "    fill: var(--fill-color);\n",
              "    height: 32px;\n",
              "    padding: 0;\n",
              "    width: 32px;\n",
              "  }\n",
              "\n",
              "  .colab-df-quickchart:hover {\n",
              "    background-color: var(--hover-bg-color);\n",
              "    box-shadow: 0 1px 2px rgba(60, 64, 67, 0.3), 0 1px 3px 1px rgba(60, 64, 67, 0.15);\n",
              "    fill: var(--button-hover-fill-color);\n",
              "  }\n",
              "\n",
              "  .colab-df-quickchart-complete:disabled,\n",
              "  .colab-df-quickchart-complete:disabled:hover {\n",
              "    background-color: var(--disabled-bg-color);\n",
              "    fill: var(--disabled-fill-color);\n",
              "    box-shadow: none;\n",
              "  }\n",
              "\n",
              "  .colab-df-spinner {\n",
              "    border: 2px solid var(--fill-color);\n",
              "    border-color: transparent;\n",
              "    border-bottom-color: var(--fill-color);\n",
              "    animation:\n",
              "      spin 1s steps(1) infinite;\n",
              "  }\n",
              "\n",
              "  @keyframes spin {\n",
              "    0% {\n",
              "      border-color: transparent;\n",
              "      border-bottom-color: var(--fill-color);\n",
              "      border-left-color: var(--fill-color);\n",
              "    }\n",
              "    20% {\n",
              "      border-color: transparent;\n",
              "      border-left-color: var(--fill-color);\n",
              "      border-top-color: var(--fill-color);\n",
              "    }\n",
              "    30% {\n",
              "      border-color: transparent;\n",
              "      border-left-color: var(--fill-color);\n",
              "      border-top-color: var(--fill-color);\n",
              "      border-right-color: var(--fill-color);\n",
              "    }\n",
              "    40% {\n",
              "      border-color: transparent;\n",
              "      border-right-color: var(--fill-color);\n",
              "      border-top-color: var(--fill-color);\n",
              "    }\n",
              "    60% {\n",
              "      border-color: transparent;\n",
              "      border-right-color: var(--fill-color);\n",
              "    }\n",
              "    80% {\n",
              "      border-color: transparent;\n",
              "      border-right-color: var(--fill-color);\n",
              "      border-bottom-color: var(--fill-color);\n",
              "    }\n",
              "    90% {\n",
              "      border-color: transparent;\n",
              "      border-bottom-color: var(--fill-color);\n",
              "    }\n",
              "  }\n",
              "</style>\n",
              "\n",
              "  <script>\n",
              "    async function quickchart(key) {\n",
              "      const quickchartButtonEl =\n",
              "        document.querySelector('#' + key + ' button');\n",
              "      quickchartButtonEl.disabled = true;  // To prevent multiple clicks.\n",
              "      quickchartButtonEl.classList.add('colab-df-spinner');\n",
              "      try {\n",
              "        const charts = await google.colab.kernel.invokeFunction(\n",
              "            'suggestCharts', [key], {});\n",
              "      } catch (error) {\n",
              "        console.error('Error during call to suggestCharts:', error);\n",
              "      }\n",
              "      quickchartButtonEl.classList.remove('colab-df-spinner');\n",
              "      quickchartButtonEl.classList.add('colab-df-quickchart-complete');\n",
              "    }\n",
              "    (() => {\n",
              "      let quickchartButtonEl =\n",
              "        document.querySelector('#df-49f73541-9e70-4618-bf2e-9a198dbd6ac5 button');\n",
              "      quickchartButtonEl.style.display =\n",
              "        google.colab.kernel.accessAllowed ? 'block' : 'none';\n",
              "    })();\n",
              "  </script>\n",
              "</div>\n",
              "    </div>\n",
              "  </div>\n"
            ]
          },
          "metadata": {},
          "execution_count": 71
        }
      ]
    },
    {
      "cell_type": "code",
      "source": [
        "# Handling Outliers & Outlier treatments\n",
        "# Eye Test\n",
        "Promo_mean = df['Promo'].mean()\n",
        "Promo_std = df['Promo'].std()\n",
        "Promo_threshold = Promo_mean + 2 * Promo_std\n",
        "\n",
        "outliers_eye_test = df[df['Promo'] > Promo_threshold]\n",
        "print(\"Outliers detected using Eye Test:\")\n",
        "print(outliers_eye_test)"
      ],
      "metadata": {
        "id": "M6w2CzZf04JK",
        "colab": {
          "base_uri": "https://localhost:8080/"
        },
        "outputId": "83581e06-c467-4ce3-ba80-ca0e2694dbdf"
      },
      "execution_count": 68,
      "outputs": [
        {
          "output_type": "stream",
          "name": "stdout",
          "text": [
            "Outliers detected using Eye Test:\n",
            "Empty DataFrame\n",
            "Columns: [Store, DayOfWeek, Date, Sales, Customers, Open, Promo, StateHoliday, SchoolHoliday, StoreType, Assortment, CompetitionDistance, CompetitionOpenSinceMonth, CompetitionOpenSinceYear, Promo2, Promo2SinceWeek, Promo2SinceYear, PromoInterval, Year, Month, WeekOfYear, DayName]\n",
            "Index: []\n",
            "\n",
            "[0 rows x 22 columns]\n"
          ]
        }
      ]
    },
    {
      "cell_type": "code",
      "source": [
        "\n",
        "# Flyover Inspection\n",
        "Store_mean = df['Store'].mean()\n",
        "Store_std = df['Store'].std()\n",
        "Store_threshold = Store_mean + 2 * Store_std\n",
        "\n",
        "outliers_flyover = df[df['Store'] > Store_threshold]\n",
        "print(\"\\nOutliers detected using Flyover Inspection:\")\n",
        "print(outliers_flyover)"
      ],
      "metadata": {
        "colab": {
          "base_uri": "https://localhost:8080/"
        },
        "id": "76MusEz34uYu",
        "outputId": "adaa9c37-3586-48f0-a73e-c6baecf9e695"
      },
      "execution_count": 75,
      "outputs": [
        {
          "output_type": "stream",
          "name": "stdout",
          "text": [
            "\n",
            "Outliers detected using Flyover Inspection:\n",
            "Empty DataFrame\n",
            "Columns: [Store, DayOfWeek, Date, Sales, Customers, Open, Promo, StateHoliday, SchoolHoliday, StoreType, Assortment, CompetitionDistance, CompetitionOpenSinceMonth, CompetitionOpenSinceYear, Promo2, Promo2SinceWeek, Promo2SinceYear, PromoInterval, Year, Month, WeekOfYear, DayName]\n",
            "Index: []\n",
            "\n",
            "[0 rows x 22 columns]\n"
          ]
        }
      ]
    },
    {
      "cell_type": "markdown",
      "source": [
        "##### What all outlier treatment techniques have you used and why did you use those techniques?"
      ],
      "metadata": {
        "id": "578E2V7j08f6"
      }
    },
    {
      "cell_type": "markdown",
      "source": [
        "In our Dataset \"df\" I don't find any outlier That required treatment. I also used **Flyover inspection** and **Eye Test inspection** in come columns to check outlier but i did not find any out lier which can affet the analysis work"
      ],
      "metadata": {
        "id": "uGZz5OrT1HH-"
      }
    },
    {
      "cell_type": "markdown",
      "source": [
        "### 3. Categorical Encoding"
      ],
      "metadata": {
        "id": "89xtkJwZ18nB"
      }
    },
    {
      "cell_type": "code",
      "source": [
        "# Encode your categorical columns\n",
        "# Firstly we will find the categorical columns\n",
        "df.info()"
      ],
      "metadata": {
        "id": "21JmIYMG2hEo",
        "colab": {
          "base_uri": "https://localhost:8080/"
        },
        "outputId": "9cc5a317-ffb9-4b14-f45e-29fd6251b672"
      },
      "execution_count": 82,
      "outputs": [
        {
          "output_type": "stream",
          "name": "stdout",
          "text": [
            "<class 'pandas.core.frame.DataFrame'>\n",
            "Int64Index: 1017209 entries, 0 to 1017208\n",
            "Data columns (total 40 columns):\n",
            " #   Column                          Non-Null Count    Dtype         \n",
            "---  ------                          --------------    -----         \n",
            " 0   Store                           1017209 non-null  int64         \n",
            " 1   DayOfWeek                       1017209 non-null  int64         \n",
            " 2   Date                            1017209 non-null  datetime64[ns]\n",
            " 3   Sales                           1017209 non-null  int64         \n",
            " 4   Customers                       1017209 non-null  int64         \n",
            " 5   Open                            1017209 non-null  int64         \n",
            " 6   Promo                           1017209 non-null  int64         \n",
            " 7   SchoolHoliday                   1017209 non-null  int64         \n",
            " 8   CompetitionDistance             1017209 non-null  float64       \n",
            " 9   CompetitionOpenSinceMonth       1017209 non-null  float64       \n",
            " 10  CompetitionOpenSinceYear        1017209 non-null  float64       \n",
            " 11  Promo2                          1017209 non-null  int64         \n",
            " 12  Promo2SinceWeek                 1017209 non-null  float64       \n",
            " 13  Promo2SinceYear                 1017209 non-null  float64       \n",
            " 14  Year                            1017209 non-null  int64         \n",
            " 15  Month                           1017209 non-null  int64         \n",
            " 16  WeekOfYear                      1017209 non-null  int64         \n",
            " 17  StateHoliday_0                  1017209 non-null  uint8         \n",
            " 18  StateHoliday_0                  1017209 non-null  uint8         \n",
            " 19  StateHoliday_a                  1017209 non-null  uint8         \n",
            " 20  StateHoliday_b                  1017209 non-null  uint8         \n",
            " 21  StateHoliday_c                  1017209 non-null  uint8         \n",
            " 22  StoreType_a                     1017209 non-null  uint8         \n",
            " 23  StoreType_b                     1017209 non-null  uint8         \n",
            " 24  StoreType_c                     1017209 non-null  uint8         \n",
            " 25  StoreType_d                     1017209 non-null  uint8         \n",
            " 26  Assortment_a                    1017209 non-null  uint8         \n",
            " 27  Assortment_b                    1017209 non-null  uint8         \n",
            " 28  Assortment_c                    1017209 non-null  uint8         \n",
            " 29  PromoInterval_Feb,May,Aug,Nov   1017209 non-null  uint8         \n",
            " 30  PromoInterval_Jan,Apr,Jul,Oct   1017209 non-null  uint8         \n",
            " 31  PromoInterval_Mar,Jun,Sept,Dec  1017209 non-null  uint8         \n",
            " 32  PromoInterval_NoPromo           1017209 non-null  uint8         \n",
            " 33  DayName_Friday                  1017209 non-null  uint8         \n",
            " 34  DayName_Monday                  1017209 non-null  uint8         \n",
            " 35  DayName_Saturday                1017209 non-null  uint8         \n",
            " 36  DayName_Sunday                  1017209 non-null  uint8         \n",
            " 37  DayName_Thursday                1017209 non-null  uint8         \n",
            " 38  DayName_Tuesday                 1017209 non-null  uint8         \n",
            " 39  DayName_Wednesday               1017209 non-null  uint8         \n",
            "dtypes: datetime64[ns](1), float64(5), int64(11), uint8(23)\n",
            "memory usage: 162.0 MB\n"
          ]
        }
      ]
    },
    {
      "cell_type": "code",
      "source": [
        "categorical_columns = df.select_dtypes(include=['object']).columns\n",
        "print(\"Categorical Columns:\", categorical_columns)"
      ],
      "metadata": {
        "colab": {
          "base_uri": "https://localhost:8080/"
        },
        "id": "f-3vEe697hqV",
        "outputId": "0a0a9fe8-40a4-4525-b09d-c3b5e4ffb444"
      },
      "execution_count": 79,
      "outputs": [
        {
          "output_type": "stream",
          "name": "stdout",
          "text": [
            "Categorical Columns: Index(['StateHoliday', 'StoreType', 'Assortment', 'PromoInterval', 'DayName'], dtype='object')\n"
          ]
        }
      ]
    },
    {
      "cell_type": "code",
      "source": [
        "df = pd.get_dummies(df,columns=['StateHoliday', 'StoreType', 'Assortment', 'PromoInterval', 'DayName'],\n",
        "                    prefix=['StateHoliday', 'StoreType', 'Assortment', 'PromoInterval', 'DayName'])"
      ],
      "metadata": {
        "id": "dVC6Ce-u8Sj4"
      },
      "execution_count": 80,
      "outputs": []
    },
    {
      "cell_type": "code",
      "source": [
        "df.columns"
      ],
      "metadata": {
        "colab": {
          "base_uri": "https://localhost:8080/"
        },
        "id": "5MZS3GCW9p1Y",
        "outputId": "24b9ab0b-4bb8-4ad0-aa93-db7231d8b2a4"
      },
      "execution_count": 81,
      "outputs": [
        {
          "output_type": "execute_result",
          "data": {
            "text/plain": [
              "Index(['Store', 'DayOfWeek', 'Date', 'Sales', 'Customers', 'Open', 'Promo',\n",
              "       'SchoolHoliday', 'CompetitionDistance', 'CompetitionOpenSinceMonth',\n",
              "       'CompetitionOpenSinceYear', 'Promo2', 'Promo2SinceWeek',\n",
              "       'Promo2SinceYear', 'Year', 'Month', 'WeekOfYear', 'StateHoliday_0',\n",
              "       'StateHoliday_0', 'StateHoliday_a', 'StateHoliday_b', 'StateHoliday_c',\n",
              "       'StoreType_a', 'StoreType_b', 'StoreType_c', 'StoreType_d',\n",
              "       'Assortment_a', 'Assortment_b', 'Assortment_c',\n",
              "       'PromoInterval_Feb,May,Aug,Nov', 'PromoInterval_Jan,Apr,Jul,Oct',\n",
              "       'PromoInterval_Mar,Jun,Sept,Dec', 'PromoInterval_NoPromo',\n",
              "       'DayName_Friday', 'DayName_Monday', 'DayName_Saturday',\n",
              "       'DayName_Sunday', 'DayName_Thursday', 'DayName_Tuesday',\n",
              "       'DayName_Wednesday'],\n",
              "      dtype='object')"
            ]
          },
          "metadata": {},
          "execution_count": 81
        }
      ]
    },
    {
      "cell_type": "markdown",
      "source": [
        "#### What all categorical encoding techniques have you used & why did you use those techniques?"
      ],
      "metadata": {
        "id": "67NQN5KX2AMe"
      }
    },
    {
      "cell_type": "markdown",
      "source": [
        "**ONE-HOT ENCODING**\n",
        "\n",
        "I have Used One-hot encoding  technique which is used in data preprocessing to convert categorical variables columns ['StateHoliday', 'StoreType', 'Assortment', 'PromoInterval', 'DayName'] into a binary matrix, making them suitable for machine learning algorithms that require numerical input. It's a way of representing categorical information as binary vectors."
      ],
      "metadata": {
        "id": "UDaue5h32n_G"
      }
    },
    {
      "cell_type": "markdown",
      "source": [
        "### 4. Textual Data Preprocessing\n",
        "(It's mandatory for textual dataset i.e., NLP, Sentiment Analysis, Text Clustering etc.)"
      ],
      "metadata": {
        "id": "Iwf50b-R2tYG"
      }
    },
    {
      "cell_type": "markdown",
      "source": [
        "Textual data preprocessing is a crucial step in natural language processing (NLP) and machine learning tasks involving text. in this data set i have have already converted the cetegorical data using hot end encoding to tere is no need to perform Texual data preprocessing"
      ],
      "metadata": {
        "id": "NBRHZnMtAynk"
      }
    },
    {
      "cell_type": "markdown",
      "source": [
        "### 4. Feature Manipulation & Selection"
      ],
      "metadata": {
        "id": "-oLEiFgy-5Pf"
      }
    },
    {
      "cell_type": "markdown",
      "source": [
        "#### 1. Feature Manipulation"
      ],
      "metadata": {
        "id": "C74aWNz2AliB"
      }
    },
    {
      "cell_type": "code",
      "source": [
        "# Manipulate Features to minimize feature correlation and create new features\n",
        "corrilation_matrix = df.corr()\n",
        "corrilation_matrix"
      ],
      "metadata": {
        "id": "h1qC4yhBApWC",
        "colab": {
          "base_uri": "https://localhost:8080/",
          "height": 1000
        },
        "outputId": "d4cd6754-cdd6-4367-a361-a1701541ab42"
      },
      "execution_count": 83,
      "outputs": [
        {
          "output_type": "stream",
          "name": "stderr",
          "text": [
            "<ipython-input-83-aeba5526c7db>:2: FutureWarning: The default value of numeric_only in DataFrame.corr is deprecated. In a future version, it will default to False. Select only valid columns or specify the value of numeric_only to silence this warning.\n",
            "  corrilation_matrix = df.corr()\n"
          ]
        },
        {
          "output_type": "execute_result",
          "data": {
            "text/plain": [
              "                                   Store     DayOfWeek     Sales  Customers  \\\n",
              "Store                           1.000000 -8.483588e-06  0.005126   0.024325   \n",
              "DayOfWeek                      -0.000008  1.000000e+00 -0.462125  -0.386445   \n",
              "Sales                           0.005126 -4.621250e-01  1.000000   0.894711   \n",
              "Customers                       0.024325 -3.864447e-01  0.894711   1.000000   \n",
              "Open                           -0.000047 -5.289625e-01  0.678472   0.616768   \n",
              "Promo                           0.000058 -3.929253e-01  0.452345   0.316169   \n",
              "SchoolHoliday                   0.000641 -2.053883e-01  0.085124   0.071568   \n",
              "CompetitionDistance            -0.026394 -2.458335e-05 -0.019207  -0.102777   \n",
              "CompetitionOpenSinceMonth      -0.032893  8.338445e-06 -0.012431  -0.015188   \n",
              "CompetitionOpenSinceYear       -0.008794  6.677520e-06  0.002749   0.000489   \n",
              "Promo2                          0.008488  1.682793e-04 -0.091040  -0.150159   \n",
              "Promo2SinceWeek                 0.011053  2.077195e-04 -0.044143  -0.098323   \n",
              "Promo2SinceYear                 0.008520  1.683195e-04 -0.091056  -0.150138   \n",
              "Year                            0.000290  1.937284e-03  0.023519  -0.001212   \n",
              "Month                           0.001467 -5.361725e-03  0.048768   0.038179   \n",
              "WeekOfYear                      0.001421 -4.880275e-03  0.052946   0.041404   \n",
              "StateHoliday_0                  0.000404 -4.594393e-03 -0.004025   0.007478   \n",
              "StateHoliday_0                 -0.000624  2.906199e-02  0.123160   0.099656   \n",
              "StateHoliday_a                  0.000665 -4.098141e-02 -0.203028  -0.180900   \n",
              "StateHoliday_b                 -0.000109 -4.066836e-02 -0.117497  -0.104522   \n",
              "StateHoliday_c                  0.000144 -1.345413e-03 -0.092618  -0.083007   \n",
              "StoreType_a                     0.005579 -3.418815e-05 -0.010076   0.060679   \n",
              "StoreType_b                     0.001412 -1.881276e-05  0.139940   0.366726   \n",
              "StoreType_c                     0.060986 -3.883322e-05 -0.005140   0.034059   \n",
              "StoreType_d                    -0.051492  7.066370e-05 -0.022854  -0.189039   \n",
              "Assortment_a                   -0.006140  5.211665e-05 -0.080494  -0.031864   \n",
              "Assortment_b                    0.019328 -6.767854e-06  0.065473   0.275905   \n",
              "Assortment_c                    0.002661 -5.095153e-05  0.068772  -0.017859   \n",
              "PromoInterval_Feb,May,Aug,Nov   0.008035 -3.017220e-07 -0.043668  -0.065473   \n",
              "PromoInterval_Jan,Apr,Jul,Oct   0.012181  1.982385e-04 -0.034946  -0.078401   \n",
              "PromoInterval_Mar,Jun,Sept,Dec -0.013087 -1.884694e-05 -0.053267  -0.063053   \n",
              "PromoInterval_NoPromo          -0.008488 -1.682793e-04  0.091040   0.150159   \n",
              "DayName_Friday                 -0.000007  2.051650e-01  0.100895   0.096907   \n",
              "DayName_Monday                 -0.000003 -6.113922e-01  0.215309   0.157789   \n",
              "DayName_Saturday               -0.000003  4.081588e-01  0.007801   0.021018   \n",
              "DayName_Sunday                 -0.000003  6.120689e-01 -0.589219  -0.523883   \n",
              "DayName_Thursday               -0.000007  3.398954e-04  0.050344   0.056728   \n",
              "DayName_Tuesday                 0.000010 -4.090137e-01  0.130764   0.112536   \n",
              "DayName_Wednesday               0.000014 -2.043378e-01  0.083047   0.077901   \n",
              "\n",
              "                                    Open         Promo  SchoolHoliday  \\\n",
              "Store                          -0.000047  5.786226e-05       0.000641   \n",
              "DayOfWeek                      -0.528963 -3.929253e-01      -0.205388   \n",
              "Sales                           0.678472  4.523447e-01       0.085124   \n",
              "Customers                       0.616768  3.161695e-01       0.071568   \n",
              "Open                            1.000000  2.950423e-01       0.086171   \n",
              "Promo                           0.295042  1.000000e+00       0.067483   \n",
              "SchoolHoliday                   0.086171  6.748281e-02       1.000000   \n",
              "CompetitionDistance             0.007981  1.380801e-04      -0.003684   \n",
              "CompetitionOpenSinceMonth      -0.000200 -3.919081e-05      -0.001688   \n",
              "CompetitionOpenSinceYear       -0.001144 -3.429440e-05      -0.001801   \n",
              "Promo2                         -0.008309 -9.827565e-04      -0.006909   \n",
              "Promo2SinceWeek                -0.007436 -1.210007e-03      -0.006679   \n",
              "Promo2SinceYear                -0.008308 -9.829896e-04      -0.006912   \n",
              "Year                           -0.001009  2.429961e-02      -0.036535   \n",
              "Month                          -0.000681 -1.174726e-02       0.103282   \n",
              "WeekOfYear                      0.004792  5.715385e-04       0.071052   \n",
              "StateHoliday_0                  0.026067 -2.312738e-03       0.051111   \n",
              "StateHoliday_0                  0.153969  7.922612e-03      -0.116647   \n",
              "StateHoliday_a                 -0.302107 -4.033889e-03       0.029126   \n",
              "StateHoliday_b                 -0.175158  1.984658e-02       0.159098   \n",
              "StateHoliday_c                 -0.137685 -4.996370e-02       0.136405   \n",
              "StoreType_a                    -0.004373  2.042938e-04      -0.000687   \n",
              "StoreType_b                     0.051233  1.083276e-04       0.001825   \n",
              "StoreType_c                    -0.004709  2.227366e-04       0.001557   \n",
              "StoreType_d                    -0.005538 -4.142730e-04      -0.000899   \n",
              "Assortment_a                   -0.006438 -2.962337e-04       0.002464   \n",
              "Assortment_b                    0.038631  3.867630e-05       0.000608   \n",
              "Assortment_c                   -0.000522  2.895737e-04      -0.002576   \n",
              "PromoInterval_Feb,May,Aug,Nov  -0.003608 -6.029887e-07      -0.002109   \n",
              "PromoInterval_Jan,Apr,Jul,Oct  -0.005269 -1.154201e-03      -0.004427   \n",
              "PromoInterval_Mar,Jun,Sept,Dec -0.002074  1.072316e-04      -0.002624   \n",
              "PromoInterval_NoPromo           0.008309  9.827565e-04       0.006909   \n",
              "DayName_Friday                  0.131265  1.266868e-01       0.074551   \n",
              "DayName_Monday                  0.130528  1.305998e-01       0.060274   \n",
              "DayName_Saturday                0.179221 -3.198840e-01      -0.169936   \n",
              "DayName_Sunday                 -0.873362 -3.198840e-01      -0.169936   \n",
              "DayName_Thursday                0.101416  1.266868e-01       0.063654   \n",
              "DayName_Tuesday                 0.172222  1.271513e-01       0.077464   \n",
              "DayName_Wednesday               0.157081  1.271488e-01       0.063109   \n",
              "\n",
              "                                CompetitionDistance  \\\n",
              "Store                                     -0.026394   \n",
              "DayOfWeek                                 -0.000025   \n",
              "Sales                                     -0.019207   \n",
              "Customers                                 -0.102777   \n",
              "Open                                       0.007981   \n",
              "Promo                                      0.000138   \n",
              "SchoolHoliday                             -0.003684   \n",
              "CompetitionDistance                        1.000000   \n",
              "CompetitionOpenSinceMonth                 -0.034391   \n",
              "CompetitionOpenSinceYear                  -0.002881   \n",
              "Promo2                                    -0.139700   \n",
              "Promo2SinceWeek                           -0.123641   \n",
              "Promo2SinceYear                           -0.139763   \n",
              "Year                                       0.000702   \n",
              "Month                                      0.003574   \n",
              "WeekOfYear                                 0.003460   \n",
              "StateHoliday_0                             0.002527   \n",
              "StateHoliday_0                            -0.001944   \n",
              "StateHoliday_a                            -0.000972   \n",
              "StateHoliday_b                            -0.000265   \n",
              "StateHoliday_c                             0.000352   \n",
              "StoreType_a                               -0.037175   \n",
              "StoreType_b                               -0.071209   \n",
              "StoreType_c                               -0.097898   \n",
              "StoreType_d                                0.131610   \n",
              "Assortment_a                              -0.141216   \n",
              "Assortment_b                              -0.049883   \n",
              "Assortment_c                               0.150362   \n",
              "PromoInterval_Feb,May,Aug,Nov             -0.050649   \n",
              "PromoInterval_Jan,Apr,Jul,Oct             -0.082626   \n",
              "PromoInterval_Mar,Jun,Sept,Dec            -0.054949   \n",
              "PromoInterval_NoPromo                      0.139700   \n",
              "DayName_Friday                            -0.000020   \n",
              "DayName_Monday                            -0.000009   \n",
              "DayName_Saturday                          -0.000009   \n",
              "DayName_Sunday                            -0.000009   \n",
              "DayName_Thursday                          -0.000020   \n",
              "DayName_Tuesday                            0.000035   \n",
              "DayName_Wednesday                          0.000033   \n",
              "\n",
              "                                CompetitionOpenSinceMonth  \\\n",
              "Store                                           -0.032893   \n",
              "DayOfWeek                                        0.000008   \n",
              "Sales                                           -0.012431   \n",
              "Customers                                       -0.015188   \n",
              "Open                                            -0.000200   \n",
              "Promo                                           -0.000039   \n",
              "SchoolHoliday                                   -0.001688   \n",
              "CompetitionDistance                             -0.034391   \n",
              "CompetitionOpenSinceMonth                        1.000000   \n",
              "CompetitionOpenSinceYear                         0.784968   \n",
              "Promo2                                          -0.081027   \n",
              "Promo2SinceWeek                                 -0.108546   \n",
              "Promo2SinceYear                                 -0.080952   \n",
              "Year                                            -0.000203   \n",
              "Month                                           -0.001037   \n",
              "WeekOfYear                                      -0.001004   \n",
              "StateHoliday_0                                  -0.000707   \n",
              "StateHoliday_0                                   0.001201   \n",
              "StateHoliday_a                                  -0.001450   \n",
              "StateHoliday_b                                   0.000077   \n",
              "StateHoliday_c                                  -0.000102   \n",
              "StoreType_a                                      0.037553   \n",
              "StoreType_b                                     -0.039814   \n",
              "StoreType_c                                      0.015645   \n",
              "StoreType_d                                     -0.041428   \n",
              "Assortment_a                                     0.100431   \n",
              "Assortment_b                                    -0.051397   \n",
              "Assortment_c                                    -0.091268   \n",
              "PromoInterval_Feb,May,Aug,Nov                   -0.017944   \n",
              "PromoInterval_Jan,Apr,Jul,Oct                   -0.056377   \n",
              "PromoInterval_Mar,Jun,Sept,Dec                  -0.031330   \n",
              "PromoInterval_NoPromo                            0.081027   \n",
              "DayName_Friday                                   0.000006   \n",
              "DayName_Monday                                   0.000003   \n",
              "DayName_Saturday                                 0.000003   \n",
              "DayName_Sunday                                   0.000003   \n",
              "DayName_Thursday                                 0.000006   \n",
              "DayName_Tuesday                                 -0.000013   \n",
              "DayName_Wednesday                               -0.000009   \n",
              "\n",
              "                                CompetitionOpenSinceYear  ...  \\\n",
              "Store                                          -0.008794  ...   \n",
              "DayOfWeek                                       0.000007  ...   \n",
              "Sales                                           0.002749  ...   \n",
              "Customers                                       0.000489  ...   \n",
              "Open                                           -0.001144  ...   \n",
              "Promo                                          -0.000034  ...   \n",
              "SchoolHoliday                                  -0.001801  ...   \n",
              "CompetitionDistance                            -0.002881  ...   \n",
              "CompetitionOpenSinceMonth                       0.784968  ...   \n",
              "CompetitionOpenSinceYear                        1.000000  ...   \n",
              "Promo2                                         -0.097433  ...   \n",
              "Promo2SinceWeek                                -0.124378  ...   \n",
              "Promo2SinceYear                                -0.097363  ...   \n",
              "Year                                           -0.000176  ...   \n",
              "Month                                          -0.000897  ...   \n",
              "WeekOfYear                                     -0.000868  ...   \n",
              "StateHoliday_0                                 -0.000613  ...   \n",
              "StateHoliday_0                                  0.001544  ...   \n",
              "StateHoliday_a                                 -0.002573  ...   \n",
              "StateHoliday_b                                  0.000067  ...   \n",
              "StateHoliday_c                                 -0.000088  ...   \n",
              "StoreType_a                                     0.058360  ...   \n",
              "StoreType_b                                    -0.039637  ...   \n",
              "StoreType_c                                     0.034669  ...   \n",
              "StoreType_d                                    -0.078003  ...   \n",
              "Assortment_a                                    0.127335  ...   \n",
              "Assortment_b                                   -0.066661  ...   \n",
              "Assortment_c                                   -0.115449  ...   \n",
              "PromoInterval_Feb,May,Aug,Nov                  -0.068438  ...   \n",
              "PromoInterval_Jan,Apr,Jul,Oct                  -0.010996  ...   \n",
              "PromoInterval_Mar,Jun,Sept,Dec                 -0.073972  ...   \n",
              "PromoInterval_NoPromo                           0.097433  ...   \n",
              "DayName_Friday                                  0.000005  ...   \n",
              "DayName_Monday                                  0.000003  ...   \n",
              "DayName_Saturday                                0.000003  ...   \n",
              "DayName_Sunday                                  0.000003  ...   \n",
              "DayName_Thursday                                0.000005  ...   \n",
              "DayName_Tuesday                                -0.000010  ...   \n",
              "DayName_Wednesday                              -0.000008  ...   \n",
              "\n",
              "                                PromoInterval_Jan,Apr,Jul,Oct  \\\n",
              "Store                                                0.012181   \n",
              "DayOfWeek                                            0.000198   \n",
              "Sales                                               -0.034946   \n",
              "Customers                                           -0.078401   \n",
              "Open                                                -0.005269   \n",
              "Promo                                               -0.001154   \n",
              "SchoolHoliday                                       -0.004427   \n",
              "CompetitionDistance                                 -0.082626   \n",
              "CompetitionOpenSinceMonth                           -0.056377   \n",
              "CompetitionOpenSinceYear                            -0.010996   \n",
              "Promo2                                               0.635534   \n",
              "Promo2SinceWeek                                      0.475073   \n",
              "Promo2SinceYear                                      0.635484   \n",
              "Year                                                -0.005853   \n",
              "Month                                               -0.029751   \n",
              "WeekOfYear                                          -0.028803   \n",
              "StateHoliday_0                                      -0.020421   \n",
              "StateHoliday_0                                       0.014811   \n",
              "StateHoliday_a                                       0.010220   \n",
              "StateHoliday_b                                       0.002207   \n",
              "StateHoliday_c                                      -0.002928   \n",
              "StoreType_a                                         -0.019033   \n",
              "StoreType_b                                         -0.030437   \n",
              "StoreType_c                                         -0.034836   \n",
              "StoreType_d                                          0.054466   \n",
              "Assortment_a                                         0.022838   \n",
              "Assortment_b                                        -0.012214   \n",
              "Assortment_c                                        -0.020659   \n",
              "PromoInterval_Feb,May,Aug,Nov                       -0.231141   \n",
              "PromoInterval_Jan,Apr,Jul,Oct                        1.000000   \n",
              "PromoInterval_Mar,Jun,Sept,Dec                      -0.207113   \n",
              "PromoInterval_NoPromo                               -0.635534   \n",
              "DayName_Friday                                       0.000160   \n",
              "DayName_Monday                                       0.000076   \n",
              "DayName_Saturday                                     0.000076   \n",
              "DayName_Sunday                                       0.000076   \n",
              "DayName_Thursday                                     0.000160   \n",
              "DayName_Tuesday                                     -0.000273   \n",
              "DayName_Wednesday                                   -0.000274   \n",
              "\n",
              "                                PromoInterval_Mar,Jun,Sept,Dec  \\\n",
              "Store                                                -0.013087   \n",
              "DayOfWeek                                            -0.000019   \n",
              "Sales                                                -0.053267   \n",
              "Customers                                            -0.063053   \n",
              "Open                                                 -0.002074   \n",
              "Promo                                                 0.000107   \n",
              "SchoolHoliday                                        -0.002624   \n",
              "CompetitionDistance                                  -0.054949   \n",
              "CompetitionOpenSinceMonth                            -0.031330   \n",
              "CompetitionOpenSinceYear                             -0.073972   \n",
              "Promo2                                                0.325154   \n",
              "Promo2SinceWeek                                       0.237620   \n",
              "Promo2SinceYear                                       0.325310   \n",
              "Year                                                  0.000545   \n",
              "Month                                                 0.002771   \n",
              "WeekOfYear                                            0.002683   \n",
              "StateHoliday_0                                        0.001952   \n",
              "StateHoliday_0                                       -0.001861   \n",
              "StateHoliday_a                                        0.000188   \n",
              "StateHoliday_b                                       -0.000206   \n",
              "StateHoliday_c                                        0.000273   \n",
              "StoreType_a                                          -0.066291   \n",
              "StoreType_b                                          -0.020473   \n",
              "StoreType_c                                           0.063501   \n",
              "StoreType_d                                           0.030104   \n",
              "Assortment_a                                         -0.082132   \n",
              "Assortment_b                                         -0.001362   \n",
              "Assortment_c                                          0.082465   \n",
              "PromoInterval_Feb,May,Aug,Nov                        -0.118257   \n",
              "PromoInterval_Jan,Apr,Jul,Oct                        -0.207113   \n",
              "PromoInterval_Mar,Jun,Sept,Dec                        1.000000   \n",
              "PromoInterval_NoPromo                                -0.325154   \n",
              "DayName_Friday                                       -0.000015   \n",
              "DayName_Monday                                       -0.000007   \n",
              "DayName_Saturday                                     -0.000007   \n",
              "DayName_Sunday                                       -0.000007   \n",
              "DayName_Thursday                                     -0.000015   \n",
              "DayName_Tuesday                                       0.000026   \n",
              "DayName_Wednesday                                     0.000025   \n",
              "\n",
              "                                PromoInterval_NoPromo  DayName_Friday  \\\n",
              "Store                                       -0.008488   -7.367846e-06   \n",
              "DayOfWeek                                   -0.000168    2.051650e-01   \n",
              "Sales                                        0.091040    1.008947e-01   \n",
              "Customers                                    0.150159    9.690688e-02   \n",
              "Open                                         0.008309    1.312645e-01   \n",
              "Promo                                        0.000983    1.266868e-01   \n",
              "SchoolHoliday                                0.006909    7.455066e-02   \n",
              "CompetitionDistance                          0.139700   -1.956221e-05   \n",
              "CompetitionOpenSinceMonth                    0.081027    6.173393e-06   \n",
              "CompetitionOpenSinceYear                     0.097433    5.119555e-06   \n",
              "Promo2                                      -1.000000    1.361780e-04   \n",
              "Promo2SinceWeek                             -0.759240    1.679084e-04   \n",
              "Promo2SinceYear                             -0.999999    1.362105e-04   \n",
              "Year                                         0.004982    3.768451e-03   \n",
              "Month                                        0.025323   -4.217721e-03   \n",
              "WeekOfYear                                   0.024516   -5.995197e-04   \n",
              "StateHoliday_0                               0.017376   -4.377106e-03   \n",
              "StateHoliday_0                              -0.011707   -1.610400e-02   \n",
              "StateHoliday_a                              -0.011041   -2.185038e-03   \n",
              "StateHoliday_b                              -0.001879    8.279689e-02   \n",
              "StateHoliday_c                               0.002492    1.536965e-02   \n",
              "StoreType_a                                  0.071978   -2.794636e-05   \n",
              "StoreType_b                                  0.053976   -1.513098e-05   \n",
              "StoreType_c                                  0.001378   -3.118057e-05   \n",
              "StoreType_d                                 -0.093197    5.728013e-05   \n",
              "Assortment_a                                 0.007064    4.168358e-05   \n",
              "Assortment_b                                 0.012411   -5.425555e-06   \n",
              "Assortment_c                                -0.009310   -4.074945e-05   \n",
              "PromoInterval_Feb,May,Aug,Nov               -0.362877   -1.012572e-07   \n",
              "PromoInterval_Jan,Apr,Jul,Oct               -0.635534    1.602096e-04   \n",
              "PromoInterval_Mar,Jun,Sept,Dec              -0.325154   -1.508036e-05   \n",
              "PromoInterval_NoPromo                        1.000000   -1.361780e-04   \n",
              "DayName_Friday                              -0.000136    1.000000e+00   \n",
              "DayName_Monday                              -0.000064   -1.666279e-01   \n",
              "DayName_Saturday                            -0.000064   -1.666279e-01   \n",
              "DayName_Sunday                              -0.000064   -1.666279e-01   \n",
              "DayName_Thursday                            -0.000136   -1.673755e-01   \n",
              "DayName_Tuesday                              0.000231   -1.672543e-01   \n",
              "DayName_Wednesday                            0.000234   -1.672549e-01   \n",
              "\n",
              "                                DayName_Monday  DayName_Saturday  \\\n",
              "Store                            -3.202756e-06     -3.202756e-06   \n",
              "DayOfWeek                        -6.113922e-01      4.081588e-01   \n",
              "Sales                             2.153090e-01      7.801428e-03   \n",
              "Customers                         1.577894e-01      2.101840e-02   \n",
              "Open                              1.305277e-01      1.792209e-01   \n",
              "Promo                             1.305998e-01     -3.198840e-01   \n",
              "SchoolHoliday                     6.027416e-02     -1.699359e-01   \n",
              "CompetitionDistance              -9.395849e-06     -9.395849e-06   \n",
              "CompetitionOpenSinceMonth         3.216708e-06      3.216708e-06   \n",
              "CompetitionOpenSinceYear          2.564661e-06      2.564661e-06   \n",
              "Promo2                            6.417092e-05      6.417092e-05   \n",
              "Promo2SinceWeek                   7.922288e-05      7.922288e-05   \n",
              "Promo2SinceYear                   6.418625e-05      6.418625e-05   \n",
              "Year                             -9.326175e-04     -9.326175e-04   \n",
              "Month                             7.431178e-03     -1.697965e-03   \n",
              "WeekOfYear                        5.227543e-03     -2.206793e-03   \n",
              "StateHoliday_0                    6.180965e-03     -3.184361e-03   \n",
              "StateHoliday_0                   -2.550224e-02      3.381258e-02   \n",
              "StateHoliday_a                    1.553689e-02     -5.002451e-02   \n",
              "StateHoliday_b                    8.331739e-02     -3.313924e-02   \n",
              "StateHoliday_c                   -2.590989e-02     -2.590989e-02   \n",
              "StoreType_a                      -1.301915e-05     -1.301915e-05   \n",
              "StoreType_b                      -7.179965e-06     -7.179965e-06   \n",
              "StoreType_c                      -1.482425e-05     -1.482425e-05   \n",
              "StoreType_d                       2.694040e-05      2.694040e-05   \n",
              "Assortment_a                      1.990555e-05      1.990555e-05   \n",
              "Assortment_b                     -2.584123e-06     -2.584123e-06   \n",
              "Assortment_c                     -1.946069e-05     -1.946069e-05   \n",
              "PromoInterval_Feb,May,Aug,Nov    -1.242529e-07     -1.242529e-07   \n",
              "PromoInterval_Jan,Apr,Jul,Oct     7.560912e-05      7.560912e-05   \n",
              "PromoInterval_Mar,Jun,Sept,Dec   -7.198038e-06     -7.198038e-06   \n",
              "PromoInterval_NoPromo            -6.417092e-05     -6.417092e-05   \n",
              "DayName_Friday                   -1.666279e-01     -1.666279e-01   \n",
              "DayName_Monday                    1.000000e+00     -1.658836e-01   \n",
              "DayName_Saturday                 -1.658836e-01      1.000000e+00   \n",
              "DayName_Sunday                   -1.658836e-01     -1.658836e-01   \n",
              "DayName_Thursday                 -1.666279e-01     -1.666279e-01   \n",
              "DayName_Tuesday                  -1.665072e-01     -1.665072e-01   \n",
              "DayName_Wednesday                -1.665079e-01     -1.665079e-01   \n",
              "\n",
              "                                DayName_Sunday  DayName_Thursday  \\\n",
              "Store                            -3.202756e-06     -7.367846e-06   \n",
              "DayOfWeek                         6.120689e-01      3.398954e-04   \n",
              "Sales                            -5.892185e-01      5.034419e-02   \n",
              "Customers                        -5.238830e-01      5.672817e-02   \n",
              "Open                             -8.733619e-01      1.014159e-01   \n",
              "Promo                            -3.198840e-01      1.266868e-01   \n",
              "SchoolHoliday                    -1.699359e-01      6.365397e-02   \n",
              "CompetitionDistance              -9.395849e-06     -1.956221e-05   \n",
              "CompetitionOpenSinceMonth         3.216708e-06      6.173393e-06   \n",
              "CompetitionOpenSinceYear          2.564661e-06      5.119555e-06   \n",
              "Promo2                            6.417092e-05      1.361780e-04   \n",
              "Promo2SinceWeek                   7.922288e-05      1.679084e-04   \n",
              "Promo2SinceYear                   6.418625e-05      1.362105e-04   \n",
              "Year                             -9.326175e-04      3.768451e-03   \n",
              "Month                             3.018900e-03     -8.767720e-03   \n",
              "WeekOfYear                       -2.206793e-03     -5.995197e-04   \n",
              "StateHoliday_0                    3.316771e-03     -3.657064e-03   \n",
              "StateHoliday_0                    2.855382e-02     -4.951006e-02   \n",
              "StateHoliday_a                   -5.183727e-02      1.283786e-01   \n",
              "StateHoliday_b                   -3.313924e-02     -3.328793e-02   \n",
              "StateHoliday_c                   -2.590989e-02      6.473469e-02   \n",
              "StoreType_a                      -1.301915e-05     -2.794636e-05   \n",
              "StoreType_b                      -7.179965e-06     -1.513098e-05   \n",
              "StoreType_c                      -1.482425e-05     -3.118057e-05   \n",
              "StoreType_d                       2.694040e-05      5.728013e-05   \n",
              "Assortment_a                      1.990555e-05      4.168358e-05   \n",
              "Assortment_b                     -2.584123e-06     -5.425555e-06   \n",
              "Assortment_c                     -1.946069e-05     -4.074945e-05   \n",
              "PromoInterval_Feb,May,Aug,Nov    -1.242529e-07     -1.012572e-07   \n",
              "PromoInterval_Jan,Apr,Jul,Oct     7.560912e-05      1.602096e-04   \n",
              "PromoInterval_Mar,Jun,Sept,Dec   -7.198038e-06     -1.508036e-05   \n",
              "PromoInterval_NoPromo            -6.417092e-05     -1.361780e-04   \n",
              "DayName_Friday                   -1.666279e-01     -1.673755e-01   \n",
              "DayName_Monday                   -1.658836e-01     -1.666279e-01   \n",
              "DayName_Saturday                 -1.658836e-01     -1.666279e-01   \n",
              "DayName_Sunday                    1.000000e+00     -1.666279e-01   \n",
              "DayName_Thursday                 -1.666279e-01      1.000000e+00   \n",
              "DayName_Tuesday                  -1.665072e-01     -1.672543e-01   \n",
              "DayName_Wednesday                -1.665079e-01     -1.672549e-01   \n",
              "\n",
              "                                DayName_Tuesday  DayName_Wednesday  \n",
              "Store                              1.029030e-05       1.403551e-05  \n",
              "DayOfWeek                         -4.090137e-01      -2.043378e-01  \n",
              "Sales                              1.307637e-01       8.304695e-02  \n",
              "Customers                          1.125357e-01       7.790089e-02  \n",
              "Open                               1.722218e-01       1.570813e-01  \n",
              "Promo                              1.271513e-01       1.271488e-01  \n",
              "SchoolHoliday                      7.746380e-02       6.310903e-02  \n",
              "CompetitionDistance                3.461183e-05       3.264482e-05  \n",
              "CompetitionOpenSinceMonth         -1.297829e-05      -8.999139e-06  \n",
              "CompetitionOpenSinceYear          -9.921809e-06      -7.995960e-06  \n",
              "Promo2                            -2.308423e-04      -2.336513e-04  \n",
              "Promo2SinceWeek                   -2.854448e-04      -2.875772e-04  \n",
              "Promo2SinceYear                   -2.308976e-04      -2.337067e-04  \n",
              "Year                              -4.386430e-03      -3.640080e-04  \n",
              "Month                              5.502691e-03      -1.239212e-03  \n",
              "WeekOfYear                         1.961392e-04       1.917411e-04  \n",
              "StateHoliday_0                     5.156255e-03      -3.414392e-03  \n",
              "StateHoliday_0                     1.846234e-02       1.042015e-02  \n",
              "StateHoliday_a                    -2.969434e-02      -1.047066e-02  \n",
              "StateHoliday_b                    -3.326381e-02      -3.326395e-02  \n",
              "StateHoliday_c                    -2.600729e-02       2.338304e-02  \n",
              "StoreType_a                        4.614805e-05       4.872633e-05  \n",
              "StoreType_b                        2.605636e-05       2.570341e-05  \n",
              "StoreType_c                        5.392679e-05       5.282013e-05  \n",
              "StoreType_d                       -9.667680e-05      -9.854726e-05  \n",
              "Assortment_a                      -7.280939e-05      -7.015748e-05  \n",
              "Assortment_b                       9.421402e-06       9.166908e-06  \n",
              "Assortment_c                       7.118773e-05       6.857889e-05  \n",
              "PromoInterval_Feb,May,Aug,Nov      7.969873e-07      -2.226070e-07  \n",
              "PromoInterval_Jan,Apr,Jul,Oct     -2.725096e-04      -2.742946e-04  \n",
              "PromoInterval_Mar,Jun,Sept,Dec     2.631311e-05       2.539943e-05  \n",
              "PromoInterval_NoPromo              2.308423e-04       2.336513e-04  \n",
              "DayName_Friday                    -1.672543e-01      -1.672549e-01  \n",
              "DayName_Monday                    -1.665072e-01      -1.665079e-01  \n",
              "DayName_Saturday                  -1.665072e-01      -1.665079e-01  \n",
              "DayName_Sunday                    -1.665072e-01      -1.665079e-01  \n",
              "DayName_Thursday                  -1.672543e-01      -1.672549e-01  \n",
              "DayName_Tuesday                    1.000000e+00      -1.671337e-01  \n",
              "DayName_Wednesday                 -1.671337e-01       1.000000e+00  \n",
              "\n",
              "[39 rows x 39 columns]"
            ],
            "text/html": [
              "\n",
              "  <div id=\"df-abf44e68-ea69-49ae-b30e-56fa0540ee3c\" class=\"colab-df-container\">\n",
              "    <div>\n",
              "<style scoped>\n",
              "    .dataframe tbody tr th:only-of-type {\n",
              "        vertical-align: middle;\n",
              "    }\n",
              "\n",
              "    .dataframe tbody tr th {\n",
              "        vertical-align: top;\n",
              "    }\n",
              "\n",
              "    .dataframe thead th {\n",
              "        text-align: right;\n",
              "    }\n",
              "</style>\n",
              "<table border=\"1\" class=\"dataframe\">\n",
              "  <thead>\n",
              "    <tr style=\"text-align: right;\">\n",
              "      <th></th>\n",
              "      <th>Store</th>\n",
              "      <th>DayOfWeek</th>\n",
              "      <th>Sales</th>\n",
              "      <th>Customers</th>\n",
              "      <th>Open</th>\n",
              "      <th>Promo</th>\n",
              "      <th>SchoolHoliday</th>\n",
              "      <th>CompetitionDistance</th>\n",
              "      <th>CompetitionOpenSinceMonth</th>\n",
              "      <th>CompetitionOpenSinceYear</th>\n",
              "      <th>...</th>\n",
              "      <th>PromoInterval_Jan,Apr,Jul,Oct</th>\n",
              "      <th>PromoInterval_Mar,Jun,Sept,Dec</th>\n",
              "      <th>PromoInterval_NoPromo</th>\n",
              "      <th>DayName_Friday</th>\n",
              "      <th>DayName_Monday</th>\n",
              "      <th>DayName_Saturday</th>\n",
              "      <th>DayName_Sunday</th>\n",
              "      <th>DayName_Thursday</th>\n",
              "      <th>DayName_Tuesday</th>\n",
              "      <th>DayName_Wednesday</th>\n",
              "    </tr>\n",
              "  </thead>\n",
              "  <tbody>\n",
              "    <tr>\n",
              "      <th>Store</th>\n",
              "      <td>1.000000</td>\n",
              "      <td>-8.483588e-06</td>\n",
              "      <td>0.005126</td>\n",
              "      <td>0.024325</td>\n",
              "      <td>-0.000047</td>\n",
              "      <td>5.786226e-05</td>\n",
              "      <td>0.000641</td>\n",
              "      <td>-0.026394</td>\n",
              "      <td>-0.032893</td>\n",
              "      <td>-0.008794</td>\n",
              "      <td>...</td>\n",
              "      <td>0.012181</td>\n",
              "      <td>-0.013087</td>\n",
              "      <td>-0.008488</td>\n",
              "      <td>-7.367846e-06</td>\n",
              "      <td>-3.202756e-06</td>\n",
              "      <td>-3.202756e-06</td>\n",
              "      <td>-3.202756e-06</td>\n",
              "      <td>-7.367846e-06</td>\n",
              "      <td>1.029030e-05</td>\n",
              "      <td>1.403551e-05</td>\n",
              "    </tr>\n",
              "    <tr>\n",
              "      <th>DayOfWeek</th>\n",
              "      <td>-0.000008</td>\n",
              "      <td>1.000000e+00</td>\n",
              "      <td>-0.462125</td>\n",
              "      <td>-0.386445</td>\n",
              "      <td>-0.528963</td>\n",
              "      <td>-3.929253e-01</td>\n",
              "      <td>-0.205388</td>\n",
              "      <td>-0.000025</td>\n",
              "      <td>0.000008</td>\n",
              "      <td>0.000007</td>\n",
              "      <td>...</td>\n",
              "      <td>0.000198</td>\n",
              "      <td>-0.000019</td>\n",
              "      <td>-0.000168</td>\n",
              "      <td>2.051650e-01</td>\n",
              "      <td>-6.113922e-01</td>\n",
              "      <td>4.081588e-01</td>\n",
              "      <td>6.120689e-01</td>\n",
              "      <td>3.398954e-04</td>\n",
              "      <td>-4.090137e-01</td>\n",
              "      <td>-2.043378e-01</td>\n",
              "    </tr>\n",
              "    <tr>\n",
              "      <th>Sales</th>\n",
              "      <td>0.005126</td>\n",
              "      <td>-4.621250e-01</td>\n",
              "      <td>1.000000</td>\n",
              "      <td>0.894711</td>\n",
              "      <td>0.678472</td>\n",
              "      <td>4.523447e-01</td>\n",
              "      <td>0.085124</td>\n",
              "      <td>-0.019207</td>\n",
              "      <td>-0.012431</td>\n",
              "      <td>0.002749</td>\n",
              "      <td>...</td>\n",
              "      <td>-0.034946</td>\n",
              "      <td>-0.053267</td>\n",
              "      <td>0.091040</td>\n",
              "      <td>1.008947e-01</td>\n",
              "      <td>2.153090e-01</td>\n",
              "      <td>7.801428e-03</td>\n",
              "      <td>-5.892185e-01</td>\n",
              "      <td>5.034419e-02</td>\n",
              "      <td>1.307637e-01</td>\n",
              "      <td>8.304695e-02</td>\n",
              "    </tr>\n",
              "    <tr>\n",
              "      <th>Customers</th>\n",
              "      <td>0.024325</td>\n",
              "      <td>-3.864447e-01</td>\n",
              "      <td>0.894711</td>\n",
              "      <td>1.000000</td>\n",
              "      <td>0.616768</td>\n",
              "      <td>3.161695e-01</td>\n",
              "      <td>0.071568</td>\n",
              "      <td>-0.102777</td>\n",
              "      <td>-0.015188</td>\n",
              "      <td>0.000489</td>\n",
              "      <td>...</td>\n",
              "      <td>-0.078401</td>\n",
              "      <td>-0.063053</td>\n",
              "      <td>0.150159</td>\n",
              "      <td>9.690688e-02</td>\n",
              "      <td>1.577894e-01</td>\n",
              "      <td>2.101840e-02</td>\n",
              "      <td>-5.238830e-01</td>\n",
              "      <td>5.672817e-02</td>\n",
              "      <td>1.125357e-01</td>\n",
              "      <td>7.790089e-02</td>\n",
              "    </tr>\n",
              "    <tr>\n",
              "      <th>Open</th>\n",
              "      <td>-0.000047</td>\n",
              "      <td>-5.289625e-01</td>\n",
              "      <td>0.678472</td>\n",
              "      <td>0.616768</td>\n",
              "      <td>1.000000</td>\n",
              "      <td>2.950423e-01</td>\n",
              "      <td>0.086171</td>\n",
              "      <td>0.007981</td>\n",
              "      <td>-0.000200</td>\n",
              "      <td>-0.001144</td>\n",
              "      <td>...</td>\n",
              "      <td>-0.005269</td>\n",
              "      <td>-0.002074</td>\n",
              "      <td>0.008309</td>\n",
              "      <td>1.312645e-01</td>\n",
              "      <td>1.305277e-01</td>\n",
              "      <td>1.792209e-01</td>\n",
              "      <td>-8.733619e-01</td>\n",
              "      <td>1.014159e-01</td>\n",
              "      <td>1.722218e-01</td>\n",
              "      <td>1.570813e-01</td>\n",
              "    </tr>\n",
              "    <tr>\n",
              "      <th>Promo</th>\n",
              "      <td>0.000058</td>\n",
              "      <td>-3.929253e-01</td>\n",
              "      <td>0.452345</td>\n",
              "      <td>0.316169</td>\n",
              "      <td>0.295042</td>\n",
              "      <td>1.000000e+00</td>\n",
              "      <td>0.067483</td>\n",
              "      <td>0.000138</td>\n",
              "      <td>-0.000039</td>\n",
              "      <td>-0.000034</td>\n",
              "      <td>...</td>\n",
              "      <td>-0.001154</td>\n",
              "      <td>0.000107</td>\n",
              "      <td>0.000983</td>\n",
              "      <td>1.266868e-01</td>\n",
              "      <td>1.305998e-01</td>\n",
              "      <td>-3.198840e-01</td>\n",
              "      <td>-3.198840e-01</td>\n",
              "      <td>1.266868e-01</td>\n",
              "      <td>1.271513e-01</td>\n",
              "      <td>1.271488e-01</td>\n",
              "    </tr>\n",
              "    <tr>\n",
              "      <th>SchoolHoliday</th>\n",
              "      <td>0.000641</td>\n",
              "      <td>-2.053883e-01</td>\n",
              "      <td>0.085124</td>\n",
              "      <td>0.071568</td>\n",
              "      <td>0.086171</td>\n",
              "      <td>6.748281e-02</td>\n",
              "      <td>1.000000</td>\n",
              "      <td>-0.003684</td>\n",
              "      <td>-0.001688</td>\n",
              "      <td>-0.001801</td>\n",
              "      <td>...</td>\n",
              "      <td>-0.004427</td>\n",
              "      <td>-0.002624</td>\n",
              "      <td>0.006909</td>\n",
              "      <td>7.455066e-02</td>\n",
              "      <td>6.027416e-02</td>\n",
              "      <td>-1.699359e-01</td>\n",
              "      <td>-1.699359e-01</td>\n",
              "      <td>6.365397e-02</td>\n",
              "      <td>7.746380e-02</td>\n",
              "      <td>6.310903e-02</td>\n",
              "    </tr>\n",
              "    <tr>\n",
              "      <th>CompetitionDistance</th>\n",
              "      <td>-0.026394</td>\n",
              "      <td>-2.458335e-05</td>\n",
              "      <td>-0.019207</td>\n",
              "      <td>-0.102777</td>\n",
              "      <td>0.007981</td>\n",
              "      <td>1.380801e-04</td>\n",
              "      <td>-0.003684</td>\n",
              "      <td>1.000000</td>\n",
              "      <td>-0.034391</td>\n",
              "      <td>-0.002881</td>\n",
              "      <td>...</td>\n",
              "      <td>-0.082626</td>\n",
              "      <td>-0.054949</td>\n",
              "      <td>0.139700</td>\n",
              "      <td>-1.956221e-05</td>\n",
              "      <td>-9.395849e-06</td>\n",
              "      <td>-9.395849e-06</td>\n",
              "      <td>-9.395849e-06</td>\n",
              "      <td>-1.956221e-05</td>\n",
              "      <td>3.461183e-05</td>\n",
              "      <td>3.264482e-05</td>\n",
              "    </tr>\n",
              "    <tr>\n",
              "      <th>CompetitionOpenSinceMonth</th>\n",
              "      <td>-0.032893</td>\n",
              "      <td>8.338445e-06</td>\n",
              "      <td>-0.012431</td>\n",
              "      <td>-0.015188</td>\n",
              "      <td>-0.000200</td>\n",
              "      <td>-3.919081e-05</td>\n",
              "      <td>-0.001688</td>\n",
              "      <td>-0.034391</td>\n",
              "      <td>1.000000</td>\n",
              "      <td>0.784968</td>\n",
              "      <td>...</td>\n",
              "      <td>-0.056377</td>\n",
              "      <td>-0.031330</td>\n",
              "      <td>0.081027</td>\n",
              "      <td>6.173393e-06</td>\n",
              "      <td>3.216708e-06</td>\n",
              "      <td>3.216708e-06</td>\n",
              "      <td>3.216708e-06</td>\n",
              "      <td>6.173393e-06</td>\n",
              "      <td>-1.297829e-05</td>\n",
              "      <td>-8.999139e-06</td>\n",
              "    </tr>\n",
              "    <tr>\n",
              "      <th>CompetitionOpenSinceYear</th>\n",
              "      <td>-0.008794</td>\n",
              "      <td>6.677520e-06</td>\n",
              "      <td>0.002749</td>\n",
              "      <td>0.000489</td>\n",
              "      <td>-0.001144</td>\n",
              "      <td>-3.429440e-05</td>\n",
              "      <td>-0.001801</td>\n",
              "      <td>-0.002881</td>\n",
              "      <td>0.784968</td>\n",
              "      <td>1.000000</td>\n",
              "      <td>...</td>\n",
              "      <td>-0.010996</td>\n",
              "      <td>-0.073972</td>\n",
              "      <td>0.097433</td>\n",
              "      <td>5.119555e-06</td>\n",
              "      <td>2.564661e-06</td>\n",
              "      <td>2.564661e-06</td>\n",
              "      <td>2.564661e-06</td>\n",
              "      <td>5.119555e-06</td>\n",
              "      <td>-9.921809e-06</td>\n",
              "      <td>-7.995960e-06</td>\n",
              "    </tr>\n",
              "    <tr>\n",
              "      <th>Promo2</th>\n",
              "      <td>0.008488</td>\n",
              "      <td>1.682793e-04</td>\n",
              "      <td>-0.091040</td>\n",
              "      <td>-0.150159</td>\n",
              "      <td>-0.008309</td>\n",
              "      <td>-9.827565e-04</td>\n",
              "      <td>-0.006909</td>\n",
              "      <td>-0.139700</td>\n",
              "      <td>-0.081027</td>\n",
              "      <td>-0.097433</td>\n",
              "      <td>...</td>\n",
              "      <td>0.635534</td>\n",
              "      <td>0.325154</td>\n",
              "      <td>-1.000000</td>\n",
              "      <td>1.361780e-04</td>\n",
              "      <td>6.417092e-05</td>\n",
              "      <td>6.417092e-05</td>\n",
              "      <td>6.417092e-05</td>\n",
              "      <td>1.361780e-04</td>\n",
              "      <td>-2.308423e-04</td>\n",
              "      <td>-2.336513e-04</td>\n",
              "    </tr>\n",
              "    <tr>\n",
              "      <th>Promo2SinceWeek</th>\n",
              "      <td>0.011053</td>\n",
              "      <td>2.077195e-04</td>\n",
              "      <td>-0.044143</td>\n",
              "      <td>-0.098323</td>\n",
              "      <td>-0.007436</td>\n",
              "      <td>-1.210007e-03</td>\n",
              "      <td>-0.006679</td>\n",
              "      <td>-0.123641</td>\n",
              "      <td>-0.108546</td>\n",
              "      <td>-0.124378</td>\n",
              "      <td>...</td>\n",
              "      <td>0.475073</td>\n",
              "      <td>0.237620</td>\n",
              "      <td>-0.759240</td>\n",
              "      <td>1.679084e-04</td>\n",
              "      <td>7.922288e-05</td>\n",
              "      <td>7.922288e-05</td>\n",
              "      <td>7.922288e-05</td>\n",
              "      <td>1.679084e-04</td>\n",
              "      <td>-2.854448e-04</td>\n",
              "      <td>-2.875772e-04</td>\n",
              "    </tr>\n",
              "    <tr>\n",
              "      <th>Promo2SinceYear</th>\n",
              "      <td>0.008520</td>\n",
              "      <td>1.683195e-04</td>\n",
              "      <td>-0.091056</td>\n",
              "      <td>-0.150138</td>\n",
              "      <td>-0.008308</td>\n",
              "      <td>-9.829896e-04</td>\n",
              "      <td>-0.006912</td>\n",
              "      <td>-0.139763</td>\n",
              "      <td>-0.080952</td>\n",
              "      <td>-0.097363</td>\n",
              "      <td>...</td>\n",
              "      <td>0.635484</td>\n",
              "      <td>0.325310</td>\n",
              "      <td>-0.999999</td>\n",
              "      <td>1.362105e-04</td>\n",
              "      <td>6.418625e-05</td>\n",
              "      <td>6.418625e-05</td>\n",
              "      <td>6.418625e-05</td>\n",
              "      <td>1.362105e-04</td>\n",
              "      <td>-2.308976e-04</td>\n",
              "      <td>-2.337067e-04</td>\n",
              "    </tr>\n",
              "    <tr>\n",
              "      <th>Year</th>\n",
              "      <td>0.000290</td>\n",
              "      <td>1.937284e-03</td>\n",
              "      <td>0.023519</td>\n",
              "      <td>-0.001212</td>\n",
              "      <td>-0.001009</td>\n",
              "      <td>2.429961e-02</td>\n",
              "      <td>-0.036535</td>\n",
              "      <td>0.000702</td>\n",
              "      <td>-0.000203</td>\n",
              "      <td>-0.000176</td>\n",
              "      <td>...</td>\n",
              "      <td>-0.005853</td>\n",
              "      <td>0.000545</td>\n",
              "      <td>0.004982</td>\n",
              "      <td>3.768451e-03</td>\n",
              "      <td>-9.326175e-04</td>\n",
              "      <td>-9.326175e-04</td>\n",
              "      <td>-9.326175e-04</td>\n",
              "      <td>3.768451e-03</td>\n",
              "      <td>-4.386430e-03</td>\n",
              "      <td>-3.640080e-04</td>\n",
              "    </tr>\n",
              "    <tr>\n",
              "      <th>Month</th>\n",
              "      <td>0.001467</td>\n",
              "      <td>-5.361725e-03</td>\n",
              "      <td>0.048768</td>\n",
              "      <td>0.038179</td>\n",
              "      <td>-0.000681</td>\n",
              "      <td>-1.174726e-02</td>\n",
              "      <td>0.103282</td>\n",
              "      <td>0.003574</td>\n",
              "      <td>-0.001037</td>\n",
              "      <td>-0.000897</td>\n",
              "      <td>...</td>\n",
              "      <td>-0.029751</td>\n",
              "      <td>0.002771</td>\n",
              "      <td>0.025323</td>\n",
              "      <td>-4.217721e-03</td>\n",
              "      <td>7.431178e-03</td>\n",
              "      <td>-1.697965e-03</td>\n",
              "      <td>3.018900e-03</td>\n",
              "      <td>-8.767720e-03</td>\n",
              "      <td>5.502691e-03</td>\n",
              "      <td>-1.239212e-03</td>\n",
              "    </tr>\n",
              "    <tr>\n",
              "      <th>WeekOfYear</th>\n",
              "      <td>0.001421</td>\n",
              "      <td>-4.880275e-03</td>\n",
              "      <td>0.052946</td>\n",
              "      <td>0.041404</td>\n",
              "      <td>0.004792</td>\n",
              "      <td>5.715385e-04</td>\n",
              "      <td>0.071052</td>\n",
              "      <td>0.003460</td>\n",
              "      <td>-0.001004</td>\n",
              "      <td>-0.000868</td>\n",
              "      <td>...</td>\n",
              "      <td>-0.028803</td>\n",
              "      <td>0.002683</td>\n",
              "      <td>0.024516</td>\n",
              "      <td>-5.995197e-04</td>\n",
              "      <td>5.227543e-03</td>\n",
              "      <td>-2.206793e-03</td>\n",
              "      <td>-2.206793e-03</td>\n",
              "      <td>-5.995197e-04</td>\n",
              "      <td>1.961392e-04</td>\n",
              "      <td>1.917411e-04</td>\n",
              "    </tr>\n",
              "    <tr>\n",
              "      <th>StateHoliday_0</th>\n",
              "      <td>0.000404</td>\n",
              "      <td>-4.594393e-03</td>\n",
              "      <td>-0.004025</td>\n",
              "      <td>0.007478</td>\n",
              "      <td>0.026067</td>\n",
              "      <td>-2.312738e-03</td>\n",
              "      <td>0.051111</td>\n",
              "      <td>0.002527</td>\n",
              "      <td>-0.000707</td>\n",
              "      <td>-0.000613</td>\n",
              "      <td>...</td>\n",
              "      <td>-0.020421</td>\n",
              "      <td>0.001952</td>\n",
              "      <td>0.017376</td>\n",
              "      <td>-4.377106e-03</td>\n",
              "      <td>6.180965e-03</td>\n",
              "      <td>-3.184361e-03</td>\n",
              "      <td>3.316771e-03</td>\n",
              "      <td>-3.657064e-03</td>\n",
              "      <td>5.156255e-03</td>\n",
              "      <td>-3.414392e-03</td>\n",
              "    </tr>\n",
              "    <tr>\n",
              "      <th>StateHoliday_0</th>\n",
              "      <td>-0.000624</td>\n",
              "      <td>2.906199e-02</td>\n",
              "      <td>0.123160</td>\n",
              "      <td>0.099656</td>\n",
              "      <td>0.153969</td>\n",
              "      <td>7.922612e-03</td>\n",
              "      <td>-0.116647</td>\n",
              "      <td>-0.001944</td>\n",
              "      <td>0.001201</td>\n",
              "      <td>0.001544</td>\n",
              "      <td>...</td>\n",
              "      <td>0.014811</td>\n",
              "      <td>-0.001861</td>\n",
              "      <td>-0.011707</td>\n",
              "      <td>-1.610400e-02</td>\n",
              "      <td>-2.550224e-02</td>\n",
              "      <td>3.381258e-02</td>\n",
              "      <td>2.855382e-02</td>\n",
              "      <td>-4.951006e-02</td>\n",
              "      <td>1.846234e-02</td>\n",
              "      <td>1.042015e-02</td>\n",
              "    </tr>\n",
              "    <tr>\n",
              "      <th>StateHoliday_a</th>\n",
              "      <td>0.000665</td>\n",
              "      <td>-4.098141e-02</td>\n",
              "      <td>-0.203028</td>\n",
              "      <td>-0.180900</td>\n",
              "      <td>-0.302107</td>\n",
              "      <td>-4.033889e-03</td>\n",
              "      <td>0.029126</td>\n",
              "      <td>-0.000972</td>\n",
              "      <td>-0.001450</td>\n",
              "      <td>-0.002573</td>\n",
              "      <td>...</td>\n",
              "      <td>0.010220</td>\n",
              "      <td>0.000188</td>\n",
              "      <td>-0.011041</td>\n",
              "      <td>-2.185038e-03</td>\n",
              "      <td>1.553689e-02</td>\n",
              "      <td>-5.002451e-02</td>\n",
              "      <td>-5.183727e-02</td>\n",
              "      <td>1.283786e-01</td>\n",
              "      <td>-2.969434e-02</td>\n",
              "      <td>-1.047066e-02</td>\n",
              "    </tr>\n",
              "    <tr>\n",
              "      <th>StateHoliday_b</th>\n",
              "      <td>-0.000109</td>\n",
              "      <td>-4.066836e-02</td>\n",
              "      <td>-0.117497</td>\n",
              "      <td>-0.104522</td>\n",
              "      <td>-0.175158</td>\n",
              "      <td>1.984658e-02</td>\n",
              "      <td>0.159098</td>\n",
              "      <td>-0.000265</td>\n",
              "      <td>0.000077</td>\n",
              "      <td>0.000067</td>\n",
              "      <td>...</td>\n",
              "      <td>0.002207</td>\n",
              "      <td>-0.000206</td>\n",
              "      <td>-0.001879</td>\n",
              "      <td>8.279689e-02</td>\n",
              "      <td>8.331739e-02</td>\n",
              "      <td>-3.313924e-02</td>\n",
              "      <td>-3.313924e-02</td>\n",
              "      <td>-3.328793e-02</td>\n",
              "      <td>-3.326381e-02</td>\n",
              "      <td>-3.326395e-02</td>\n",
              "    </tr>\n",
              "    <tr>\n",
              "      <th>StateHoliday_c</th>\n",
              "      <td>0.000144</td>\n",
              "      <td>-1.345413e-03</td>\n",
              "      <td>-0.092618</td>\n",
              "      <td>-0.083007</td>\n",
              "      <td>-0.137685</td>\n",
              "      <td>-4.996370e-02</td>\n",
              "      <td>0.136405</td>\n",
              "      <td>0.000352</td>\n",
              "      <td>-0.000102</td>\n",
              "      <td>-0.000088</td>\n",
              "      <td>...</td>\n",
              "      <td>-0.002928</td>\n",
              "      <td>0.000273</td>\n",
              "      <td>0.002492</td>\n",
              "      <td>1.536965e-02</td>\n",
              "      <td>-2.590989e-02</td>\n",
              "      <td>-2.590989e-02</td>\n",
              "      <td>-2.590989e-02</td>\n",
              "      <td>6.473469e-02</td>\n",
              "      <td>-2.600729e-02</td>\n",
              "      <td>2.338304e-02</td>\n",
              "    </tr>\n",
              "    <tr>\n",
              "      <th>StoreType_a</th>\n",
              "      <td>0.005579</td>\n",
              "      <td>-3.418815e-05</td>\n",
              "      <td>-0.010076</td>\n",
              "      <td>0.060679</td>\n",
              "      <td>-0.004373</td>\n",
              "      <td>2.042938e-04</td>\n",
              "      <td>-0.000687</td>\n",
              "      <td>-0.037175</td>\n",
              "      <td>0.037553</td>\n",
              "      <td>0.058360</td>\n",
              "      <td>...</td>\n",
              "      <td>-0.019033</td>\n",
              "      <td>-0.066291</td>\n",
              "      <td>0.071978</td>\n",
              "      <td>-2.794636e-05</td>\n",
              "      <td>-1.301915e-05</td>\n",
              "      <td>-1.301915e-05</td>\n",
              "      <td>-1.301915e-05</td>\n",
              "      <td>-2.794636e-05</td>\n",
              "      <td>4.614805e-05</td>\n",
              "      <td>4.872633e-05</td>\n",
              "    </tr>\n",
              "    <tr>\n",
              "      <th>StoreType_b</th>\n",
              "      <td>0.001412</td>\n",
              "      <td>-1.881276e-05</td>\n",
              "      <td>0.139940</td>\n",
              "      <td>0.366726</td>\n",
              "      <td>0.051233</td>\n",
              "      <td>1.083276e-04</td>\n",
              "      <td>0.001825</td>\n",
              "      <td>-0.071209</td>\n",
              "      <td>-0.039814</td>\n",
              "      <td>-0.039637</td>\n",
              "      <td>...</td>\n",
              "      <td>-0.030437</td>\n",
              "      <td>-0.020473</td>\n",
              "      <td>0.053976</td>\n",
              "      <td>-1.513098e-05</td>\n",
              "      <td>-7.179965e-06</td>\n",
              "      <td>-7.179965e-06</td>\n",
              "      <td>-7.179965e-06</td>\n",
              "      <td>-1.513098e-05</td>\n",
              "      <td>2.605636e-05</td>\n",
              "      <td>2.570341e-05</td>\n",
              "    </tr>\n",
              "    <tr>\n",
              "      <th>StoreType_c</th>\n",
              "      <td>0.060986</td>\n",
              "      <td>-3.883322e-05</td>\n",
              "      <td>-0.005140</td>\n",
              "      <td>0.034059</td>\n",
              "      <td>-0.004709</td>\n",
              "      <td>2.227366e-04</td>\n",
              "      <td>0.001557</td>\n",
              "      <td>-0.097898</td>\n",
              "      <td>0.015645</td>\n",
              "      <td>0.034669</td>\n",
              "      <td>...</td>\n",
              "      <td>-0.034836</td>\n",
              "      <td>0.063501</td>\n",
              "      <td>0.001378</td>\n",
              "      <td>-3.118057e-05</td>\n",
              "      <td>-1.482425e-05</td>\n",
              "      <td>-1.482425e-05</td>\n",
              "      <td>-1.482425e-05</td>\n",
              "      <td>-3.118057e-05</td>\n",
              "      <td>5.392679e-05</td>\n",
              "      <td>5.282013e-05</td>\n",
              "    </tr>\n",
              "    <tr>\n",
              "      <th>StoreType_d</th>\n",
              "      <td>-0.051492</td>\n",
              "      <td>7.066370e-05</td>\n",
              "      <td>-0.022854</td>\n",
              "      <td>-0.189039</td>\n",
              "      <td>-0.005538</td>\n",
              "      <td>-4.142730e-04</td>\n",
              "      <td>-0.000899</td>\n",
              "      <td>0.131610</td>\n",
              "      <td>-0.041428</td>\n",
              "      <td>-0.078003</td>\n",
              "      <td>...</td>\n",
              "      <td>0.054466</td>\n",
              "      <td>0.030104</td>\n",
              "      <td>-0.093197</td>\n",
              "      <td>5.728013e-05</td>\n",
              "      <td>2.694040e-05</td>\n",
              "      <td>2.694040e-05</td>\n",
              "      <td>2.694040e-05</td>\n",
              "      <td>5.728013e-05</td>\n",
              "      <td>-9.667680e-05</td>\n",
              "      <td>-9.854726e-05</td>\n",
              "    </tr>\n",
              "    <tr>\n",
              "      <th>Assortment_a</th>\n",
              "      <td>-0.006140</td>\n",
              "      <td>5.211665e-05</td>\n",
              "      <td>-0.080494</td>\n",
              "      <td>-0.031864</td>\n",
              "      <td>-0.006438</td>\n",
              "      <td>-2.962337e-04</td>\n",
              "      <td>0.002464</td>\n",
              "      <td>-0.141216</td>\n",
              "      <td>0.100431</td>\n",
              "      <td>0.127335</td>\n",
              "      <td>...</td>\n",
              "      <td>0.022838</td>\n",
              "      <td>-0.082132</td>\n",
              "      <td>0.007064</td>\n",
              "      <td>4.168358e-05</td>\n",
              "      <td>1.990555e-05</td>\n",
              "      <td>1.990555e-05</td>\n",
              "      <td>1.990555e-05</td>\n",
              "      <td>4.168358e-05</td>\n",
              "      <td>-7.280939e-05</td>\n",
              "      <td>-7.015748e-05</td>\n",
              "    </tr>\n",
              "    <tr>\n",
              "      <th>Assortment_b</th>\n",
              "      <td>0.019328</td>\n",
              "      <td>-6.767854e-06</td>\n",
              "      <td>0.065473</td>\n",
              "      <td>0.275905</td>\n",
              "      <td>0.038631</td>\n",
              "      <td>3.867630e-05</td>\n",
              "      <td>0.000608</td>\n",
              "      <td>-0.049883</td>\n",
              "      <td>-0.051397</td>\n",
              "      <td>-0.066661</td>\n",
              "      <td>...</td>\n",
              "      <td>-0.012214</td>\n",
              "      <td>-0.001362</td>\n",
              "      <td>0.012411</td>\n",
              "      <td>-5.425555e-06</td>\n",
              "      <td>-2.584123e-06</td>\n",
              "      <td>-2.584123e-06</td>\n",
              "      <td>-2.584123e-06</td>\n",
              "      <td>-5.425555e-06</td>\n",
              "      <td>9.421402e-06</td>\n",
              "      <td>9.166908e-06</td>\n",
              "    </tr>\n",
              "    <tr>\n",
              "      <th>Assortment_c</th>\n",
              "      <td>0.002661</td>\n",
              "      <td>-5.095153e-05</td>\n",
              "      <td>0.068772</td>\n",
              "      <td>-0.017859</td>\n",
              "      <td>-0.000522</td>\n",
              "      <td>2.895737e-04</td>\n",
              "      <td>-0.002576</td>\n",
              "      <td>0.150362</td>\n",
              "      <td>-0.091268</td>\n",
              "      <td>-0.115449</td>\n",
              "      <td>...</td>\n",
              "      <td>-0.020659</td>\n",
              "      <td>0.082465</td>\n",
              "      <td>-0.009310</td>\n",
              "      <td>-4.074945e-05</td>\n",
              "      <td>-1.946069e-05</td>\n",
              "      <td>-1.946069e-05</td>\n",
              "      <td>-1.946069e-05</td>\n",
              "      <td>-4.074945e-05</td>\n",
              "      <td>7.118773e-05</td>\n",
              "      <td>6.857889e-05</td>\n",
              "    </tr>\n",
              "    <tr>\n",
              "      <th>PromoInterval_Feb,May,Aug,Nov</th>\n",
              "      <td>0.008035</td>\n",
              "      <td>-3.017220e-07</td>\n",
              "      <td>-0.043668</td>\n",
              "      <td>-0.065473</td>\n",
              "      <td>-0.003608</td>\n",
              "      <td>-6.029887e-07</td>\n",
              "      <td>-0.002109</td>\n",
              "      <td>-0.050649</td>\n",
              "      <td>-0.017944</td>\n",
              "      <td>-0.068438</td>\n",
              "      <td>...</td>\n",
              "      <td>-0.231141</td>\n",
              "      <td>-0.118257</td>\n",
              "      <td>-0.362877</td>\n",
              "      <td>-1.012572e-07</td>\n",
              "      <td>-1.242529e-07</td>\n",
              "      <td>-1.242529e-07</td>\n",
              "      <td>-1.242529e-07</td>\n",
              "      <td>-1.012572e-07</td>\n",
              "      <td>7.969873e-07</td>\n",
              "      <td>-2.226070e-07</td>\n",
              "    </tr>\n",
              "    <tr>\n",
              "      <th>PromoInterval_Jan,Apr,Jul,Oct</th>\n",
              "      <td>0.012181</td>\n",
              "      <td>1.982385e-04</td>\n",
              "      <td>-0.034946</td>\n",
              "      <td>-0.078401</td>\n",
              "      <td>-0.005269</td>\n",
              "      <td>-1.154201e-03</td>\n",
              "      <td>-0.004427</td>\n",
              "      <td>-0.082626</td>\n",
              "      <td>-0.056377</td>\n",
              "      <td>-0.010996</td>\n",
              "      <td>...</td>\n",
              "      <td>1.000000</td>\n",
              "      <td>-0.207113</td>\n",
              "      <td>-0.635534</td>\n",
              "      <td>1.602096e-04</td>\n",
              "      <td>7.560912e-05</td>\n",
              "      <td>7.560912e-05</td>\n",
              "      <td>7.560912e-05</td>\n",
              "      <td>1.602096e-04</td>\n",
              "      <td>-2.725096e-04</td>\n",
              "      <td>-2.742946e-04</td>\n",
              "    </tr>\n",
              "    <tr>\n",
              "      <th>PromoInterval_Mar,Jun,Sept,Dec</th>\n",
              "      <td>-0.013087</td>\n",
              "      <td>-1.884694e-05</td>\n",
              "      <td>-0.053267</td>\n",
              "      <td>-0.063053</td>\n",
              "      <td>-0.002074</td>\n",
              "      <td>1.072316e-04</td>\n",
              "      <td>-0.002624</td>\n",
              "      <td>-0.054949</td>\n",
              "      <td>-0.031330</td>\n",
              "      <td>-0.073972</td>\n",
              "      <td>...</td>\n",
              "      <td>-0.207113</td>\n",
              "      <td>1.000000</td>\n",
              "      <td>-0.325154</td>\n",
              "      <td>-1.508036e-05</td>\n",
              "      <td>-7.198038e-06</td>\n",
              "      <td>-7.198038e-06</td>\n",
              "      <td>-7.198038e-06</td>\n",
              "      <td>-1.508036e-05</td>\n",
              "      <td>2.631311e-05</td>\n",
              "      <td>2.539943e-05</td>\n",
              "    </tr>\n",
              "    <tr>\n",
              "      <th>PromoInterval_NoPromo</th>\n",
              "      <td>-0.008488</td>\n",
              "      <td>-1.682793e-04</td>\n",
              "      <td>0.091040</td>\n",
              "      <td>0.150159</td>\n",
              "      <td>0.008309</td>\n",
              "      <td>9.827565e-04</td>\n",
              "      <td>0.006909</td>\n",
              "      <td>0.139700</td>\n",
              "      <td>0.081027</td>\n",
              "      <td>0.097433</td>\n",
              "      <td>...</td>\n",
              "      <td>-0.635534</td>\n",
              "      <td>-0.325154</td>\n",
              "      <td>1.000000</td>\n",
              "      <td>-1.361780e-04</td>\n",
              "      <td>-6.417092e-05</td>\n",
              "      <td>-6.417092e-05</td>\n",
              "      <td>-6.417092e-05</td>\n",
              "      <td>-1.361780e-04</td>\n",
              "      <td>2.308423e-04</td>\n",
              "      <td>2.336513e-04</td>\n",
              "    </tr>\n",
              "    <tr>\n",
              "      <th>DayName_Friday</th>\n",
              "      <td>-0.000007</td>\n",
              "      <td>2.051650e-01</td>\n",
              "      <td>0.100895</td>\n",
              "      <td>0.096907</td>\n",
              "      <td>0.131265</td>\n",
              "      <td>1.266868e-01</td>\n",
              "      <td>0.074551</td>\n",
              "      <td>-0.000020</td>\n",
              "      <td>0.000006</td>\n",
              "      <td>0.000005</td>\n",
              "      <td>...</td>\n",
              "      <td>0.000160</td>\n",
              "      <td>-0.000015</td>\n",
              "      <td>-0.000136</td>\n",
              "      <td>1.000000e+00</td>\n",
              "      <td>-1.666279e-01</td>\n",
              "      <td>-1.666279e-01</td>\n",
              "      <td>-1.666279e-01</td>\n",
              "      <td>-1.673755e-01</td>\n",
              "      <td>-1.672543e-01</td>\n",
              "      <td>-1.672549e-01</td>\n",
              "    </tr>\n",
              "    <tr>\n",
              "      <th>DayName_Monday</th>\n",
              "      <td>-0.000003</td>\n",
              "      <td>-6.113922e-01</td>\n",
              "      <td>0.215309</td>\n",
              "      <td>0.157789</td>\n",
              "      <td>0.130528</td>\n",
              "      <td>1.305998e-01</td>\n",
              "      <td>0.060274</td>\n",
              "      <td>-0.000009</td>\n",
              "      <td>0.000003</td>\n",
              "      <td>0.000003</td>\n",
              "      <td>...</td>\n",
              "      <td>0.000076</td>\n",
              "      <td>-0.000007</td>\n",
              "      <td>-0.000064</td>\n",
              "      <td>-1.666279e-01</td>\n",
              "      <td>1.000000e+00</td>\n",
              "      <td>-1.658836e-01</td>\n",
              "      <td>-1.658836e-01</td>\n",
              "      <td>-1.666279e-01</td>\n",
              "      <td>-1.665072e-01</td>\n",
              "      <td>-1.665079e-01</td>\n",
              "    </tr>\n",
              "    <tr>\n",
              "      <th>DayName_Saturday</th>\n",
              "      <td>-0.000003</td>\n",
              "      <td>4.081588e-01</td>\n",
              "      <td>0.007801</td>\n",
              "      <td>0.021018</td>\n",
              "      <td>0.179221</td>\n",
              "      <td>-3.198840e-01</td>\n",
              "      <td>-0.169936</td>\n",
              "      <td>-0.000009</td>\n",
              "      <td>0.000003</td>\n",
              "      <td>0.000003</td>\n",
              "      <td>...</td>\n",
              "      <td>0.000076</td>\n",
              "      <td>-0.000007</td>\n",
              "      <td>-0.000064</td>\n",
              "      <td>-1.666279e-01</td>\n",
              "      <td>-1.658836e-01</td>\n",
              "      <td>1.000000e+00</td>\n",
              "      <td>-1.658836e-01</td>\n",
              "      <td>-1.666279e-01</td>\n",
              "      <td>-1.665072e-01</td>\n",
              "      <td>-1.665079e-01</td>\n",
              "    </tr>\n",
              "    <tr>\n",
              "      <th>DayName_Sunday</th>\n",
              "      <td>-0.000003</td>\n",
              "      <td>6.120689e-01</td>\n",
              "      <td>-0.589219</td>\n",
              "      <td>-0.523883</td>\n",
              "      <td>-0.873362</td>\n",
              "      <td>-3.198840e-01</td>\n",
              "      <td>-0.169936</td>\n",
              "      <td>-0.000009</td>\n",
              "      <td>0.000003</td>\n",
              "      <td>0.000003</td>\n",
              "      <td>...</td>\n",
              "      <td>0.000076</td>\n",
              "      <td>-0.000007</td>\n",
              "      <td>-0.000064</td>\n",
              "      <td>-1.666279e-01</td>\n",
              "      <td>-1.658836e-01</td>\n",
              "      <td>-1.658836e-01</td>\n",
              "      <td>1.000000e+00</td>\n",
              "      <td>-1.666279e-01</td>\n",
              "      <td>-1.665072e-01</td>\n",
              "      <td>-1.665079e-01</td>\n",
              "    </tr>\n",
              "    <tr>\n",
              "      <th>DayName_Thursday</th>\n",
              "      <td>-0.000007</td>\n",
              "      <td>3.398954e-04</td>\n",
              "      <td>0.050344</td>\n",
              "      <td>0.056728</td>\n",
              "      <td>0.101416</td>\n",
              "      <td>1.266868e-01</td>\n",
              "      <td>0.063654</td>\n",
              "      <td>-0.000020</td>\n",
              "      <td>0.000006</td>\n",
              "      <td>0.000005</td>\n",
              "      <td>...</td>\n",
              "      <td>0.000160</td>\n",
              "      <td>-0.000015</td>\n",
              "      <td>-0.000136</td>\n",
              "      <td>-1.673755e-01</td>\n",
              "      <td>-1.666279e-01</td>\n",
              "      <td>-1.666279e-01</td>\n",
              "      <td>-1.666279e-01</td>\n",
              "      <td>1.000000e+00</td>\n",
              "      <td>-1.672543e-01</td>\n",
              "      <td>-1.672549e-01</td>\n",
              "    </tr>\n",
              "    <tr>\n",
              "      <th>DayName_Tuesday</th>\n",
              "      <td>0.000010</td>\n",
              "      <td>-4.090137e-01</td>\n",
              "      <td>0.130764</td>\n",
              "      <td>0.112536</td>\n",
              "      <td>0.172222</td>\n",
              "      <td>1.271513e-01</td>\n",
              "      <td>0.077464</td>\n",
              "      <td>0.000035</td>\n",
              "      <td>-0.000013</td>\n",
              "      <td>-0.000010</td>\n",
              "      <td>...</td>\n",
              "      <td>-0.000273</td>\n",
              "      <td>0.000026</td>\n",
              "      <td>0.000231</td>\n",
              "      <td>-1.672543e-01</td>\n",
              "      <td>-1.665072e-01</td>\n",
              "      <td>-1.665072e-01</td>\n",
              "      <td>-1.665072e-01</td>\n",
              "      <td>-1.672543e-01</td>\n",
              "      <td>1.000000e+00</td>\n",
              "      <td>-1.671337e-01</td>\n",
              "    </tr>\n",
              "    <tr>\n",
              "      <th>DayName_Wednesday</th>\n",
              "      <td>0.000014</td>\n",
              "      <td>-2.043378e-01</td>\n",
              "      <td>0.083047</td>\n",
              "      <td>0.077901</td>\n",
              "      <td>0.157081</td>\n",
              "      <td>1.271488e-01</td>\n",
              "      <td>0.063109</td>\n",
              "      <td>0.000033</td>\n",
              "      <td>-0.000009</td>\n",
              "      <td>-0.000008</td>\n",
              "      <td>...</td>\n",
              "      <td>-0.000274</td>\n",
              "      <td>0.000025</td>\n",
              "      <td>0.000234</td>\n",
              "      <td>-1.672549e-01</td>\n",
              "      <td>-1.665079e-01</td>\n",
              "      <td>-1.665079e-01</td>\n",
              "      <td>-1.665079e-01</td>\n",
              "      <td>-1.672549e-01</td>\n",
              "      <td>-1.671337e-01</td>\n",
              "      <td>1.000000e+00</td>\n",
              "    </tr>\n",
              "  </tbody>\n",
              "</table>\n",
              "<p>39 rows × 39 columns</p>\n",
              "</div>\n",
              "    <div class=\"colab-df-buttons\">\n",
              "\n",
              "  <div class=\"colab-df-container\">\n",
              "    <button class=\"colab-df-convert\" onclick=\"convertToInteractive('df-abf44e68-ea69-49ae-b30e-56fa0540ee3c')\"\n",
              "            title=\"Convert this dataframe to an interactive table.\"\n",
              "            style=\"display:none;\">\n",
              "\n",
              "  <svg xmlns=\"http://www.w3.org/2000/svg\" height=\"24px\" viewBox=\"0 -960 960 960\">\n",
              "    <path d=\"M120-120v-720h720v720H120Zm60-500h600v-160H180v160Zm220 220h160v-160H400v160Zm0 220h160v-160H400v160ZM180-400h160v-160H180v160Zm440 0h160v-160H620v160ZM180-180h160v-160H180v160Zm440 0h160v-160H620v160Z\"/>\n",
              "  </svg>\n",
              "    </button>\n",
              "\n",
              "  <style>\n",
              "    .colab-df-container {\n",
              "      display:flex;\n",
              "      gap: 12px;\n",
              "    }\n",
              "\n",
              "    .colab-df-convert {\n",
              "      background-color: #E8F0FE;\n",
              "      border: none;\n",
              "      border-radius: 50%;\n",
              "      cursor: pointer;\n",
              "      display: none;\n",
              "      fill: #1967D2;\n",
              "      height: 32px;\n",
              "      padding: 0 0 0 0;\n",
              "      width: 32px;\n",
              "    }\n",
              "\n",
              "    .colab-df-convert:hover {\n",
              "      background-color: #E2EBFA;\n",
              "      box-shadow: 0px 1px 2px rgba(60, 64, 67, 0.3), 0px 1px 3px 1px rgba(60, 64, 67, 0.15);\n",
              "      fill: #174EA6;\n",
              "    }\n",
              "\n",
              "    .colab-df-buttons div {\n",
              "      margin-bottom: 4px;\n",
              "    }\n",
              "\n",
              "    [theme=dark] .colab-df-convert {\n",
              "      background-color: #3B4455;\n",
              "      fill: #D2E3FC;\n",
              "    }\n",
              "\n",
              "    [theme=dark] .colab-df-convert:hover {\n",
              "      background-color: #434B5C;\n",
              "      box-shadow: 0px 1px 3px 1px rgba(0, 0, 0, 0.15);\n",
              "      filter: drop-shadow(0px 1px 2px rgba(0, 0, 0, 0.3));\n",
              "      fill: #FFFFFF;\n",
              "    }\n",
              "  </style>\n",
              "\n",
              "    <script>\n",
              "      const buttonEl =\n",
              "        document.querySelector('#df-abf44e68-ea69-49ae-b30e-56fa0540ee3c button.colab-df-convert');\n",
              "      buttonEl.style.display =\n",
              "        google.colab.kernel.accessAllowed ? 'block' : 'none';\n",
              "\n",
              "      async function convertToInteractive(key) {\n",
              "        const element = document.querySelector('#df-abf44e68-ea69-49ae-b30e-56fa0540ee3c');\n",
              "        const dataTable =\n",
              "          await google.colab.kernel.invokeFunction('convertToInteractive',\n",
              "                                                    [key], {});\n",
              "        if (!dataTable) return;\n",
              "\n",
              "        const docLinkHtml = 'Like what you see? Visit the ' +\n",
              "          '<a target=\"_blank\" href=https://colab.research.google.com/notebooks/data_table.ipynb>data table notebook</a>'\n",
              "          + ' to learn more about interactive tables.';\n",
              "        element.innerHTML = '';\n",
              "        dataTable['output_type'] = 'display_data';\n",
              "        await google.colab.output.renderOutput(dataTable, element);\n",
              "        const docLink = document.createElement('div');\n",
              "        docLink.innerHTML = docLinkHtml;\n",
              "        element.appendChild(docLink);\n",
              "      }\n",
              "    </script>\n",
              "  </div>\n",
              "\n",
              "\n",
              "<div id=\"df-3627eba5-6296-4ff0-9fe4-7aea92f35076\">\n",
              "  <button class=\"colab-df-quickchart\" onclick=\"quickchart('df-3627eba5-6296-4ff0-9fe4-7aea92f35076')\"\n",
              "            title=\"Suggest charts\"\n",
              "            style=\"display:none;\">\n",
              "\n",
              "<svg xmlns=\"http://www.w3.org/2000/svg\" height=\"24px\"viewBox=\"0 0 24 24\"\n",
              "     width=\"24px\">\n",
              "    <g>\n",
              "        <path d=\"M19 3H5c-1.1 0-2 .9-2 2v14c0 1.1.9 2 2 2h14c1.1 0 2-.9 2-2V5c0-1.1-.9-2-2-2zM9 17H7v-7h2v7zm4 0h-2V7h2v10zm4 0h-2v-4h2v4z\"/>\n",
              "    </g>\n",
              "</svg>\n",
              "  </button>\n",
              "\n",
              "<style>\n",
              "  .colab-df-quickchart {\n",
              "      --bg-color: #E8F0FE;\n",
              "      --fill-color: #1967D2;\n",
              "      --hover-bg-color: #E2EBFA;\n",
              "      --hover-fill-color: #174EA6;\n",
              "      --disabled-fill-color: #AAA;\n",
              "      --disabled-bg-color: #DDD;\n",
              "  }\n",
              "\n",
              "  [theme=dark] .colab-df-quickchart {\n",
              "      --bg-color: #3B4455;\n",
              "      --fill-color: #D2E3FC;\n",
              "      --hover-bg-color: #434B5C;\n",
              "      --hover-fill-color: #FFFFFF;\n",
              "      --disabled-bg-color: #3B4455;\n",
              "      --disabled-fill-color: #666;\n",
              "  }\n",
              "\n",
              "  .colab-df-quickchart {\n",
              "    background-color: var(--bg-color);\n",
              "    border: none;\n",
              "    border-radius: 50%;\n",
              "    cursor: pointer;\n",
              "    display: none;\n",
              "    fill: var(--fill-color);\n",
              "    height: 32px;\n",
              "    padding: 0;\n",
              "    width: 32px;\n",
              "  }\n",
              "\n",
              "  .colab-df-quickchart:hover {\n",
              "    background-color: var(--hover-bg-color);\n",
              "    box-shadow: 0 1px 2px rgba(60, 64, 67, 0.3), 0 1px 3px 1px rgba(60, 64, 67, 0.15);\n",
              "    fill: var(--button-hover-fill-color);\n",
              "  }\n",
              "\n",
              "  .colab-df-quickchart-complete:disabled,\n",
              "  .colab-df-quickchart-complete:disabled:hover {\n",
              "    background-color: var(--disabled-bg-color);\n",
              "    fill: var(--disabled-fill-color);\n",
              "    box-shadow: none;\n",
              "  }\n",
              "\n",
              "  .colab-df-spinner {\n",
              "    border: 2px solid var(--fill-color);\n",
              "    border-color: transparent;\n",
              "    border-bottom-color: var(--fill-color);\n",
              "    animation:\n",
              "      spin 1s steps(1) infinite;\n",
              "  }\n",
              "\n",
              "  @keyframes spin {\n",
              "    0% {\n",
              "      border-color: transparent;\n",
              "      border-bottom-color: var(--fill-color);\n",
              "      border-left-color: var(--fill-color);\n",
              "    }\n",
              "    20% {\n",
              "      border-color: transparent;\n",
              "      border-left-color: var(--fill-color);\n",
              "      border-top-color: var(--fill-color);\n",
              "    }\n",
              "    30% {\n",
              "      border-color: transparent;\n",
              "      border-left-color: var(--fill-color);\n",
              "      border-top-color: var(--fill-color);\n",
              "      border-right-color: var(--fill-color);\n",
              "    }\n",
              "    40% {\n",
              "      border-color: transparent;\n",
              "      border-right-color: var(--fill-color);\n",
              "      border-top-color: var(--fill-color);\n",
              "    }\n",
              "    60% {\n",
              "      border-color: transparent;\n",
              "      border-right-color: var(--fill-color);\n",
              "    }\n",
              "    80% {\n",
              "      border-color: transparent;\n",
              "      border-right-color: var(--fill-color);\n",
              "      border-bottom-color: var(--fill-color);\n",
              "    }\n",
              "    90% {\n",
              "      border-color: transparent;\n",
              "      border-bottom-color: var(--fill-color);\n",
              "    }\n",
              "  }\n",
              "</style>\n",
              "\n",
              "  <script>\n",
              "    async function quickchart(key) {\n",
              "      const quickchartButtonEl =\n",
              "        document.querySelector('#' + key + ' button');\n",
              "      quickchartButtonEl.disabled = true;  // To prevent multiple clicks.\n",
              "      quickchartButtonEl.classList.add('colab-df-spinner');\n",
              "      try {\n",
              "        const charts = await google.colab.kernel.invokeFunction(\n",
              "            'suggestCharts', [key], {});\n",
              "      } catch (error) {\n",
              "        console.error('Error during call to suggestCharts:', error);\n",
              "      }\n",
              "      quickchartButtonEl.classList.remove('colab-df-spinner');\n",
              "      quickchartButtonEl.classList.add('colab-df-quickchart-complete');\n",
              "    }\n",
              "    (() => {\n",
              "      let quickchartButtonEl =\n",
              "        document.querySelector('#df-3627eba5-6296-4ff0-9fe4-7aea92f35076 button');\n",
              "      quickchartButtonEl.style.display =\n",
              "        google.colab.kernel.accessAllowed ? 'block' : 'none';\n",
              "    })();\n",
              "  </script>\n",
              "</div>\n",
              "    </div>\n",
              "  </div>\n"
            ]
          },
          "metadata": {},
          "execution_count": 83
        }
      ]
    },
    {
      "cell_type": "markdown",
      "source": [
        "#### 2. Feature Selection"
      ],
      "metadata": {
        "id": "2DejudWSA-a0"
      }
    },
    {
      "cell_type": "code",
      "source": [
        "# Select your features wisely to avoid overfitting"
      ],
      "metadata": {
        "id": "YLhe8UmaBCEE"
      },
      "execution_count": null,
      "outputs": []
    },
    {
      "cell_type": "markdown",
      "source": [
        "##### What all feature selection methods have you used  and why?"
      ],
      "metadata": {
        "id": "pEMng2IbBLp7"
      }
    },
    {
      "cell_type": "markdown",
      "source": [
        "Answer Here."
      ],
      "metadata": {
        "id": "rb2Lh6Z8BgGs"
      }
    },
    {
      "cell_type": "markdown",
      "source": [
        "##### Which all features you found important and why?"
      ],
      "metadata": {
        "id": "rAdphbQ9Bhjc"
      }
    },
    {
      "cell_type": "markdown",
      "source": [
        "Answer Here."
      ],
      "metadata": {
        "id": "fGgaEstsBnaf"
      }
    },
    {
      "cell_type": "markdown",
      "source": [
        "### 5. Data Transformation"
      ],
      "metadata": {
        "id": "TNVZ9zx19K6k"
      }
    },
    {
      "cell_type": "markdown",
      "source": [
        "#### Do you think that your data needs to be transformed? If yes, which transformation have you used. Explain Why?"
      ],
      "metadata": {
        "id": "nqoHp30x9hH9"
      }
    },
    {
      "cell_type": "code",
      "source": [
        "# Transform Your data"
      ],
      "metadata": {
        "id": "I6quWQ1T9rtH"
      },
      "execution_count": null,
      "outputs": []
    },
    {
      "cell_type": "markdown",
      "source": [
        "### 6. Data Scaling"
      ],
      "metadata": {
        "id": "rMDnDkt2B6du"
      }
    },
    {
      "cell_type": "code",
      "source": [
        "# Scaling your data"
      ],
      "metadata": {
        "id": "dL9LWpySC6x_"
      },
      "execution_count": null,
      "outputs": []
    },
    {
      "cell_type": "markdown",
      "source": [
        "##### Which method have you used to scale you data and why?"
      ],
      "metadata": {
        "id": "yiiVWRdJDDil"
      }
    },
    {
      "cell_type": "markdown",
      "source": [
        "### 7. Dimesionality Reduction"
      ],
      "metadata": {
        "id": "1UUpS68QDMuG"
      }
    },
    {
      "cell_type": "markdown",
      "source": [
        "##### Do you think that dimensionality reduction is needed? Explain Why?"
      ],
      "metadata": {
        "id": "kexQrXU-DjzY"
      }
    },
    {
      "cell_type": "markdown",
      "source": [
        "Answer Here."
      ],
      "metadata": {
        "id": "GGRlBsSGDtTQ"
      }
    },
    {
      "cell_type": "code",
      "source": [
        "# DImensionality Reduction (If needed)"
      ],
      "metadata": {
        "id": "kQfvxBBHDvCa"
      },
      "execution_count": null,
      "outputs": []
    },
    {
      "cell_type": "markdown",
      "source": [
        "##### Which dimensionality reduction technique have you used and why? (If dimensionality reduction done on dataset.)"
      ],
      "metadata": {
        "id": "T5CmagL3EC8N"
      }
    },
    {
      "cell_type": "markdown",
      "source": [
        "Answer Here."
      ],
      "metadata": {
        "id": "ZKr75IDuEM7t"
      }
    },
    {
      "cell_type": "markdown",
      "source": [
        "### 8. Data Splitting"
      ],
      "metadata": {
        "id": "BhH2vgX9EjGr"
      }
    },
    {
      "cell_type": "code",
      "source": [
        "# Split your data to train and test. Choose Splitting ratio wisely."
      ],
      "metadata": {
        "id": "0CTyd2UwEyNM"
      },
      "execution_count": null,
      "outputs": []
    },
    {
      "cell_type": "markdown",
      "source": [
        "##### What data splitting ratio have you used and why?"
      ],
      "metadata": {
        "id": "qjKvONjwE8ra"
      }
    },
    {
      "cell_type": "markdown",
      "source": [
        "Answer Here."
      ],
      "metadata": {
        "id": "Y2lJ8cobFDb_"
      }
    },
    {
      "cell_type": "markdown",
      "source": [
        "### 9. Handling Imbalanced Dataset"
      ],
      "metadata": {
        "id": "P1XJ9OREExlT"
      }
    },
    {
      "cell_type": "markdown",
      "source": [
        "##### Do you think the dataset is imbalanced? Explain Why."
      ],
      "metadata": {
        "id": "VFOzZv6IFROw"
      }
    },
    {
      "cell_type": "markdown",
      "source": [
        "Answer Here."
      ],
      "metadata": {
        "id": "GeKDIv7pFgcC"
      }
    },
    {
      "cell_type": "code",
      "source": [
        "# Handling Imbalanced Dataset (If needed)"
      ],
      "metadata": {
        "id": "nQsRhhZLFiDs"
      },
      "execution_count": null,
      "outputs": []
    },
    {
      "cell_type": "markdown",
      "source": [
        "##### What technique did you use to handle the imbalance dataset and why? (If needed to be balanced)"
      ],
      "metadata": {
        "id": "TIqpNgepFxVj"
      }
    },
    {
      "cell_type": "markdown",
      "source": [
        "Answer Here."
      ],
      "metadata": {
        "id": "qbet1HwdGDTz"
      }
    },
    {
      "cell_type": "markdown",
      "source": [
        "## ***7. ML Model Implementation***"
      ],
      "metadata": {
        "id": "VfCC591jGiD4"
      }
    },
    {
      "cell_type": "markdown",
      "source": [
        "### ML Model - 1"
      ],
      "metadata": {
        "id": "OB4l2ZhMeS1U"
      }
    },
    {
      "cell_type": "code",
      "source": [
        "# ML Model - 1 Implementation\n",
        "\n",
        "# Fit the Algorithm\n",
        "\n",
        "# Predict on the model"
      ],
      "metadata": {
        "id": "7ebyywQieS1U"
      },
      "execution_count": null,
      "outputs": []
    },
    {
      "cell_type": "markdown",
      "source": [
        "#### 1. Explain the ML Model used and it's performance using Evaluation metric Score Chart."
      ],
      "metadata": {
        "id": "ArJBuiUVfxKd"
      }
    },
    {
      "cell_type": "code",
      "source": [
        "# Visualizing evaluation Metric Score chart"
      ],
      "metadata": {
        "id": "rqD5ZohzfxKe"
      },
      "execution_count": null,
      "outputs": []
    },
    {
      "cell_type": "markdown",
      "source": [
        "#### 2. Cross- Validation & Hyperparameter Tuning"
      ],
      "metadata": {
        "id": "4qY1EAkEfxKe"
      }
    },
    {
      "cell_type": "code",
      "source": [
        "# ML Model - 1 Implementation with hyperparameter optimization techniques (i.e., GridSearch CV, RandomSearch CV, Bayesian Optimization etc.)\n",
        "\n",
        "# Fit the Algorithm\n",
        "\n",
        "# Predict on the model"
      ],
      "metadata": {
        "id": "Dy61ujd6fxKe"
      },
      "execution_count": null,
      "outputs": []
    },
    {
      "cell_type": "markdown",
      "source": [
        "##### Which hyperparameter optimization technique have you used and why?"
      ],
      "metadata": {
        "id": "PiV4Ypx8fxKe"
      }
    },
    {
      "cell_type": "markdown",
      "source": [
        "Answer Here."
      ],
      "metadata": {
        "id": "negyGRa7fxKf"
      }
    },
    {
      "cell_type": "markdown",
      "source": [
        "##### Have you seen any improvement? Note down the improvement with updates Evaluation metric Score Chart."
      ],
      "metadata": {
        "id": "TfvqoZmBfxKf"
      }
    },
    {
      "cell_type": "markdown",
      "source": [
        "Answer Here."
      ],
      "metadata": {
        "id": "OaLui8CcfxKf"
      }
    },
    {
      "cell_type": "markdown",
      "source": [
        "### ML Model - 2"
      ],
      "metadata": {
        "id": "dJ2tPlVmpsJ0"
      }
    },
    {
      "cell_type": "markdown",
      "source": [
        "#### 1. Explain the ML Model used and it's performance using Evaluation metric Score Chart."
      ],
      "metadata": {
        "id": "JWYfwnehpsJ1"
      }
    },
    {
      "cell_type": "code",
      "source": [
        "# Visualizing evaluation Metric Score chart"
      ],
      "metadata": {
        "id": "yEl-hgQWpsJ1"
      },
      "execution_count": null,
      "outputs": []
    },
    {
      "cell_type": "markdown",
      "source": [
        "#### 2. Cross- Validation & Hyperparameter Tuning"
      ],
      "metadata": {
        "id": "-jK_YjpMpsJ2"
      }
    },
    {
      "cell_type": "code",
      "source": [
        "# ML Model - 1 Implementation with hyperparameter optimization techniques (i.e., GridSearch CV, RandomSearch CV, Bayesian Optimization etc.)\n",
        "\n",
        "# Fit the Algorithm\n",
        "\n",
        "# Predict on the model"
      ],
      "metadata": {
        "id": "Dn0EOfS6psJ2"
      },
      "execution_count": null,
      "outputs": []
    },
    {
      "cell_type": "markdown",
      "source": [
        "##### Which hyperparameter optimization technique have you used and why?"
      ],
      "metadata": {
        "id": "HAih1iBOpsJ2"
      }
    },
    {
      "cell_type": "markdown",
      "source": [
        "Answer Here."
      ],
      "metadata": {
        "id": "9kBgjYcdpsJ2"
      }
    },
    {
      "cell_type": "markdown",
      "source": [
        "##### Have you seen any improvement? Note down the improvement with updates Evaluation metric Score Chart."
      ],
      "metadata": {
        "id": "zVGeBEFhpsJ2"
      }
    },
    {
      "cell_type": "markdown",
      "source": [
        "Answer Here."
      ],
      "metadata": {
        "id": "74yRdG6UpsJ3"
      }
    },
    {
      "cell_type": "markdown",
      "source": [
        "#### 3. Explain each evaluation metric's indication towards business and the business impact pf the ML model used."
      ],
      "metadata": {
        "id": "bmKjuQ-FpsJ3"
      }
    },
    {
      "cell_type": "markdown",
      "source": [
        "Answer Here."
      ],
      "metadata": {
        "id": "BDKtOrBQpsJ3"
      }
    },
    {
      "cell_type": "markdown",
      "source": [
        "### ML Model - 3"
      ],
      "metadata": {
        "id": "Fze-IPXLpx6K"
      }
    },
    {
      "cell_type": "code",
      "source": [
        "# ML Model - 3 Implementation\n",
        "\n",
        "# Fit the Algorithm\n",
        "\n",
        "# Predict on the model"
      ],
      "metadata": {
        "id": "FFrSXAtrpx6M"
      },
      "execution_count": null,
      "outputs": []
    },
    {
      "cell_type": "markdown",
      "source": [
        "#### 1. Explain the ML Model used and it's performance using Evaluation metric Score Chart."
      ],
      "metadata": {
        "id": "7AN1z2sKpx6M"
      }
    },
    {
      "cell_type": "code",
      "source": [
        "# Visualizing evaluation Metric Score chart"
      ],
      "metadata": {
        "id": "xIY4lxxGpx6M"
      },
      "execution_count": null,
      "outputs": []
    },
    {
      "cell_type": "markdown",
      "source": [
        "#### 2. Cross- Validation & Hyperparameter Tuning"
      ],
      "metadata": {
        "id": "9PIHJqyupx6M"
      }
    },
    {
      "cell_type": "code",
      "source": [
        "# ML Model - 3 Implementation with hyperparameter optimization techniques (i.e., GridSearch CV, RandomSearch CV, Bayesian Optimization etc.)\n",
        "\n",
        "# Fit the Algorithm\n",
        "\n",
        "# Predict on the model"
      ],
      "metadata": {
        "id": "eSVXuaSKpx6M"
      },
      "execution_count": null,
      "outputs": []
    },
    {
      "cell_type": "markdown",
      "source": [
        "##### Which hyperparameter optimization technique have you used and why?"
      ],
      "metadata": {
        "id": "_-qAgymDpx6N"
      }
    },
    {
      "cell_type": "markdown",
      "source": [
        "Answer Here."
      ],
      "metadata": {
        "id": "lQMffxkwpx6N"
      }
    },
    {
      "cell_type": "markdown",
      "source": [
        "##### Have you seen any improvement? Note down the improvement with updates Evaluation metric Score Chart."
      ],
      "metadata": {
        "id": "Z-hykwinpx6N"
      }
    },
    {
      "cell_type": "markdown",
      "source": [
        "Answer Here."
      ],
      "metadata": {
        "id": "MzVzZC6opx6N"
      }
    },
    {
      "cell_type": "markdown",
      "source": [
        "### 1. Which Evaluation metrics did you consider for a positive business impact and why?"
      ],
      "metadata": {
        "id": "h_CCil-SKHpo"
      }
    },
    {
      "cell_type": "markdown",
      "source": [
        "Answer Here."
      ],
      "metadata": {
        "id": "jHVz9hHDKFms"
      }
    },
    {
      "cell_type": "markdown",
      "source": [
        "### 2. Which ML model did you choose from the above created models as your final prediction model and why?"
      ],
      "metadata": {
        "id": "cBFFvTBNJzUa"
      }
    },
    {
      "cell_type": "markdown",
      "source": [
        "Answer Here."
      ],
      "metadata": {
        "id": "6ksF5Q1LKTVm"
      }
    },
    {
      "cell_type": "markdown",
      "source": [
        "### 3. Explain the model which you have used and the feature importance using any model explainability tool?"
      ],
      "metadata": {
        "id": "HvGl1hHyA_VK"
      }
    },
    {
      "cell_type": "markdown",
      "source": [
        "Answer Here."
      ],
      "metadata": {
        "id": "YnvVTiIxBL-C"
      }
    },
    {
      "cell_type": "markdown",
      "source": [
        "## ***8.*** ***Future Work (Optional)***"
      ],
      "metadata": {
        "id": "EyNgTHvd2WFk"
      }
    },
    {
      "cell_type": "markdown",
      "source": [
        "### 1. Save the best performing ml model in a pickle file or joblib file format for deployment process.\n"
      ],
      "metadata": {
        "id": "KH5McJBi2d8v"
      }
    },
    {
      "cell_type": "code",
      "source": [
        "# Save the File"
      ],
      "metadata": {
        "id": "bQIANRl32f4J"
      },
      "execution_count": null,
      "outputs": []
    },
    {
      "cell_type": "markdown",
      "source": [
        "### 2. Again Load the saved model file and try to predict unseen data for a sanity check.\n"
      ],
      "metadata": {
        "id": "iW_Lq9qf2h6X"
      }
    },
    {
      "cell_type": "code",
      "source": [
        "# Load the File and predict unseen data."
      ],
      "metadata": {
        "id": "oEXk9ydD2nVC"
      },
      "execution_count": null,
      "outputs": []
    },
    {
      "cell_type": "markdown",
      "source": [
        "### ***Congrats! Your model is successfully created and ready for deployment on a live server for a real user interaction !!!***"
      ],
      "metadata": {
        "id": "-Kee-DAl2viO"
      }
    },
    {
      "cell_type": "markdown",
      "source": [
        "# **Conclusion**"
      ],
      "metadata": {
        "id": "gCX9965dhzqZ"
      }
    },
    {
      "cell_type": "markdown",
      "source": [
        "Write the conclusion here."
      ],
      "metadata": {
        "id": "Fjb1IsQkh3yE"
      }
    },
    {
      "cell_type": "markdown",
      "source": [
        "### ***Hurrah! You have successfully completed your Machine Learning Capstone Project !!!***"
      ],
      "metadata": {
        "id": "gIfDvo9L0UH2"
      }
    }
  ]
}